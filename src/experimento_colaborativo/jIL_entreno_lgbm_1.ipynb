{
 "cells": [
  {
   "cell_type": "markdown",
   "metadata": {},
   "source": [
    "## A. Configuraciones Generales."
   ]
  },
  {
   "cell_type": "code",
   "execution_count": null,
   "metadata": {},
   "outputs": [],
   "source": [
    "#1. Librerías.\n",
    "%run \"./librerias.ipynb\""
   ]
  },
  {
   "cell_type": "code",
   "execution_count": null,
   "metadata": {},
   "outputs": [],
   "source": [
    "#2. Constantes.\n",
    "#i. Generales.\n",
    "%run \"./constantes.ipynb\"\n",
    "\n",
    "#ii. Particulares.\n",
    "mes_train = mes_train_ult_anio\n",
    "\n",
    "dataset_input = datasets_path + 'competencia_02_fe_all_1.parquet' \n",
    "modelo = modelos_path + 'lgbm_all_1_undersampling.txt'\n",
    "dataset_output = salidas_exp_colaborativos_path + 'modelo_1.parquet'"
   ]
  },
  {
   "cell_type": "code",
   "execution_count": null,
   "metadata": {},
   "outputs": [],
   "source": [
    "#3. Funciones.\n",
    "%run \"./funciones.ipynb\""
   ]
  },
  {
   "cell_type": "code",
   "execution_count": null,
   "metadata": {},
   "outputs": [],
   "source": [
    "#4. Lectura de dataframes post-feature engineering (.csv o .parquet), y modelos ya optimizados previamente (.txt).\n",
    "#i. Modelo LGBM propio con 3 meses para calculo de slope y valor actual vs promedio histórico. \n",
    "data = pd.read_parquet(dataset_input)"
   ]
  },
  {
   "cell_type": "code",
   "execution_count": null,
   "metadata": {},
   "outputs": [],
   "source": [
    "#5. Pequeño pre-procesamiento sobre los datos.\n",
    "#i. Cambio tipos de datos (Me lo toma como tipo de dato \"object\"...)\n",
    "data['ctrx_quarter_normalizado'] = data['ctrx_quarter_normalizado'].astype(float)\n",
    "#ii. Elimino columnas de último momento por Data Concept.\n",
    "columnas_de_interes_prestamos = data.filter(like='prestamos_personales').columns\n",
    "data.drop(columnas_de_interes_prestamos,axis=1,inplace=True)"
   ]
  },
  {
   "cell_type": "code",
   "execution_count": null,
   "metadata": {},
   "outputs": [],
   "source": [
    "#6. Pesos y reclusterización.\n",
    "data['clase_peso'] = 1.0\n",
    "\n",
    "data.loc[data['clase_ternaria'] == 'BAJA+2', 'clase_peso'] = 1.00002\n",
    "data.loc[data['clase_ternaria'] == 'BAJA+1', 'clase_peso'] = 1.00001\n",
    "\n",
    "data['clase_binaria2'] = 0\n",
    "data['clase_binaria2'] = np.where(data['clase_ternaria'] == 'CONTINUA', 0, 1)"
   ]
  },
  {
   "cell_type": "code",
   "execution_count": null,
   "metadata": {},
   "outputs": [],
   "source": [
    "#7. Dividimos entre conjuntos de datos.\n",
    "#i. Datos para entrenar todo el modelo final para Kaggle.\n",
    "train_data = data[data['foto_mes'].isin(mes_train)]\n",
    "\n",
    "X_train = train_data.drop(['clase_ternaria', 'clase_peso','clase_binaria2'], axis=1)\n",
    "y_train_binaria2 = train_data['clase_binaria2']\n",
    "w_train = train_data['clase_peso']"
   ]
  },
  {
   "cell_type": "code",
   "execution_count": null,
   "metadata": {},
   "outputs": [],
   "source": [
    "#8. Obtenemos los hiperparámetros del modelo.\n",
    "model_lgb = lgb.Booster(model_file=modelo)\n",
    "params = model_lgb.params # Parámetros.\n",
    "best_iter = params[\"num_iterations\"]  # Mejor número de iteraciones guardado en el modelo."
   ]
  },
  {
   "cell_type": "code",
   "execution_count": null,
   "metadata": {},
   "outputs": [],
   "source": [
    "#9. Dataframe con predicciones finales.\n",
    "stacking_predictions = pd.DataFrame(columns=['numero_de_cliente', 'foto_mes', 'probabilidad'])"
   ]
  },
  {
   "cell_type": "markdown",
   "metadata": {},
   "source": [
    "## B. Entrenamiento de Modelo Individual, y predicción de las folds restantes."
   ]
  },
  {
   "cell_type": "code",
   "execution_count": null,
   "metadata": {},
   "outputs": [],
   "source": [
    "#1. Entrenamos y predecimos.\n",
    "#i. Se crean las 5 folds estratificadas por mes.\n",
    "skf = StratifiedKFold(n_splits=5, shuffle=True, random_state=semillass[0])\n",
    "\n",
    "#ii. Se recorre cada fold, dividiendo entre 4 para train y 1 para validación.\n",
    "for fold, (train_index, val_index) in enumerate(skf.split(X_train, train_data['foto_mes'])):\n",
    "    print(f\"Fold {fold + 1}\")\n",
    "    \n",
    "    #a. Se dividen los datos en conjuntos de entrenamiento y validación para este fold.\n",
    "    X_train_fold, X_val_fold = X_train.iloc[train_index], X_train.iloc[val_index]\n",
    "    y_train_fold, y_val_fold = y_train_binaria2.iloc[train_index], y_train_binaria2.iloc[val_index]\n",
    "    w_train_fold, w_val_fold = w_train.iloc[train_index], w_train.iloc[val_index]\n",
    "    \n",
    "    #b. Se crea el dataset de entrenamiento para LightGBM con el fold actual.\n",
    "    train_data_fold = lgb.Dataset(X_train_fold, label=y_train_fold, weight=w_train_fold)\n",
    "    \n",
    "    #c. Entrenamiento del modelo en los datos del fold actual usando los parámetros del modelo original.\n",
    "    model_lgb = lgb.train(params, train_data_fold, num_boost_round=best_iter)\n",
    "    \n",
    "    #d. Se predice el conjunto de validación para el fold actual.\n",
    "    val_predictions = model_lgb.predict(X_val_fold)\n",
    "    \n",
    "    #e. Se crea un DataFrame temporal para almacenar las predicciones2.\n",
    "    fold_predictions = pd.DataFrame({\n",
    "        'numero_de_cliente': train_data.iloc[val_index]['numero_de_cliente'].values,\n",
    "        'foto_mes': train_data.iloc[val_index]['foto_mes'].values,\n",
    "        'probabilidad': val_predictions\n",
    "    })\n",
    "    \n",
    "    #f. Se agregan las predicciones del fold al DataFrame final.\n",
    "    stacking_predictions = pd.concat([stacking_predictions, fold_predictions], ignore_index=True)"
   ]
  },
  {
   "cell_type": "code",
   "execution_count": null,
   "metadata": {},
   "outputs": [],
   "source": [
    "#2. Renombramos.\n",
    "stacking_predictions.rename({\"probabilidad\":\"probabilidad_modelo1\"},axis=1,inplace=True)"
   ]
  },
  {
   "cell_type": "code",
   "execution_count": null,
   "metadata": {},
   "outputs": [],
   "source": [
    "#3. Exportamos.\n",
    "stacking_predictions.to_parquet(dataset_output)"
   ]
  }
 ],
 "metadata": {
  "kernelspec": {
   "display_name": "dmeyf",
   "language": "python",
   "name": "python3"
  },
  "language_info": {
   "codemirror_mode": {
    "name": "ipython",
    "version": 3
   },
   "file_extension": ".py",
   "mimetype": "text/x-python",
   "name": "python",
   "nbconvert_exporter": "python",
   "pygments_lexer": "ipython3",
   "version": "3.12.3"
  }
 },
 "nbformat": 4,
 "nbformat_minor": 2
}
