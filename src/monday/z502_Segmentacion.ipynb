{
 "cells": [
  {
   "cell_type": "markdown",
   "metadata": {
    "id": "FX-Vq4mgJS_t"
   },
   "source": [
    "# Segmentando clientes\n",
    "\n",
    "En esta notebook se verá una forma sobre como segmentar a los clientes, cuando cuenta con una gran cantidad de estos sobre una base de datos de una gran (?) cantidad de dimensiones.\n",
    "\n",
    "Empezaremos cargando el entorno e instalando los requerimentos necesarios."
   ]
  },
  {
   "cell_type": "code",
   "execution_count": 1,
   "metadata": {
    "colab": {
     "base_uri": "https://localhost:8080/"
    },
    "id": "CqrQIDd8JRlJ",
    "outputId": "28396bd0-b03c-4514-9f77-39c0930afb05"
   },
   "outputs": [],
   "source": [
    "#%pip install scikit-learn==1.3.2\n",
    "#%pip install seaborn==0.13.1\n",
    "#%pip install numpy==1.26.4\n",
    "#%pip install matplotlib==3.7.1\n",
    "#%pip install umap\n",
    "#%pip install umap-learn"
   ]
  },
  {
   "cell_type": "code",
   "execution_count": 2,
   "metadata": {
    "id": "T8x1jAl_kqFt"
   },
   "outputs": [
    {
     "name": "stderr",
     "output_type": "stream",
     "text": [
      "c:\\Users\\c678456\\AppData\\Local\\anaconda3\\envs\\dmeyf\\Lib\\site-packages\\tqdm\\auto.py:21: TqdmWarning: IProgress not found. Please update jupyter and ipywidgets. See https://ipywidgets.readthedocs.io/en/stable/user_install.html\n",
      "  from .autonotebook import tqdm as notebook_tqdm\n"
     ]
    }
   ],
   "source": [
    "import pandas as pd\n",
    "import numpy as np\n",
    "import seaborn as sns\n",
    "\n",
    "from umap import UMAP\n",
    "import matplotlib.pyplot as plt\n",
    "from sklearn.cluster import DBSCAN\n",
    "from sklearn.ensemble import  RandomForestClassifier\n",
    "from sklearn.impute import SimpleImputer\n",
    "\n",
    "import pickle"
   ]
  },
  {
   "cell_type": "code",
   "execution_count": 3,
   "metadata": {
    "id": "R58qDmLYtVXk"
   },
   "outputs": [],
   "source": [
    "base_path = 'C:/Users/c678456/Desktop/Ian/Maestría/Especializacion/2do_cuatrimestre/DMEyF/'\n",
    "dataset_path = base_path + 'datasets/'\n",
    "modelos_path = base_path + 'modelos/'\n",
    "db_path = base_path + 'db/'\n",
    "dataset_file = 'competencia_01_fe.csv'"
   ]
  },
  {
   "cell_type": "code",
   "execution_count": 26,
   "metadata": {
    "id": "bpzFTT_HkzLx"
   },
   "outputs": [],
   "source": [
    "# Datos.\n",
    "df_train = pd.read_csv(dataset_path + dataset_file)"
   ]
  },
  {
   "cell_type": "code",
   "execution_count": 27,
   "metadata": {},
   "outputs": [
    {
     "data": {
      "text/plain": [
       "clase_ternaria\n",
       "CONTINUA    645053\n",
       "BAJA+1        4614\n",
       "BAJA+2        3972\n",
       "Name: count, dtype: int64"
      ]
     },
     "execution_count": 27,
     "metadata": {},
     "output_type": "execute_result"
    }
   ],
   "source": [
    "df_train[\"clase_ternaria\"].value_counts()"
   ]
  },
  {
   "cell_type": "code",
   "execution_count": 33,
   "metadata": {},
   "outputs": [
    {
     "name": "stdout",
     "output_type": "stream",
     "text": [
      "La ganancia proyectada anual será de 66818934000.0\n"
     ]
    }
   ],
   "source": [
    "ganancia_promedio_cliente= 273000*2\n",
    "cant_bajas_mas_2_mensual = (43972-3125-54)/4\n",
    "ganancia_promedio_mensual = ganancia_promedio_cliente*cant_bajas_mas_2_mensual\n",
    "ganancia_proyectada_anual = ganancia_promedio_mensual * 12\n",
    "print(\"La ganancia proyectada anual será de {}\".format(ganancia_proyectada_anual))"
   ]
  },
  {
   "cell_type": "code",
   "execution_count": 31,
   "metadata": {},
   "outputs": [
    {
     "data": {
      "text/plain": [
       "546000"
      ]
     },
     "execution_count": 31,
     "metadata": {},
     "output_type": "execute_result"
    }
   ],
   "source": [
    "ganancia_promedio_cliente"
   ]
  },
  {
   "cell_type": "code",
   "execution_count": 5,
   "metadata": {},
   "outputs": [],
   "source": [
    "# Modelo.\n",
    "filename = modelos_path + 'exp_206_rf_100_imputacion_media.sav'\n",
    "model_rf = pickle.load(open(filename, 'rb'))"
   ]
  },
  {
   "cell_type": "markdown",
   "metadata": {
    "id": "AEDRaksFthSF"
   },
   "source": [
    "Solo segmentaremos a los clientes de abril, dado que necesitaremos variables en algún momento agregar variables históricas para entender su comportamiento previo a la **baja**"
   ]
  },
  {
   "cell_type": "code",
   "execution_count": 25,
   "metadata": {
    "id": "MNZ1Vrg4k9r8"
   },
   "outputs": [
    {
     "ename": "NameError",
     "evalue": "name 'df_train' is not defined",
     "output_type": "error",
     "traceback": [
      "\u001b[1;31m---------------------------------------------------------------------------\u001b[0m",
      "\u001b[1;31mNameError\u001b[0m                                 Traceback (most recent call last)",
      "Cell \u001b[1;32mIn[25], line 3\u001b[0m\n\u001b[0;32m      1\u001b[0m \u001b[38;5;66;03m# Filtro los cuatro meses de entrenamiento.\u001b[39;00m\n\u001b[0;32m      2\u001b[0m mes_train \u001b[38;5;241m=\u001b[39m [\u001b[38;5;241m202101\u001b[39m,\u001b[38;5;241m202102\u001b[39m,\u001b[38;5;241m202103\u001b[39m,\u001b[38;5;241m202104\u001b[39m]\n\u001b[1;32m----> 3\u001b[0m df_train \u001b[38;5;241m=\u001b[39m \u001b[43mdf_train\u001b[49m[df_train[\u001b[38;5;124m'\u001b[39m\u001b[38;5;124mfoto_mes\u001b[39m\u001b[38;5;124m'\u001b[39m]\u001b[38;5;241m.\u001b[39misin(mes_train)]\n",
      "\u001b[1;31mNameError\u001b[0m: name 'df_train' is not defined"
     ]
    }
   ],
   "source": [
    "# Filtro los cuatro meses de entrenamiento.\n",
    "mes_train = [202101,202102,202103,202104]\n",
    "df_train = df_train[df_train['foto_mes'].isin(mes_train)]"
   ]
  },
  {
   "cell_type": "code",
   "execution_count": 24,
   "metadata": {},
   "outputs": [
    {
     "ename": "NameError",
     "evalue": "name 'df_train' is not defined",
     "output_type": "error",
     "traceback": [
      "\u001b[1;31m---------------------------------------------------------------------------\u001b[0m",
      "\u001b[1;31mNameError\u001b[0m                                 Traceback (most recent call last)",
      "Cell \u001b[1;32mIn[24], line 1\u001b[0m\n\u001b[1;32m----> 1\u001b[0m \u001b[43mdf_train\u001b[49m\n",
      "\u001b[1;31mNameError\u001b[0m: name 'df_train' is not defined"
     ]
    }
   ],
   "source": [
    "df_train"
   ]
  },
  {
   "cell_type": "markdown",
   "metadata": {
    "id": "yR9XFSG4t5We"
   },
   "source": [
    "A su vez, nos concentraremos en el fenómeno de la **baja**. No importa si es en un mes o si es en dos."
   ]
  },
  {
   "cell_type": "code",
   "execution_count": 7,
   "metadata": {
    "id": "sXUD6rxyk7VJ"
   },
   "outputs": [],
   "source": [
    "Xtrain = df_train\n",
    "ytrain = Xtrain[\"clase_ternaria\"].map(lambda x: 0 if x == \"CONTINUA\" else 1)\n",
    "Xtrain = Xtrain.drop(\"clase_ternaria\", axis=1)\n",
    "\n",
    "del(df_train)"
   ]
  },
  {
   "cell_type": "markdown",
   "metadata": {
    "id": "5FR1cavzuEaB"
   },
   "source": [
    "Lo primero que necesitamos es saber cuando un cliente es parecido a otro. Todos los clientes que son parecidos los juntaremos en un **segmento** y sobre esos segmentos haremos perfilados o profiles para entender que los caracteriza.\n",
    "\n",
    "Saber cuando un cliente es parecido a otro no es algo tan simple en un problema de alta dimensionalidad, lo que se suele llamar **curse of dimensionality**. Las cosas no son lo mismo más allá de nuestras 3 escasas dimensiones. Para muestra, un botón: https://www.youtube.com/watch?v=mceaM2_zQd8\n",
    "\n",
    "Por esto, es conveniente usar herramientas que nos ayuden a no tener que hacer distancias euclídeas.\n",
    "\n",
    "Empecemos con una ayuda con nos dan nuestros amigos, los **rf** con una original matriz de distancias (https://en.wikipedia.org/wiki/Distance_matrix)"
   ]
  },
  {
   "cell_type": "markdown",
   "metadata": {
    "id": "r3_HXJFymRN3"
   },
   "source": [
    "La **Random Forest Distance** es una matriz derivada del algoritmo Random Forest,\n",
    "\n",
    "+ Se utiliza para medir la similitud entre pares de puntos de datos. Esta métrica se basa en la idea de cuántas veces dos puntos de datos terminan en la misma hoja de un árbol en un **rf**, entre los múltiples árboles que se generan.\n",
    "\n",
    "+ Cómo se Calcula?\n",
    "\n",
    " 1. Se entrena un **rf**.\n",
    " 2. Para cada par de clientes $c_i$ y $c_j$, se observa cuántas veces caen en la misma hoja a través de todos los árboles del bosque. Luego se agrega en la posición $i$, $j$ de una matriz el número de veces que coincidieron esos dos clientes en un nodo terminal.\n",
    " 3. Se calcula la matriz de distancia como **1 - proporción de veces que caen en la misma hoja**. Ejemplo: Si caen en la misma hoja el 90% de las veces, su distancia será 0.1. Si nunca caen en la misma hoja, la distancia es 1.\n",
    "\n",
    "Veamoslo aplicado en nuestro caso"
   ]
  },
  {
   "cell_type": "markdown",
   "metadata": {
    "id": "G9omJU4KnsVE"
   },
   "source": [
    "Para trabajar con este algoritmo no vamos a trabajar con todos los datos. Usted decida con cuantos trabajar. En este caso, tomaremos todos los **baja** y unos 2000 **continua**, ya que queremos como interactuan los segmentos de clientes que se van con los que se quedan.\n"
   ]
  },
  {
   "cell_type": "code",
   "execution_count": 8,
   "metadata": {
    "id": "4aqKBvj2nnrM"
   },
   "outputs": [],
   "source": [
    "np.random.seed(17)\n",
    "continua_sample = ytrain[ytrain == 0].sample(2000).index\n",
    "bajas_1_2 = ytrain[ytrain == 1].index\n",
    "rf_index = continua_sample.union(bajas_1_2)\n",
    "\n",
    "Xtrain_rf = Xtrain.loc[rf_index]\n",
    "ytrain_rf = ytrain.loc[rf_index]"
   ]
  },
  {
   "cell_type": "markdown",
   "metadata": {
    "id": "CFTvRro4yv2C"
   },
   "source": [
    "Entrenamos un simple **rf**, despliegue sus herramientas aprendidas para contar con un buen modelo\n"
   ]
  },
  {
   "cell_type": "code",
   "execution_count": 9,
   "metadata": {
    "colab": {
     "base_uri": "https://localhost:8080/",
     "height": 75
    },
    "id": "FQ1pNFwmzOc5",
    "outputId": "3846997b-ec54-4703-cc84-e105069562f6"
   },
   "outputs": [
    {
     "data": {
      "text/html": [
       "<style>#sk-container-id-1 {\n",
       "  /* Definition of color scheme common for light and dark mode */\n",
       "  --sklearn-color-text: black;\n",
       "  --sklearn-color-line: gray;\n",
       "  /* Definition of color scheme for unfitted estimators */\n",
       "  --sklearn-color-unfitted-level-0: #fff5e6;\n",
       "  --sklearn-color-unfitted-level-1: #f6e4d2;\n",
       "  --sklearn-color-unfitted-level-2: #ffe0b3;\n",
       "  --sklearn-color-unfitted-level-3: chocolate;\n",
       "  /* Definition of color scheme for fitted estimators */\n",
       "  --sklearn-color-fitted-level-0: #f0f8ff;\n",
       "  --sklearn-color-fitted-level-1: #d4ebff;\n",
       "  --sklearn-color-fitted-level-2: #b3dbfd;\n",
       "  --sklearn-color-fitted-level-3: cornflowerblue;\n",
       "\n",
       "  /* Specific color for light theme */\n",
       "  --sklearn-color-text-on-default-background: var(--sg-text-color, var(--theme-code-foreground, var(--jp-content-font-color1, black)));\n",
       "  --sklearn-color-background: var(--sg-background-color, var(--theme-background, var(--jp-layout-color0, white)));\n",
       "  --sklearn-color-border-box: var(--sg-text-color, var(--theme-code-foreground, var(--jp-content-font-color1, black)));\n",
       "  --sklearn-color-icon: #696969;\n",
       "\n",
       "  @media (prefers-color-scheme: dark) {\n",
       "    /* Redefinition of color scheme for dark theme */\n",
       "    --sklearn-color-text-on-default-background: var(--sg-text-color, var(--theme-code-foreground, var(--jp-content-font-color1, white)));\n",
       "    --sklearn-color-background: var(--sg-background-color, var(--theme-background, var(--jp-layout-color0, #111)));\n",
       "    --sklearn-color-border-box: var(--sg-text-color, var(--theme-code-foreground, var(--jp-content-font-color1, white)));\n",
       "    --sklearn-color-icon: #878787;\n",
       "  }\n",
       "}\n",
       "\n",
       "#sk-container-id-1 {\n",
       "  color: var(--sklearn-color-text);\n",
       "}\n",
       "\n",
       "#sk-container-id-1 pre {\n",
       "  padding: 0;\n",
       "}\n",
       "\n",
       "#sk-container-id-1 input.sk-hidden--visually {\n",
       "  border: 0;\n",
       "  clip: rect(1px 1px 1px 1px);\n",
       "  clip: rect(1px, 1px, 1px, 1px);\n",
       "  height: 1px;\n",
       "  margin: -1px;\n",
       "  overflow: hidden;\n",
       "  padding: 0;\n",
       "  position: absolute;\n",
       "  width: 1px;\n",
       "}\n",
       "\n",
       "#sk-container-id-1 div.sk-dashed-wrapped {\n",
       "  border: 1px dashed var(--sklearn-color-line);\n",
       "  margin: 0 0.4em 0.5em 0.4em;\n",
       "  box-sizing: border-box;\n",
       "  padding-bottom: 0.4em;\n",
       "  background-color: var(--sklearn-color-background);\n",
       "}\n",
       "\n",
       "#sk-container-id-1 div.sk-container {\n",
       "  /* jupyter's `normalize.less` sets `[hidden] { display: none; }`\n",
       "     but bootstrap.min.css set `[hidden] { display: none !important; }`\n",
       "     so we also need the `!important` here to be able to override the\n",
       "     default hidden behavior on the sphinx rendered scikit-learn.org.\n",
       "     See: https://github.com/scikit-learn/scikit-learn/issues/21755 */\n",
       "  display: inline-block !important;\n",
       "  position: relative;\n",
       "}\n",
       "\n",
       "#sk-container-id-1 div.sk-text-repr-fallback {\n",
       "  display: none;\n",
       "}\n",
       "\n",
       "div.sk-parallel-item,\n",
       "div.sk-serial,\n",
       "div.sk-item {\n",
       "  /* draw centered vertical line to link estimators */\n",
       "  background-image: linear-gradient(var(--sklearn-color-text-on-default-background), var(--sklearn-color-text-on-default-background));\n",
       "  background-size: 2px 100%;\n",
       "  background-repeat: no-repeat;\n",
       "  background-position: center center;\n",
       "}\n",
       "\n",
       "/* Parallel-specific style estimator block */\n",
       "\n",
       "#sk-container-id-1 div.sk-parallel-item::after {\n",
       "  content: \"\";\n",
       "  width: 100%;\n",
       "  border-bottom: 2px solid var(--sklearn-color-text-on-default-background);\n",
       "  flex-grow: 1;\n",
       "}\n",
       "\n",
       "#sk-container-id-1 div.sk-parallel {\n",
       "  display: flex;\n",
       "  align-items: stretch;\n",
       "  justify-content: center;\n",
       "  background-color: var(--sklearn-color-background);\n",
       "  position: relative;\n",
       "}\n",
       "\n",
       "#sk-container-id-1 div.sk-parallel-item {\n",
       "  display: flex;\n",
       "  flex-direction: column;\n",
       "}\n",
       "\n",
       "#sk-container-id-1 div.sk-parallel-item:first-child::after {\n",
       "  align-self: flex-end;\n",
       "  width: 50%;\n",
       "}\n",
       "\n",
       "#sk-container-id-1 div.sk-parallel-item:last-child::after {\n",
       "  align-self: flex-start;\n",
       "  width: 50%;\n",
       "}\n",
       "\n",
       "#sk-container-id-1 div.sk-parallel-item:only-child::after {\n",
       "  width: 0;\n",
       "}\n",
       "\n",
       "/* Serial-specific style estimator block */\n",
       "\n",
       "#sk-container-id-1 div.sk-serial {\n",
       "  display: flex;\n",
       "  flex-direction: column;\n",
       "  align-items: center;\n",
       "  background-color: var(--sklearn-color-background);\n",
       "  padding-right: 1em;\n",
       "  padding-left: 1em;\n",
       "}\n",
       "\n",
       "\n",
       "/* Toggleable style: style used for estimator/Pipeline/ColumnTransformer box that is\n",
       "clickable and can be expanded/collapsed.\n",
       "- Pipeline and ColumnTransformer use this feature and define the default style\n",
       "- Estimators will overwrite some part of the style using the `sk-estimator` class\n",
       "*/\n",
       "\n",
       "/* Pipeline and ColumnTransformer style (default) */\n",
       "\n",
       "#sk-container-id-1 div.sk-toggleable {\n",
       "  /* Default theme specific background. It is overwritten whether we have a\n",
       "  specific estimator or a Pipeline/ColumnTransformer */\n",
       "  background-color: var(--sklearn-color-background);\n",
       "}\n",
       "\n",
       "/* Toggleable label */\n",
       "#sk-container-id-1 label.sk-toggleable__label {\n",
       "  cursor: pointer;\n",
       "  display: block;\n",
       "  width: 100%;\n",
       "  margin-bottom: 0;\n",
       "  padding: 0.5em;\n",
       "  box-sizing: border-box;\n",
       "  text-align: center;\n",
       "}\n",
       "\n",
       "#sk-container-id-1 label.sk-toggleable__label-arrow:before {\n",
       "  /* Arrow on the left of the label */\n",
       "  content: \"▸\";\n",
       "  float: left;\n",
       "  margin-right: 0.25em;\n",
       "  color: var(--sklearn-color-icon);\n",
       "}\n",
       "\n",
       "#sk-container-id-1 label.sk-toggleable__label-arrow:hover:before {\n",
       "  color: var(--sklearn-color-text);\n",
       "}\n",
       "\n",
       "/* Toggleable content - dropdown */\n",
       "\n",
       "#sk-container-id-1 div.sk-toggleable__content {\n",
       "  max-height: 0;\n",
       "  max-width: 0;\n",
       "  overflow: hidden;\n",
       "  text-align: left;\n",
       "  /* unfitted */\n",
       "  background-color: var(--sklearn-color-unfitted-level-0);\n",
       "}\n",
       "\n",
       "#sk-container-id-1 div.sk-toggleable__content.fitted {\n",
       "  /* fitted */\n",
       "  background-color: var(--sklearn-color-fitted-level-0);\n",
       "}\n",
       "\n",
       "#sk-container-id-1 div.sk-toggleable__content pre {\n",
       "  margin: 0.2em;\n",
       "  border-radius: 0.25em;\n",
       "  color: var(--sklearn-color-text);\n",
       "  /* unfitted */\n",
       "  background-color: var(--sklearn-color-unfitted-level-0);\n",
       "}\n",
       "\n",
       "#sk-container-id-1 div.sk-toggleable__content.fitted pre {\n",
       "  /* unfitted */\n",
       "  background-color: var(--sklearn-color-fitted-level-0);\n",
       "}\n",
       "\n",
       "#sk-container-id-1 input.sk-toggleable__control:checked~div.sk-toggleable__content {\n",
       "  /* Expand drop-down */\n",
       "  max-height: 200px;\n",
       "  max-width: 100%;\n",
       "  overflow: auto;\n",
       "}\n",
       "\n",
       "#sk-container-id-1 input.sk-toggleable__control:checked~label.sk-toggleable__label-arrow:before {\n",
       "  content: \"▾\";\n",
       "}\n",
       "\n",
       "/* Pipeline/ColumnTransformer-specific style */\n",
       "\n",
       "#sk-container-id-1 div.sk-label input.sk-toggleable__control:checked~label.sk-toggleable__label {\n",
       "  color: var(--sklearn-color-text);\n",
       "  background-color: var(--sklearn-color-unfitted-level-2);\n",
       "}\n",
       "\n",
       "#sk-container-id-1 div.sk-label.fitted input.sk-toggleable__control:checked~label.sk-toggleable__label {\n",
       "  background-color: var(--sklearn-color-fitted-level-2);\n",
       "}\n",
       "\n",
       "/* Estimator-specific style */\n",
       "\n",
       "/* Colorize estimator box */\n",
       "#sk-container-id-1 div.sk-estimator input.sk-toggleable__control:checked~label.sk-toggleable__label {\n",
       "  /* unfitted */\n",
       "  background-color: var(--sklearn-color-unfitted-level-2);\n",
       "}\n",
       "\n",
       "#sk-container-id-1 div.sk-estimator.fitted input.sk-toggleable__control:checked~label.sk-toggleable__label {\n",
       "  /* fitted */\n",
       "  background-color: var(--sklearn-color-fitted-level-2);\n",
       "}\n",
       "\n",
       "#sk-container-id-1 div.sk-label label.sk-toggleable__label,\n",
       "#sk-container-id-1 div.sk-label label {\n",
       "  /* The background is the default theme color */\n",
       "  color: var(--sklearn-color-text-on-default-background);\n",
       "}\n",
       "\n",
       "/* On hover, darken the color of the background */\n",
       "#sk-container-id-1 div.sk-label:hover label.sk-toggleable__label {\n",
       "  color: var(--sklearn-color-text);\n",
       "  background-color: var(--sklearn-color-unfitted-level-2);\n",
       "}\n",
       "\n",
       "/* Label box, darken color on hover, fitted */\n",
       "#sk-container-id-1 div.sk-label.fitted:hover label.sk-toggleable__label.fitted {\n",
       "  color: var(--sklearn-color-text);\n",
       "  background-color: var(--sklearn-color-fitted-level-2);\n",
       "}\n",
       "\n",
       "/* Estimator label */\n",
       "\n",
       "#sk-container-id-1 div.sk-label label {\n",
       "  font-family: monospace;\n",
       "  font-weight: bold;\n",
       "  display: inline-block;\n",
       "  line-height: 1.2em;\n",
       "}\n",
       "\n",
       "#sk-container-id-1 div.sk-label-container {\n",
       "  text-align: center;\n",
       "}\n",
       "\n",
       "/* Estimator-specific */\n",
       "#sk-container-id-1 div.sk-estimator {\n",
       "  font-family: monospace;\n",
       "  border: 1px dotted var(--sklearn-color-border-box);\n",
       "  border-radius: 0.25em;\n",
       "  box-sizing: border-box;\n",
       "  margin-bottom: 0.5em;\n",
       "  /* unfitted */\n",
       "  background-color: var(--sklearn-color-unfitted-level-0);\n",
       "}\n",
       "\n",
       "#sk-container-id-1 div.sk-estimator.fitted {\n",
       "  /* fitted */\n",
       "  background-color: var(--sklearn-color-fitted-level-0);\n",
       "}\n",
       "\n",
       "/* on hover */\n",
       "#sk-container-id-1 div.sk-estimator:hover {\n",
       "  /* unfitted */\n",
       "  background-color: var(--sklearn-color-unfitted-level-2);\n",
       "}\n",
       "\n",
       "#sk-container-id-1 div.sk-estimator.fitted:hover {\n",
       "  /* fitted */\n",
       "  background-color: var(--sklearn-color-fitted-level-2);\n",
       "}\n",
       "\n",
       "/* Specification for estimator info (e.g. \"i\" and \"?\") */\n",
       "\n",
       "/* Common style for \"i\" and \"?\" */\n",
       "\n",
       ".sk-estimator-doc-link,\n",
       "a:link.sk-estimator-doc-link,\n",
       "a:visited.sk-estimator-doc-link {\n",
       "  float: right;\n",
       "  font-size: smaller;\n",
       "  line-height: 1em;\n",
       "  font-family: monospace;\n",
       "  background-color: var(--sklearn-color-background);\n",
       "  border-radius: 1em;\n",
       "  height: 1em;\n",
       "  width: 1em;\n",
       "  text-decoration: none !important;\n",
       "  margin-left: 1ex;\n",
       "  /* unfitted */\n",
       "  border: var(--sklearn-color-unfitted-level-1) 1pt solid;\n",
       "  color: var(--sklearn-color-unfitted-level-1);\n",
       "}\n",
       "\n",
       ".sk-estimator-doc-link.fitted,\n",
       "a:link.sk-estimator-doc-link.fitted,\n",
       "a:visited.sk-estimator-doc-link.fitted {\n",
       "  /* fitted */\n",
       "  border: var(--sklearn-color-fitted-level-1) 1pt solid;\n",
       "  color: var(--sklearn-color-fitted-level-1);\n",
       "}\n",
       "\n",
       "/* On hover */\n",
       "div.sk-estimator:hover .sk-estimator-doc-link:hover,\n",
       ".sk-estimator-doc-link:hover,\n",
       "div.sk-label-container:hover .sk-estimator-doc-link:hover,\n",
       ".sk-estimator-doc-link:hover {\n",
       "  /* unfitted */\n",
       "  background-color: var(--sklearn-color-unfitted-level-3);\n",
       "  color: var(--sklearn-color-background);\n",
       "  text-decoration: none;\n",
       "}\n",
       "\n",
       "div.sk-estimator.fitted:hover .sk-estimator-doc-link.fitted:hover,\n",
       ".sk-estimator-doc-link.fitted:hover,\n",
       "div.sk-label-container:hover .sk-estimator-doc-link.fitted:hover,\n",
       ".sk-estimator-doc-link.fitted:hover {\n",
       "  /* fitted */\n",
       "  background-color: var(--sklearn-color-fitted-level-3);\n",
       "  color: var(--sklearn-color-background);\n",
       "  text-decoration: none;\n",
       "}\n",
       "\n",
       "/* Span, style for the box shown on hovering the info icon */\n",
       ".sk-estimator-doc-link span {\n",
       "  display: none;\n",
       "  z-index: 9999;\n",
       "  position: relative;\n",
       "  font-weight: normal;\n",
       "  right: .2ex;\n",
       "  padding: .5ex;\n",
       "  margin: .5ex;\n",
       "  width: min-content;\n",
       "  min-width: 20ex;\n",
       "  max-width: 50ex;\n",
       "  color: var(--sklearn-color-text);\n",
       "  box-shadow: 2pt 2pt 4pt #999;\n",
       "  /* unfitted */\n",
       "  background: var(--sklearn-color-unfitted-level-0);\n",
       "  border: .5pt solid var(--sklearn-color-unfitted-level-3);\n",
       "}\n",
       "\n",
       ".sk-estimator-doc-link.fitted span {\n",
       "  /* fitted */\n",
       "  background: var(--sklearn-color-fitted-level-0);\n",
       "  border: var(--sklearn-color-fitted-level-3);\n",
       "}\n",
       "\n",
       ".sk-estimator-doc-link:hover span {\n",
       "  display: block;\n",
       "}\n",
       "\n",
       "/* \"?\"-specific style due to the `<a>` HTML tag */\n",
       "\n",
       "#sk-container-id-1 a.estimator_doc_link {\n",
       "  float: right;\n",
       "  font-size: 1rem;\n",
       "  line-height: 1em;\n",
       "  font-family: monospace;\n",
       "  background-color: var(--sklearn-color-background);\n",
       "  border-radius: 1rem;\n",
       "  height: 1rem;\n",
       "  width: 1rem;\n",
       "  text-decoration: none;\n",
       "  /* unfitted */\n",
       "  color: var(--sklearn-color-unfitted-level-1);\n",
       "  border: var(--sklearn-color-unfitted-level-1) 1pt solid;\n",
       "}\n",
       "\n",
       "#sk-container-id-1 a.estimator_doc_link.fitted {\n",
       "  /* fitted */\n",
       "  border: var(--sklearn-color-fitted-level-1) 1pt solid;\n",
       "  color: var(--sklearn-color-fitted-level-1);\n",
       "}\n",
       "\n",
       "/* On hover */\n",
       "#sk-container-id-1 a.estimator_doc_link:hover {\n",
       "  /* unfitted */\n",
       "  background-color: var(--sklearn-color-unfitted-level-3);\n",
       "  color: var(--sklearn-color-background);\n",
       "  text-decoration: none;\n",
       "}\n",
       "\n",
       "#sk-container-id-1 a.estimator_doc_link.fitted:hover {\n",
       "  /* fitted */\n",
       "  background-color: var(--sklearn-color-fitted-level-3);\n",
       "}\n",
       "</style><div id=\"sk-container-id-1\" class=\"sk-top-container\"><div class=\"sk-text-repr-fallback\"><pre>RandomForestClassifier(max_depth=23, max_features=0.40060455200913236,\n",
       "                       max_samples=0.7, min_samples_leaf=47,\n",
       "                       min_samples_split=52, n_jobs=-1, oob_score=True,\n",
       "                       random_state=211777)</pre><b>In a Jupyter environment, please rerun this cell to show the HTML representation or trust the notebook. <br />On GitHub, the HTML representation is unable to render, please try loading this page with nbviewer.org.</b></div><div class=\"sk-container\" hidden><div class=\"sk-item\"><div class=\"sk-estimator fitted sk-toggleable\"><input class=\"sk-toggleable__control sk-hidden--visually\" id=\"sk-estimator-id-1\" type=\"checkbox\" checked><label for=\"sk-estimator-id-1\" class=\"sk-toggleable__label fitted sk-toggleable__label-arrow fitted\">&nbsp;&nbsp;RandomForestClassifier<a class=\"sk-estimator-doc-link fitted\" rel=\"noreferrer\" target=\"_blank\" href=\"https://scikit-learn.org/1.5/modules/generated/sklearn.ensemble.RandomForestClassifier.html\">?<span>Documentation for RandomForestClassifier</span></a><span class=\"sk-estimator-doc-link fitted\">i<span>Fitted</span></span></label><div class=\"sk-toggleable__content fitted\"><pre>RandomForestClassifier(max_depth=23, max_features=0.40060455200913236,\n",
       "                       max_samples=0.7, min_samples_leaf=47,\n",
       "                       min_samples_split=52, n_jobs=-1, oob_score=True,\n",
       "                       random_state=211777)</pre></div> </div></div></div></div>"
      ],
      "text/plain": [
       "RandomForestClassifier(max_depth=23, max_features=0.40060455200913236,\n",
       "                       max_samples=0.7, min_samples_leaf=47,\n",
       "                       min_samples_split=52, n_jobs=-1, oob_score=True,\n",
       "                       random_state=211777)"
      ]
     },
     "execution_count": 9,
     "metadata": {},
     "output_type": "execute_result"
    }
   ],
   "source": [
    "#imp_mean = SimpleImputer(missing_values=np.nan, strategy='median')\n",
    "#Xtrain_rf_imp = imp_mean.fit_transform(Xtrain_rf)\n",
    "\n",
    "#model = RandomForestClassifier(n_estimators=100, max_features=20, min_samples_leaf=400, random_state=17 )\n",
    "#model.fit(Xtrain_rf_imp, ytrain_rf)\n",
    "\n",
    "model_rf.fit(Xtrain_rf,ytrain_rf)"
   ]
  },
  {
   "cell_type": "markdown",
   "metadata": {
    "id": "3WkehiTNzRrL"
   },
   "source": [
    "Armamos (copiamos de internet) una función que nos calcule la matriz de distancias"
   ]
  },
  {
   "cell_type": "code",
   "execution_count": 10,
   "metadata": {
    "id": "Ab0UY9VAo1mj"
   },
   "outputs": [],
   "source": [
    "def distanceMatrix(model, X):\n",
    "\n",
    "    terminals = model.apply(X)\n",
    "    nTrees = terminals.shape[1]\n",
    "\n",
    "    a = terminals[:,0]\n",
    "    proxMat = 1*np.equal.outer(a, a)\n",
    "\n",
    "    for i in range(1, nTrees):\n",
    "        a = terminals[:,i]\n",
    "        proxMat += 1*np.equal.outer(a, a)\n",
    "\n",
    "    proxMat = proxMat / nTrees\n",
    "\n",
    "    return proxMat.max() - proxMat\n",
    "\n",
    "#md = distanceMatrix(model, Xtrain_rf_imp)\n",
    "md = distanceMatrix(model_rf, Xtrain_rf)"
   ]
  },
  {
   "cell_type": "markdown",
   "metadata": {
    "id": "uBIZpRv4zfCu"
   },
   "source": [
    "Veamos como se ve. Recuerde que significa que un número esté cerca de 0 o que esté cerca de 1."
   ]
  },
  {
   "cell_type": "markdown",
   "metadata": {
    "id": "xrhE0O2nzodC"
   },
   "source": [
    "Para poder visualizar la matriz, utilizaremos un embedding. Los *embeddings* son representaciones vectoriales de datos en un espacio de menor dimensión\n",
    "\n",
    "Podría utilizar un **PCA** con ese fin, pero en los últimos años hay mejores algoritmos como **t-sne** o **umap**.\n",
    "\n",
    "UMAP (Uniform Manifold Approximation and Projection) es una técnica avanzada para la reducción de dimensionalidad y visualización de datos en espacios de menor dimensión, que busca mantener al máximo la estructura de los datos en alta dimensión.\n",
    "\n",
    "1. **Preservación de la Estructura Global y Local**:\n",
    "   - Intenta preservar tanto la estructura local (relaciones cercanas) como la global (estructura general) de los datos al proyectarlos en un espacio de menor dimensión.\n",
    "\n",
    "2. **Basado en Manifold Learning**:\n",
    "   - UMAP asume que los datos de alta dimensión se encuentran en un espacio de menor dimensión (un \"manifold\") y busca proyectar esos datos de manera que se mantenga esa estructura subyacente.\n",
    "\n",
    "3. **Velocidad y Escalabilidad**:\n",
    "   - UMAP es más rápido y escalable en comparación con técnicas similares como t-SNE, especialmente en conjuntos de datos grandes.\n",
    "\n",
    "4. **Control sobre la Estructura**:\n",
    "   - UMAP permite al usuario ajustar parámetros que controlan la preservación de la estructura local y global, como el número de vecinos cercanos (n_neighbors) y la distancia mínima entre puntos (min_dist).\n",
    "\n",
    "Una característica adicional, es que cuenta con la posibilidad de recibir de entrada una matriz de distancia.\n",
    "\n",
    "Veamos los datos por primera vez:"
   ]
  },
  {
   "cell_type": "code",
   "execution_count": 11,
   "metadata": {
    "colab": {
     "base_uri": "https://localhost:8080/",
     "height": 544
    },
    "id": "5LRYIYv-rBb6",
    "outputId": "cf878468-23ef-438a-d32b-e07f179f3ccf"
   },
   "outputs": [
    {
     "name": "stderr",
     "output_type": "stream",
     "text": [
      "c:\\Users\\c678456\\AppData\\Local\\anaconda3\\envs\\dmeyf\\Lib\\site-packages\\umap\\umap_.py:1858: UserWarning: using precomputed metric; inverse_transform will be unavailable\n",
      "  warn(\"using precomputed metric; inverse_transform will be unavailable\")\n",
      "c:\\Users\\c678456\\AppData\\Local\\anaconda3\\envs\\dmeyf\\Lib\\site-packages\\umap\\umap_.py:1945: UserWarning: n_jobs value 1 overridden to 1 by setting random_state. Use no seed for parallelism.\n",
      "  warn(f\"n_jobs value {self.n_jobs} overridden to 1 by setting random_state. Use no seed for parallelism.\")\n"
     ]
    },
    {
     "data": {
      "text/plain": [
       "<matplotlib.collections.PathCollection at 0x16f47d67050>"
      ]
     },
     "execution_count": 11,
     "metadata": {},
     "output_type": "execute_result"
    },
    {
     "data": {
      "image/png": "[encoded data removed]",
      "text/plain": [
       "<Figure size 640x480 with 1 Axes>"
      ]
     },
     "metadata": {},
     "output_type": "display_data"
    }
   ],
   "source": [
    "embedding_rf = UMAP(\n",
    "  n_components=2,\n",
    "  n_neighbors=50,\n",
    "  metric=\"precomputed\",\n",
    "  random_state=17,\n",
    ").fit_transform(md)\n",
    "\n",
    "plt.scatter(embedding_rf[:,0], embedding_rf[:,1])"
   ]
  },
  {
   "cell_type": "markdown",
   "metadata": {
    "id": "r2StQEZK3Guh"
   },
   "source": [
    "Agreguemos la dimensión de la probabilidad de salida, para ver donde cree el modelo que se encuentran los **bajas**."
   ]
  },
  {
   "cell_type": "code",
   "execution_count": 12,
   "metadata": {
    "colab": {
     "base_uri": "https://localhost:8080/",
     "height": 435
    },
    "id": "A1Rfhj7CTeLt",
    "outputId": "cc6bf1e7-2099-4b20-dc81-44ebfab9b88d"
   },
   "outputs": [
    {
     "data": {
      "image/png": "[encoded data removed]",
      "text/plain": [
       "<Figure size 640x480 with 2 Axes>"
      ]
     },
     "metadata": {},
     "output_type": "display_data"
    }
   ],
   "source": [
    "#class_index = np.where(model.classes_ == 1)[0]\n",
    "#prob_baja = model.predict_proba(Xtrain_rf_imp)[:,class_index]\n",
    "\n",
    "class_index = np.where(model_rf.classes_ == 1)[0]\n",
    "prob_baja = model_rf.predict_proba(Xtrain_rf)[:,class_index]\n",
    "\n",
    "plt.scatter(embedding_rf[:,0], embedding_rf[:,1], c=prob_baja)\n",
    "plt.colorbar()\n",
    "plt.show()"
   ]
  },
  {
   "cell_type": "markdown",
   "metadata": {
    "id": "xpthaD3P3d4C"
   },
   "source": [
    "Vamos a partir de este embedding para segmentar a los clientes. Puede utilizar cualquier técnica, los datos ya son simples para cualquier algoritmo. Utilizaremos uno bastante estandar"
   ]
  },
  {
   "cell_type": "code",
   "execution_count": 13,
   "metadata": {
    "colab": {
     "base_uri": "https://localhost:8080/",
     "height": 486
    },
    "id": "RtyL7PdqrVpr",
    "outputId": "4e457963-66a5-40bb-c3a5-001a2c249c32"
   },
   "outputs": [
    {
     "data": {
      "image/png": "[encoded data removed]",
      "text/plain": [
       "<Figure size 640x480 with 1 Axes>"
      ]
     },
     "metadata": {},
     "output_type": "display_data"
    }
   ],
   "source": [
    "hdb = DBSCAN(eps=0.3)\n",
    "y = hdb.fit(embedding_rf)\n",
    "\n",
    "# Agregar etiquetas de clúster\n",
    "unique_labels = set(y.labels_)\n",
    "for label in unique_labels:\n",
    "    # Filtrar los puntos de cada clúster\n",
    "    cluster_points = embedding_rf[y.labels_ == label]\n",
    "    \n",
    "    # Calcular el centroide del clúster para colocar la etiqueta\n",
    "    centroid = cluster_points.mean(axis=0)\n",
    "    \n",
    "    # Colocar el número del clúster en el gráfico\n",
    "    plt.text(centroid[0], centroid[1], str(label), fontsize=12, fontweight='bold', color='black')\n",
    "    \n",
    "plt.scatter(embedding_rf[:, 0], embedding_rf[:, 1], c=y.labels_, cmap='tab10')\n",
    "plt.tight_layout()\n",
    "plt.show()"
   ]
  },
  {
   "cell_type": "code",
   "execution_count": 14,
   "metadata": {},
   "outputs": [
    {
     "name": "stdout",
     "output_type": "stream",
     "text": [
      "Dimensiones de etiquetas de clusters: (9394,)\n",
      "Dimensiones de probabilidad de baja (aplanado): (9394,)\n",
      "cluster\n",
      "-1     0.906081\n",
      " 0     0.786585\n",
      " 1     0.981659\n",
      " 2     0.436311\n",
      " 3     0.978593\n",
      " 4     0.143044\n",
      " 5     0.853713\n",
      " 6     0.972908\n",
      " 7     0.946249\n",
      " 8     0.980681\n",
      " 9     0.936963\n",
      " 10    0.657794\n",
      "Name: prob_baja, dtype: float64\n"
     ]
    }
   ],
   "source": [
    "# Aplana el array de prob_baja para que sea unidimensional\n",
    "prob_baja_flat = prob_baja.ravel()  # O usa prob_baja.flatten() si prefieres\n",
    "\n",
    "# Verifica que ahora ambos arrays sean unidimensionales y tengan la misma longitud\n",
    "print(f\"Dimensiones de etiquetas de clusters: {y.labels_.shape}\")\n",
    "print(f\"Dimensiones de probabilidad de baja (aplanado): {prob_baja_flat.shape}\")\n",
    "\n",
    "# Crear el DataFrame si las dimensiones coinciden\n",
    "if y.labels_.shape[0] == prob_baja_flat.shape[0]:\n",
    "    df_clusters = pd.DataFrame({\n",
    "        'cluster': y.labels_,  # Etiquetas de los clusters del DBSCAN\n",
    "        'prob_baja': prob_baja_flat  # Probabilidades de baja de cada cliente (aplanado)\n",
    "    })\n",
    "\n",
    "    # Paso 2: Calcular el promedio de probabilidad de baja por cluster\n",
    "    cluster_avg_prob_baja = df_clusters.groupby('cluster')['prob_baja'].mean()\n",
    "\n",
    "    # Mostrar los resultados\n",
    "    print(cluster_avg_prob_baja)\n",
    "else:\n",
    "    print(\"Las dimensiones de 'y.labels_' y 'prob_baja' aún no coinciden.\")"
   ]
  },
  {
   "cell_type": "markdown",
   "metadata": {
    "id": "1DT8Napm4giz"
   },
   "source": [
    "Veamos cuantos cluster detecto y cuantos clientes tiene cada uno"
   ]
  },
  {
   "cell_type": "markdown",
   "metadata": {
    "id": "qDcWrYG94sGq"
   },
   "source": [
    "Los que tienen -1, son considerados outliers."
   ]
  },
  {
   "cell_type": "markdown",
   "metadata": {
    "id": "O4kSLegC4wXT"
   },
   "source": [
    "Por último necesitamos alguna forma de saber que hace a cada cluster distinto del otro. Para esto utilizaremos modelos (**rf**) que buscan separar los cluster uno a uno del resto de los datos.\n",
    "\n",
    "Por cada modelo, miraremos cuales son las variables más importantes que separan los datos para luego caracterizarlos:\n",
    "\n",
    "Manos a la obra:"
   ]
  },
  {
   "cell_type": "code",
   "execution_count": 15,
   "metadata": {
    "id": "JNAspxcDNsJO"
   },
   "outputs": [],
   "source": [
    "df_embedding = pd.DataFrame(embedding_rf, columns=['embedding_1', 'embedding_2'])\n",
    "df_embedding['cluster'] = y.labels_\n",
    "\n",
    "clusters = df_embedding['cluster'].unique()\n",
    "\n",
    "important_features_by_cluster = {}\n",
    "\n",
    "for cluster in clusters:\n",
    "  y_binary = (df_embedding['cluster'] == cluster).astype(int)\n",
    "\n",
    "  model = RandomForestClassifier(random_state=17)\n",
    "  #model.fit(Xtrain_rf_imp, y_binary)\n",
    "  model.fit(Xtrain_rf, y_binary)\n",
    "\n",
    "  importances = model.feature_importances_\n",
    "  feature_names = Xtrain_rf.columns\n",
    "\n",
    "  indices = np.argsort(importances)[::-1]\n",
    "  important_features_by_cluster[cluster] = [feature_names[i] for i in indices]"
   ]
  },
  {
   "cell_type": "code",
   "execution_count": 21,
   "metadata": {},
   "outputs": [
    {
     "data": {
      "text/plain": [
       "cluster\n",
       " 0     3973\n",
       " 1     2768\n",
       " 4      994\n",
       " 3      742\n",
       " 2      304\n",
       " 5      237\n",
       " 6      116\n",
       " 8      108\n",
       " 9       57\n",
       " 10      54\n",
       " 7       27\n",
       "-1       14\n",
       "Name: count, dtype: int64"
      ]
     },
     "execution_count": 21,
     "metadata": {},
     "output_type": "execute_result"
    }
   ],
   "source": [
    "df_clusters[\"cluster\"].value_counts()"
   ]
  },
  {
   "cell_type": "markdown",
   "metadata": {
    "id": "y7Mz0fa35llh"
   },
   "source": [
    "Y exploramos cuales son las variables importantes por cada cluster"
   ]
  },
  {
   "cell_type": "code",
   "execution_count": null,
   "metadata": {
    "colab": {
     "base_uri": "https://localhost:8080/"
    },
    "id": "TXC_cFv45mO5",
    "outputId": "e8c852a3-bc84-42b8-9c61-865b61eb3094"
   },
   "outputs": [],
   "source": [
    "for cluster, features in important_features_by_cluster.items():\n",
    "  print(f\"Cluster {cluster} vs. Resto:\")\n",
    "  for feature in features[:15]:\n",
    "    print(f\"  - {feature}\")"
   ]
  },
  {
   "cell_type": "markdown",
   "metadata": {
    "id": "h5WHCJDw53Pa"
   },
   "source": [
    "Luego resta, analizar los estadísticos de los datos de cada cluster para las variables importantes, comparar sus distribuciones con histogramas, boxplots, pivot tables, etc.\n"
   ]
  },
  {
   "cell_type": "markdown",
   "metadata": {
    "id": "Th9-1pcqMZeG"
   },
   "source": [
    "Junto con el diccionaro de datos, de sentido a lo que ve a través del análisis multivariado de datos.\n",
    "\n",
    "Obviamente, esto es apenas mas que una semilla. Agregue las variables históricas, juegue con los **rf** y genere una segmentación pro, que encante a Miranda\n"
   ]
  },
  {
   "cell_type": "markdown",
   "metadata": {},
   "source": [
    "#### 1. Creo el dataframe a analizar."
   ]
  },
  {
   "cell_type": "code",
   "execution_count": 17,
   "metadata": {},
   "outputs": [],
   "source": [
    "df_analizar = Xtrain_rf.copy()\n",
    "df_analizar['cluster'] = y.labels_"
   ]
  },
  {
   "cell_type": "markdown",
   "metadata": {},
   "source": [
    "#### 2. Análisis de cada clúster."
   ]
  },
  {
   "cell_type": "code",
   "execution_count": 119,
   "metadata": {},
   "outputs": [],
   "source": [
    "descriptivo_cluster = {}\n",
    "for cluster, features in important_features_by_cluster.items():\n",
    "    #print(\"\\n\\nCLUSTER {}\\n\\n\".format(cluster))\n",
    "    features_filtrar = features[:15]+[\"cliente_edad\",\"cliente_antiguedad\"]\n",
    "    df = df_analizar[df_analizar[\"cluster\"] == cluster][features_filtrar]\n",
    "    descriptivo_cluster[cluster] = df.describe()"
   ]
  },
  {
   "cell_type": "markdown",
   "metadata": {},
   "source": [
    "##### a. Clúster 0 (vs clúster 4)."
   ]
  },
  {
   "cell_type": "code",
   "execution_count": null,
   "metadata": {},
   "outputs": [],
   "source": [
    "descriptivo_cluster[0]"
   ]
  },
  {
   "cell_type": "code",
   "execution_count": null,
   "metadata": {},
   "outputs": [],
   "source": [
    "descriptivo_cluster[4]"
   ]
  },
  {
   "cell_type": "code",
   "execution_count": 22,
   "metadata": {},
   "outputs": [],
   "source": [
    "# Si comparamos el clúster 0 con el 4 (CONTINUA CLARAMENTE), vemos que...\n",
    "# - Son claramente Trabajadores con aumentos de sueldo.\n",
    "# - Hacen transacciones bancarias.\n",
    "# - Usan la tarjeta de crédito de gran manera.\n",
    "# - Hacen extracciones del autoservicio, etc."
   ]
  },
  {
   "cell_type": "code",
   "execution_count": null,
   "metadata": {},
   "outputs": [],
   "source": [
    "# Análisis vs el Resto."
   ]
  },
  {
   "cell_type": "code",
   "execution_count": null,
   "metadata": {},
   "outputs": [],
   "source": [
    "#1. Payroll ----> No reciben un sueldo (no apego con el banco).\n",
    "# Gráfico.\n",
    "cluster_0 = df_analizar.copy()\n",
    "cluster_0[\"cluster\"] = df_analizar['cluster'].apply(lambda x: '0' if x == 0 else 'Resto')\n",
    "\n",
    "df_analizar.groupby(\"cluster\")[[\"mpayroll\",\"cpayroll_trx\"]].agg(['mean', 'std', 'min', 'max', 'median']).reset_index()"
   ]
  },
  {
   "cell_type": "code",
   "execution_count": null,
   "metadata": {},
   "outputs": [],
   "source": [
    "#2. mpasivos_margen ----> Provoca un margen por pasivos mucho mayor (el banco trabaja esa plata), excepto por el cluster 4.\n",
    "cluster_0 = df_analizar.copy()\n",
    "cluster_0[\"cluster\"] = df_analizar['cluster'].apply(lambda x: '0' if x == 0 else 'Resto')\n",
    "\n",
    "df_analizar.groupby(\"cluster\")[\"mpasivos_margen\"].agg(['mean', 'std', 'min', 'max', 'median']).reset_index()"
   ]
  },
  {
   "cell_type": "code",
   "execution_count": null,
   "metadata": {},
   "outputs": [],
   "source": [
    "lower_bound = df_analizar['mpasivos_margen'].quantile(0.10)\n",
    "upper_bound = df_analizar['mpasivos_margen'].quantile(0.90)\n",
    "filtered_data = df_analizar[(df_analizar['mpasivos_margen'] >= lower_bound) & (df_analizar['mpasivos_margen'] <= upper_bound)]\n",
    "sns.boxplot(x='cluster', y='mpasivos_margen', data=filtered_data)"
   ]
  },
  {
   "cell_type": "code",
   "execution_count": null,
   "metadata": {},
   "outputs": [],
   "source": [
    "#3. mcaja_ahorro.\n",
    "# Grafico.\n",
    "lower_bound = df_analizar['mcaja_ahorro'].quantile(0.10)\n",
    "upper_bound = df_analizar['mcaja_ahorro'].quantile(0.90)\n",
    "filtered_data = df_analizar[(df_analizar['mcaja_ahorro'] >= lower_bound) & (df_analizar['mcaja_ahorro'] <= upper_bound)]\n",
    "sns.boxplot(x='cluster', y='mcaja_ahorro', data=filtered_data)"
   ]
  },
  {
   "cell_type": "code",
   "execution_count": null,
   "metadata": {},
   "outputs": [],
   "source": [
    "#4. Tarjetas de crédito # Hay un uso de la tarjeta de crédito\n",
    "#Visa_msaldopesos\n",
    "lower_bound = df_analizar['Visa_msaldopesos'].quantile(0.10)\n",
    "upper_bound = df_analizar['Visa_msaldopesos'].quantile(0.90)\n",
    "\n",
    "filtered_data = df_analizar[(df_analizar['Visa_msaldopesos'] >= lower_bound) & (df_analizar['Visa_msaldopesos'] <= upper_bound)]\n",
    "sns.boxplot(x='cluster', y='Visa_msaldopesos', data=filtered_data)"
   ]
  },
  {
   "cell_type": "code",
   "execution_count": null,
   "metadata": {},
   "outputs": [],
   "source": [
    "#tc_pagadopesos_total\n",
    "lower_bound = df_analizar['tc_pagadopesos_total'].quantile(0.10)\n",
    "upper_bound = df_analizar['tc_pagadopesos_total'].quantile(0.90)\n",
    "\n",
    "filtered_data = df_analizar[(df_analizar['tc_pagadopesos_total'] >= lower_bound) & (df_analizar['tc_pagadopesos_total'] <= upper_bound)]\n",
    "sns.boxplot(x='cluster', y='tc_pagadopesos_total', data=filtered_data)"
   ]
  },
  {
   "cell_type": "code",
   "execution_count": null,
   "metadata": {},
   "outputs": [],
   "source": [
    "# Visa_mpagominimo\n",
    "lower_bound = df_analizar['Visa_mpagominimo'].quantile(0.10)\n",
    "upper_bound = df_analizar['Visa_mpagominimo'].quantile(0.90)\n",
    "\n",
    "filtered_data = df_analizar[(df_analizar['Visa_mpagominimo'] >= lower_bound) & (df_analizar['Visa_mpagominimo'] <= upper_bound)]\n",
    "sns.boxplot(x='cluster', y='Visa_mpagominimo', data=filtered_data)"
   ]
  },
  {
   "cell_type": "code",
   "execution_count": null,
   "metadata": {},
   "outputs": [],
   "source": [
    "# mpayroll_slope_3\n",
    "cluster_0 = df_analizar.copy()\n",
    "cluster_0[\"cluster\"] = df_analizar['cluster'].apply(lambda x: '0' if x == 0 else 'Resto')\n",
    "\n",
    "df_analizar.groupby(\"cluster\")[\"mpayroll_slope_3\"].agg(['mean', 'std', 'min', 'max', 'median']).reset_index()"
   ]
  },
  {
   "cell_type": "code",
   "execution_count": null,
   "metadata": {},
   "outputs": [],
   "source": [
    "# cumplimiento_limite.\n",
    "df_analizar[\"cumplimiento_limite\"] = df_analizar[\"Visa_mconsumospesos\"]/df_analizar[\"Visa_mlimitecompra\"]\n",
    "cluster_0 = df_analizar.copy()\n",
    "cluster_0[\"cluster\"] = df_analizar['cluster'].apply(lambda x: '0' if x == 0 else 'Resto')\n",
    "\n",
    "df_analizar.groupby(\"cluster\")[\"cumplimiento_limite\"].agg(['mean', 'std', 'min', 'max', 'median']).reset_index()"
   ]
  },
  {
   "cell_type": "code",
   "execution_count": null,
   "metadata": {},
   "outputs": [],
   "source": [
    "# mcuentas_saldo.\n",
    "lower_bound = df_analizar['mcuentas_saldo'].quantile(0.10)\n",
    "upper_bound = df_analizar['mcuentas_saldo'].quantile(0.90)\n",
    "\n",
    "filtered_data = df_analizar[(df_analizar['mcuentas_saldo'] >= lower_bound) & (df_analizar['mcuentas_saldo'] <= upper_bound)]\n",
    "sns.boxplot(x='cluster', y='mcuentas_saldo', data=filtered_data)"
   ]
  },
  {
   "cell_type": "code",
   "execution_count": null,
   "metadata": {},
   "outputs": [],
   "source": [
    "# CONCLUSIÓN....\n",
    "# No son trabajadores (payroll bajo) por ende, no tienen apego por el banco (menos comprometidos y más propensos a mover su dinero a otras instituciones con mejores ofertas).\n",
    "# El banco saca mucho margen con la plata que tienen/invierten.\n",
    "# Suele tener mayor $  en la caja de ahorro que la media (hasta el 75% tiene $25,583.28).\n",
    "# Suelen gastar en TdeC (media -$28,864.39 ante un pago mínimo de $6,676.71)---> Si el banco no ofrece incentivos claros (puntos, descuentos, beneficios exclusivos), otros bancos con programas de tarjetas de crédito más atractivos podrían atraerlos fácilmente."
   ]
  },
  {
   "cell_type": "markdown",
   "metadata": {},
   "source": [
    "##### b. Clúster 1 vs clúster 3 (son parecidos)."
   ]
  },
  {
   "cell_type": "code",
   "execution_count": null,
   "metadata": {},
   "outputs": [],
   "source": [
    "descriptivo_cluster[1]"
   ]
  },
  {
   "cell_type": "code",
   "execution_count": null,
   "metadata": {},
   "outputs": [],
   "source": [
    "#1. ctrx_quarter ----> No reciben un sueldo (no apego con el banco).\n",
    "# Gráfico.\n",
    "cluster_1 = df_analizar.copy()\n",
    "cluster_1[\"cluster\"] = df_analizar['cluster'].apply(lambda x: '1' if x == 1 else 'Resto')\n",
    "\n",
    "df_analizar.groupby(\"cluster\")[[\"ctrx_quarter\"]].agg(['mean', 'std', 'min', 'max', 'median']).reset_index()"
   ]
  },
  {
   "cell_type": "code",
   "execution_count": 24,
   "metadata": {},
   "outputs": [],
   "source": [
    "# Casi sin uso de la caja de ahorro (de hecho, va descendiendo).\n",
    "# Casi sin uso de la tarjeta de crédito VISA (de hecho, casi sin saldo, sin consumos, casi todo el limite descubierto).\n",
    "# No genera pasivos (no usa los productos financieros/deposita plata).\n",
    "# Casi sin movimientos (ctrx_quarter).\n",
    "# Sin prestamos tomados.\n",
    "# La antiguedad es menor que el clúster 0 y 4.\n",
    "# 47 años\n",
    "# 101 meses como cliente."
   ]
  },
  {
   "cell_type": "code",
   "execution_count": null,
   "metadata": {},
   "outputs": [],
   "source": [
    "descriptivo_cluster[3]"
   ]
  },
  {
   "cell_type": "code",
   "execution_count": 26,
   "metadata": {},
   "outputs": [],
   "source": [
    "# Parece no tener pasivos (falta de productos financieros).\n",
    "# No usa la caja de ahorro ni las tarjetas de crédito.\n",
    "# Casi sin saldo en la cuenta.\n",
    "# Casi no hace transacciones bancarias.\n",
    "\n",
    "\n",
    "\n",
    "# ------------> Muy parecido al clúster 1... BUSCAR LA DIFERENCIA... en otras variables? hacer otro árbol?\n",
    "# --------------> RECOMENDACION: PERDERLOS."
   ]
  },
  {
   "cell_type": "markdown",
   "metadata": {},
   "source": [
    "##### c. Clúster 5."
   ]
  },
  {
   "cell_type": "code",
   "execution_count": null,
   "metadata": {},
   "outputs": [],
   "source": [
    "descriptivo_cluster[5]"
   ]
  },
  {
   "cell_type": "code",
   "execution_count": null,
   "metadata": {},
   "outputs": [],
   "source": [
    "# mprestamos_personales.\n",
    "#lower_bound = df_analizar['mprestamos_personales'].quantile(0.10)\n",
    "#upper_bound = df_analizar['mprestamos_personales'].quantile(0.90)\n",
    "\n",
    "#filtered_data = df_analizar[(df_analizar['mprestamos_personales'] >= lower_bound) & (df_analizar['mprestamos_personales'] <= upper_bound)]\n",
    "sns.boxplot(x='cluster', y='mprestamos_personales', data=df_analizar)"
   ]
  },
  {
   "cell_type": "code",
   "execution_count": null,
   "metadata": {},
   "outputs": [],
   "source": [
    "# cprestamos_personales.\n",
    "cluster_5 = df_analizar.copy()\n",
    "cluster_5['cluster'] = df_analizar['cluster'].apply(lambda x: '5' if x == 5 else 'resto')\n",
    "\n",
    "# Grafico.\n",
    "plt.figure(figsize=(6,2))\n",
    "\n",
    "plt.hist(cluster_5[cluster_5['cluster'] == '5']['cprestamos_personales'], bins=10, alpha=0.7, label='Cluster 5', color='blue')\n",
    "plt.hist(cluster_5[cluster_5['cluster'] == 'resto']['cprestamos_personales'], bins=10, alpha=0.7, label='Resto', color='green')\n",
    "\n",
    "# Título y labels.\n",
    "plt.xlabel('Cantidad de Préstamos Personales')\n",
    "plt.ylabel('Frecuencia')\n",
    "plt.title('Histograma de cprestamos_personales para Cluster 5 vs Resto')\n",
    "plt.legend()\n",
    "\n",
    "# Show.\n",
    "plt.show()"
   ]
  },
  {
   "cell_type": "code",
   "execution_count": 29,
   "metadata": {},
   "outputs": [],
   "source": [
    "# Uso de prestamos personales (con pendiente positiva).\n",
    "# Margen por Activos positivo.\n",
    "# No suele tener mucha plata en la caja de ahorros.\n",
    "# No son trabajadores.\n",
    "# Posible competencia vs otros bancos ante tasas más favorables?"
   ]
  },
  {
   "cell_type": "markdown",
   "metadata": {},
   "source": [
    "##### d. Clúster 6."
   ]
  },
  {
   "cell_type": "code",
   "execution_count": null,
   "metadata": {},
   "outputs": [],
   "source": [
    "descriptivo_cluster[6]"
   ]
  },
  {
   "cell_type": "code",
   "execution_count": null,
   "metadata": {},
   "outputs": [],
   "source": [
    "# mactivos_margen.\n",
    "#lower_bound = df_analizar['mactivos_margen'].quantile(0.10)\n",
    "#upper_bound = df_analizar['mactivos_margen'].quantile(0.90)\n",
    "\n",
    "#filtered_data = df_analizar[(df_analizar['mactivos_margen'] >= lower_bound) & (df_analizar['mactivos_margen'] <= upper_bound)]\n",
    "sns.boxplot(x='cluster', y='mactivos_margen', data=df_analizar)"
   ]
  },
  {
   "cell_type": "code",
   "execution_count": null,
   "metadata": {},
   "outputs": [],
   "source": [
    "# mrentabilidad.\n",
    "#lower_bound = df_analizar['mactivos_margen'].quantile(0.10)\n",
    "#upper_bound = df_analizar['mactivos_margen'].quantile(0.90)\n",
    "\n",
    "#filtered_data = df_analizar[(df_analizar['mactivos_margen'] >= lower_bound) & (df_analizar['mactivos_margen'] <= upper_bound)]\n",
    "sns.boxplot(x='cluster', y='mrentabilidad', data=df_analizar)"
   ]
  },
  {
   "cell_type": "code",
   "execution_count": 31,
   "metadata": {},
   "outputs": [],
   "source": [
    "# Perfiles muy importantes (resaltarlos) ya que son muy rentables para el banco y manejan grandes volúmenes de activos.\n",
    "# De hecho, dicha rentabilidad, está en aumento (gran consumo de productos financieros).\n",
    "# Lo mismos con el margen por activos (cobro intereses).\n",
    "# Ahora bien, tienen saldo en cuenta negativo, cuenta corriendo negativo,  y los pasivos_margen están cayendo.\n",
    "# La presencia de saldos negativos y la variabilidad en mcuentas_saldo y mcuenta_corriente sugiere que los clientes en el Cluster 6 realizan transacciones de gran volumen, lo que podría ser diferente a la frecuencia alta pero de menor magnitud observada en Cluster 5."
   ]
  },
  {
   "cell_type": "markdown",
   "metadata": {},
   "source": [
    "##### e. Clúster 7."
   ]
  },
  {
   "cell_type": "code",
   "execution_count": null,
   "metadata": {},
   "outputs": [],
   "source": [
    "descriptivo_cluster[7]"
   ]
  },
  {
   "cell_type": "code",
   "execution_count": 34,
   "metadata": {},
   "outputs": [],
   "source": [
    "# Tienen payroll, pero bajo.\n",
    "# Se les cobra muchas comisiones de mantenimiento y otras.\n",
    "# No tienen mucha plata en la caja de ahorro.\n",
    "# No mucho margen por pasivos.\n",
    "# Realizan algunas transacciones.\n",
    "# Cuentas saldo en positivo.\n",
    "# Son más bien gente de alta edad y con mucha antigüedad.\n",
    "\n",
    "# -------------> Comparación con el clúster 4.\n",
    "# Los clientes del Cluster 4 tienen ingresos más altos y, por ende, mayor variedad de productos financieros con mejores condiciones?????. \n",
    "# A estos se les puede ofrecer cuentas premium o productos de inversión personalizados ??????"
   ]
  },
  {
   "cell_type": "markdown",
   "metadata": {},
   "source": [
    "##### f. Clúster 8 vs. Clúster 9 (son parecidos)."
   ]
  },
  {
   "cell_type": "code",
   "execution_count": null,
   "metadata": {},
   "outputs": [],
   "source": [
    "descriptivo_cluster[8]"
   ]
  },
  {
   "cell_type": "code",
   "execution_count": 36,
   "metadata": {},
   "outputs": [],
   "source": [
    "# Son clientes con TC de hace muy poco tiempo (Usan ambas tarjetas, tanto Visa como Mastercard nuevos) ----> Analizar deudas por la TC.\n",
    "# Con saldo total en todas las cuentas negativo (especialmente, en la cuenta corriente) ---> Analizar préstamos, sobregiros. Se puede deber a problemas financieros o simplemente de un uso intensivo de las cuentas corrientes.\n",
    "# Tienen mactivos_margen (intereses), lo cual habla de cobro de intereses.\n",
    "# Les cobran \"comisiones otras\" (por descubierto?) y \"comisiones de mantenimiento\"\n",
    "# mactivos_margen positivo, ya que deben plata al banco por los descubiertos.\n",
    "# Tienen una antiguedad en el banco muy chica (18 meses).\n",
    "# 42 años.\n",
    "\n",
    "# Estos intereses/comisiones se puede deber para el mantenimiento de sus servicios, debido que son clientes nuevos. (servicios ---> Tarjeta de Crédito, Uso de descubierto).\n",
    "# Porque no usan la tarjeta?\n",
    "\n",
    "# -----------> Solución: Bajar los intereses/comisiones por saldos negativos? O son clientes que se fueron haciendo morosos?"
   ]
  },
  {
   "cell_type": "code",
   "execution_count": 37,
   "metadata": {},
   "outputs": [],
   "source": [
    "# cambio de trabajo? comisiones muy altas? consiguio banco con mejores condiciones?"
   ]
  },
  {
   "cell_type": "code",
   "execution_count": null,
   "metadata": {},
   "outputs": [],
   "source": [
    "descriptivo_cluster[9]"
   ]
  },
  {
   "cell_type": "code",
   "execution_count": 39,
   "metadata": {},
   "outputs": [],
   "source": [
    "# También son clientes nuevos (como el clúster 8).\n",
    "# Tienen tarjeta VISA y MASTERCARD hace poco tiempo.\n",
    "# Generan una rentabilidad negativa al banco! (cluster 8 aunque sea genera comisiones) pero rentabilidad anual.\n",
    "# Suelen tener al menos una caja de ahorro y una cuenta corriente.\n",
    "# mpasivos_margen en negativo :O\n",
    "# Posee algo de plata en la caja de ahorro.\n",
    "# mcomisiones_otras en negativo.\n",
    "\n",
    "# ----------------> Ahondar en la diferencia con el clúster 8."
   ]
  },
  {
   "cell_type": "code",
   "execution_count": null,
   "metadata": {},
   "outputs": [],
   "source": [
    "#Perfil de los clientes en riesgo de abandono\n",
    "#Clúster 8:\n",
    "#Perfil: Clientes con una relación moderada con el banco, usando diversos productos financieros (como cuentas y tarjetas), pero con una situación financiera comprometida (saldos negativos y deudas). Están pagando comisiones relativamente altas y pueden estar buscando mejores opciones en otros bancos.\n",
    "#Clúster 9:\n",
    "#Perfil: Clientes recientes, que han abierto productos financieros hace poco tiempo, con una actividad y rentabilidad baja. Estos clientes aún no han consolidado una relación fuerte con el banco, y si no ven mejoras o beneficios claros, podrían decidir abandonar rápidamente."
   ]
  },
  {
   "cell_type": "markdown",
   "metadata": {},
   "source": [
    "##### g. Clúster 10."
   ]
  },
  {
   "cell_type": "code",
   "execution_count": null,
   "metadata": {},
   "outputs": [],
   "source": [
    "descriptivo_cluster[10]"
   ]
  },
  {
   "cell_type": "code",
   "execution_count": null,
   "metadata": {},
   "outputs": [],
   "source": [
    "# Cobra un salario.\n",
    "# Mucha cantidad de mantenimientos, y por ende, monto (en aumento el monto).\n",
    "# Muchas comisiones en general\n",
    "# Tiene muchas cajas de ahorro.\n",
    "# Se le cobran muchas comisiones_otras."
   ]
  },
  {
   "cell_type": "markdown",
   "metadata": {},
   "source": [
    "#### 3. Análisis multivariado."
   ]
  },
  {
   "cell_type": "code",
   "execution_count": 84,
   "metadata": {},
   "outputs": [],
   "source": [
    "# Mantener solo las 10 primeras variables más importantes por cluster\n",
    "top_10_features_per_cluster = set()\n",
    "\n",
    "for cluster, features in important_features_by_cluster.items():\n",
    "    top_10_features_per_cluster.update(features[:10])\n",
    "\n",
    "# Convertimos el set en una lista.\n",
    "top_10_features_list = list(top_10_features_per_cluster)"
   ]
  },
  {
   "cell_type": "code",
   "execution_count": null,
   "metadata": {},
   "outputs": [],
   "source": [
    "# Función para eliminar outliers basada en IQR\n",
    "def remove_outliers(df, column):\n",
    "    Q1 = df[column].quantile(0.25)\n",
    "    Q3 = df[column].quantile(0.75)\n",
    "    IQR = Q3 - Q1\n",
    "    lower_bound = Q1 - 1.5 * IQR\n",
    "    upper_bound = Q3 + 1.5 * IQR\n",
    "    return df[(df[column] >= lower_bound) & (df[column] <= upper_bound)]\n",
    "\n",
    "# Crear boxplots sin outliers para cada una de las variables seleccionadas\n",
    "for feature in top_10_features_list:\n",
    "    df_filtered = remove_outliers(df_analizar, feature)\n",
    "    plt.figure(figsize=(10, 6))\n",
    "    sns.boxplot(x=\"cluster\", y=feature, data=df_filtered)\n",
    "    plt.title(f\"Boxplot de {feature} aperturado por Cluster (sin outliers).\")\n",
    "    plt.show()"
   ]
  },
  {
   "cell_type": "code",
   "execution_count": null,
   "metadata": {},
   "outputs": [],
   "source": [
    "df_analizar.groupby(\"cluster\")[[\"mrentabilidad\"]].agg(['mean', 'std', 'min', 'max', 'median']).reset_index()"
   ]
  }
 ],
 "metadata": {
  "colab": {
   "provenance": []
  },
  "kernelspec": {
   "display_name": "dmeyf",
   "language": "python",
   "name": "python3"
  },
  "language_info": {
   "codemirror_mode": {
    "name": "ipython",
    "version": 3
   },
   "file_extension": ".py",
   "mimetype": "text/x-python",
   "name": "python",
   "nbconvert_exporter": "python",
   "pygments_lexer": "ipython3",
   "version": "3.12.3"
  }
 },
 "nbformat": 4,
 "nbformat_minor": 0
}
