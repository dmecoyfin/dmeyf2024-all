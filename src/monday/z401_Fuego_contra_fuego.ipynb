{
  "cells": [
    {
      "cell_type": "markdown",
      "metadata": {
        "id": "HNoCqM1I5-le"
      },
      "source": [
        "# Fuego contra Fuego\n",
        "\n",
        "> Fuego contra fuego es amar.\n",
        "\n",
        "Ricky Martin"
      ]
    },
    {
      "cell_type": "markdown",
      "metadata": {
        "id": "Q0X0atYk2Bqf"
      },
      "source": [
        "Instalamos, cargamos y seteamos el entorno"
      ]
    },
    {
      "cell_type": "code",
      "execution_count": 20,
      "metadata": {
        "id": "sc7PN8Rw2Xz-"
      },
      "outputs": [],
      "source": [
        "#%pip install scikit-learn==1.3.2\n",
        "#%pip install seaborn==0.13.1\n",
        "#%pip install numpy==1.26.4\n",
        "#%pip install matplotlib==3.7.1\n",
        "#%pip install optuna==3.6.1"
      ]
    },
    {
      "cell_type": "code",
      "execution_count": 21,
      "metadata": {
        "id": "x0IutZ5v4Pn5"
      },
      "outputs": [],
      "source": [
        "import pandas as pd\n",
        "import numpy as np\n",
        "import seaborn as sns\n",
        "import matplotlib.pyplot as plt\n",
        "\n",
        "from sklearn.tree import DecisionTreeClassifier, plot_tree,  _tree\n",
        "from sklearn.model_selection import train_test_split\n",
        "from sklearn.model_selection import ShuffleSplit, StratifiedShuffleSplit\n",
        "from sklearn.ensemble import RandomForestClassifier\n",
        "from sklearn.impute import SimpleImputer\n",
        "\n",
        "from joblib import Parallel, delayed\n",
        "\n",
        "import optuna\n",
        "from optuna.visualization import plot_optimization_history, plot_param_importances, plot_slice, plot_contour\n",
        "\n",
        "from time import time\n",
        "\n",
        "import pickle"
      ]
    },
    {
      "cell_type": "code",
      "execution_count": 22,
      "metadata": {
        "id": "IbyPo4Dk4Mdh"
      },
      "outputs": [],
      "source": [
        "dataset_path = '../../../datasets/'\n",
        "modelos_path = '../../../modelos/'\n",
        "db_path = '../../../db/'\n",
        "dataset_file = 'competencia_01.csv'\n",
        "\n",
        "ganancia_acierto = 273000\n",
        "costo_estimulo = 7000\n",
        "\n",
        "mes_train = 202102\n",
        "mes_test = 202104\n",
        "\n",
        "# agregue sus semillas\n",
        "semillas = [211777, 174989, 131497, 612223, 234803]\n",
        "\n",
        "data = pd.read_csv(dataset_path + dataset_file)"
      ]
    },
    {
      "cell_type": "markdown",
      "metadata": {
        "id": "sZ4tmVzq45TQ"
      },
      "source": [
        "Seguimos trabajando con Febrero como entrenamiento y Abril como test."
      ]
    },
    {
      "cell_type": "code",
      "execution_count": 23,
      "metadata": {
        "id": "UnYMoA1l4jJ3"
      },
      "outputs": [],
      "source": [
        "X = data[data['foto_mes'] == mes_train]\n",
        "y = X['clase_ternaria']\n",
        "X = X.drop(columns=['clase_ternaria'])"
      ]
    },
    {
      "cell_type": "code",
      "execution_count": null,
      "metadata": {
        "id": "CjooaKLHXkko"
      },
      "outputs": [],
      "source": [
        "X_futuro = data[data['foto_mes'] == mes_test]\n",
        "y_futuro = X_futuro['clase_ternaria']\n",
        "X_futuro = X_futuro.drop(columns=['clase_ternaria'])"
      ]
    },
    {
      "cell_type": "markdown",
      "metadata": {
        "id": "FUzMp4eW5BMU"
      },
      "source": [
        "Y variaremos la forma de la función de ganancia, para poder ser utilizada de una forma más genérica."
      ]
    },
    {
      "cell_type": "code",
      "execution_count": 25,
      "metadata": {
        "id": "TWHFFm431krP"
      },
      "outputs": [],
      "source": [
        "def ganancia_prob(y_hat, y, prop=1, class_index=1, threshold=0.025):\n",
        "  @np.vectorize\n",
        "  def ganancia_row(predicted, actual, threshold=0.025):\n",
        "    return  (predicted >= threshold) * (ganancia_acierto if actual == \"BAJA+2\" else -costo_estimulo)\n",
        "\n",
        "  return ganancia_row(y_hat[:,class_index], y).sum() / prop"
      ]
    },
    {
      "cell_type": "markdown",
      "metadata": {
        "id": "xjQM00zh3FtS"
      },
      "source": [
        "Ajustamos los modelos de la clase pasada."
      ]
    },
    {
      "cell_type": "code",
      "execution_count": null,
      "metadata": {
        "colab": {
          "base_uri": "https://localhost:8080/",
          "height": 109
        },
        "id": "t_vb-tye2dw_",
        "outputId": "93f906af-26d5-47bc-aabb-9c3c30c3aeba"
      },
      "outputs": [],
      "source": [
        "param_ale = {'max_depth': 5,\n",
        "             'min_samples_split': 80}\n",
        "\n",
        "param_opt = {'criterion': 'entropy',\n",
        "             'max_depth': 20,\n",
        "             'min_samples_split': 145,\n",
        "             'min_samples_leaf': 14,\n",
        "             'max_leaf_nodes': 13}\n",
        "\n",
        "model_base = DecisionTreeClassifier(random_state=semillas[0])\n",
        "model_ale = DecisionTreeClassifier(random_state=semillas[0], **param_ale)\n",
        "model_opt = DecisionTreeClassifier(random_state=semillas[0], **param_opt)\n",
        "\n",
        "model_base.fit(X, y)\n",
        "model_ale.fit(X, y)\n",
        "model_opt.fit(X, y)"
      ]
    },
    {
      "cell_type": "code",
      "execution_count": null,
      "metadata": {
        "id": "tRv4M8t7tEuG"
      },
      "outputs": [],
      "source": [
        "y_pred_base = model_base.predict_proba(X_futuro)\n",
        "y_pred_ale = model_ale.predict_proba(X_futuro)\n",
        "y_pred_opt = model_opt.predict_proba(X_futuro)"
      ]
    },
    {
      "cell_type": "markdown",
      "metadata": {
        "id": "82XTLehP5pnI"
      },
      "source": [
        "Recordemos la ganancia de cada uno en Abril"
      ]
    },
    {
      "cell_type": "code",
      "execution_count": null,
      "metadata": {
        "colab": {
          "base_uri": "https://localhost:8080/"
        },
        "id": "kwtpzQ9_YwVX",
        "outputId": "85dcc0bc-efce-4d26-8106-08b9d030bd80"
      },
      "outputs": [],
      "source": [
        "print(f\"Ganancia de modelo Base: {ganancia_prob(y_pred_base, y_futuro)}\")\n",
        "print(f\"Ganancia de modelo Ale: {ganancia_prob(y_pred_ale, y_futuro)}\")\n",
        "print(f\"Ganancia de modelo Opt: {ganancia_prob(y_pred_opt, y_futuro)}\")"
      ]
    },
    {
      "cell_type": "markdown",
      "metadata": {
        "id": "bVKR6iHd52oG"
      },
      "source": [
        "Antes de continuar con nuestro camino de estrés y sumeración, analizaremos que tan bien hubieramos elegido un modelo de acuerdo a utilizar un leaderboard público. Primero comparamos el **base** y el **ale**"
      ]
    },
    {
      "cell_type": "code",
      "execution_count": null,
      "metadata": {
        "id": "xPQZ3bUw6nHP"
      },
      "outputs": [],
      "source": [
        "sss_futuro = StratifiedShuffleSplit(n_splits=50,\n",
        "                             test_size=0.3,\n",
        "                             random_state=semillas[0])\n",
        "modelos = {\"base\": y_pred_base, \"ale\": y_pred_ale}\n",
        "rows = []\n",
        "for private_index, public_index in sss_futuro.split(X_futuro, y_futuro):\n",
        "  row = {}\n",
        "  for name, y_pred in modelos.items():\n",
        "    row[name + \"_private\"] = ganancia_prob(y_pred[private_index], y_futuro.iloc[private_index], 0.7)\n",
        "    row[name + \"_public\"] = ganancia_prob(y_pred[public_index], y_futuro.iloc[public_index], 0.3)\n",
        "  rows.append(row)\n",
        "df_lb = pd.DataFrame(rows)"
      ]
    },
    {
      "cell_type": "markdown",
      "metadata": {
        "id": "n1UBiW0v7k2u"
      },
      "source": [
        "Una forma de ver si una distribución es distinta a otra es usar el test de wilcoxon. Este test se usa para determinar si hay una diferencia significativa en las medianas de dos muestras dependientes.\n",
        "\n",
        "Lo vamos a aplicar sobre nuestro simulado leaderboard público con la esperanza que nos ayude a eligir cual de los dos es mejor, para esa muestra.\n",
        "\n",
        "(Recuerde, no se esta aplicando al Leaderboard público real. Técnicamente estamos aplicandolo a un out of time sample)"
      ]
    },
    {
      "cell_type": "code",
      "execution_count": null,
      "metadata": {
        "colab": {
          "base_uri": "https://localhost:8080/"
        },
        "id": "aHaNM7gI7J80",
        "outputId": "400abcc3-6eba-4e97-e91d-26eacdbd1fe0"
      },
      "outputs": [],
      "source": [
        "from scipy.stats import wilcoxon\n",
        "\n",
        "diff_public = df_lb['base_public'] - df_lb['ale_public']\n",
        "_, p_value = wilcoxon(diff_public)\n",
        "\n",
        "print(f\"p-value: {p_value}\")"
      ]
    },
    {
      "cell_type": "markdown",
      "metadata": {
        "id": "IvcEILhV8owt"
      },
      "source": [
        "Espero que sus recuerdos traumaticos de estadísticas le ayuden a leer que la prueba plantea que ambas distribuciones son lo diferentes, y **ale** es mayor.\n",
        "\n",
        "Veremos con el privado que tan bien nos hubiera ido."
      ]
    },
    {
      "cell_type": "code",
      "execution_count": null,
      "metadata": {
        "id": "UMIrb6GnsQp_"
      },
      "outputs": [],
      "source": [
        "df = pd.DataFrame()\n",
        "\n",
        "df['best_public'] = df_lb.filter(regex='_public').idxmax(axis=1)\n",
        "df['best_private'] = df_lb.filter(regex='_private').idxmax(axis=1)"
      ]
    },
    {
      "cell_type": "code",
      "execution_count": null,
      "metadata": {
        "colab": {
          "base_uri": "https://localhost:8080/",
          "height": 143
        },
        "id": "W15p4Vk-60Bz",
        "outputId": "0ca0a0a1-3d29-4195-a553-075c1ff6e1fe"
      },
      "outputs": [],
      "source": [
        "pd.crosstab(df['best_public'], df['best_private'])"
      ]
    },
    {
      "cell_type": "markdown",
      "metadata": {
        "id": "t4xo7BGp-ryv"
      },
      "source": [
        "Sus opiniones. Volvemos al panic de la clase pasada, no? Vamos a agregar el modelo optimizado a la comparación"
      ]
    },
    {
      "cell_type": "code",
      "execution_count": null,
      "metadata": {
        "id": "QXXXtCDO-CUX"
      },
      "outputs": [],
      "source": [
        "sss_futuro = StratifiedShuffleSplit(n_splits=50,\n",
        "                             test_size=0.3,\n",
        "                             random_state=semillas[0])\n",
        "modelos = {\"opt\":y_pred_opt}\n",
        "rows = []\n",
        "for private_index, public_index in sss_futuro.split(X_futuro, y_futuro):\n",
        "  row = {}\n",
        "  for name, y_pred in modelos.items():\n",
        "    row[name + \"_private\"] = ganancia_prob(y_pred[private_index], y_futuro.iloc[private_index], 0.7)\n",
        "    row[name + \"_public\"] = ganancia_prob(y_pred[public_index], y_futuro.iloc[public_index], 0.3)\n",
        "  rows.append(row)\n",
        "df_temp = pd.DataFrame(rows)\n",
        "df_lb = pd.concat([df_lb, df_temp], axis=1)"
      ]
    },
    {
      "cell_type": "code",
      "execution_count": null,
      "metadata": {
        "colab": {
          "base_uri": "https://localhost:8080/",
          "height": 175
        },
        "id": "9BXPMzfzvWvE",
        "outputId": "01d4c154-f0a5-4695-a1d7-a4e13e89e114"
      },
      "outputs": [],
      "source": [
        "df['best_public'] = df_lb.filter(regex='_public').idxmax(axis=1)\n",
        "df['best_private'] = df_lb.filter(regex='_private').idxmax(axis=1)\n",
        "\n",
        "pd.crosstab(df['best_public'], df['best_private'])\n"
      ]
    },
    {
      "cell_type": "markdown",
      "metadata": {
        "id": "BSb930s_BBcm"
      },
      "source": [
        "Sus reflexiones.\n",
        "\n",
        "---\n",
        ".\n",
        "\n",
        ".\n",
        "\n",
        ".\n",
        "\n",
        ".\n",
        "\n",
        ".\n",
        "\n",
        ".\n",
        "\n",
        "---\n",
        "\n",
        "Creo que necesitamos algo superador. Para eso nos abrazaremos al problema, todo el daño que produce el azar, será la luz que resuelva nuestro problema.\n",
        "\n",
        "Primero hablamos de ensemables, qué son?\n",
        "\n",
        "* Un ensemble de modelos es una técnica donde se combinan múltiples modelos individuales para mejorar la precisión y robustez de las predicciones. La idea es que al combinar varios modelos, se pueden aprovechar las fortalezas de cada uno y reducir la posibilidad de errores que podría cometer un único modelo.\n",
        "\n",
        "* **Tipos de ensemble**:\n",
        " * **Bagging (Bootstrap Aggregating)**: Consiste en entrenar varios modelos base en diferentes subconjuntos del conjunto de datos de entrenamiento obtenidos mediante técnicas de remuestreo como el bootstrap y luego promediar sus predicciones. Ejemplo: **Random Forest**\n",
        " * **Boosting**: En esta técnica, los modelos se entrenan de manera secuencial. Cada modelo intenta corregir los errores cometidos por el modelo anterior. Ejemplo: AdaBoost y **Gradient Boosting**.\n",
        " * **Stacking**: En el stacking, se entrenan varios modelos y se combinan usando un \"modelo meta\". Las predicciones de los modelos base sirven como features para entrenar este modelo meta, que produce la predicción final.\n",
        "\n",
        "* **Ventajas de usar ensemble de modelos**:\n",
        " * **Mejor rendimiento**: Al combinar modelos, generalmente se mejora la precisión en comparación con un solo modelo.\n",
        " * **Robustez**: Al integrar diferentes modelos, se mitiga el riesgo de que los errores de un modelo individual afecten gravemente la predicción final.\n",
        "\n",
        "\n"
      ]
    },
    {
      "cell_type": "markdown",
      "metadata": {
        "id": "V8LGmmP7Cr33"
      },
      "source": [
        "Pongamos foco en el **Random Forest**\n",
        "\n",
        "Es un algoritmo de aprendizaje automático que funciona creando un conjunto de árboles de decisión. Para la creación de **árboles distintos** utiliza una técnica llamada bagging para crear múltiples subconjuntos del conjunto de datos de entrenamiento. Cada subconjunto se genera seleccionando al azar muestras del conjunto de datos original con reemplazo. No usa la totalidad de los datos de entrenamiento para cada conjunto. Los datos que quedan fueran son conocidos como **Out of Bag (oob)**\n",
        "\n",
        "Para cada subconjunto, se construye un árbol de decisión. Sin embargo en cada nodo del árbol, **Random Forest** selecciona de forma aleatoria un grupo de variables y ajusta el árbol con esas variables. Este proceso ayuda a crear árboles que son menos correlacionados entre sí.\n",
        "\n",
        "Cada árbol en el bosque se entrena de manera independiente usando su respectivo subconjunto de datos. Lueago, para una nueva observación, cada árbol realiza una predicción. El Random Forest luego combina las predicciones de todos los árboles para hacer una predicción final, devolviendo el promedio de las probabilidades de cada árbol individual.\n",
        "\n"
      ]
    },
    {
      "cell_type": "markdown",
      "metadata": {
        "id": "aCz2C0wWEA0y"
      },
      "source": [
        "Como desde la clase pasada solo personas más inteligentes, no vamos a empezar a probar **Random Forest** simples. Vamos a parametrizarlo desde el vamos.\n",
        "\n",
        "Primero vamos a entender algunas limitaciones de la implementación:\n",
        "\n",
        "El **Random Forest** no soporta nulos! Shame on you sklearn!.\n",
        "\n",
        "Vamos a tener que imputar los datos. Discutamos entre todos forma de imputar los datos, mientras para salir del paso usamos la peor de todas."
      ]
    },
    {
      "cell_type": "code",
      "execution_count": null,
      "metadata": {
        "id": "Ge2QADE-ZYiA"
      },
      "outputs": [],
      "source": [
        "imp_mean = SimpleImputer(missing_values=np.nan, strategy='mean')\n",
        "Xi = imp_mean.fit_transform(X)"
      ]
    },
    {
      "cell_type": "markdown",
      "metadata": {
        "id": "3Qt-gCWzHJqk"
      },
      "source": [
        "Los parámetros que se pueden ajustar en el **rf** son\n",
        "\n",
        "1. **n_estimators**: Número de árboles en el bosque.\n",
        "2. **max_depth**: Profundidad máxima de los árboles.\n",
        "3. **min_samples_split**: Número mínimo de muestras requeridas para dividir un nodo interno.\n",
        "4. **min_samples_leaf**: Número mínimo de muestras requeridas para estar en un nodo hoja.\n",
        "5. **max_features**: Número de features a usar en cada árbol. **sqrt** es una elección histórica.\n",
        "6. **max_leaf_nodes**: Número máximo de nodos hoja en cada árbol.\n",
        "7. **oob_score**: Indica si se usa la muestra fuera de bolsa (out-of-bag) para estimar la calidad del modelo. Para evitar hacer un **montecarlo-cross-validation** que se toma su tiempo, usaremos esta opción para buscar el mejor modelo. No es la mejor opción. Pero no es tan mala.\n",
        "8. **n_jobs**: Siempre -1, para que use todos los cores presentes en \n",
        "9. **max_samples**: Fracción de los samples.\n",
        "\n",
        "Finalmente nuestra función de optimización queda la siguiente forma:"
      ]
    },
    {
      "cell_type": "code",
      "execution_count": null,
      "metadata": {
        "colab": {
          "base_uri": "https://localhost:8080/"
        },
        "id": "uxpOCJhSBVfR",
        "outputId": "ec435c23-b9cc-4b19-fa7e-c81441803a52"
      },
      "outputs": [],
      "source": [
        "def objective(trial):\n",
        "    max_depth = trial.suggest_int('max_depth', 2, 32)\n",
        "    min_samples_split = trial.suggest_int('min_samples_split', 2, 2000)\n",
        "    min_samples_leaf = trial.suggest_int('min_samples_leaf', 1, 200)\n",
        "    max_features = trial.suggest_float('max_features', 0.05, 0.7)\n",
        "\n",
        "    model = RandomForestClassifier(\n",
        "        n_estimators=100,\n",
        "        max_depth=max_depth,\n",
        "        min_samples_split=min_samples_split,\n",
        "        min_samples_leaf=min_samples_leaf,\n",
        "        max_features=max_features,\n",
        "        max_samples=0.7,\n",
        "        random_state=semillas[0],\n",
        "        n_jobs=-1,\n",
        "        oob_score=True\n",
        "    )\n",
        "\n",
        "    model.fit(Xi, y)\n",
        "\n",
        "    return ganancia_prob(model.oob_decision_function_, y)\n",
        "\n",
        "storage_name = \"sqlite:///\" + db_path + \"optimization_tree.db\"\n",
        "study_name = \"exp_206_random-forest-opt\"\n",
        "\n",
        "study = optuna.create_study(\n",
        "    direction=\"maximize\",\n",
        "    study_name=study_name,\n",
        "    storage=storage_name,\n",
        "    load_if_exists=True,\n",
        ")"
      ]
    },
    {
      "cell_type": "code",
      "execution_count": null,
      "metadata": {
        "colab": {
          "base_uri": "https://localhost:8080/"
        },
        "id": "v42RWy_rGLOb",
        "outputId": "ba181b33-7318-4651-8b77-f5887c03bfbc"
      },
      "outputs": [],
      "source": [
        "study.optimize(objective, n_trials=100)"
      ]
    },
    {
      "cell_type": "markdown",
      "metadata": {
        "id": "U3EbXtH5LSKg"
      },
      "source": [
        "Exploramos como fue la búsqueda de parámetros"
      ]
    },
    {
      "cell_type": "code",
      "execution_count": null,
      "metadata": {
        "colab": {
          "base_uri": "https://localhost:8080/",
          "height": 542
        },
        "id": "wJ9-4XqG64AD",
        "outputId": "850ec7a3-343a-4f6f-dda3-bdb113a9a60d"
      },
      "outputs": [],
      "source": [
        "optuna.visualization.plot_optimization_history(study)"
      ]
    },
    {
      "cell_type": "code",
      "execution_count": null,
      "metadata": {
        "colab": {
          "base_uri": "https://localhost:8080/",
          "height": 542
        },
        "id": "C4o1mz-b53_Q",
        "outputId": "f1fae43f-99e1-4c72-f883-59182eb9db39"
      },
      "outputs": [],
      "source": [
        "plot_param_importances(study)"
      ]
    },
    {
      "cell_type": "code",
      "execution_count": null,
      "metadata": {
        "colab": {
          "base_uri": "https://localhost:8080/",
          "height": 562
        },
        "id": "XhcFEzRB62J2",
        "outputId": "a20a67d6-926e-4397-d2ba-059027ced680"
      },
      "outputs": [],
      "source": [
        "plot_slice(study)"
      ]
    },
    {
      "cell_type": "code",
      "execution_count": null,
      "metadata": {
        "colab": {
          "base_uri": "https://localhost:8080/",
          "height": 542
        },
        "id": "ZXGkSPR46pzy",
        "outputId": "6a3f3cf3-1d45-419b-be8b-db1564339997"
      },
      "outputs": [],
      "source": [
        "plot_contour(study)"
      ]
    },
    {
      "cell_type": "code",
      "execution_count": null,
      "metadata": {
        "colab": {
          "base_uri": "https://localhost:8080/",
          "height": 542
        },
        "id": "KIu_VjPn-LrW",
        "outputId": "c27be5e1-513e-4de5-95bc-fd58d57a5d47"
      },
      "outputs": [],
      "source": [
        "plot_contour(study, params=[\"max_depth\", \"min_samples_split\"])"
      ]
    },
    {
      "cell_type": "markdown",
      "metadata": {
        "id": "mby34hbrK7y7"
      },
      "source": [
        "Ajustamos el mejor modelo"
      ]
    },
    {
      "cell_type": "code",
      "execution_count": null,
      "metadata": {
        "id": "ExNBUAIFIjdW"
      },
      "outputs": [],
      "source": [
        "model_rf = RandomForestClassifier(\n",
        "        n_estimators=100,\n",
        "        **study.best_params,\n",
        "        max_samples=0.7,\n",
        "        random_state=semillas[0],\n",
        "        n_jobs=-1,\n",
        "        oob_score=True\n",
        "    )\n",
        "\n",
        "model_rf.fit(Xi, y)\n"
      ]
    },
    {
      "cell_type": "markdown",
      "metadata": {
        "id": "dcM_E4HGJpOG"
      },
      "source": [
        "Guardamos el modelo, para no tener que optimizar cada vez que lo queramos usar."
      ]
    },
    {
      "cell_type": "code",
      "execution_count": null,
      "metadata": {
        "id": "wsbiVkfvttKz"
      },
      "outputs": [],
      "source": [
        "filename = modelos_path + 'exp_206_random_forest_model_100.sav'\n",
        "pickle.dump(model_rf, open(filename, 'wb'))"
      ]
    },
    {
      "cell_type": "markdown",
      "metadata": {
        "id": "csG99V1TMLMx"
      },
      "source": [
        "Y lo cargamos para utilizarlo"
      ]
    },
    {
      "cell_type": "code",
      "execution_count": null,
      "metadata": {
        "colab": {
          "base_uri": "https://localhost:8080/",
          "height": 109
        },
        "id": "iKN3AQGyMU5o",
        "outputId": "565c278a-8fb9-4645-b627-97bc99e9ece2"
      },
      "outputs": [],
      "source": [
        "model_rf = pickle.load(open(filename, 'rb'))\n",
        "model_rf"
      ]
    },
    {
      "cell_type": "markdown",
      "metadata": {
        "id": "XKKLgLIOMfTX"
      },
      "source": [
        "Ahora vamos medir su ganancia sobre el dataset de **abril**"
      ]
    },
    {
      "cell_type": "code",
      "execution_count": null,
      "metadata": {
        "colab": {
          "base_uri": "https://localhost:8080/"
        },
        "id": "5fB9TXuWcrXH",
        "outputId": "234d003e-25f7-4f59-c3fe-3e8a9647e078"
      },
      "outputs": [],
      "source": [
        "y_pred_rf = model_rf.predict_proba(Xif)\n",
        "ganancias_rf = ganancia_prob(y_pred_rf, y_futuro)\n",
        "print(f\"Ganancia de modelo RF: {ganancias_rf}\")"
      ]
    },
    {
      "cell_type": "markdown",
      "metadata": {
        "id": "46jjCmNsNBM8"
      },
      "source": [
        "What!? Qué paso? que son esos números???\n",
        "\n",
        "Algo malo que hicimos, es usar poquitos estimadores. Tan solo unos 100. Suficientes como para que la optimización no tarde una eternidad, pero es muy poco. Deberíamos sumar unos cuantos más."
      ]
    },
    {
      "cell_type": "code",
      "execution_count": null,
      "metadata": {
        "colab": {
          "base_uri": "https://localhost:8080/",
          "height": 126
        },
        "id": "qz2um7ceNVV-",
        "outputId": "1b8bcffd-27c6-4eeb-a80e-2ee167a05fba"
      },
      "outputs": [],
      "source": [
        "model_rf_1000 = RandomForestClassifier(\n",
        "        n_estimators=1000,\n",
        "        **study.best_params,\n",
        "        max_samples=0.7,\n",
        "        random_state=semillas[0],\n",
        "        n_jobs=-1,\n",
        "        oob_score=True\n",
        "    )\n",
        "\n",
        "model_rf_1000.fit(Xi, y)\n",
        "\n",
        "filename_rf_1000 = modelos_path + 'exp_206_random_forest_model_1000.sav'\n",
        "pickle.dump(model_rf, open(filename_rf_1000, 'wb'))\n",
        "\n",
        "model_rf_1000 = pickle.load(open(filename_rf_1000, 'rb'))\n",
        "model_rf_1000"
      ]
    },
    {
      "cell_type": "markdown",
      "metadata": {
        "id": "8H5zjt94Nnh-"
      },
      "source": [
        "Veamos si sumar 10 veces más estimadores tuvo algún efecto"
      ]
    },
    {
      "cell_type": "code",
      "execution_count": null,
      "metadata": {
        "colab": {
          "base_uri": "https://localhost:8080/"
        },
        "id": "GQ-v-6kdqVP0",
        "outputId": "474a11fb-ab67-4d31-a713-f0707ba187c2"
      },
      "outputs": [],
      "source": [
        "y_pred_rf = model_rf_1000.predict_proba(Xif)\n",
        "ganancias_rf = ganancia_prob(y_pred_rf, y_futuro)\n",
        "print(f\"Ganancia de modelo RF 1000: {ganancias_rf}\")"
      ]
    },
    {
      "cell_type": "markdown",
      "metadata": {
        "id": "UqpngFlKN7KW"
      },
      "source": [
        "Mejoró! Cada peso vale.\n",
        "\n",
        "Sin embargo, es este modelo tan superior o será ese número lindo.\n",
        "\n",
        "Calculemos su impacto en los leaderboard"
      ]
    },
    {
      "cell_type": "code",
      "execution_count": null,
      "metadata": {
        "id": "X1mh6X-UPPnK"
      },
      "outputs": [],
      "source": [
        "sss_futuro = StratifiedShuffleSplit(n_splits=50,\n",
        "                             test_size=0.3,\n",
        "                             random_state=semillas[0])\n",
        "modelos = {\"rf\":y_pred_rf}\n",
        "rows = []\n",
        "for private_index, public_index in sss_futuro.split(X_futuro, y_futuro):\n",
        "  row = {}\n",
        "  for name, y_pred in modelos.items():\n",
        "    row[name + \"_private\"] = ganancia_prob(y_pred[private_index], y_futuro.iloc[private_index], 0.7)\n",
        "    row[name + \"_public\"] = ganancia_prob(y_pred[public_index], y_futuro.iloc[public_index], 0.3)\n",
        "  rows.append(row)\n",
        "df_temp = pd.DataFrame(rows)\n",
        "df_lb = pd.concat([df_lb, df_temp], axis=1)"
      ]
    },
    {
      "cell_type": "code",
      "execution_count": null,
      "metadata": {
        "colab": {
          "base_uri": "https://localhost:8080/",
          "height": 112
        },
        "id": "7yidoVzkPSbC",
        "outputId": "eddac019-57b8-4e5a-d4ae-628d4a645e6a"
      },
      "outputs": [],
      "source": [
        "df = pd.DataFrame()\n",
        "df['best_public'] = df_lb.filter(regex='_public').idxmax(axis=1)\n",
        "df['best_private'] = df_lb.filter(regex='_private').idxmax(axis=1)\n",
        "\n",
        "pd.crosstab(df['best_public'], df['best_private'])"
      ]
    },
    {
      "cell_type": "markdown",
      "metadata": {
        "id": "hzAIAXUFP0gK"
      },
      "source": [
        "Vaya! es lo que buscabamos, un modelo del que estar seguros. Podrémos ver esto en los histogramas?"
      ]
    },
    {
      "cell_type": "code",
      "execution_count": null,
      "metadata": {
        "id": "YXpNgTYRQBCI"
      },
      "outputs": [],
      "source": [
        "df_lb_long = df_lb.reset_index()\n",
        "df_lb_long = df_lb_long.melt(id_vars=['index'], var_name='model_type', value_name='ganancia')\n",
        "df_lb_long[['modelo', 'tipo']] = df_lb_long['model_type'].str.split('_', expand=True)\n",
        "df_lb_long = df_lb_long[['ganancia', 'tipo', 'modelo']]"
      ]
    },
    {
      "cell_type": "code",
      "execution_count": null,
      "metadata": {
        "colab": {
          "base_uri": "https://localhost:8080/",
          "height": 1000
        },
        "id": "7-QnDP-9QV34",
        "outputId": "a2aaf59d-7939-4fba-bcca-3f0725bdb381"
      },
      "outputs": [],
      "source": [
        "g = sns.FacetGrid(df_lb_long, col=\"tipo\", row=\"modelo\", aspect=2)\n",
        "g.map(sns.histplot, \"ganancia\", kde=True)\n",
        "plt.show()"
      ]
    },
    {
      "cell_type": "markdown",
      "metadata": {
        "id": "RjuPtCOdRh31"
      },
      "source": [
        "Por último evaluamos cuales son las variables más importantes del modelo. ¿Habrá influido la imputación?"
      ]
    },
    {
      "cell_type": "code",
      "execution_count": null,
      "metadata": {
        "colab": {
          "base_uri": "https://localhost:8080/",
          "height": 833
        },
        "id": "3_uHQFFPRXKj",
        "outputId": "b82ea343-4c46-451a-9cc7-75def2812970"
      },
      "outputs": [],
      "source": [
        "importances = model_rf.feature_importances_\n",
        "\n",
        "features = X.columns\n",
        "feat_importances = pd.DataFrame({'feature': features, 'importance': importances})\n",
        "feat_importances = feat_importances.sort_values('importance', ascending=False)\n",
        "\n",
        "feat_importances.head(25)"
      ]
    },
    {
      "cell_type": "markdown",
      "metadata": {
        "id": "Gk_3Fuly0vmI"
      },
      "source": [
        "Felicitaciones! ahora sabe como superar un **árbol de decisión**.\n",
        "\n",
        "Pregunta:\n",
        "* **¿Cómo sabe que un random forest es superior a otro?**\n",
        "* **¿Cómo supera el random forest presentado?**\n",
        "\n",
        "## Tarea:\n",
        "\n",
        "* Envíe a modelo de **rf** a Kaggle\n",
        "* Mejore la parametrización del **rf**\n",
        "* Juegue un poco:\n",
        " * Borre la variable más importante y mida el **rf**.\n",
        " * Agregue variables 100% aleatorias. ¿Salen dentro de las variables más importante?\n",
        " * No probamos en **rf** en el mismo dataset de entrenamiento. ¿Se puede decir que sobre ajusta?"
      ]
    },
    {
      "cell_type": "markdown",
      "metadata": {},
      "source": [
        "#### 1. Comienzo."
      ]
    },
    {
      "cell_type": "code",
      "execution_count": 1,
      "metadata": {},
      "outputs": [
        {
          "name": "stderr",
          "output_type": "stream",
          "text": [
            "c:\\Users\\c678456\\AppData\\Local\\anaconda3\\envs\\dmeyf\\Lib\\site-packages\\tqdm\\auto.py:21: TqdmWarning: IProgress not found. Please update jupyter and ipywidgets. See https://ipywidgets.readthedocs.io/en/stable/user_install.html\n",
            "  from .autonotebook import tqdm as notebook_tqdm\n"
          ]
        }
      ],
      "source": [
        "#a. Librerías.\n",
        "import pandas as pd\n",
        "import numpy as np\n",
        "import seaborn as sns\n",
        "import matplotlib.pyplot as plt\n",
        "\n",
        "from sklearn.tree import DecisionTreeClassifier, plot_tree,  _tree\n",
        "from sklearn.model_selection import train_test_split\n",
        "from sklearn.model_selection import ShuffleSplit, StratifiedShuffleSplit\n",
        "from sklearn.ensemble import RandomForestClassifier\n",
        "from sklearn.impute import SimpleImputer\n",
        "\n",
        "from joblib import Parallel, delayed\n",
        "\n",
        "import optuna\n",
        "from optuna.visualization import plot_optimization_history, plot_param_importances, plot_slice, plot_contour\n",
        "\n",
        "from time import time\n",
        "\n",
        "import pickle"
      ]
    },
    {
      "cell_type": "code",
      "execution_count": 2,
      "metadata": {},
      "outputs": [],
      "source": [
        "#b. Constantes.\n",
        "mes_train = [202101,202102,202103,202104]\n",
        "mes_test = 202106\n",
        "\n",
        "dataset_path = '../../../datasets/'\n",
        "modelos_path = '../../../modelos/'\n",
        "db_path = '../../../db/'\n",
        "dataset_file = 'competencia_01.csv'\n",
        "\n",
        "ganancia_acierto = 273000\n",
        "costo_estimulo = 7000\n",
        "\n",
        "semillas = [211777, 174989, 131497, 612223, 234803]"
      ]
    },
    {
      "cell_type": "code",
      "execution_count": 3,
      "metadata": {},
      "outputs": [],
      "source": [
        "#c. Lectura.\n",
        "data = pd.read_csv(dataset_path + dataset_file)"
      ]
    },
    {
      "cell_type": "code",
      "execution_count": 4,
      "metadata": {},
      "outputs": [],
      "source": [
        "#d. Función de ganancia.\n",
        "def ganancia_prob(y_hat, y, prop=1, class_index=1, threshold=0.025):\n",
        "  @np.vectorize\n",
        "  def ganancia_row(predicted, actual, threshold=0.025):\n",
        "    return  (predicted >= threshold) * (ganancia_acierto if actual == \"BAJA+2\" else -costo_estimulo)\n",
        "\n",
        "  return ganancia_row(y_hat[:,class_index], y).sum() / prop"
      ]
    },
    {
      "cell_type": "code",
      "execution_count": 5,
      "metadata": {},
      "outputs": [],
      "source": [
        "#e. Separo entre Train y Test.\n",
        "#i. Configuro Train.\n",
        "X = data[data['foto_mes'].isin(mes_train)]\n",
        "y = X['clase_ternaria']\n",
        "X = X.drop(columns=['clase_ternaria'])\n",
        "#ii. Configuro Test.\n",
        "X_futuro = data[data['foto_mes'] == (mes_test)]\n",
        "y_futuro = X_futuro['clase_ternaria']\n",
        "X_futuro = X_futuro.drop(columns=['clase_ternaria'])"
      ]
    },
    {
      "cell_type": "markdown",
      "metadata": {},
      "source": [
        "#### 2. Entrenamiento de Random Forest imputando los nulos con .mean()"
      ]
    },
    {
      "cell_type": "code",
      "execution_count": 6,
      "metadata": {},
      "outputs": [],
      "source": [
        "#a. Imputo con la Media.\n",
        "imp_mean = SimpleImputer(missing_values=np.nan, strategy='mean')\n",
        "Xi = imp_mean.fit_transform(X)\n",
        "Xif = imp_mean.fit_transform(X_futuro)"
      ]
    },
    {
      "cell_type": "code",
      "execution_count": 7,
      "metadata": {},
      "outputs": [
        {
          "name": "stderr",
          "output_type": "stream",
          "text": [
            "[I 2024-09-08 13:56:52,308] Using an existing study with name 'exp_206_random-forest-opt' instead of creating a new one.\n"
          ]
        }
      ],
      "source": [
        "#b. Defino la función para la búsqueda de los hiperparámetros.\n",
        "def objective(trial):\n",
        "    max_depth = trial.suggest_int('max_depth', 2, 45)\n",
        "    min_samples_split = trial.suggest_int('min_samples_split', 2, 2000)\n",
        "    min_samples_leaf = trial.suggest_int('min_samples_leaf', 1, 200)\n",
        "    max_features = trial.suggest_float('max_features', 0.05, 0.8)\n",
        "\n",
        "    model = RandomForestClassifier(\n",
        "        n_estimators=100,\n",
        "        max_depth=max_depth,\n",
        "        min_samples_split=min_samples_split,\n",
        "        min_samples_leaf=min_samples_leaf,\n",
        "        max_features=max_features,\n",
        "        max_samples=0.7,\n",
        "        random_state=semillas[0],\n",
        "        n_jobs=-1,\n",
        "        oob_score=True \n",
        "    )\n",
        "\n",
        "    model.fit(Xi, y)\n",
        "\n",
        "    return ganancia_prob(model.oob_decision_function_, y) # Para evaluar el modelo, en vez de dividir entre Train y Test 5 veces y promediarlos, usa los \"Datos fuera de la Bolsa\" (OBB).\n",
        "\n",
        "storage_name = \"sqlite:///\" + db_path + \"optimization_tree.db\"\n",
        "study_name = \"exp_206_random-forest-opt\"\n",
        "\n",
        "study = optuna.create_study(\n",
        "    direction=\"maximize\",\n",
        "    study_name=study_name,\n",
        "    storage=storage_name,\n",
        "    load_if_exists=True,\n",
        ")"
      ]
    },
    {
      "cell_type": "code",
      "execution_count": 8,
      "metadata": {},
      "outputs": [
        {
          "name": "stderr",
          "output_type": "stream",
          "text": [
            "[I 2024-09-08 14:05:22,822] Trial 87 finished with value: 412503000.0 and parameters: {'max_depth': 20, 'min_samples_split': 112, 'min_samples_leaf': 20, 'max_features': 0.32534536942321757}. Best is trial 44 with value: 419447000.0.\n",
            "[I 2024-09-08 14:24:32,315] Trial 88 finished with value: 416535000.0 and parameters: {'max_depth': 17, 'min_samples_split': 58, 'min_samples_leaf': 54, 'max_features': 0.3442602569670227}. Best is trial 44 with value: 419447000.0.\n",
            "[I 2024-09-08 14:34:42,749] Trial 89 finished with value: 415359000.0 and parameters: {'max_depth': 17, 'min_samples_split': 49, 'min_samples_leaf': 41, 'max_features': 0.3421864396466471}. Best is trial 44 with value: 419447000.0.\n",
            "[I 2024-09-08 14:41:34,067] Trial 90 finished with value: 410921000.0 and parameters: {'max_depth': 13, 'min_samples_split': 246, 'min_samples_leaf': 52, 'max_features': 0.29045443232756607}. Best is trial 44 with value: 419447000.0.\n",
            "[I 2024-09-08 14:53:16,652] Trial 91 finished with value: 418509000.0 and parameters: {'max_depth': 20, 'min_samples_split': 135, 'min_samples_leaf': 54, 'max_features': 0.3724590355516966}. Best is trial 44 with value: 419447000.0.\n",
            "[I 2024-09-08 15:00:29,153] Trial 92 finished with value: 401331000.0 and parameters: {'max_depth': 10, 'min_samples_split': 126, 'min_samples_leaf': 60, 'max_features': 0.39455555855175434}. Best is trial 44 with value: 419447000.0.\n",
            "[I 2024-09-08 15:09:42,515] Trial 93 finished with value: 409962000.0 and parameters: {'max_depth': 15, 'min_samples_split': 206, 'min_samples_leaf': 107, 'max_features': 0.3711288034132697}. Best is trial 44 with value: 419447000.0.\n",
            "[I 2024-09-08 15:18:55,120] Trial 94 finished with value: 411194000.0 and parameters: {'max_depth': 20, 'min_samples_split': 315, 'min_samples_leaf': 54, 'max_features': 0.29721675129873504}. Best is trial 44 with value: 419447000.0.\n",
            "[I 2024-09-08 15:31:16,322] Trial 95 finished with value: 409241000.0 and parameters: {'max_depth': 18, 'min_samples_split': 14, 'min_samples_leaf': 81, 'max_features': 0.43076844778335693}. Best is trial 44 with value: 419447000.0.\n",
            "[I 2024-09-08 15:46:39,219] Trial 96 finished with value: 412055000.0 and parameters: {'max_depth': 21, 'min_samples_split': 119, 'min_samples_leaf': 31, 'max_features': 0.4579236510315892}. Best is trial 44 with value: 419447000.0.\n",
            "[I 2024-09-08 15:57:19,341] Trial 97 finished with value: 404929000.0 and parameters: {'max_depth': 19, 'min_samples_split': 386, 'min_samples_leaf': 42, 'max_features': 0.3471021682108887}. Best is trial 44 with value: 419447000.0.\n",
            "[I 2024-09-08 16:10:30,818] Trial 98 finished with value: 421330000.0 and parameters: {'max_depth': 23, 'min_samples_split': 52, 'min_samples_leaf': 47, 'max_features': 0.40060455200913236}. Best is trial 98 with value: 421330000.0.\n",
            "[I 2024-09-08 16:20:08,972] Trial 99 finished with value: 403781000.0 and parameters: {'max_depth': 22, 'min_samples_split': 196, 'min_samples_leaf': 165, 'max_features': 0.4050285013938234}. Best is trial 98 with value: 421330000.0.\n",
            "[I 2024-09-08 16:22:46,699] Trial 100 finished with value: 359527000.0 and parameters: {'max_depth': 5, 'min_samples_split': 820, 'min_samples_leaf': 34, 'max_features': 0.3268738460934125}. Best is trial 98 with value: 421330000.0.\n",
            "[I 2024-09-08 16:29:14,171] Trial 101 finished with value: 411509000.0 and parameters: {'max_depth': 17, 'min_samples_split': 43, 'min_samples_leaf': 43, 'max_features': 0.36263527190446443}. Best is trial 98 with value: 421330000.0.\n",
            "[I 2024-09-08 16:35:58,288] Trial 102 finished with value: 416451000.0 and parameters: {'max_depth': 23, 'min_samples_split': 90, 'min_samples_leaf': 73, 'max_features': 0.3047902379791476}. Best is trial 98 with value: 421330000.0.\n",
            "[I 2024-09-08 16:44:37,766] Trial 103 finished with value: 417550000.0 and parameters: {'max_depth': 21, 'min_samples_split': 135, 'min_samples_leaf': 58, 'max_features': 0.386131324804289}. Best is trial 98 with value: 421330000.0.\n",
            "[I 2024-09-08 16:55:02,339] Trial 104 finished with value: 414988000.0 and parameters: {'max_depth': 21, 'min_samples_split': 246, 'min_samples_leaf': 63, 'max_features': 0.4430630215042954}. Best is trial 98 with value: 421330000.0.\n",
            "[I 2024-09-08 17:06:13,294] Trial 105 finished with value: 421092000.0 and parameters: {'max_depth': 23, 'min_samples_split': 140, 'min_samples_leaf': 89, 'max_features': 0.47217462269674604}. Best is trial 98 with value: 421330000.0.\n",
            "[I 2024-09-08 17:17:37,605] Trial 106 finished with value: 415261000.0 and parameters: {'max_depth': 23, 'min_samples_split': 144, 'min_samples_leaf': 99, 'max_features': 0.47167507141977877}. Best is trial 98 with value: 421330000.0.\n",
            "[I 2024-09-08 17:26:21,209] Trial 107 finished with value: 414764000.0 and parameters: {'max_depth': 20, 'min_samples_split': 2, 'min_samples_leaf': 90, 'max_features': 0.3839973412778672}. Best is trial 98 with value: 421330000.0.\n",
            "[I 2024-09-08 17:37:09,126] Trial 108 finished with value: 420861000.0 and parameters: {'max_depth': 26, 'min_samples_split': 184, 'min_samples_leaf': 86, 'max_features': 0.41779670244908085}. Best is trial 98 with value: 421330000.0.\n",
            "[I 2024-09-08 17:48:13,166] Trial 109 finished with value: 417487000.0 and parameters: {'max_depth': 26, 'min_samples_split': 103, 'min_samples_leaf': 58, 'max_features': 0.40603065687144285}. Best is trial 98 with value: 421330000.0.\n",
            "[I 2024-09-08 17:59:11,382] Trial 110 finished with value: 420252000.0 and parameters: {'max_depth': 26, 'min_samples_split': 144, 'min_samples_leaf': 83, 'max_features': 0.4168180723289758}. Best is trial 98 with value: 421330000.0.\n",
            "[I 2024-09-08 18:09:40,768] Trial 111 finished with value: 416983000.0 and parameters: {'max_depth': 24, 'min_samples_split': 151, 'min_samples_leaf': 83, 'max_features': 0.42006383096349487}. Best is trial 98 with value: 421330000.0.\n",
            "[W 2024-09-08 18:10:25,373] Trial 112 failed with parameters: {'max_depth': 22, 'min_samples_split': 235, 'min_samples_leaf': 87, 'max_features': 0.4828870728084521} because of the following error: KeyboardInterrupt().\n",
            "Traceback (most recent call last):\n",
            "  File \"c:\\Users\\c678456\\AppData\\Local\\anaconda3\\envs\\dmeyf\\Lib\\site-packages\\optuna\\study\\_optimize.py\", line 196, in _run_trial\n",
            "    value_or_values = func(trial)\n",
            "                      ^^^^^^^^^^^\n",
            "  File \"C:\\Users\\c678456\\AppData\\Local\\Temp\\ipykernel_8352\\3367560664.py\", line 20, in objective\n",
            "    model.fit(Xi, y)\n",
            "  File \"c:\\Users\\c678456\\AppData\\Local\\anaconda3\\envs\\dmeyf\\Lib\\site-packages\\sklearn\\base.py\", line 1473, in wrapper\n",
            "    return fit_method(estimator, *args, **kwargs)\n",
            "           ^^^^^^^^^^^^^^^^^^^^^^^^^^^^^^^^^^^^^^\n",
            "  File \"c:\\Users\\c678456\\AppData\\Local\\anaconda3\\envs\\dmeyf\\Lib\\site-packages\\sklearn\\ensemble\\_forest.py\", line 489, in fit\n",
            "    trees = Parallel(\n",
            "            ^^^^^^^^^\n",
            "  File \"c:\\Users\\c678456\\AppData\\Local\\anaconda3\\envs\\dmeyf\\Lib\\site-packages\\sklearn\\utils\\parallel.py\", line 74, in __call__\n",
            "    return super().__call__(iterable_with_config)\n",
            "           ^^^^^^^^^^^^^^^^^^^^^^^^^^^^^^^^^^^^^^\n",
            "  File \"c:\\Users\\c678456\\AppData\\Local\\anaconda3\\envs\\dmeyf\\Lib\\site-packages\\joblib\\parallel.py\", line 2007, in __call__\n",
            "    return output if self.return_generator else list(output)\n",
            "                                                ^^^^^^^^^^^^\n",
            "  File \"c:\\Users\\c678456\\AppData\\Local\\anaconda3\\envs\\dmeyf\\Lib\\site-packages\\joblib\\parallel.py\", line 1650, in _get_outputs\n",
            "    yield from self._retrieve()\n",
            "  File \"c:\\Users\\c678456\\AppData\\Local\\anaconda3\\envs\\dmeyf\\Lib\\site-packages\\joblib\\parallel.py\", line 1762, in _retrieve\n",
            "    time.sleep(0.01)\n",
            "KeyboardInterrupt\n",
            "[W 2024-09-08 18:10:25,446] Trial 112 failed with value None.\n"
          ]
        },
        {
          "ename": "KeyboardInterrupt",
          "evalue": "",
          "output_type": "error",
          "traceback": [
            "\u001b[1;31m---------------------------------------------------------------------------\u001b[0m",
            "\u001b[1;31mKeyboardInterrupt\u001b[0m                         Traceback (most recent call last)",
            "Cell \u001b[1;32mIn[8], line 2\u001b[0m\n\u001b[0;32m      1\u001b[0m \u001b[38;5;66;03m#c. Realizo el estudio.\u001b[39;00m\n\u001b[1;32m----> 2\u001b[0m \u001b[43mstudy\u001b[49m\u001b[38;5;241;43m.\u001b[39;49m\u001b[43moptimize\u001b[49m\u001b[43m(\u001b[49m\u001b[43mobjective\u001b[49m\u001b[43m,\u001b[49m\u001b[43mn_trials\u001b[49m\u001b[38;5;241;43m=\u001b[39;49m\u001b[38;5;241;43m100\u001b[39;49m\u001b[43m)\u001b[49m\n",
            "File \u001b[1;32mc:\\Users\\c678456\\AppData\\Local\\anaconda3\\envs\\dmeyf\\Lib\\site-packages\\optuna\\study\\study.py:451\u001b[0m, in \u001b[0;36mStudy.optimize\u001b[1;34m(self, func, n_trials, timeout, n_jobs, catch, callbacks, gc_after_trial, show_progress_bar)\u001b[0m\n\u001b[0;32m    348\u001b[0m \u001b[38;5;28;01mdef\u001b[39;00m \u001b[38;5;21moptimize\u001b[39m(\n\u001b[0;32m    349\u001b[0m     \u001b[38;5;28mself\u001b[39m,\n\u001b[0;32m    350\u001b[0m     func: ObjectiveFuncType,\n\u001b[1;32m   (...)\u001b[0m\n\u001b[0;32m    357\u001b[0m     show_progress_bar: \u001b[38;5;28mbool\u001b[39m \u001b[38;5;241m=\u001b[39m \u001b[38;5;28;01mFalse\u001b[39;00m,\n\u001b[0;32m    358\u001b[0m ) \u001b[38;5;241m-\u001b[39m\u001b[38;5;241m>\u001b[39m \u001b[38;5;28;01mNone\u001b[39;00m:\n\u001b[0;32m    359\u001b[0m \u001b[38;5;250m    \u001b[39m\u001b[38;5;124;03m\"\"\"Optimize an objective function.\u001b[39;00m\n\u001b[0;32m    360\u001b[0m \n\u001b[0;32m    361\u001b[0m \u001b[38;5;124;03m    Optimization is done by choosing a suitable set of hyperparameter values from a given\u001b[39;00m\n\u001b[1;32m   (...)\u001b[0m\n\u001b[0;32m    449\u001b[0m \u001b[38;5;124;03m            If nested invocation of this method occurs.\u001b[39;00m\n\u001b[0;32m    450\u001b[0m \u001b[38;5;124;03m    \"\"\"\u001b[39;00m\n\u001b[1;32m--> 451\u001b[0m     \u001b[43m_optimize\u001b[49m\u001b[43m(\u001b[49m\n\u001b[0;32m    452\u001b[0m \u001b[43m        \u001b[49m\u001b[43mstudy\u001b[49m\u001b[38;5;241;43m=\u001b[39;49m\u001b[38;5;28;43mself\u001b[39;49m\u001b[43m,\u001b[49m\n\u001b[0;32m    453\u001b[0m \u001b[43m        \u001b[49m\u001b[43mfunc\u001b[49m\u001b[38;5;241;43m=\u001b[39;49m\u001b[43mfunc\u001b[49m\u001b[43m,\u001b[49m\n\u001b[0;32m    454\u001b[0m \u001b[43m        \u001b[49m\u001b[43mn_trials\u001b[49m\u001b[38;5;241;43m=\u001b[39;49m\u001b[43mn_trials\u001b[49m\u001b[43m,\u001b[49m\n\u001b[0;32m    455\u001b[0m \u001b[43m        \u001b[49m\u001b[43mtimeout\u001b[49m\u001b[38;5;241;43m=\u001b[39;49m\u001b[43mtimeout\u001b[49m\u001b[43m,\u001b[49m\n\u001b[0;32m    456\u001b[0m \u001b[43m        \u001b[49m\u001b[43mn_jobs\u001b[49m\u001b[38;5;241;43m=\u001b[39;49m\u001b[43mn_jobs\u001b[49m\u001b[43m,\u001b[49m\n\u001b[0;32m    457\u001b[0m \u001b[43m        \u001b[49m\u001b[43mcatch\u001b[49m\u001b[38;5;241;43m=\u001b[39;49m\u001b[38;5;28;43mtuple\u001b[39;49m\u001b[43m(\u001b[49m\u001b[43mcatch\u001b[49m\u001b[43m)\u001b[49m\u001b[43m \u001b[49m\u001b[38;5;28;43;01mif\u001b[39;49;00m\u001b[43m \u001b[49m\u001b[38;5;28;43misinstance\u001b[39;49m\u001b[43m(\u001b[49m\u001b[43mcatch\u001b[49m\u001b[43m,\u001b[49m\u001b[43m \u001b[49m\u001b[43mIterable\u001b[49m\u001b[43m)\u001b[49m\u001b[43m \u001b[49m\u001b[38;5;28;43;01melse\u001b[39;49;00m\u001b[43m \u001b[49m\u001b[43m(\u001b[49m\u001b[43mcatch\u001b[49m\u001b[43m,\u001b[49m\u001b[43m)\u001b[49m\u001b[43m,\u001b[49m\n\u001b[0;32m    458\u001b[0m \u001b[43m        \u001b[49m\u001b[43mcallbacks\u001b[49m\u001b[38;5;241;43m=\u001b[39;49m\u001b[43mcallbacks\u001b[49m\u001b[43m,\u001b[49m\n\u001b[0;32m    459\u001b[0m \u001b[43m        \u001b[49m\u001b[43mgc_after_trial\u001b[49m\u001b[38;5;241;43m=\u001b[39;49m\u001b[43mgc_after_trial\u001b[49m\u001b[43m,\u001b[49m\n\u001b[0;32m    460\u001b[0m \u001b[43m        \u001b[49m\u001b[43mshow_progress_bar\u001b[49m\u001b[38;5;241;43m=\u001b[39;49m\u001b[43mshow_progress_bar\u001b[49m\u001b[43m,\u001b[49m\n\u001b[0;32m    461\u001b[0m \u001b[43m    \u001b[49m\u001b[43m)\u001b[49m\n",
            "File \u001b[1;32mc:\\Users\\c678456\\AppData\\Local\\anaconda3\\envs\\dmeyf\\Lib\\site-packages\\optuna\\study\\_optimize.py:62\u001b[0m, in \u001b[0;36m_optimize\u001b[1;34m(study, func, n_trials, timeout, n_jobs, catch, callbacks, gc_after_trial, show_progress_bar)\u001b[0m\n\u001b[0;32m     60\u001b[0m \u001b[38;5;28;01mtry\u001b[39;00m:\n\u001b[0;32m     61\u001b[0m     \u001b[38;5;28;01mif\u001b[39;00m n_jobs \u001b[38;5;241m==\u001b[39m \u001b[38;5;241m1\u001b[39m:\n\u001b[1;32m---> 62\u001b[0m         \u001b[43m_optimize_sequential\u001b[49m\u001b[43m(\u001b[49m\n\u001b[0;32m     63\u001b[0m \u001b[43m            \u001b[49m\u001b[43mstudy\u001b[49m\u001b[43m,\u001b[49m\n\u001b[0;32m     64\u001b[0m \u001b[43m            \u001b[49m\u001b[43mfunc\u001b[49m\u001b[43m,\u001b[49m\n\u001b[0;32m     65\u001b[0m \u001b[43m            \u001b[49m\u001b[43mn_trials\u001b[49m\u001b[43m,\u001b[49m\n\u001b[0;32m     66\u001b[0m \u001b[43m            \u001b[49m\u001b[43mtimeout\u001b[49m\u001b[43m,\u001b[49m\n\u001b[0;32m     67\u001b[0m \u001b[43m            \u001b[49m\u001b[43mcatch\u001b[49m\u001b[43m,\u001b[49m\n\u001b[0;32m     68\u001b[0m \u001b[43m            \u001b[49m\u001b[43mcallbacks\u001b[49m\u001b[43m,\u001b[49m\n\u001b[0;32m     69\u001b[0m \u001b[43m            \u001b[49m\u001b[43mgc_after_trial\u001b[49m\u001b[43m,\u001b[49m\n\u001b[0;32m     70\u001b[0m \u001b[43m            \u001b[49m\u001b[43mreseed_sampler_rng\u001b[49m\u001b[38;5;241;43m=\u001b[39;49m\u001b[38;5;28;43;01mFalse\u001b[39;49;00m\u001b[43m,\u001b[49m\n\u001b[0;32m     71\u001b[0m \u001b[43m            \u001b[49m\u001b[43mtime_start\u001b[49m\u001b[38;5;241;43m=\u001b[39;49m\u001b[38;5;28;43;01mNone\u001b[39;49;00m\u001b[43m,\u001b[49m\n\u001b[0;32m     72\u001b[0m \u001b[43m            \u001b[49m\u001b[43mprogress_bar\u001b[49m\u001b[38;5;241;43m=\u001b[39;49m\u001b[43mprogress_bar\u001b[49m\u001b[43m,\u001b[49m\n\u001b[0;32m     73\u001b[0m \u001b[43m        \u001b[49m\u001b[43m)\u001b[49m\n\u001b[0;32m     74\u001b[0m     \u001b[38;5;28;01melse\u001b[39;00m:\n\u001b[0;32m     75\u001b[0m         \u001b[38;5;28;01mif\u001b[39;00m n_jobs \u001b[38;5;241m==\u001b[39m \u001b[38;5;241m-\u001b[39m\u001b[38;5;241m1\u001b[39m:\n",
            "File \u001b[1;32mc:\\Users\\c678456\\AppData\\Local\\anaconda3\\envs\\dmeyf\\Lib\\site-packages\\optuna\\study\\_optimize.py:159\u001b[0m, in \u001b[0;36m_optimize_sequential\u001b[1;34m(study, func, n_trials, timeout, catch, callbacks, gc_after_trial, reseed_sampler_rng, time_start, progress_bar)\u001b[0m\n\u001b[0;32m    156\u001b[0m         \u001b[38;5;28;01mbreak\u001b[39;00m\n\u001b[0;32m    158\u001b[0m \u001b[38;5;28;01mtry\u001b[39;00m:\n\u001b[1;32m--> 159\u001b[0m     frozen_trial \u001b[38;5;241m=\u001b[39m \u001b[43m_run_trial\u001b[49m\u001b[43m(\u001b[49m\u001b[43mstudy\u001b[49m\u001b[43m,\u001b[49m\u001b[43m \u001b[49m\u001b[43mfunc\u001b[49m\u001b[43m,\u001b[49m\u001b[43m \u001b[49m\u001b[43mcatch\u001b[49m\u001b[43m)\u001b[49m\n\u001b[0;32m    160\u001b[0m \u001b[38;5;28;01mfinally\u001b[39;00m:\n\u001b[0;32m    161\u001b[0m     \u001b[38;5;66;03m# The following line mitigates memory problems that can be occurred in some\u001b[39;00m\n\u001b[0;32m    162\u001b[0m     \u001b[38;5;66;03m# environments (e.g., services that use computing containers such as GitHub Actions).\u001b[39;00m\n\u001b[0;32m    163\u001b[0m     \u001b[38;5;66;03m# Please refer to the following PR for further details:\u001b[39;00m\n\u001b[0;32m    164\u001b[0m     \u001b[38;5;66;03m# https://github.com/optuna/optuna/pull/325.\u001b[39;00m\n\u001b[0;32m    165\u001b[0m     \u001b[38;5;28;01mif\u001b[39;00m gc_after_trial:\n",
            "File \u001b[1;32mc:\\Users\\c678456\\AppData\\Local\\anaconda3\\envs\\dmeyf\\Lib\\site-packages\\optuna\\study\\_optimize.py:247\u001b[0m, in \u001b[0;36m_run_trial\u001b[1;34m(study, func, catch)\u001b[0m\n\u001b[0;32m    240\u001b[0m         \u001b[38;5;28;01massert\u001b[39;00m \u001b[38;5;28;01mFalse\u001b[39;00m, \u001b[38;5;124m\"\u001b[39m\u001b[38;5;124mShould not reach.\u001b[39m\u001b[38;5;124m\"\u001b[39m\n\u001b[0;32m    242\u001b[0m \u001b[38;5;28;01mif\u001b[39;00m (\n\u001b[0;32m    243\u001b[0m     frozen_trial\u001b[38;5;241m.\u001b[39mstate \u001b[38;5;241m==\u001b[39m TrialState\u001b[38;5;241m.\u001b[39mFAIL\n\u001b[0;32m    244\u001b[0m     \u001b[38;5;129;01mand\u001b[39;00m func_err \u001b[38;5;129;01mis\u001b[39;00m \u001b[38;5;129;01mnot\u001b[39;00m \u001b[38;5;28;01mNone\u001b[39;00m\n\u001b[0;32m    245\u001b[0m     \u001b[38;5;129;01mand\u001b[39;00m \u001b[38;5;129;01mnot\u001b[39;00m \u001b[38;5;28misinstance\u001b[39m(func_err, catch)\n\u001b[0;32m    246\u001b[0m ):\n\u001b[1;32m--> 247\u001b[0m     \u001b[38;5;28;01mraise\u001b[39;00m func_err\n\u001b[0;32m    248\u001b[0m \u001b[38;5;28;01mreturn\u001b[39;00m frozen_trial\n",
            "File \u001b[1;32mc:\\Users\\c678456\\AppData\\Local\\anaconda3\\envs\\dmeyf\\Lib\\site-packages\\optuna\\study\\_optimize.py:196\u001b[0m, in \u001b[0;36m_run_trial\u001b[1;34m(study, func, catch)\u001b[0m\n\u001b[0;32m    194\u001b[0m \u001b[38;5;28;01mwith\u001b[39;00m get_heartbeat_thread(trial\u001b[38;5;241m.\u001b[39m_trial_id, study\u001b[38;5;241m.\u001b[39m_storage):\n\u001b[0;32m    195\u001b[0m     \u001b[38;5;28;01mtry\u001b[39;00m:\n\u001b[1;32m--> 196\u001b[0m         value_or_values \u001b[38;5;241m=\u001b[39m \u001b[43mfunc\u001b[49m\u001b[43m(\u001b[49m\u001b[43mtrial\u001b[49m\u001b[43m)\u001b[49m\n\u001b[0;32m    197\u001b[0m     \u001b[38;5;28;01mexcept\u001b[39;00m exceptions\u001b[38;5;241m.\u001b[39mTrialPruned \u001b[38;5;28;01mas\u001b[39;00m e:\n\u001b[0;32m    198\u001b[0m         \u001b[38;5;66;03m# TODO(mamu): Handle multi-objective cases.\u001b[39;00m\n\u001b[0;32m    199\u001b[0m         state \u001b[38;5;241m=\u001b[39m TrialState\u001b[38;5;241m.\u001b[39mPRUNED\n",
            "Cell \u001b[1;32mIn[7], line 20\u001b[0m, in \u001b[0;36mobjective\u001b[1;34m(trial)\u001b[0m\n\u001b[0;32m      6\u001b[0m max_features \u001b[38;5;241m=\u001b[39m trial\u001b[38;5;241m.\u001b[39msuggest_float(\u001b[38;5;124m'\u001b[39m\u001b[38;5;124mmax_features\u001b[39m\u001b[38;5;124m'\u001b[39m, \u001b[38;5;241m0.05\u001b[39m, \u001b[38;5;241m0.8\u001b[39m)\n\u001b[0;32m      8\u001b[0m model \u001b[38;5;241m=\u001b[39m RandomForestClassifier(\n\u001b[0;32m      9\u001b[0m     n_estimators\u001b[38;5;241m=\u001b[39m\u001b[38;5;241m100\u001b[39m,\n\u001b[0;32m     10\u001b[0m     max_depth\u001b[38;5;241m=\u001b[39mmax_depth,\n\u001b[1;32m   (...)\u001b[0m\n\u001b[0;32m     17\u001b[0m     oob_score\u001b[38;5;241m=\u001b[39m\u001b[38;5;28;01mTrue\u001b[39;00m \n\u001b[0;32m     18\u001b[0m )\n\u001b[1;32m---> 20\u001b[0m \u001b[43mmodel\u001b[49m\u001b[38;5;241;43m.\u001b[39;49m\u001b[43mfit\u001b[49m\u001b[43m(\u001b[49m\u001b[43mXi\u001b[49m\u001b[43m,\u001b[49m\u001b[43m \u001b[49m\u001b[43my\u001b[49m\u001b[43m)\u001b[49m\n\u001b[0;32m     22\u001b[0m \u001b[38;5;28;01mreturn\u001b[39;00m ganancia_prob(model\u001b[38;5;241m.\u001b[39moob_decision_function_, y)\n",
            "File \u001b[1;32mc:\\Users\\c678456\\AppData\\Local\\anaconda3\\envs\\dmeyf\\Lib\\site-packages\\sklearn\\base.py:1473\u001b[0m, in \u001b[0;36m_fit_context.<locals>.decorator.<locals>.wrapper\u001b[1;34m(estimator, *args, **kwargs)\u001b[0m\n\u001b[0;32m   1466\u001b[0m     estimator\u001b[38;5;241m.\u001b[39m_validate_params()\n\u001b[0;32m   1468\u001b[0m \u001b[38;5;28;01mwith\u001b[39;00m config_context(\n\u001b[0;32m   1469\u001b[0m     skip_parameter_validation\u001b[38;5;241m=\u001b[39m(\n\u001b[0;32m   1470\u001b[0m         prefer_skip_nested_validation \u001b[38;5;129;01mor\u001b[39;00m global_skip_validation\n\u001b[0;32m   1471\u001b[0m     )\n\u001b[0;32m   1472\u001b[0m ):\n\u001b[1;32m-> 1473\u001b[0m     \u001b[38;5;28;01mreturn\u001b[39;00m \u001b[43mfit_method\u001b[49m\u001b[43m(\u001b[49m\u001b[43mestimator\u001b[49m\u001b[43m,\u001b[49m\u001b[43m \u001b[49m\u001b[38;5;241;43m*\u001b[39;49m\u001b[43margs\u001b[49m\u001b[43m,\u001b[49m\u001b[43m \u001b[49m\u001b[38;5;241;43m*\u001b[39;49m\u001b[38;5;241;43m*\u001b[39;49m\u001b[43mkwargs\u001b[49m\u001b[43m)\u001b[49m\n",
            "File \u001b[1;32mc:\\Users\\c678456\\AppData\\Local\\anaconda3\\envs\\dmeyf\\Lib\\site-packages\\sklearn\\ensemble\\_forest.py:489\u001b[0m, in \u001b[0;36mBaseForest.fit\u001b[1;34m(self, X, y, sample_weight)\u001b[0m\n\u001b[0;32m    478\u001b[0m trees \u001b[38;5;241m=\u001b[39m [\n\u001b[0;32m    479\u001b[0m     \u001b[38;5;28mself\u001b[39m\u001b[38;5;241m.\u001b[39m_make_estimator(append\u001b[38;5;241m=\u001b[39m\u001b[38;5;28;01mFalse\u001b[39;00m, random_state\u001b[38;5;241m=\u001b[39mrandom_state)\n\u001b[0;32m    480\u001b[0m     \u001b[38;5;28;01mfor\u001b[39;00m i \u001b[38;5;129;01min\u001b[39;00m \u001b[38;5;28mrange\u001b[39m(n_more_estimators)\n\u001b[0;32m    481\u001b[0m ]\n\u001b[0;32m    483\u001b[0m \u001b[38;5;66;03m# Parallel loop: we prefer the threading backend as the Cython code\u001b[39;00m\n\u001b[0;32m    484\u001b[0m \u001b[38;5;66;03m# for fitting the trees is internally releasing the Python GIL\u001b[39;00m\n\u001b[0;32m    485\u001b[0m \u001b[38;5;66;03m# making threading more efficient than multiprocessing in\u001b[39;00m\n\u001b[0;32m    486\u001b[0m \u001b[38;5;66;03m# that case. However, for joblib 0.12+ we respect any\u001b[39;00m\n\u001b[0;32m    487\u001b[0m \u001b[38;5;66;03m# parallel_backend contexts set at a higher level,\u001b[39;00m\n\u001b[0;32m    488\u001b[0m \u001b[38;5;66;03m# since correctness does not rely on using threads.\u001b[39;00m\n\u001b[1;32m--> 489\u001b[0m trees \u001b[38;5;241m=\u001b[39m \u001b[43mParallel\u001b[49m\u001b[43m(\u001b[49m\n\u001b[0;32m    490\u001b[0m \u001b[43m    \u001b[49m\u001b[43mn_jobs\u001b[49m\u001b[38;5;241;43m=\u001b[39;49m\u001b[38;5;28;43mself\u001b[39;49m\u001b[38;5;241;43m.\u001b[39;49m\u001b[43mn_jobs\u001b[49m\u001b[43m,\u001b[49m\n\u001b[0;32m    491\u001b[0m \u001b[43m    \u001b[49m\u001b[43mverbose\u001b[49m\u001b[38;5;241;43m=\u001b[39;49m\u001b[38;5;28;43mself\u001b[39;49m\u001b[38;5;241;43m.\u001b[39;49m\u001b[43mverbose\u001b[49m\u001b[43m,\u001b[49m\n\u001b[0;32m    492\u001b[0m \u001b[43m    \u001b[49m\u001b[43mprefer\u001b[49m\u001b[38;5;241;43m=\u001b[39;49m\u001b[38;5;124;43m\"\u001b[39;49m\u001b[38;5;124;43mthreads\u001b[39;49m\u001b[38;5;124;43m\"\u001b[39;49m\u001b[43m,\u001b[49m\n\u001b[0;32m    493\u001b[0m \u001b[43m\u001b[49m\u001b[43m)\u001b[49m\u001b[43m(\u001b[49m\n\u001b[0;32m    494\u001b[0m \u001b[43m    \u001b[49m\u001b[43mdelayed\u001b[49m\u001b[43m(\u001b[49m\u001b[43m_parallel_build_trees\u001b[49m\u001b[43m)\u001b[49m\u001b[43m(\u001b[49m\n\u001b[0;32m    495\u001b[0m \u001b[43m        \u001b[49m\u001b[43mt\u001b[49m\u001b[43m,\u001b[49m\n\u001b[0;32m    496\u001b[0m \u001b[43m        \u001b[49m\u001b[38;5;28;43mself\u001b[39;49m\u001b[38;5;241;43m.\u001b[39;49m\u001b[43mbootstrap\u001b[49m\u001b[43m,\u001b[49m\n\u001b[0;32m    497\u001b[0m \u001b[43m        \u001b[49m\u001b[43mX\u001b[49m\u001b[43m,\u001b[49m\n\u001b[0;32m    498\u001b[0m \u001b[43m        \u001b[49m\u001b[43my\u001b[49m\u001b[43m,\u001b[49m\n\u001b[0;32m    499\u001b[0m \u001b[43m        \u001b[49m\u001b[43msample_weight\u001b[49m\u001b[43m,\u001b[49m\n\u001b[0;32m    500\u001b[0m \u001b[43m        \u001b[49m\u001b[43mi\u001b[49m\u001b[43m,\u001b[49m\n\u001b[0;32m    501\u001b[0m \u001b[43m        \u001b[49m\u001b[38;5;28;43mlen\u001b[39;49m\u001b[43m(\u001b[49m\u001b[43mtrees\u001b[49m\u001b[43m)\u001b[49m\u001b[43m,\u001b[49m\n\u001b[0;32m    502\u001b[0m \u001b[43m        \u001b[49m\u001b[43mverbose\u001b[49m\u001b[38;5;241;43m=\u001b[39;49m\u001b[38;5;28;43mself\u001b[39;49m\u001b[38;5;241;43m.\u001b[39;49m\u001b[43mverbose\u001b[49m\u001b[43m,\u001b[49m\n\u001b[0;32m    503\u001b[0m \u001b[43m        \u001b[49m\u001b[43mclass_weight\u001b[49m\u001b[38;5;241;43m=\u001b[39;49m\u001b[38;5;28;43mself\u001b[39;49m\u001b[38;5;241;43m.\u001b[39;49m\u001b[43mclass_weight\u001b[49m\u001b[43m,\u001b[49m\n\u001b[0;32m    504\u001b[0m \u001b[43m        \u001b[49m\u001b[43mn_samples_bootstrap\u001b[49m\u001b[38;5;241;43m=\u001b[39;49m\u001b[43mn_samples_bootstrap\u001b[49m\u001b[43m,\u001b[49m\n\u001b[0;32m    505\u001b[0m \u001b[43m        \u001b[49m\u001b[43mmissing_values_in_feature_mask\u001b[49m\u001b[38;5;241;43m=\u001b[39;49m\u001b[43mmissing_values_in_feature_mask\u001b[49m\u001b[43m,\u001b[49m\n\u001b[0;32m    506\u001b[0m \u001b[43m    \u001b[49m\u001b[43m)\u001b[49m\n\u001b[0;32m    507\u001b[0m \u001b[43m    \u001b[49m\u001b[38;5;28;43;01mfor\u001b[39;49;00m\u001b[43m \u001b[49m\u001b[43mi\u001b[49m\u001b[43m,\u001b[49m\u001b[43m \u001b[49m\u001b[43mt\u001b[49m\u001b[43m \u001b[49m\u001b[38;5;129;43;01min\u001b[39;49;00m\u001b[43m \u001b[49m\u001b[38;5;28;43menumerate\u001b[39;49m\u001b[43m(\u001b[49m\u001b[43mtrees\u001b[49m\u001b[43m)\u001b[49m\n\u001b[0;32m    508\u001b[0m \u001b[43m\u001b[49m\u001b[43m)\u001b[49m\n\u001b[0;32m    510\u001b[0m \u001b[38;5;66;03m# Collect newly grown trees\u001b[39;00m\n\u001b[0;32m    511\u001b[0m \u001b[38;5;28mself\u001b[39m\u001b[38;5;241m.\u001b[39mestimators_\u001b[38;5;241m.\u001b[39mextend(trees)\n",
            "File \u001b[1;32mc:\\Users\\c678456\\AppData\\Local\\anaconda3\\envs\\dmeyf\\Lib\\site-packages\\sklearn\\utils\\parallel.py:74\u001b[0m, in \u001b[0;36mParallel.__call__\u001b[1;34m(self, iterable)\u001b[0m\n\u001b[0;32m     69\u001b[0m config \u001b[38;5;241m=\u001b[39m get_config()\n\u001b[0;32m     70\u001b[0m iterable_with_config \u001b[38;5;241m=\u001b[39m (\n\u001b[0;32m     71\u001b[0m     (_with_config(delayed_func, config), args, kwargs)\n\u001b[0;32m     72\u001b[0m     \u001b[38;5;28;01mfor\u001b[39;00m delayed_func, args, kwargs \u001b[38;5;129;01min\u001b[39;00m iterable\n\u001b[0;32m     73\u001b[0m )\n\u001b[1;32m---> 74\u001b[0m \u001b[38;5;28;01mreturn\u001b[39;00m \u001b[38;5;28;43msuper\u001b[39;49m\u001b[43m(\u001b[49m\u001b[43m)\u001b[49m\u001b[38;5;241;43m.\u001b[39;49m\u001b[38;5;21;43m__call__\u001b[39;49m\u001b[43m(\u001b[49m\u001b[43miterable_with_config\u001b[49m\u001b[43m)\u001b[49m\n",
            "File \u001b[1;32mc:\\Users\\c678456\\AppData\\Local\\anaconda3\\envs\\dmeyf\\Lib\\site-packages\\joblib\\parallel.py:2007\u001b[0m, in \u001b[0;36mParallel.__call__\u001b[1;34m(self, iterable)\u001b[0m\n\u001b[0;32m   2001\u001b[0m \u001b[38;5;66;03m# The first item from the output is blank, but it makes the interpreter\u001b[39;00m\n\u001b[0;32m   2002\u001b[0m \u001b[38;5;66;03m# progress until it enters the Try/Except block of the generator and\u001b[39;00m\n\u001b[0;32m   2003\u001b[0m \u001b[38;5;66;03m# reaches the first `yield` statement. This starts the asynchronous\u001b[39;00m\n\u001b[0;32m   2004\u001b[0m \u001b[38;5;66;03m# dispatch of the tasks to the workers.\u001b[39;00m\n\u001b[0;32m   2005\u001b[0m \u001b[38;5;28mnext\u001b[39m(output)\n\u001b[1;32m-> 2007\u001b[0m \u001b[38;5;28;01mreturn\u001b[39;00m output \u001b[38;5;28;01mif\u001b[39;00m \u001b[38;5;28mself\u001b[39m\u001b[38;5;241m.\u001b[39mreturn_generator \u001b[38;5;28;01melse\u001b[39;00m \u001b[38;5;28;43mlist\u001b[39;49m\u001b[43m(\u001b[49m\u001b[43moutput\u001b[49m\u001b[43m)\u001b[49m\n",
            "File \u001b[1;32mc:\\Users\\c678456\\AppData\\Local\\anaconda3\\envs\\dmeyf\\Lib\\site-packages\\joblib\\parallel.py:1650\u001b[0m, in \u001b[0;36mParallel._get_outputs\u001b[1;34m(self, iterator, pre_dispatch)\u001b[0m\n\u001b[0;32m   1647\u001b[0m     \u001b[38;5;28;01myield\u001b[39;00m\n\u001b[0;32m   1649\u001b[0m     \u001b[38;5;28;01mwith\u001b[39;00m \u001b[38;5;28mself\u001b[39m\u001b[38;5;241m.\u001b[39m_backend\u001b[38;5;241m.\u001b[39mretrieval_context():\n\u001b[1;32m-> 1650\u001b[0m         \u001b[38;5;28;01myield from\u001b[39;00m \u001b[38;5;28mself\u001b[39m\u001b[38;5;241m.\u001b[39m_retrieve()\n\u001b[0;32m   1652\u001b[0m \u001b[38;5;28;01mexcept\u001b[39;00m \u001b[38;5;167;01mGeneratorExit\u001b[39;00m:\n\u001b[0;32m   1653\u001b[0m     \u001b[38;5;66;03m# The generator has been garbage collected before being fully\u001b[39;00m\n\u001b[0;32m   1654\u001b[0m     \u001b[38;5;66;03m# consumed. This aborts the remaining tasks if possible and warn\u001b[39;00m\n\u001b[0;32m   1655\u001b[0m     \u001b[38;5;66;03m# the user if necessary.\u001b[39;00m\n\u001b[0;32m   1656\u001b[0m     \u001b[38;5;28mself\u001b[39m\u001b[38;5;241m.\u001b[39m_exception \u001b[38;5;241m=\u001b[39m \u001b[38;5;28;01mTrue\u001b[39;00m\n",
            "File \u001b[1;32mc:\\Users\\c678456\\AppData\\Local\\anaconda3\\envs\\dmeyf\\Lib\\site-packages\\joblib\\parallel.py:1762\u001b[0m, in \u001b[0;36mParallel._retrieve\u001b[1;34m(self)\u001b[0m\n\u001b[0;32m   1757\u001b[0m \u001b[38;5;66;03m# If the next job is not ready for retrieval yet, we just wait for\u001b[39;00m\n\u001b[0;32m   1758\u001b[0m \u001b[38;5;66;03m# async callbacks to progress.\u001b[39;00m\n\u001b[0;32m   1759\u001b[0m \u001b[38;5;28;01mif\u001b[39;00m ((\u001b[38;5;28mlen\u001b[39m(\u001b[38;5;28mself\u001b[39m\u001b[38;5;241m.\u001b[39m_jobs) \u001b[38;5;241m==\u001b[39m \u001b[38;5;241m0\u001b[39m) \u001b[38;5;129;01mor\u001b[39;00m\n\u001b[0;32m   1760\u001b[0m     (\u001b[38;5;28mself\u001b[39m\u001b[38;5;241m.\u001b[39m_jobs[\u001b[38;5;241m0\u001b[39m]\u001b[38;5;241m.\u001b[39mget_status(\n\u001b[0;32m   1761\u001b[0m         timeout\u001b[38;5;241m=\u001b[39m\u001b[38;5;28mself\u001b[39m\u001b[38;5;241m.\u001b[39mtimeout) \u001b[38;5;241m==\u001b[39m TASK_PENDING)):\n\u001b[1;32m-> 1762\u001b[0m     \u001b[43mtime\u001b[49m\u001b[38;5;241;43m.\u001b[39;49m\u001b[43msleep\u001b[49m\u001b[43m(\u001b[49m\u001b[38;5;241;43m0.01\u001b[39;49m\u001b[43m)\u001b[49m\n\u001b[0;32m   1763\u001b[0m     \u001b[38;5;28;01mcontinue\u001b[39;00m\n\u001b[0;32m   1765\u001b[0m \u001b[38;5;66;03m# We need to be careful: the job list can be filling up as\u001b[39;00m\n\u001b[0;32m   1766\u001b[0m \u001b[38;5;66;03m# we empty it and Python list are not thread-safe by\u001b[39;00m\n\u001b[0;32m   1767\u001b[0m \u001b[38;5;66;03m# default hence the use of the lock\u001b[39;00m\n",
            "\u001b[1;31mKeyboardInterrupt\u001b[0m: "
          ]
        }
      ],
      "source": [
        "#c. Realizo el estudio.\n",
        "study.optimize(objective,n_trials=100)"
      ]
    },
    {
      "cell_type": "code",
      "execution_count": 9,
      "metadata": {},
      "outputs": [
        {
          "data": {
            "application/vnd.plotly.v1+json": {
              "config": {
                "plotlyServerURL": "https://plot.ly"
              },
              "data": [
                {
                  "marker": {
                    "color": [
                      0,
                      1,
                      3,
                      4,
                      5,
                      6,
                      7,
                      8,
                      9,
                      10,
                      11,
                      12,
                      13,
                      14,
                      15,
                      16,
                      17,
                      18,
                      19,
                      20,
                      21,
                      22,
                      23,
                      24,
                      25,
                      26,
                      27,
                      28,
                      29,
                      30,
                      31,
                      32,
                      33,
                      34,
                      37,
                      38,
                      39,
                      40,
                      42,
                      43,
                      44,
                      45,
                      46,
                      47,
                      48,
                      49,
                      50,
                      51,
                      52,
                      53,
                      54,
                      55,
                      56,
                      57,
                      58,
                      59,
                      61,
                      62,
                      63,
                      64,
                      65,
                      66,
                      67,
                      68,
                      69,
                      70,
                      71,
                      72,
                      73,
                      74,
                      75,
                      76,
                      77,
                      78,
                      79,
                      80,
                      81,
                      82,
                      83,
                      85,
                      87,
                      88,
                      89,
                      90,
                      91,
                      92,
                      93,
                      94,
                      95,
                      96,
                      97,
                      98,
                      99,
                      100,
                      101,
                      102,
                      103,
                      104,
                      105,
                      106,
                      107,
                      108,
                      109,
                      110,
                      111
                    ],
                    "colorbar": {
                      "title": {
                        "text": "Trial"
                      },
                      "x": 1,
                      "xpad": 40
                    },
                    "colorscale": [
                      [
                        0,
                        "rgb(247,251,255)"
                      ],
                      [
                        0.125,
                        "rgb(222,235,247)"
                      ],
                      [
                        0.25,
                        "rgb(198,219,239)"
                      ],
                      [
                        0.375,
                        "rgb(158,202,225)"
                      ],
                      [
                        0.5,
                        "rgb(107,174,214)"
                      ],
                      [
                        0.625,
                        "rgb(66,146,198)"
                      ],
                      [
                        0.75,
                        "rgb(33,113,181)"
                      ],
                      [
                        0.875,
                        "rgb(8,81,156)"
                      ],
                      [
                        1,
                        "rgb(8,48,107)"
                      ]
                    ],
                    "line": {
                      "color": "Grey",
                      "width": 0.5
                    },
                    "showscale": true
                  },
                  "mode": "markers",
                  "name": "Feasible Trial",
                  "showlegend": false,
                  "type": "scatter",
                  "x": [
                    24,
                    25,
                    30,
                    42,
                    39,
                    21,
                    38,
                    30,
                    42,
                    33,
                    8,
                    32,
                    16,
                    32,
                    13,
                    29,
                    2,
                    35,
                    19,
                    27,
                    36,
                    32,
                    45,
                    28,
                    32,
                    21,
                    21,
                    12,
                    18,
                    26,
                    22,
                    24,
                    31,
                    35,
                    36,
                    40,
                    26,
                    34,
                    30,
                    38,
                    24,
                    23,
                    25,
                    24,
                    18,
                    20,
                    26,
                    16,
                    29,
                    30,
                    15,
                    32,
                    28,
                    37,
                    40,
                    41,
                    45,
                    22,
                    43,
                    25,
                    33,
                    33,
                    31,
                    25,
                    25,
                    27,
                    28,
                    25,
                    23,
                    24,
                    25,
                    33,
                    31,
                    29,
                    27,
                    22,
                    31,
                    20,
                    19,
                    20,
                    20,
                    17,
                    17,
                    13,
                    20,
                    10,
                    15,
                    20,
                    18,
                    21,
                    19,
                    23,
                    22,
                    5,
                    17,
                    23,
                    21,
                    21,
                    23,
                    23,
                    20,
                    26,
                    26,
                    26,
                    24
                  ],
                  "xaxis": "x",
                  "y": [
                    88354000,
                    98931000,
                    413938000,
                    398657000,
                    378105000,
                    390726000,
                    384377000,
                    392546000,
                    393855000,
                    411271000,
                    352870000,
                    413336000,
                    406560000,
                    403578000,
                    399070000,
                    409157000,
                    283171000,
                    401471000,
                    403767000,
                    405034000,
                    408366000,
                    414785000,
                    409465000,
                    406784000,
                    399756000,
                    415660000,
                    395542000,
                    395801000,
                    395206000,
                    387156000,
                    408093000,
                    412503000,
                    418054000,
                    414897000,
                    403592000,
                    410291000,
                    406357000,
                    413630000,
                    407036000,
                    400015000,
                    419447000,
                    410585000,
                    417277000,
                    413357000,
                    394744000,
                    412769000,
                    382144000,
                    405405000,
                    413413000,
                    408982000,
                    410914000,
                    417151000,
                    411306000,
                    410564000,
                    415730000,
                    412461000,
                    412307000,
                    412356000,
                    393379000,
                    416325000,
                    416045000,
                    410508000,
                    410536000,
                    418229000,
                    412307000,
                    409927000,
                    399637000,
                    416108000,
                    413028000,
                    413553000,
                    398321000,
                    410900000,
                    415877000,
                    414841000,
                    410753000,
                    387310000,
                    412195000,
                    417767000,
                    414470000,
                    418733000,
                    412503000,
                    416535000,
                    415359000,
                    410921000,
                    418509000,
                    401331000,
                    409962000,
                    411194000,
                    409241000,
                    412055000,
                    404929000,
                    421330000,
                    403781000,
                    359527000,
                    411509000,
                    416451000,
                    417550000,
                    414988000,
                    421092000,
                    415261000,
                    414764000,
                    420861000,
                    417487000,
                    420252000,
                    416983000
                  ],
                  "yaxis": "y"
                },
                {
                  "marker": {
                    "color": [
                      0,
                      1,
                      3,
                      4,
                      5,
                      6,
                      7,
                      8,
                      9,
                      10,
                      11,
                      12,
                      13,
                      14,
                      15,
                      16,
                      17,
                      18,
                      19,
                      20,
                      21,
                      22,
                      23,
                      24,
                      25,
                      26,
                      27,
                      28,
                      29,
                      30,
                      31,
                      32,
                      33,
                      34,
                      37,
                      38,
                      39,
                      40,
                      42,
                      43,
                      44,
                      45,
                      46,
                      47,
                      48,
                      49,
                      50,
                      51,
                      52,
                      53,
                      54,
                      55,
                      56,
                      57,
                      58,
                      59,
                      61,
                      62,
                      63,
                      64,
                      65,
                      66,
                      67,
                      68,
                      69,
                      70,
                      71,
                      72,
                      73,
                      74,
                      75,
                      76,
                      77,
                      78,
                      79,
                      80,
                      81,
                      82,
                      83,
                      85,
                      87,
                      88,
                      89,
                      90,
                      91,
                      92,
                      93,
                      94,
                      95,
                      96,
                      97,
                      98,
                      99,
                      100,
                      101,
                      102,
                      103,
                      104,
                      105,
                      106,
                      107,
                      108,
                      109,
                      110,
                      111
                    ],
                    "colorbar": {
                      "title": {
                        "text": "Trial"
                      },
                      "x": 1,
                      "xpad": 40
                    },
                    "colorscale": [
                      [
                        0,
                        "rgb(247,251,255)"
                      ],
                      [
                        0.125,
                        "rgb(222,235,247)"
                      ],
                      [
                        0.25,
                        "rgb(198,219,239)"
                      ],
                      [
                        0.375,
                        "rgb(158,202,225)"
                      ],
                      [
                        0.5,
                        "rgb(107,174,214)"
                      ],
                      [
                        0.625,
                        "rgb(66,146,198)"
                      ],
                      [
                        0.75,
                        "rgb(33,113,181)"
                      ],
                      [
                        0.875,
                        "rgb(8,81,156)"
                      ],
                      [
                        1,
                        "rgb(8,48,107)"
                      ]
                    ],
                    "line": {
                      "color": "Grey",
                      "width": 0.5
                    },
                    "showscale": false
                  },
                  "mode": "markers",
                  "name": "Feasible Trial",
                  "showlegend": false,
                  "type": "scatter",
                  "x": [
                    0.6471451811636151,
                    0.2965175044825849,
                    0.18416294155140533,
                    0.5260062000107494,
                    0.09079772019223602,
                    0.7347477465864287,
                    0.7682572813138983,
                    0.7518147915697465,
                    0.3584174319319151,
                    0.5520367470936471,
                    0.07020299609516228,
                    0.5060628779128037,
                    0.2171868754866676,
                    0.4548902992282428,
                    0.20060992568633537,
                    0.41107131019397836,
                    0.5955964910028146,
                    0.26566030691502723,
                    0.47119434370540225,
                    0.1397976650971101,
                    0.35483255916331513,
                    0.551282420427302,
                    0.6314487433473303,
                    0.5125938968048729,
                    0.3991930190342178,
                    0.6808201302405968,
                    0.6971701829363922,
                    0.5850622122062399,
                    0.6696454806663301,
                    0.6303732111531608,
                    0.7143183474350512,
                    0.49214614048929456,
                    0.5607701541652531,
                    0.5624900553081309,
                    0.5778758611387558,
                    0.6649418201184425,
                    0.624080711976264,
                    0.7868196434889407,
                    0.541778483928938,
                    0.692940183689593,
                    0.4480110338279527,
                    0.45049002468201116,
                    0.5518500875191003,
                    0.38592738311997743,
                    0.31971831205221785,
                    0.5929115411148664,
                    0.4368920471364105,
                    0.7392113375351619,
                    0.5262435980005423,
                    0.4796345340681376,
                    0.6073961581757836,
                    0.5572831060672556,
                    0.5727630483117584,
                    0.5506249072835968,
                    0.658444112476311,
                    0.6632886815519183,
                    0.643641500931184,
                    0.5191677080109416,
                    0.6099694735276429,
                    0.715038076129618,
                    0.7204377813209073,
                    0.7599449897231574,
                    0.7398910102795909,
                    0.7064782887137926,
                    0.788896299690586,
                    0.6975429898507485,
                    0.7195456570114789,
                    0.7654914157487709,
                    0.781916919923884,
                    0.41857549365300173,
                    0.7996980020790934,
                    0.7085647669126429,
                    0.7638072890024085,
                    0.7497785430500321,
                    0.7253211510402473,
                    0.4981093549469332,
                    0.24529255795591254,
                    0.3684049291721825,
                    0.37434254376119835,
                    0.35976052880373494,
                    0.32534536942321757,
                    0.3442602569670227,
                    0.3421864396466471,
                    0.29045443232756607,
                    0.3724590355516966,
                    0.39455555855175434,
                    0.3711288034132697,
                    0.29721675129873504,
                    0.43076844778335693,
                    0.4579236510315892,
                    0.3471021682108887,
                    0.40060455200913236,
                    0.4050285013938234,
                    0.3268738460934125,
                    0.36263527190446443,
                    0.3047902379791476,
                    0.386131324804289,
                    0.4430630215042954,
                    0.47217462269674604,
                    0.47167507141977877,
                    0.3839973412778672,
                    0.41779670244908085,
                    0.40603065687144285,
                    0.4168180723289758,
                    0.42006383096349487
                  ],
                  "xaxis": "x2",
                  "y": [
                    88354000,
                    98931000,
                    413938000,
                    398657000,
                    378105000,
                    390726000,
                    384377000,
                    392546000,
                    393855000,
                    411271000,
                    352870000,
                    413336000,
                    406560000,
                    403578000,
                    399070000,
                    409157000,
                    283171000,
                    401471000,
                    403767000,
                    405034000,
                    408366000,
                    414785000,
                    409465000,
                    406784000,
                    399756000,
                    415660000,
                    395542000,
                    395801000,
                    395206000,
                    387156000,
                    408093000,
                    412503000,
                    418054000,
                    414897000,
                    403592000,
                    410291000,
                    406357000,
                    413630000,
                    407036000,
                    400015000,
                    419447000,
                    410585000,
                    417277000,
                    413357000,
                    394744000,
                    412769000,
                    382144000,
                    405405000,
                    413413000,
                    408982000,
                    410914000,
                    417151000,
                    411306000,
                    410564000,
                    415730000,
                    412461000,
                    412307000,
                    412356000,
                    393379000,
                    416325000,
                    416045000,
                    410508000,
                    410536000,
                    418229000,
                    412307000,
                    409927000,
                    399637000,
                    416108000,
                    413028000,
                    413553000,
                    398321000,
                    410900000,
                    415877000,
                    414841000,
                    410753000,
                    387310000,
                    412195000,
                    417767000,
                    414470000,
                    418733000,
                    412503000,
                    416535000,
                    415359000,
                    410921000,
                    418509000,
                    401331000,
                    409962000,
                    411194000,
                    409241000,
                    412055000,
                    404929000,
                    421330000,
                    403781000,
                    359527000,
                    411509000,
                    416451000,
                    417550000,
                    414988000,
                    421092000,
                    415261000,
                    414764000,
                    420861000,
                    417487000,
                    420252000,
                    416983000
                  ],
                  "yaxis": "y2"
                },
                {
                  "marker": {
                    "color": [
                      0,
                      1,
                      3,
                      4,
                      5,
                      6,
                      7,
                      8,
                      9,
                      10,
                      11,
                      12,
                      13,
                      14,
                      15,
                      16,
                      17,
                      18,
                      19,
                      20,
                      21,
                      22,
                      23,
                      24,
                      25,
                      26,
                      27,
                      28,
                      29,
                      30,
                      31,
                      32,
                      33,
                      34,
                      37,
                      38,
                      39,
                      40,
                      42,
                      43,
                      44,
                      45,
                      46,
                      47,
                      48,
                      49,
                      50,
                      51,
                      52,
                      53,
                      54,
                      55,
                      56,
                      57,
                      58,
                      59,
                      61,
                      62,
                      63,
                      64,
                      65,
                      66,
                      67,
                      68,
                      69,
                      70,
                      71,
                      72,
                      73,
                      74,
                      75,
                      76,
                      77,
                      78,
                      79,
                      80,
                      81,
                      82,
                      83,
                      85,
                      87,
                      88,
                      89,
                      90,
                      91,
                      92,
                      93,
                      94,
                      95,
                      96,
                      97,
                      98,
                      99,
                      100,
                      101,
                      102,
                      103,
                      104,
                      105,
                      106,
                      107,
                      108,
                      109,
                      110,
                      111
                    ],
                    "colorbar": {
                      "title": {
                        "text": "Trial"
                      },
                      "x": 1,
                      "xpad": 40
                    },
                    "colorscale": [
                      [
                        0,
                        "rgb(247,251,255)"
                      ],
                      [
                        0.125,
                        "rgb(222,235,247)"
                      ],
                      [
                        0.25,
                        "rgb(198,219,239)"
                      ],
                      [
                        0.375,
                        "rgb(158,202,225)"
                      ],
                      [
                        0.5,
                        "rgb(107,174,214)"
                      ],
                      [
                        0.625,
                        "rgb(66,146,198)"
                      ],
                      [
                        0.75,
                        "rgb(33,113,181)"
                      ],
                      [
                        0.875,
                        "rgb(8,81,156)"
                      ],
                      [
                        1,
                        "rgb(8,48,107)"
                      ]
                    ],
                    "line": {
                      "color": "Grey",
                      "width": 0.5
                    },
                    "showscale": false
                  },
                  "mode": "markers",
                  "name": "Feasible Trial",
                  "showlegend": false,
                  "type": "scatter",
                  "x": [
                    14,
                    61,
                    102,
                    118,
                    50,
                    58,
                    10,
                    34,
                    97,
                    76,
                    171,
                    111,
                    141,
                    200,
                    112,
                    141,
                    88,
                    137,
                    174,
                    116,
                    79,
                    75,
                    102,
                    127,
                    72,
                    34,
                    24,
                    43,
                    30,
                    8,
                    68,
                    101,
                    89,
                    86,
                    86,
                    57,
                    50,
                    84,
                    63,
                    24,
                    42,
                    39,
                    52,
                    56,
                    18,
                    40,
                    1,
                    44,
                    52,
                    63,
                    93,
                    78,
                    67,
                    80,
                    92,
                    31,
                    105,
                    122,
                    95,
                    49,
                    47,
                    46,
                    74,
                    54,
                    55,
                    36,
                    24,
                    67,
                    67,
                    60,
                    79,
                    47,
                    71,
                    50,
                    64,
                    58,
                    30,
                    42,
                    37,
                    54,
                    20,
                    54,
                    41,
                    52,
                    54,
                    60,
                    107,
                    54,
                    81,
                    31,
                    42,
                    47,
                    165,
                    34,
                    43,
                    73,
                    58,
                    63,
                    89,
                    99,
                    90,
                    86,
                    58,
                    83,
                    83
                  ],
                  "xaxis": "x3",
                  "y": [
                    88354000,
                    98931000,
                    413938000,
                    398657000,
                    378105000,
                    390726000,
                    384377000,
                    392546000,
                    393855000,
                    411271000,
                    352870000,
                    413336000,
                    406560000,
                    403578000,
                    399070000,
                    409157000,
                    283171000,
                    401471000,
                    403767000,
                    405034000,
                    408366000,
                    414785000,
                    409465000,
                    406784000,
                    399756000,
                    415660000,
                    395542000,
                    395801000,
                    395206000,
                    387156000,
                    408093000,
                    412503000,
                    418054000,
                    414897000,
                    403592000,
                    410291000,
                    406357000,
                    413630000,
                    407036000,
                    400015000,
                    419447000,
                    410585000,
                    417277000,
                    413357000,
                    394744000,
                    412769000,
                    382144000,
                    405405000,
                    413413000,
                    408982000,
                    410914000,
                    417151000,
                    411306000,
                    410564000,
                    415730000,
                    412461000,
                    412307000,
                    412356000,
                    393379000,
                    416325000,
                    416045000,
                    410508000,
                    410536000,
                    418229000,
                    412307000,
                    409927000,
                    399637000,
                    416108000,
                    413028000,
                    413553000,
                    398321000,
                    410900000,
                    415877000,
                    414841000,
                    410753000,
                    387310000,
                    412195000,
                    417767000,
                    414470000,
                    418733000,
                    412503000,
                    416535000,
                    415359000,
                    410921000,
                    418509000,
                    401331000,
                    409962000,
                    411194000,
                    409241000,
                    412055000,
                    404929000,
                    421330000,
                    403781000,
                    359527000,
                    411509000,
                    416451000,
                    417550000,
                    414988000,
                    421092000,
                    415261000,
                    414764000,
                    420861000,
                    417487000,
                    420252000,
                    416983000
                  ],
                  "yaxis": "y3"
                },
                {
                  "marker": {
                    "color": [
                      0,
                      1,
                      3,
                      4,
                      5,
                      6,
                      7,
                      8,
                      9,
                      10,
                      11,
                      12,
                      13,
                      14,
                      15,
                      16,
                      17,
                      18,
                      19,
                      20,
                      21,
                      22,
                      23,
                      24,
                      25,
                      26,
                      27,
                      28,
                      29,
                      30,
                      31,
                      32,
                      33,
                      34,
                      37,
                      38,
                      39,
                      40,
                      42,
                      43,
                      44,
                      45,
                      46,
                      47,
                      48,
                      49,
                      50,
                      51,
                      52,
                      53,
                      54,
                      55,
                      56,
                      57,
                      58,
                      59,
                      61,
                      62,
                      63,
                      64,
                      65,
                      66,
                      67,
                      68,
                      69,
                      70,
                      71,
                      72,
                      73,
                      74,
                      75,
                      76,
                      77,
                      78,
                      79,
                      80,
                      81,
                      82,
                      83,
                      85,
                      87,
                      88,
                      89,
                      90,
                      91,
                      92,
                      93,
                      94,
                      95,
                      96,
                      97,
                      98,
                      99,
                      100,
                      101,
                      102,
                      103,
                      104,
                      105,
                      106,
                      107,
                      108,
                      109,
                      110,
                      111
                    ],
                    "colorbar": {
                      "title": {
                        "text": "Trial"
                      },
                      "x": 1,
                      "xpad": 40
                    },
                    "colorscale": [
                      [
                        0,
                        "rgb(247,251,255)"
                      ],
                      [
                        0.125,
                        "rgb(222,235,247)"
                      ],
                      [
                        0.25,
                        "rgb(198,219,239)"
                      ],
                      [
                        0.375,
                        "rgb(158,202,225)"
                      ],
                      [
                        0.5,
                        "rgb(107,174,214)"
                      ],
                      [
                        0.625,
                        "rgb(66,146,198)"
                      ],
                      [
                        0.75,
                        "rgb(33,113,181)"
                      ],
                      [
                        0.875,
                        "rgb(8,81,156)"
                      ],
                      [
                        1,
                        "rgb(8,48,107)"
                      ]
                    ],
                    "line": {
                      "color": "Grey",
                      "width": 0.5
                    },
                    "showscale": false
                  },
                  "mode": "markers",
                  "name": "Feasible Trial",
                  "showlegend": false,
                  "type": "scatter",
                  "x": [
                    13,
                    598,
                    194,
                    1231,
                    1217,
                    1844,
                    1900,
                    967,
                    1519,
                    234,
                    567,
                    3,
                    6,
                    437,
                    819,
                    320,
                    205,
                    698,
                    149,
                    393,
                    479,
                    218,
                    127,
                    286,
                    705,
                    30,
                    898,
                    1108,
                    1441,
                    96,
                    350,
                    35,
                    31,
                    217,
                    523,
                    228,
                    670,
                    119,
                    344,
                    227,
                    96,
                    99,
                    15,
                    10,
                    1694,
                    82,
                    430,
                    285,
                    132,
                    602,
                    22,
                    187,
                    210,
                    282,
                    163,
                    86,
                    163,
                    378,
                    1300,
                    62,
                    161,
                    173,
                    275,
                    79,
                    66,
                    3,
                    458,
                    71,
                    72,
                    319,
                    1035,
                    154,
                    115,
                    60,
                    263,
                    1996,
                    186,
                    9,
                    9,
                    65,
                    112,
                    58,
                    49,
                    246,
                    135,
                    126,
                    206,
                    315,
                    14,
                    119,
                    386,
                    52,
                    196,
                    820,
                    43,
                    90,
                    135,
                    246,
                    140,
                    144,
                    2,
                    184,
                    103,
                    144,
                    151
                  ],
                  "xaxis": "x4",
                  "y": [
                    88354000,
                    98931000,
                    413938000,
                    398657000,
                    378105000,
                    390726000,
                    384377000,
                    392546000,
                    393855000,
                    411271000,
                    352870000,
                    413336000,
                    406560000,
                    403578000,
                    399070000,
                    409157000,
                    283171000,
                    401471000,
                    403767000,
                    405034000,
                    408366000,
                    414785000,
                    409465000,
                    406784000,
                    399756000,
                    415660000,
                    395542000,
                    395801000,
                    395206000,
                    387156000,
                    408093000,
                    412503000,
                    418054000,
                    414897000,
                    403592000,
                    410291000,
                    406357000,
                    413630000,
                    407036000,
                    400015000,
                    419447000,
                    410585000,
                    417277000,
                    413357000,
                    394744000,
                    412769000,
                    382144000,
                    405405000,
                    413413000,
                    408982000,
                    410914000,
                    417151000,
                    411306000,
                    410564000,
                    415730000,
                    412461000,
                    412307000,
                    412356000,
                    393379000,
                    416325000,
                    416045000,
                    410508000,
                    410536000,
                    418229000,
                    412307000,
                    409927000,
                    399637000,
                    416108000,
                    413028000,
                    413553000,
                    398321000,
                    410900000,
                    415877000,
                    414841000,
                    410753000,
                    387310000,
                    412195000,
                    417767000,
                    414470000,
                    418733000,
                    412503000,
                    416535000,
                    415359000,
                    410921000,
                    418509000,
                    401331000,
                    409962000,
                    411194000,
                    409241000,
                    412055000,
                    404929000,
                    421330000,
                    403781000,
                    359527000,
                    411509000,
                    416451000,
                    417550000,
                    414988000,
                    421092000,
                    415261000,
                    414764000,
                    420861000,
                    417487000,
                    420252000,
                    416983000
                  ],
                  "yaxis": "y4"
                }
              ],
              "layout": {
                "template": {
                  "data": {
                    "bar": [
                      {
                        "error_x": {
                          "color": "#2a3f5f"
                        },
                        "error_y": {
                          "color": "#2a3f5f"
                        },
                        "marker": {
                          "line": {
                            "color": "#E5ECF6",
                            "width": 0.5
                          },
                          "pattern": {
                            "fillmode": "overlay",
                            "size": 10,
                            "solidity": 0.2
                          }
                        },
                        "type": "bar"
                      }
                    ],
                    "barpolar": [
                      {
                        "marker": {
                          "line": {
                            "color": "#E5ECF6",
                            "width": 0.5
                          },
                          "pattern": {
                            "fillmode": "overlay",
                            "size": 10,
                            "solidity": 0.2
                          }
                        },
                        "type": "barpolar"
                      }
                    ],
                    "carpet": [
                      {
                        "aaxis": {
                          "endlinecolor": "#2a3f5f",
                          "gridcolor": "white",
                          "linecolor": "white",
                          "minorgridcolor": "white",
                          "startlinecolor": "#2a3f5f"
                        },
                        "baxis": {
                          "endlinecolor": "#2a3f5f",
                          "gridcolor": "white",
                          "linecolor": "white",
                          "minorgridcolor": "white",
                          "startlinecolor": "#2a3f5f"
                        },
                        "type": "carpet"
                      }
                    ],
                    "choropleth": [
                      {
                        "colorbar": {
                          "outlinewidth": 0,
                          "ticks": ""
                        },
                        "type": "choropleth"
                      }
                    ],
                    "contour": [
                      {
                        "colorbar": {
                          "outlinewidth": 0,
                          "ticks": ""
                        },
                        "colorscale": [
                          [
                            0,
                            "#0d0887"
                          ],
                          [
                            0.1111111111111111,
                            "#46039f"
                          ],
                          [
                            0.2222222222222222,
                            "#7201a8"
                          ],
                          [
                            0.3333333333333333,
                            "#9c179e"
                          ],
                          [
                            0.4444444444444444,
                            "#bd3786"
                          ],
                          [
                            0.5555555555555556,
                            "#d8576b"
                          ],
                          [
                            0.6666666666666666,
                            "#ed7953"
                          ],
                          [
                            0.7777777777777778,
                            "#fb9f3a"
                          ],
                          [
                            0.8888888888888888,
                            "#fdca26"
                          ],
                          [
                            1,
                            "#f0f921"
                          ]
                        ],
                        "type": "contour"
                      }
                    ],
                    "contourcarpet": [
                      {
                        "colorbar": {
                          "outlinewidth": 0,
                          "ticks": ""
                        },
                        "type": "contourcarpet"
                      }
                    ],
                    "heatmap": [
                      {
                        "colorbar": {
                          "outlinewidth": 0,
                          "ticks": ""
                        },
                        "colorscale": [
                          [
                            0,
                            "#0d0887"
                          ],
                          [
                            0.1111111111111111,
                            "#46039f"
                          ],
                          [
                            0.2222222222222222,
                            "#7201a8"
                          ],
                          [
                            0.3333333333333333,
                            "#9c179e"
                          ],
                          [
                            0.4444444444444444,
                            "#bd3786"
                          ],
                          [
                            0.5555555555555556,
                            "#d8576b"
                          ],
                          [
                            0.6666666666666666,
                            "#ed7953"
                          ],
                          [
                            0.7777777777777778,
                            "#fb9f3a"
                          ],
                          [
                            0.8888888888888888,
                            "#fdca26"
                          ],
                          [
                            1,
                            "#f0f921"
                          ]
                        ],
                        "type": "heatmap"
                      }
                    ],
                    "heatmapgl": [
                      {
                        "colorbar": {
                          "outlinewidth": 0,
                          "ticks": ""
                        },
                        "colorscale": [
                          [
                            0,
                            "#0d0887"
                          ],
                          [
                            0.1111111111111111,
                            "#46039f"
                          ],
                          [
                            0.2222222222222222,
                            "#7201a8"
                          ],
                          [
                            0.3333333333333333,
                            "#9c179e"
                          ],
                          [
                            0.4444444444444444,
                            "#bd3786"
                          ],
                          [
                            0.5555555555555556,
                            "#d8576b"
                          ],
                          [
                            0.6666666666666666,
                            "#ed7953"
                          ],
                          [
                            0.7777777777777778,
                            "#fb9f3a"
                          ],
                          [
                            0.8888888888888888,
                            "#fdca26"
                          ],
                          [
                            1,
                            "#f0f921"
                          ]
                        ],
                        "type": "heatmapgl"
                      }
                    ],
                    "histogram": [
                      {
                        "marker": {
                          "pattern": {
                            "fillmode": "overlay",
                            "size": 10,
                            "solidity": 0.2
                          }
                        },
                        "type": "histogram"
                      }
                    ],
                    "histogram2d": [
                      {
                        "colorbar": {
                          "outlinewidth": 0,
                          "ticks": ""
                        },
                        "colorscale": [
                          [
                            0,
                            "#0d0887"
                          ],
                          [
                            0.1111111111111111,
                            "#46039f"
                          ],
                          [
                            0.2222222222222222,
                            "#7201a8"
                          ],
                          [
                            0.3333333333333333,
                            "#9c179e"
                          ],
                          [
                            0.4444444444444444,
                            "#bd3786"
                          ],
                          [
                            0.5555555555555556,
                            "#d8576b"
                          ],
                          [
                            0.6666666666666666,
                            "#ed7953"
                          ],
                          [
                            0.7777777777777778,
                            "#fb9f3a"
                          ],
                          [
                            0.8888888888888888,
                            "#fdca26"
                          ],
                          [
                            1,
                            "#f0f921"
                          ]
                        ],
                        "type": "histogram2d"
                      }
                    ],
                    "histogram2dcontour": [
                      {
                        "colorbar": {
                          "outlinewidth": 0,
                          "ticks": ""
                        },
                        "colorscale": [
                          [
                            0,
                            "#0d0887"
                          ],
                          [
                            0.1111111111111111,
                            "#46039f"
                          ],
                          [
                            0.2222222222222222,
                            "#7201a8"
                          ],
                          [
                            0.3333333333333333,
                            "#9c179e"
                          ],
                          [
                            0.4444444444444444,
                            "#bd3786"
                          ],
                          [
                            0.5555555555555556,
                            "#d8576b"
                          ],
                          [
                            0.6666666666666666,
                            "#ed7953"
                          ],
                          [
                            0.7777777777777778,
                            "#fb9f3a"
                          ],
                          [
                            0.8888888888888888,
                            "#fdca26"
                          ],
                          [
                            1,
                            "#f0f921"
                          ]
                        ],
                        "type": "histogram2dcontour"
                      }
                    ],
                    "mesh3d": [
                      {
                        "colorbar": {
                          "outlinewidth": 0,
                          "ticks": ""
                        },
                        "type": "mesh3d"
                      }
                    ],
                    "parcoords": [
                      {
                        "line": {
                          "colorbar": {
                            "outlinewidth": 0,
                            "ticks": ""
                          }
                        },
                        "type": "parcoords"
                      }
                    ],
                    "pie": [
                      {
                        "automargin": true,
                        "type": "pie"
                      }
                    ],
                    "scatter": [
                      {
                        "fillpattern": {
                          "fillmode": "overlay",
                          "size": 10,
                          "solidity": 0.2
                        },
                        "type": "scatter"
                      }
                    ],
                    "scatter3d": [
                      {
                        "line": {
                          "colorbar": {
                            "outlinewidth": 0,
                            "ticks": ""
                          }
                        },
                        "marker": {
                          "colorbar": {
                            "outlinewidth": 0,
                            "ticks": ""
                          }
                        },
                        "type": "scatter3d"
                      }
                    ],
                    "scattercarpet": [
                      {
                        "marker": {
                          "colorbar": {
                            "outlinewidth": 0,
                            "ticks": ""
                          }
                        },
                        "type": "scattercarpet"
                      }
                    ],
                    "scattergeo": [
                      {
                        "marker": {
                          "colorbar": {
                            "outlinewidth": 0,
                            "ticks": ""
                          }
                        },
                        "type": "scattergeo"
                      }
                    ],
                    "scattergl": [
                      {
                        "marker": {
                          "colorbar": {
                            "outlinewidth": 0,
                            "ticks": ""
                          }
                        },
                        "type": "scattergl"
                      }
                    ],
                    "scattermapbox": [
                      {
                        "marker": {
                          "colorbar": {
                            "outlinewidth": 0,
                            "ticks": ""
                          }
                        },
                        "type": "scattermapbox"
                      }
                    ],
                    "scatterpolar": [
                      {
                        "marker": {
                          "colorbar": {
                            "outlinewidth": 0,
                            "ticks": ""
                          }
                        },
                        "type": "scatterpolar"
                      }
                    ],
                    "scatterpolargl": [
                      {
                        "marker": {
                          "colorbar": {
                            "outlinewidth": 0,
                            "ticks": ""
                          }
                        },
                        "type": "scatterpolargl"
                      }
                    ],
                    "scatterternary": [
                      {
                        "marker": {
                          "colorbar": {
                            "outlinewidth": 0,
                            "ticks": ""
                          }
                        },
                        "type": "scatterternary"
                      }
                    ],
                    "surface": [
                      {
                        "colorbar": {
                          "outlinewidth": 0,
                          "ticks": ""
                        },
                        "colorscale": [
                          [
                            0,
                            "#0d0887"
                          ],
                          [
                            0.1111111111111111,
                            "#46039f"
                          ],
                          [
                            0.2222222222222222,
                            "#7201a8"
                          ],
                          [
                            0.3333333333333333,
                            "#9c179e"
                          ],
                          [
                            0.4444444444444444,
                            "#bd3786"
                          ],
                          [
                            0.5555555555555556,
                            "#d8576b"
                          ],
                          [
                            0.6666666666666666,
                            "#ed7953"
                          ],
                          [
                            0.7777777777777778,
                            "#fb9f3a"
                          ],
                          [
                            0.8888888888888888,
                            "#fdca26"
                          ],
                          [
                            1,
                            "#f0f921"
                          ]
                        ],
                        "type": "surface"
                      }
                    ],
                    "table": [
                      {
                        "cells": {
                          "fill": {
                            "color": "#EBF0F8"
                          },
                          "line": {
                            "color": "white"
                          }
                        },
                        "header": {
                          "fill": {
                            "color": "#C8D4E3"
                          },
                          "line": {
                            "color": "white"
                          }
                        },
                        "type": "table"
                      }
                    ]
                  },
                  "layout": {
                    "annotationdefaults": {
                      "arrowcolor": "#2a3f5f",
                      "arrowhead": 0,
                      "arrowwidth": 1
                    },
                    "autotypenumbers": "strict",
                    "coloraxis": {
                      "colorbar": {
                        "outlinewidth": 0,
                        "ticks": ""
                      }
                    },
                    "colorscale": {
                      "diverging": [
                        [
                          0,
                          "#8e0152"
                        ],
                        [
                          0.1,
                          "#c51b7d"
                        ],
                        [
                          0.2,
                          "#de77ae"
                        ],
                        [
                          0.3,
                          "#f1b6da"
                        ],
                        [
                          0.4,
                          "#fde0ef"
                        ],
                        [
                          0.5,
                          "#f7f7f7"
                        ],
                        [
                          0.6,
                          "#e6f5d0"
                        ],
                        [
                          0.7,
                          "#b8e186"
                        ],
                        [
                          0.8,
                          "#7fbc41"
                        ],
                        [
                          0.9,
                          "#4d9221"
                        ],
                        [
                          1,
                          "#276419"
                        ]
                      ],
                      "sequential": [
                        [
                          0,
                          "#0d0887"
                        ],
                        [
                          0.1111111111111111,
                          "#46039f"
                        ],
                        [
                          0.2222222222222222,
                          "#7201a8"
                        ],
                        [
                          0.3333333333333333,
                          "#9c179e"
                        ],
                        [
                          0.4444444444444444,
                          "#bd3786"
                        ],
                        [
                          0.5555555555555556,
                          "#d8576b"
                        ],
                        [
                          0.6666666666666666,
                          "#ed7953"
                        ],
                        [
                          0.7777777777777778,
                          "#fb9f3a"
                        ],
                        [
                          0.8888888888888888,
                          "#fdca26"
                        ],
                        [
                          1,
                          "#f0f921"
                        ]
                      ],
                      "sequentialminus": [
                        [
                          0,
                          "#0d0887"
                        ],
                        [
                          0.1111111111111111,
                          "#46039f"
                        ],
                        [
                          0.2222222222222222,
                          "#7201a8"
                        ],
                        [
                          0.3333333333333333,
                          "#9c179e"
                        ],
                        [
                          0.4444444444444444,
                          "#bd3786"
                        ],
                        [
                          0.5555555555555556,
                          "#d8576b"
                        ],
                        [
                          0.6666666666666666,
                          "#ed7953"
                        ],
                        [
                          0.7777777777777778,
                          "#fb9f3a"
                        ],
                        [
                          0.8888888888888888,
                          "#fdca26"
                        ],
                        [
                          1,
                          "#f0f921"
                        ]
                      ]
                    },
                    "colorway": [
                      "#636efa",
                      "#EF553B",
                      "#00cc96",
                      "#ab63fa",
                      "#FFA15A",
                      "#19d3f3",
                      "#FF6692",
                      "#B6E880",
                      "#FF97FF",
                      "#FECB52"
                    ],
                    "font": {
                      "color": "#2a3f5f"
                    },
                    "geo": {
                      "bgcolor": "white",
                      "lakecolor": "white",
                      "landcolor": "#E5ECF6",
                      "showlakes": true,
                      "showland": true,
                      "subunitcolor": "white"
                    },
                    "hoverlabel": {
                      "align": "left"
                    },
                    "hovermode": "closest",
                    "mapbox": {
                      "style": "light"
                    },
                    "paper_bgcolor": "white",
                    "plot_bgcolor": "#E5ECF6",
                    "polar": {
                      "angularaxis": {
                        "gridcolor": "white",
                        "linecolor": "white",
                        "ticks": ""
                      },
                      "bgcolor": "#E5ECF6",
                      "radialaxis": {
                        "gridcolor": "white",
                        "linecolor": "white",
                        "ticks": ""
                      }
                    },
                    "scene": {
                      "xaxis": {
                        "backgroundcolor": "#E5ECF6",
                        "gridcolor": "white",
                        "gridwidth": 2,
                        "linecolor": "white",
                        "showbackground": true,
                        "ticks": "",
                        "zerolinecolor": "white"
                      },
                      "yaxis": {
                        "backgroundcolor": "#E5ECF6",
                        "gridcolor": "white",
                        "gridwidth": 2,
                        "linecolor": "white",
                        "showbackground": true,
                        "ticks": "",
                        "zerolinecolor": "white"
                      },
                      "zaxis": {
                        "backgroundcolor": "#E5ECF6",
                        "gridcolor": "white",
                        "gridwidth": 2,
                        "linecolor": "white",
                        "showbackground": true,
                        "ticks": "",
                        "zerolinecolor": "white"
                      }
                    },
                    "shapedefaults": {
                      "line": {
                        "color": "#2a3f5f"
                      }
                    },
                    "ternary": {
                      "aaxis": {
                        "gridcolor": "white",
                        "linecolor": "white",
                        "ticks": ""
                      },
                      "baxis": {
                        "gridcolor": "white",
                        "linecolor": "white",
                        "ticks": ""
                      },
                      "bgcolor": "#E5ECF6",
                      "caxis": {
                        "gridcolor": "white",
                        "linecolor": "white",
                        "ticks": ""
                      }
                    },
                    "title": {
                      "x": 0.05
                    },
                    "xaxis": {
                      "automargin": true,
                      "gridcolor": "white",
                      "linecolor": "white",
                      "ticks": "",
                      "title": {
                        "standoff": 15
                      },
                      "zerolinecolor": "white",
                      "zerolinewidth": 2
                    },
                    "yaxis": {
                      "automargin": true,
                      "gridcolor": "white",
                      "linecolor": "white",
                      "ticks": "",
                      "title": {
                        "standoff": 15
                      },
                      "zerolinecolor": "white",
                      "zerolinewidth": 2
                    }
                  }
                },
                "title": {
                  "text": "Slice Plot"
                },
                "width": 1200,
                "xaxis": {
                  "anchor": "y",
                  "domain": [
                    0,
                    0.2125
                  ],
                  "title": {
                    "text": "max_depth"
                  }
                },
                "xaxis2": {
                  "anchor": "y2",
                  "domain": [
                    0.2625,
                    0.475
                  ],
                  "title": {
                    "text": "max_features"
                  }
                },
                "xaxis3": {
                  "anchor": "y3",
                  "domain": [
                    0.525,
                    0.7375
                  ],
                  "title": {
                    "text": "min_samples_leaf"
                  }
                },
                "xaxis4": {
                  "anchor": "y4",
                  "domain": [
                    0.7875,
                    1
                  ],
                  "title": {
                    "text": "min_samples_split"
                  }
                },
                "yaxis": {
                  "anchor": "x",
                  "domain": [
                    0,
                    1
                  ],
                  "title": {
                    "text": "Objective Value"
                  }
                },
                "yaxis2": {
                  "anchor": "x2",
                  "domain": [
                    0,
                    1
                  ],
                  "matches": "y",
                  "showticklabels": false
                },
                "yaxis3": {
                  "anchor": "x3",
                  "domain": [
                    0,
                    1
                  ],
                  "matches": "y",
                  "showticklabels": false
                },
                "yaxis4": {
                  "anchor": "x4",
                  "domain": [
                    0,
                    1
                  ],
                  "matches": "y",
                  "showticklabels": false
                }
              }
            }
          },
          "metadata": {},
          "output_type": "display_data"
        }
      ],
      "source": [
        "#d. Analizo la performance para distintos valores de los hiperparámetros, y su resultado en las ganancias.\n",
        "plot_slice(study)"
      ]
    },
    {
      "cell_type": "code",
      "execution_count": 10,
      "metadata": {},
      "outputs": [],
      "source": [
        "#e. Construyo el modelo con dichos hiperparámetros.\n",
        "model_rf = RandomForestClassifier(\n",
        "        n_estimators=100,\n",
        "        **study.best_params,\n",
        "        max_samples=0.7,\n",
        "        random_state=semillas[0],\n",
        "        n_jobs=-1,\n",
        "        oob_score=True\n",
        "    )"
      ]
    },
    {
      "cell_type": "code",
      "execution_count": 11,
      "metadata": {},
      "outputs": [
        {
          "data": {
            "text/html": [
              "<style>#sk-container-id-1 {\n",
              "  /* Definition of color scheme common for light and dark mode */\n",
              "  --sklearn-color-text: black;\n",
              "  --sklearn-color-line: gray;\n",
              "  /* Definition of color scheme for unfitted estimators */\n",
              "  --sklearn-color-unfitted-level-0: #fff5e6;\n",
              "  --sklearn-color-unfitted-level-1: #f6e4d2;\n",
              "  --sklearn-color-unfitted-level-2: #ffe0b3;\n",
              "  --sklearn-color-unfitted-level-3: chocolate;\n",
              "  /* Definition of color scheme for fitted estimators */\n",
              "  --sklearn-color-fitted-level-0: #f0f8ff;\n",
              "  --sklearn-color-fitted-level-1: #d4ebff;\n",
              "  --sklearn-color-fitted-level-2: #b3dbfd;\n",
              "  --sklearn-color-fitted-level-3: cornflowerblue;\n",
              "\n",
              "  /* Specific color for light theme */\n",
              "  --sklearn-color-text-on-default-background: var(--sg-text-color, var(--theme-code-foreground, var(--jp-content-font-color1, black)));\n",
              "  --sklearn-color-background: var(--sg-background-color, var(--theme-background, var(--jp-layout-color0, white)));\n",
              "  --sklearn-color-border-box: var(--sg-text-color, var(--theme-code-foreground, var(--jp-content-font-color1, black)));\n",
              "  --sklearn-color-icon: #696969;\n",
              "\n",
              "  @media (prefers-color-scheme: dark) {\n",
              "    /* Redefinition of color scheme for dark theme */\n",
              "    --sklearn-color-text-on-default-background: var(--sg-text-color, var(--theme-code-foreground, var(--jp-content-font-color1, white)));\n",
              "    --sklearn-color-background: var(--sg-background-color, var(--theme-background, var(--jp-layout-color0, #111)));\n",
              "    --sklearn-color-border-box: var(--sg-text-color, var(--theme-code-foreground, var(--jp-content-font-color1, white)));\n",
              "    --sklearn-color-icon: #878787;\n",
              "  }\n",
              "}\n",
              "\n",
              "#sk-container-id-1 {\n",
              "  color: var(--sklearn-color-text);\n",
              "}\n",
              "\n",
              "#sk-container-id-1 pre {\n",
              "  padding: 0;\n",
              "}\n",
              "\n",
              "#sk-container-id-1 input.sk-hidden--visually {\n",
              "  border: 0;\n",
              "  clip: rect(1px 1px 1px 1px);\n",
              "  clip: rect(1px, 1px, 1px, 1px);\n",
              "  height: 1px;\n",
              "  margin: -1px;\n",
              "  overflow: hidden;\n",
              "  padding: 0;\n",
              "  position: absolute;\n",
              "  width: 1px;\n",
              "}\n",
              "\n",
              "#sk-container-id-1 div.sk-dashed-wrapped {\n",
              "  border: 1px dashed var(--sklearn-color-line);\n",
              "  margin: 0 0.4em 0.5em 0.4em;\n",
              "  box-sizing: border-box;\n",
              "  padding-bottom: 0.4em;\n",
              "  background-color: var(--sklearn-color-background);\n",
              "}\n",
              "\n",
              "#sk-container-id-1 div.sk-container {\n",
              "  /* jupyter's `normalize.less` sets `[hidden] { display: none; }`\n",
              "     but bootstrap.min.css set `[hidden] { display: none !important; }`\n",
              "     so we also need the `!important` here to be able to override the\n",
              "     default hidden behavior on the sphinx rendered scikit-learn.org.\n",
              "     See: https://github.com/scikit-learn/scikit-learn/issues/21755 */\n",
              "  display: inline-block !important;\n",
              "  position: relative;\n",
              "}\n",
              "\n",
              "#sk-container-id-1 div.sk-text-repr-fallback {\n",
              "  display: none;\n",
              "}\n",
              "\n",
              "div.sk-parallel-item,\n",
              "div.sk-serial,\n",
              "div.sk-item {\n",
              "  /* draw centered vertical line to link estimators */\n",
              "  background-image: linear-gradient(var(--sklearn-color-text-on-default-background), var(--sklearn-color-text-on-default-background));\n",
              "  background-size: 2px 100%;\n",
              "  background-repeat: no-repeat;\n",
              "  background-position: center center;\n",
              "}\n",
              "\n",
              "/* Parallel-specific style estimator block */\n",
              "\n",
              "#sk-container-id-1 div.sk-parallel-item::after {\n",
              "  content: \"\";\n",
              "  width: 100%;\n",
              "  border-bottom: 2px solid var(--sklearn-color-text-on-default-background);\n",
              "  flex-grow: 1;\n",
              "}\n",
              "\n",
              "#sk-container-id-1 div.sk-parallel {\n",
              "  display: flex;\n",
              "  align-items: stretch;\n",
              "  justify-content: center;\n",
              "  background-color: var(--sklearn-color-background);\n",
              "  position: relative;\n",
              "}\n",
              "\n",
              "#sk-container-id-1 div.sk-parallel-item {\n",
              "  display: flex;\n",
              "  flex-direction: column;\n",
              "}\n",
              "\n",
              "#sk-container-id-1 div.sk-parallel-item:first-child::after {\n",
              "  align-self: flex-end;\n",
              "  width: 50%;\n",
              "}\n",
              "\n",
              "#sk-container-id-1 div.sk-parallel-item:last-child::after {\n",
              "  align-self: flex-start;\n",
              "  width: 50%;\n",
              "}\n",
              "\n",
              "#sk-container-id-1 div.sk-parallel-item:only-child::after {\n",
              "  width: 0;\n",
              "}\n",
              "\n",
              "/* Serial-specific style estimator block */\n",
              "\n",
              "#sk-container-id-1 div.sk-serial {\n",
              "  display: flex;\n",
              "  flex-direction: column;\n",
              "  align-items: center;\n",
              "  background-color: var(--sklearn-color-background);\n",
              "  padding-right: 1em;\n",
              "  padding-left: 1em;\n",
              "}\n",
              "\n",
              "\n",
              "/* Toggleable style: style used for estimator/Pipeline/ColumnTransformer box that is\n",
              "clickable and can be expanded/collapsed.\n",
              "- Pipeline and ColumnTransformer use this feature and define the default style\n",
              "- Estimators will overwrite some part of the style using the `sk-estimator` class\n",
              "*/\n",
              "\n",
              "/* Pipeline and ColumnTransformer style (default) */\n",
              "\n",
              "#sk-container-id-1 div.sk-toggleable {\n",
              "  /* Default theme specific background. It is overwritten whether we have a\n",
              "  specific estimator or a Pipeline/ColumnTransformer */\n",
              "  background-color: var(--sklearn-color-background);\n",
              "}\n",
              "\n",
              "/* Toggleable label */\n",
              "#sk-container-id-1 label.sk-toggleable__label {\n",
              "  cursor: pointer;\n",
              "  display: block;\n",
              "  width: 100%;\n",
              "  margin-bottom: 0;\n",
              "  padding: 0.5em;\n",
              "  box-sizing: border-box;\n",
              "  text-align: center;\n",
              "}\n",
              "\n",
              "#sk-container-id-1 label.sk-toggleable__label-arrow:before {\n",
              "  /* Arrow on the left of the label */\n",
              "  content: \"▸\";\n",
              "  float: left;\n",
              "  margin-right: 0.25em;\n",
              "  color: var(--sklearn-color-icon);\n",
              "}\n",
              "\n",
              "#sk-container-id-1 label.sk-toggleable__label-arrow:hover:before {\n",
              "  color: var(--sklearn-color-text);\n",
              "}\n",
              "\n",
              "/* Toggleable content - dropdown */\n",
              "\n",
              "#sk-container-id-1 div.sk-toggleable__content {\n",
              "  max-height: 0;\n",
              "  max-width: 0;\n",
              "  overflow: hidden;\n",
              "  text-align: left;\n",
              "  /* unfitted */\n",
              "  background-color: var(--sklearn-color-unfitted-level-0);\n",
              "}\n",
              "\n",
              "#sk-container-id-1 div.sk-toggleable__content.fitted {\n",
              "  /* fitted */\n",
              "  background-color: var(--sklearn-color-fitted-level-0);\n",
              "}\n",
              "\n",
              "#sk-container-id-1 div.sk-toggleable__content pre {\n",
              "  margin: 0.2em;\n",
              "  border-radius: 0.25em;\n",
              "  color: var(--sklearn-color-text);\n",
              "  /* unfitted */\n",
              "  background-color: var(--sklearn-color-unfitted-level-0);\n",
              "}\n",
              "\n",
              "#sk-container-id-1 div.sk-toggleable__content.fitted pre {\n",
              "  /* unfitted */\n",
              "  background-color: var(--sklearn-color-fitted-level-0);\n",
              "}\n",
              "\n",
              "#sk-container-id-1 input.sk-toggleable__control:checked~div.sk-toggleable__content {\n",
              "  /* Expand drop-down */\n",
              "  max-height: 200px;\n",
              "  max-width: 100%;\n",
              "  overflow: auto;\n",
              "}\n",
              "\n",
              "#sk-container-id-1 input.sk-toggleable__control:checked~label.sk-toggleable__label-arrow:before {\n",
              "  content: \"▾\";\n",
              "}\n",
              "\n",
              "/* Pipeline/ColumnTransformer-specific style */\n",
              "\n",
              "#sk-container-id-1 div.sk-label input.sk-toggleable__control:checked~label.sk-toggleable__label {\n",
              "  color: var(--sklearn-color-text);\n",
              "  background-color: var(--sklearn-color-unfitted-level-2);\n",
              "}\n",
              "\n",
              "#sk-container-id-1 div.sk-label.fitted input.sk-toggleable__control:checked~label.sk-toggleable__label {\n",
              "  background-color: var(--sklearn-color-fitted-level-2);\n",
              "}\n",
              "\n",
              "/* Estimator-specific style */\n",
              "\n",
              "/* Colorize estimator box */\n",
              "#sk-container-id-1 div.sk-estimator input.sk-toggleable__control:checked~label.sk-toggleable__label {\n",
              "  /* unfitted */\n",
              "  background-color: var(--sklearn-color-unfitted-level-2);\n",
              "}\n",
              "\n",
              "#sk-container-id-1 div.sk-estimator.fitted input.sk-toggleable__control:checked~label.sk-toggleable__label {\n",
              "  /* fitted */\n",
              "  background-color: var(--sklearn-color-fitted-level-2);\n",
              "}\n",
              "\n",
              "#sk-container-id-1 div.sk-label label.sk-toggleable__label,\n",
              "#sk-container-id-1 div.sk-label label {\n",
              "  /* The background is the default theme color */\n",
              "  color: var(--sklearn-color-text-on-default-background);\n",
              "}\n",
              "\n",
              "/* On hover, darken the color of the background */\n",
              "#sk-container-id-1 div.sk-label:hover label.sk-toggleable__label {\n",
              "  color: var(--sklearn-color-text);\n",
              "  background-color: var(--sklearn-color-unfitted-level-2);\n",
              "}\n",
              "\n",
              "/* Label box, darken color on hover, fitted */\n",
              "#sk-container-id-1 div.sk-label.fitted:hover label.sk-toggleable__label.fitted {\n",
              "  color: var(--sklearn-color-text);\n",
              "  background-color: var(--sklearn-color-fitted-level-2);\n",
              "}\n",
              "\n",
              "/* Estimator label */\n",
              "\n",
              "#sk-container-id-1 div.sk-label label {\n",
              "  font-family: monospace;\n",
              "  font-weight: bold;\n",
              "  display: inline-block;\n",
              "  line-height: 1.2em;\n",
              "}\n",
              "\n",
              "#sk-container-id-1 div.sk-label-container {\n",
              "  text-align: center;\n",
              "}\n",
              "\n",
              "/* Estimator-specific */\n",
              "#sk-container-id-1 div.sk-estimator {\n",
              "  font-family: monospace;\n",
              "  border: 1px dotted var(--sklearn-color-border-box);\n",
              "  border-radius: 0.25em;\n",
              "  box-sizing: border-box;\n",
              "  margin-bottom: 0.5em;\n",
              "  /* unfitted */\n",
              "  background-color: var(--sklearn-color-unfitted-level-0);\n",
              "}\n",
              "\n",
              "#sk-container-id-1 div.sk-estimator.fitted {\n",
              "  /* fitted */\n",
              "  background-color: var(--sklearn-color-fitted-level-0);\n",
              "}\n",
              "\n",
              "/* on hover */\n",
              "#sk-container-id-1 div.sk-estimator:hover {\n",
              "  /* unfitted */\n",
              "  background-color: var(--sklearn-color-unfitted-level-2);\n",
              "}\n",
              "\n",
              "#sk-container-id-1 div.sk-estimator.fitted:hover {\n",
              "  /* fitted */\n",
              "  background-color: var(--sklearn-color-fitted-level-2);\n",
              "}\n",
              "\n",
              "/* Specification for estimator info (e.g. \"i\" and \"?\") */\n",
              "\n",
              "/* Common style for \"i\" and \"?\" */\n",
              "\n",
              ".sk-estimator-doc-link,\n",
              "a:link.sk-estimator-doc-link,\n",
              "a:visited.sk-estimator-doc-link {\n",
              "  float: right;\n",
              "  font-size: smaller;\n",
              "  line-height: 1em;\n",
              "  font-family: monospace;\n",
              "  background-color: var(--sklearn-color-background);\n",
              "  border-radius: 1em;\n",
              "  height: 1em;\n",
              "  width: 1em;\n",
              "  text-decoration: none !important;\n",
              "  margin-left: 1ex;\n",
              "  /* unfitted */\n",
              "  border: var(--sklearn-color-unfitted-level-1) 1pt solid;\n",
              "  color: var(--sklearn-color-unfitted-level-1);\n",
              "}\n",
              "\n",
              ".sk-estimator-doc-link.fitted,\n",
              "a:link.sk-estimator-doc-link.fitted,\n",
              "a:visited.sk-estimator-doc-link.fitted {\n",
              "  /* fitted */\n",
              "  border: var(--sklearn-color-fitted-level-1) 1pt solid;\n",
              "  color: var(--sklearn-color-fitted-level-1);\n",
              "}\n",
              "\n",
              "/* On hover */\n",
              "div.sk-estimator:hover .sk-estimator-doc-link:hover,\n",
              ".sk-estimator-doc-link:hover,\n",
              "div.sk-label-container:hover .sk-estimator-doc-link:hover,\n",
              ".sk-estimator-doc-link:hover {\n",
              "  /* unfitted */\n",
              "  background-color: var(--sklearn-color-unfitted-level-3);\n",
              "  color: var(--sklearn-color-background);\n",
              "  text-decoration: none;\n",
              "}\n",
              "\n",
              "div.sk-estimator.fitted:hover .sk-estimator-doc-link.fitted:hover,\n",
              ".sk-estimator-doc-link.fitted:hover,\n",
              "div.sk-label-container:hover .sk-estimator-doc-link.fitted:hover,\n",
              ".sk-estimator-doc-link.fitted:hover {\n",
              "  /* fitted */\n",
              "  background-color: var(--sklearn-color-fitted-level-3);\n",
              "  color: var(--sklearn-color-background);\n",
              "  text-decoration: none;\n",
              "}\n",
              "\n",
              "/* Span, style for the box shown on hovering the info icon */\n",
              ".sk-estimator-doc-link span {\n",
              "  display: none;\n",
              "  z-index: 9999;\n",
              "  position: relative;\n",
              "  font-weight: normal;\n",
              "  right: .2ex;\n",
              "  padding: .5ex;\n",
              "  margin: .5ex;\n",
              "  width: min-content;\n",
              "  min-width: 20ex;\n",
              "  max-width: 50ex;\n",
              "  color: var(--sklearn-color-text);\n",
              "  box-shadow: 2pt 2pt 4pt #999;\n",
              "  /* unfitted */\n",
              "  background: var(--sklearn-color-unfitted-level-0);\n",
              "  border: .5pt solid var(--sklearn-color-unfitted-level-3);\n",
              "}\n",
              "\n",
              ".sk-estimator-doc-link.fitted span {\n",
              "  /* fitted */\n",
              "  background: var(--sklearn-color-fitted-level-0);\n",
              "  border: var(--sklearn-color-fitted-level-3);\n",
              "}\n",
              "\n",
              ".sk-estimator-doc-link:hover span {\n",
              "  display: block;\n",
              "}\n",
              "\n",
              "/* \"?\"-specific style due to the `<a>` HTML tag */\n",
              "\n",
              "#sk-container-id-1 a.estimator_doc_link {\n",
              "  float: right;\n",
              "  font-size: 1rem;\n",
              "  line-height: 1em;\n",
              "  font-family: monospace;\n",
              "  background-color: var(--sklearn-color-background);\n",
              "  border-radius: 1rem;\n",
              "  height: 1rem;\n",
              "  width: 1rem;\n",
              "  text-decoration: none;\n",
              "  /* unfitted */\n",
              "  color: var(--sklearn-color-unfitted-level-1);\n",
              "  border: var(--sklearn-color-unfitted-level-1) 1pt solid;\n",
              "}\n",
              "\n",
              "#sk-container-id-1 a.estimator_doc_link.fitted {\n",
              "  /* fitted */\n",
              "  border: var(--sklearn-color-fitted-level-1) 1pt solid;\n",
              "  color: var(--sklearn-color-fitted-level-1);\n",
              "}\n",
              "\n",
              "/* On hover */\n",
              "#sk-container-id-1 a.estimator_doc_link:hover {\n",
              "  /* unfitted */\n",
              "  background-color: var(--sklearn-color-unfitted-level-3);\n",
              "  color: var(--sklearn-color-background);\n",
              "  text-decoration: none;\n",
              "}\n",
              "\n",
              "#sk-container-id-1 a.estimator_doc_link.fitted:hover {\n",
              "  /* fitted */\n",
              "  background-color: var(--sklearn-color-fitted-level-3);\n",
              "}\n",
              "</style><div id=\"sk-container-id-1\" class=\"sk-top-container\"><div class=\"sk-text-repr-fallback\"><pre>RandomForestClassifier(max_depth=23, max_features=0.40060455200913236,\n",
              "                       max_samples=0.7, min_samples_leaf=47,\n",
              "                       min_samples_split=52, n_jobs=-1, oob_score=True,\n",
              "                       random_state=211777)</pre><b>In a Jupyter environment, please rerun this cell to show the HTML representation or trust the notebook. <br />On GitHub, the HTML representation is unable to render, please try loading this page with nbviewer.org.</b></div><div class=\"sk-container\" hidden><div class=\"sk-item\"><div class=\"sk-estimator fitted sk-toggleable\"><input class=\"sk-toggleable__control sk-hidden--visually\" id=\"sk-estimator-id-1\" type=\"checkbox\" checked><label for=\"sk-estimator-id-1\" class=\"sk-toggleable__label fitted sk-toggleable__label-arrow fitted\">&nbsp;&nbsp;RandomForestClassifier<a class=\"sk-estimator-doc-link fitted\" rel=\"noreferrer\" target=\"_blank\" href=\"https://scikit-learn.org/1.5/modules/generated/sklearn.ensemble.RandomForestClassifier.html\">?<span>Documentation for RandomForestClassifier</span></a><span class=\"sk-estimator-doc-link fitted\">i<span>Fitted</span></span></label><div class=\"sk-toggleable__content fitted\"><pre>RandomForestClassifier(max_depth=23, max_features=0.40060455200913236,\n",
              "                       max_samples=0.7, min_samples_leaf=47,\n",
              "                       min_samples_split=52, n_jobs=-1, oob_score=True,\n",
              "                       random_state=211777)</pre></div> </div></div></div></div>"
            ],
            "text/plain": [
              "RandomForestClassifier(max_depth=23, max_features=0.40060455200913236,\n",
              "                       max_samples=0.7, min_samples_leaf=47,\n",
              "                       min_samples_split=52, n_jobs=-1, oob_score=True,\n",
              "                       random_state=211777)"
            ]
          },
          "execution_count": 11,
          "metadata": {},
          "output_type": "execute_result"
        }
      ],
      "source": [
        "#f. Entreno.\n",
        "model_rf.fit(Xi, y)"
      ]
    },
    {
      "cell_type": "code",
      "execution_count": 12,
      "metadata": {},
      "outputs": [],
      "source": [
        "#g. Guardo el Modelo.\n",
        "filename = modelos_path + 'exp_206_rf_100_imputacion_media.sav'\n",
        "pickle.dump(model_rf, open(filename, 'wb'))"
      ]
    },
    {
      "cell_type": "code",
      "execution_count": null,
      "metadata": {},
      "outputs": [],
      "source": [
        "filename = modelos_path + 'exp_206_rf_100_imputacion_media.sav'\n",
        "model_rf = pickle.load(open(filename, 'rb'))\n"
      ]
    },
    {
      "cell_type": "code",
      "execution_count": 13,
      "metadata": {},
      "outputs": [
        {
          "data": {
            "text/html": [
              "<style>#sk-container-id-2 {\n",
              "  /* Definition of color scheme common for light and dark mode */\n",
              "  --sklearn-color-text: black;\n",
              "  --sklearn-color-line: gray;\n",
              "  /* Definition of color scheme for unfitted estimators */\n",
              "  --sklearn-color-unfitted-level-0: #fff5e6;\n",
              "  --sklearn-color-unfitted-level-1: #f6e4d2;\n",
              "  --sklearn-color-unfitted-level-2: #ffe0b3;\n",
              "  --sklearn-color-unfitted-level-3: chocolate;\n",
              "  /* Definition of color scheme for fitted estimators */\n",
              "  --sklearn-color-fitted-level-0: #f0f8ff;\n",
              "  --sklearn-color-fitted-level-1: #d4ebff;\n",
              "  --sklearn-color-fitted-level-2: #b3dbfd;\n",
              "  --sklearn-color-fitted-level-3: cornflowerblue;\n",
              "\n",
              "  /* Specific color for light theme */\n",
              "  --sklearn-color-text-on-default-background: var(--sg-text-color, var(--theme-code-foreground, var(--jp-content-font-color1, black)));\n",
              "  --sklearn-color-background: var(--sg-background-color, var(--theme-background, var(--jp-layout-color0, white)));\n",
              "  --sklearn-color-border-box: var(--sg-text-color, var(--theme-code-foreground, var(--jp-content-font-color1, black)));\n",
              "  --sklearn-color-icon: #696969;\n",
              "\n",
              "  @media (prefers-color-scheme: dark) {\n",
              "    /* Redefinition of color scheme for dark theme */\n",
              "    --sklearn-color-text-on-default-background: var(--sg-text-color, var(--theme-code-foreground, var(--jp-content-font-color1, white)));\n",
              "    --sklearn-color-background: var(--sg-background-color, var(--theme-background, var(--jp-layout-color0, #111)));\n",
              "    --sklearn-color-border-box: var(--sg-text-color, var(--theme-code-foreground, var(--jp-content-font-color1, white)));\n",
              "    --sklearn-color-icon: #878787;\n",
              "  }\n",
              "}\n",
              "\n",
              "#sk-container-id-2 {\n",
              "  color: var(--sklearn-color-text);\n",
              "}\n",
              "\n",
              "#sk-container-id-2 pre {\n",
              "  padding: 0;\n",
              "}\n",
              "\n",
              "#sk-container-id-2 input.sk-hidden--visually {\n",
              "  border: 0;\n",
              "  clip: rect(1px 1px 1px 1px);\n",
              "  clip: rect(1px, 1px, 1px, 1px);\n",
              "  height: 1px;\n",
              "  margin: -1px;\n",
              "  overflow: hidden;\n",
              "  padding: 0;\n",
              "  position: absolute;\n",
              "  width: 1px;\n",
              "}\n",
              "\n",
              "#sk-container-id-2 div.sk-dashed-wrapped {\n",
              "  border: 1px dashed var(--sklearn-color-line);\n",
              "  margin: 0 0.4em 0.5em 0.4em;\n",
              "  box-sizing: border-box;\n",
              "  padding-bottom: 0.4em;\n",
              "  background-color: var(--sklearn-color-background);\n",
              "}\n",
              "\n",
              "#sk-container-id-2 div.sk-container {\n",
              "  /* jupyter's `normalize.less` sets `[hidden] { display: none; }`\n",
              "     but bootstrap.min.css set `[hidden] { display: none !important; }`\n",
              "     so we also need the `!important` here to be able to override the\n",
              "     default hidden behavior on the sphinx rendered scikit-learn.org.\n",
              "     See: https://github.com/scikit-learn/scikit-learn/issues/21755 */\n",
              "  display: inline-block !important;\n",
              "  position: relative;\n",
              "}\n",
              "\n",
              "#sk-container-id-2 div.sk-text-repr-fallback {\n",
              "  display: none;\n",
              "}\n",
              "\n",
              "div.sk-parallel-item,\n",
              "div.sk-serial,\n",
              "div.sk-item {\n",
              "  /* draw centered vertical line to link estimators */\n",
              "  background-image: linear-gradient(var(--sklearn-color-text-on-default-background), var(--sklearn-color-text-on-default-background));\n",
              "  background-size: 2px 100%;\n",
              "  background-repeat: no-repeat;\n",
              "  background-position: center center;\n",
              "}\n",
              "\n",
              "/* Parallel-specific style estimator block */\n",
              "\n",
              "#sk-container-id-2 div.sk-parallel-item::after {\n",
              "  content: \"\";\n",
              "  width: 100%;\n",
              "  border-bottom: 2px solid var(--sklearn-color-text-on-default-background);\n",
              "  flex-grow: 1;\n",
              "}\n",
              "\n",
              "#sk-container-id-2 div.sk-parallel {\n",
              "  display: flex;\n",
              "  align-items: stretch;\n",
              "  justify-content: center;\n",
              "  background-color: var(--sklearn-color-background);\n",
              "  position: relative;\n",
              "}\n",
              "\n",
              "#sk-container-id-2 div.sk-parallel-item {\n",
              "  display: flex;\n",
              "  flex-direction: column;\n",
              "}\n",
              "\n",
              "#sk-container-id-2 div.sk-parallel-item:first-child::after {\n",
              "  align-self: flex-end;\n",
              "  width: 50%;\n",
              "}\n",
              "\n",
              "#sk-container-id-2 div.sk-parallel-item:last-child::after {\n",
              "  align-self: flex-start;\n",
              "  width: 50%;\n",
              "}\n",
              "\n",
              "#sk-container-id-2 div.sk-parallel-item:only-child::after {\n",
              "  width: 0;\n",
              "}\n",
              "\n",
              "/* Serial-specific style estimator block */\n",
              "\n",
              "#sk-container-id-2 div.sk-serial {\n",
              "  display: flex;\n",
              "  flex-direction: column;\n",
              "  align-items: center;\n",
              "  background-color: var(--sklearn-color-background);\n",
              "  padding-right: 1em;\n",
              "  padding-left: 1em;\n",
              "}\n",
              "\n",
              "\n",
              "/* Toggleable style: style used for estimator/Pipeline/ColumnTransformer box that is\n",
              "clickable and can be expanded/collapsed.\n",
              "- Pipeline and ColumnTransformer use this feature and define the default style\n",
              "- Estimators will overwrite some part of the style using the `sk-estimator` class\n",
              "*/\n",
              "\n",
              "/* Pipeline and ColumnTransformer style (default) */\n",
              "\n",
              "#sk-container-id-2 div.sk-toggleable {\n",
              "  /* Default theme specific background. It is overwritten whether we have a\n",
              "  specific estimator or a Pipeline/ColumnTransformer */\n",
              "  background-color: var(--sklearn-color-background);\n",
              "}\n",
              "\n",
              "/* Toggleable label */\n",
              "#sk-container-id-2 label.sk-toggleable__label {\n",
              "  cursor: pointer;\n",
              "  display: block;\n",
              "  width: 100%;\n",
              "  margin-bottom: 0;\n",
              "  padding: 0.5em;\n",
              "  box-sizing: border-box;\n",
              "  text-align: center;\n",
              "}\n",
              "\n",
              "#sk-container-id-2 label.sk-toggleable__label-arrow:before {\n",
              "  /* Arrow on the left of the label */\n",
              "  content: \"▸\";\n",
              "  float: left;\n",
              "  margin-right: 0.25em;\n",
              "  color: var(--sklearn-color-icon);\n",
              "}\n",
              "\n",
              "#sk-container-id-2 label.sk-toggleable__label-arrow:hover:before {\n",
              "  color: var(--sklearn-color-text);\n",
              "}\n",
              "\n",
              "/* Toggleable content - dropdown */\n",
              "\n",
              "#sk-container-id-2 div.sk-toggleable__content {\n",
              "  max-height: 0;\n",
              "  max-width: 0;\n",
              "  overflow: hidden;\n",
              "  text-align: left;\n",
              "  /* unfitted */\n",
              "  background-color: var(--sklearn-color-unfitted-level-0);\n",
              "}\n",
              "\n",
              "#sk-container-id-2 div.sk-toggleable__content.fitted {\n",
              "  /* fitted */\n",
              "  background-color: var(--sklearn-color-fitted-level-0);\n",
              "}\n",
              "\n",
              "#sk-container-id-2 div.sk-toggleable__content pre {\n",
              "  margin: 0.2em;\n",
              "  border-radius: 0.25em;\n",
              "  color: var(--sklearn-color-text);\n",
              "  /* unfitted */\n",
              "  background-color: var(--sklearn-color-unfitted-level-0);\n",
              "}\n",
              "\n",
              "#sk-container-id-2 div.sk-toggleable__content.fitted pre {\n",
              "  /* unfitted */\n",
              "  background-color: var(--sklearn-color-fitted-level-0);\n",
              "}\n",
              "\n",
              "#sk-container-id-2 input.sk-toggleable__control:checked~div.sk-toggleable__content {\n",
              "  /* Expand drop-down */\n",
              "  max-height: 200px;\n",
              "  max-width: 100%;\n",
              "  overflow: auto;\n",
              "}\n",
              "\n",
              "#sk-container-id-2 input.sk-toggleable__control:checked~label.sk-toggleable__label-arrow:before {\n",
              "  content: \"▾\";\n",
              "}\n",
              "\n",
              "/* Pipeline/ColumnTransformer-specific style */\n",
              "\n",
              "#sk-container-id-2 div.sk-label input.sk-toggleable__control:checked~label.sk-toggleable__label {\n",
              "  color: var(--sklearn-color-text);\n",
              "  background-color: var(--sklearn-color-unfitted-level-2);\n",
              "}\n",
              "\n",
              "#sk-container-id-2 div.sk-label.fitted input.sk-toggleable__control:checked~label.sk-toggleable__label {\n",
              "  background-color: var(--sklearn-color-fitted-level-2);\n",
              "}\n",
              "\n",
              "/* Estimator-specific style */\n",
              "\n",
              "/* Colorize estimator box */\n",
              "#sk-container-id-2 div.sk-estimator input.sk-toggleable__control:checked~label.sk-toggleable__label {\n",
              "  /* unfitted */\n",
              "  background-color: var(--sklearn-color-unfitted-level-2);\n",
              "}\n",
              "\n",
              "#sk-container-id-2 div.sk-estimator.fitted input.sk-toggleable__control:checked~label.sk-toggleable__label {\n",
              "  /* fitted */\n",
              "  background-color: var(--sklearn-color-fitted-level-2);\n",
              "}\n",
              "\n",
              "#sk-container-id-2 div.sk-label label.sk-toggleable__label,\n",
              "#sk-container-id-2 div.sk-label label {\n",
              "  /* The background is the default theme color */\n",
              "  color: var(--sklearn-color-text-on-default-background);\n",
              "}\n",
              "\n",
              "/* On hover, darken the color of the background */\n",
              "#sk-container-id-2 div.sk-label:hover label.sk-toggleable__label {\n",
              "  color: var(--sklearn-color-text);\n",
              "  background-color: var(--sklearn-color-unfitted-level-2);\n",
              "}\n",
              "\n",
              "/* Label box, darken color on hover, fitted */\n",
              "#sk-container-id-2 div.sk-label.fitted:hover label.sk-toggleable__label.fitted {\n",
              "  color: var(--sklearn-color-text);\n",
              "  background-color: var(--sklearn-color-fitted-level-2);\n",
              "}\n",
              "\n",
              "/* Estimator label */\n",
              "\n",
              "#sk-container-id-2 div.sk-label label {\n",
              "  font-family: monospace;\n",
              "  font-weight: bold;\n",
              "  display: inline-block;\n",
              "  line-height: 1.2em;\n",
              "}\n",
              "\n",
              "#sk-container-id-2 div.sk-label-container {\n",
              "  text-align: center;\n",
              "}\n",
              "\n",
              "/* Estimator-specific */\n",
              "#sk-container-id-2 div.sk-estimator {\n",
              "  font-family: monospace;\n",
              "  border: 1px dotted var(--sklearn-color-border-box);\n",
              "  border-radius: 0.25em;\n",
              "  box-sizing: border-box;\n",
              "  margin-bottom: 0.5em;\n",
              "  /* unfitted */\n",
              "  background-color: var(--sklearn-color-unfitted-level-0);\n",
              "}\n",
              "\n",
              "#sk-container-id-2 div.sk-estimator.fitted {\n",
              "  /* fitted */\n",
              "  background-color: var(--sklearn-color-fitted-level-0);\n",
              "}\n",
              "\n",
              "/* on hover */\n",
              "#sk-container-id-2 div.sk-estimator:hover {\n",
              "  /* unfitted */\n",
              "  background-color: var(--sklearn-color-unfitted-level-2);\n",
              "}\n",
              "\n",
              "#sk-container-id-2 div.sk-estimator.fitted:hover {\n",
              "  /* fitted */\n",
              "  background-color: var(--sklearn-color-fitted-level-2);\n",
              "}\n",
              "\n",
              "/* Specification for estimator info (e.g. \"i\" and \"?\") */\n",
              "\n",
              "/* Common style for \"i\" and \"?\" */\n",
              "\n",
              ".sk-estimator-doc-link,\n",
              "a:link.sk-estimator-doc-link,\n",
              "a:visited.sk-estimator-doc-link {\n",
              "  float: right;\n",
              "  font-size: smaller;\n",
              "  line-height: 1em;\n",
              "  font-family: monospace;\n",
              "  background-color: var(--sklearn-color-background);\n",
              "  border-radius: 1em;\n",
              "  height: 1em;\n",
              "  width: 1em;\n",
              "  text-decoration: none !important;\n",
              "  margin-left: 1ex;\n",
              "  /* unfitted */\n",
              "  border: var(--sklearn-color-unfitted-level-1) 1pt solid;\n",
              "  color: var(--sklearn-color-unfitted-level-1);\n",
              "}\n",
              "\n",
              ".sk-estimator-doc-link.fitted,\n",
              "a:link.sk-estimator-doc-link.fitted,\n",
              "a:visited.sk-estimator-doc-link.fitted {\n",
              "  /* fitted */\n",
              "  border: var(--sklearn-color-fitted-level-1) 1pt solid;\n",
              "  color: var(--sklearn-color-fitted-level-1);\n",
              "}\n",
              "\n",
              "/* On hover */\n",
              "div.sk-estimator:hover .sk-estimator-doc-link:hover,\n",
              ".sk-estimator-doc-link:hover,\n",
              "div.sk-label-container:hover .sk-estimator-doc-link:hover,\n",
              ".sk-estimator-doc-link:hover {\n",
              "  /* unfitted */\n",
              "  background-color: var(--sklearn-color-unfitted-level-3);\n",
              "  color: var(--sklearn-color-background);\n",
              "  text-decoration: none;\n",
              "}\n",
              "\n",
              "div.sk-estimator.fitted:hover .sk-estimator-doc-link.fitted:hover,\n",
              ".sk-estimator-doc-link.fitted:hover,\n",
              "div.sk-label-container:hover .sk-estimator-doc-link.fitted:hover,\n",
              ".sk-estimator-doc-link.fitted:hover {\n",
              "  /* fitted */\n",
              "  background-color: var(--sklearn-color-fitted-level-3);\n",
              "  color: var(--sklearn-color-background);\n",
              "  text-decoration: none;\n",
              "}\n",
              "\n",
              "/* Span, style for the box shown on hovering the info icon */\n",
              ".sk-estimator-doc-link span {\n",
              "  display: none;\n",
              "  z-index: 9999;\n",
              "  position: relative;\n",
              "  font-weight: normal;\n",
              "  right: .2ex;\n",
              "  padding: .5ex;\n",
              "  margin: .5ex;\n",
              "  width: min-content;\n",
              "  min-width: 20ex;\n",
              "  max-width: 50ex;\n",
              "  color: var(--sklearn-color-text);\n",
              "  box-shadow: 2pt 2pt 4pt #999;\n",
              "  /* unfitted */\n",
              "  background: var(--sklearn-color-unfitted-level-0);\n",
              "  border: .5pt solid var(--sklearn-color-unfitted-level-3);\n",
              "}\n",
              "\n",
              ".sk-estimator-doc-link.fitted span {\n",
              "  /* fitted */\n",
              "  background: var(--sklearn-color-fitted-level-0);\n",
              "  border: var(--sklearn-color-fitted-level-3);\n",
              "}\n",
              "\n",
              ".sk-estimator-doc-link:hover span {\n",
              "  display: block;\n",
              "}\n",
              "\n",
              "/* \"?\"-specific style due to the `<a>` HTML tag */\n",
              "\n",
              "#sk-container-id-2 a.estimator_doc_link {\n",
              "  float: right;\n",
              "  font-size: 1rem;\n",
              "  line-height: 1em;\n",
              "  font-family: monospace;\n",
              "  background-color: var(--sklearn-color-background);\n",
              "  border-radius: 1rem;\n",
              "  height: 1rem;\n",
              "  width: 1rem;\n",
              "  text-decoration: none;\n",
              "  /* unfitted */\n",
              "  color: var(--sklearn-color-unfitted-level-1);\n",
              "  border: var(--sklearn-color-unfitted-level-1) 1pt solid;\n",
              "}\n",
              "\n",
              "#sk-container-id-2 a.estimator_doc_link.fitted {\n",
              "  /* fitted */\n",
              "  border: var(--sklearn-color-fitted-level-1) 1pt solid;\n",
              "  color: var(--sklearn-color-fitted-level-1);\n",
              "}\n",
              "\n",
              "/* On hover */\n",
              "#sk-container-id-2 a.estimator_doc_link:hover {\n",
              "  /* unfitted */\n",
              "  background-color: var(--sklearn-color-unfitted-level-3);\n",
              "  color: var(--sklearn-color-background);\n",
              "  text-decoration: none;\n",
              "}\n",
              "\n",
              "#sk-container-id-2 a.estimator_doc_link.fitted:hover {\n",
              "  /* fitted */\n",
              "  background-color: var(--sklearn-color-fitted-level-3);\n",
              "}\n",
              "</style><div id=\"sk-container-id-2\" class=\"sk-top-container\"><div class=\"sk-text-repr-fallback\"><pre>RandomForestClassifier(max_depth=23, max_features=0.40060455200913236,\n",
              "                       max_samples=0.7, min_samples_leaf=47,\n",
              "                       min_samples_split=52, n_jobs=-1, oob_score=True,\n",
              "                       random_state=211777)</pre><b>In a Jupyter environment, please rerun this cell to show the HTML representation or trust the notebook. <br />On GitHub, the HTML representation is unable to render, please try loading this page with nbviewer.org.</b></div><div class=\"sk-container\" hidden><div class=\"sk-item\"><div class=\"sk-estimator fitted sk-toggleable\"><input class=\"sk-toggleable__control sk-hidden--visually\" id=\"sk-estimator-id-2\" type=\"checkbox\" checked><label for=\"sk-estimator-id-2\" class=\"sk-toggleable__label fitted sk-toggleable__label-arrow fitted\">&nbsp;&nbsp;RandomForestClassifier<a class=\"sk-estimator-doc-link fitted\" rel=\"noreferrer\" target=\"_blank\" href=\"https://scikit-learn.org/1.5/modules/generated/sklearn.ensemble.RandomForestClassifier.html\">?<span>Documentation for RandomForestClassifier</span></a><span class=\"sk-estimator-doc-link fitted\">i<span>Fitted</span></span></label><div class=\"sk-toggleable__content fitted\"><pre>RandomForestClassifier(max_depth=23, max_features=0.40060455200913236,\n",
              "                       max_samples=0.7, min_samples_leaf=47,\n",
              "                       min_samples_split=52, n_jobs=-1, oob_score=True,\n",
              "                       random_state=211777)</pre></div> </div></div></div></div>"
            ],
            "text/plain": [
              "RandomForestClassifier(max_depth=23, max_features=0.40060455200913236,\n",
              "                       max_samples=0.7, min_samples_leaf=47,\n",
              "                       min_samples_split=52, n_jobs=-1, oob_score=True,\n",
              "                       random_state=211777)"
            ]
          },
          "execution_count": 13,
          "metadata": {},
          "output_type": "execute_result"
        }
      ],
      "source": [
        "#g. Lo cargo nuevamente para usarlo.\n",
        "model_rf = pickle.load(open(filename, 'rb'))\n",
        "model_rf"
      ]
    },
    {
      "cell_type": "code",
      "execution_count": 14,
      "metadata": {},
      "outputs": [
        {
          "name": "stderr",
          "output_type": "stream",
          "text": [
            "c:\\Users\\c678456\\AppData\\Local\\anaconda3\\envs\\dmeyf\\Lib\\site-packages\\sklearn\\base.py:486: UserWarning:\n",
            "\n",
            "X has feature names, but RandomForestClassifier was fitted without feature names\n",
            "\n"
          ]
        }
      ],
      "source": [
        "#h. Predigo Junio.\n",
        "#i. Realizo la predicción de probabilidades usando el modelo entrenado.\n",
        "predicciones = model_rf.predict_proba(X_futuro)\n",
        "#ii. Encuentro el índice de la columna \"BAJA+2\".\n",
        "indice_baja2 = model_rf.classes_.tolist().index(\"BAJA+2\")\n",
        "#iii. Agrego la columna de probabilidad de \"BAJA+2\" al DataFrame.\n",
        "X_futuro['prob_baja2'] = predicciones[:, indice_baja2]\n",
        "#iv. Solo envío estímulo a los registros con probabilidad de \"BAJA+2\" mayor a 1/40.\n",
        "X_futuro['Predicted'] = (X_futuro['prob_baja2'] > 1/40).astype(int)\n",
        "#v. Selecciono las columnas de interés.\n",
        "resultados = X_futuro[[\"numero_de_cliente\",\"Predicted\"]].reset_index(drop=True) \n",
        "#vi. Exporto como archivo .csv.\n",
        "nombre_archivo = \"K104_001.csv\"\n",
        "ruta_archivo= \"../../../exp/{}\".format(nombre_archivo)\n",
        "resultados.to_csv(ruta_archivo,index=False)"
      ]
    },
    {
      "cell_type": "code",
      "execution_count": 15,
      "metadata": {},
      "outputs": [
        {
          "name": "stderr",
          "output_type": "stream",
          "text": [
            "100%|██████████| 2.08M/2.08M [00:01<00:00, 1.32MB/s]\n"
          ]
        },
        {
          "data": {
            "text/plain": [
              "Successfully submitted to DMEyF 2024 Primera"
            ]
          },
          "execution_count": 15,
          "metadata": {},
          "output_type": "execute_result"
        }
      ],
      "source": [
        "#i. Envío a Kaggle.\n",
        "#a. Importo librería.\n",
        "from kaggle.api.kaggle_api_extended import KaggleApi\n",
        "#b. Configura el API de Kaggle\n",
        "api = KaggleApi()\n",
        "api.authenticate()\n",
        "#c. Defino los parámetros claves.\n",
        "mensaje = f'Archivo {nombre_archivo}. Se predice Junio con modelo entrenado con Enero, Febrero, Marzo y Abril. Imputación con la Media. 100 Trials para búsqueda de hiperparámetros'\n",
        "competencia = 'dm-ey-f-2024-primera'\n",
        "#c. Subo la Submission.\n",
        "api.competition_submit(file_name=ruta_archivo,message=mensaje,competition=competencia)"
      ]
    },
    {
      "cell_type": "markdown",
      "metadata": {},
      "source": [
        "#### 3. Imputar los nulos de mejor manera."
      ]
    },
    {
      "cell_type": "code",
      "execution_count": null,
      "metadata": {},
      "outputs": [],
      "source": [
        "#a. Analizo las columnas con nulos.\n",
        "#i. Número total de filas.\n",
        "total_filas = data.shape[0]\n",
        "\n",
        "#ii. Porcentaje de valores nulos en cada columna.\n",
        "porcentaje_nulos = round((data.isna().sum() / total_filas) * 100, 2)\n",
        "\n",
        "#iii. Cantidad total de valores nulos por columna.\n",
        "total_nulos = data.isna().sum()\n",
        "\n",
        "#iv. Combino los resultados en un DataFrame.\n",
        "nulos_df = pd.DataFrame({\n",
        "    'Porcentaje Nulos': porcentaje_nulos,\n",
        "    'Total Nulos': total_nulos\n",
        "})\n",
        "\n",
        "#v. Ordeno por el porcentaje de nulos de mayor a menor, y muestro las primeras 48 columnas.\n",
        "nulos_df_ordenado = nulos_df.sort_values(by='Porcentaje Nulos', ascending=False).head(48)\n",
        "\n",
        "#vi. Printeo.\n",
        "print(\"En total, el dataset tiene {} filas. Estos son los porcentajes y cantidades de nulos por columna\".format(total_filas))\n",
        "nulos_df_ordenado"
      ]
    },
    {
      "cell_type": "code",
      "execution_count": null,
      "metadata": {},
      "outputs": [],
      "source": [
        "#b. Imputo.\n",
        "#i. Columnas de mora.\n",
        "nc_mora = [\"Master_Finiciomora\",\"Visa_Finiciomora\"]\n",
        "#----> Le asigno -1 a los nulos ya que no corresponden por falta de mora.\n",
        "data[nc_mora] = data[nc_mora].fillna(-1)"
      ]
    },
    {
      "cell_type": "code",
      "execution_count": null,
      "metadata": {},
      "outputs": [],
      "source": [
        "#ii. Columnas pertenecientes a TC de entidades que no posee el cliente.\n",
        "nc_no_tc_master = [\n",
        "    \"Master_mfinanciacion_limite\", # Puedo imputar con valores negativos ya que va entre 0 e infinito.\n",
        "    \"Master_status\", # Puedo imputar con valores negativos ya que va entre 0 e infinito.\n",
        "    \"Master_delinquency\", # Puedo imputar con valores negativos ya que va entre 0 e infinito.\n",
        "    \"Master_mpagado\", # Puedo imputar con valores negativos ya que va entre 0 e infinito.\n",
        "    \"Master_mlimitecompra\", # Puedo imputar con valores negativos ya que va entre 0 e infinito.\n",
        "    \"Master_fechaalta\", # Puedo imputar con 0 o valores negativos ya que va entre 0 e infinito.\n",
        "    \"Master_mpagominimo\" # Puedo imputar con valores negativos ya que va entre 0 e infinito.\n",
        "    \"Master_msaldodolares\", # Pensar como imputar ya va entre - infinito a + infinito. (0?)\n",
        "    \"Master_msaldototal\", # Pensar como imputar ya va entre - infinito a + infinito. (0?)\n",
        "    \"Master_Fvencimiento\", # Pensar como imputar ya va entre - infinito a + infinito. (0?)\n",
        "    \"Master_msaldopesos\",  # Pensar como imputar ya va entre - infinito a + infinito. (0?)\n",
        "    \n",
        "    ] \n",
        "\n",
        "nc_no_tc_visa = [\n",
        "    \"Visa_mpagominimo\", # Puedo imputar con valores negativos ya que va entre 0 e infinito.\n",
        "    \"Visa_fechaalta\", # Puedo imputar con 0 o valores negativos ya que va entre 0 e infinito.\n",
        "    \"Visa_mpagado\", # Puedo imputar con valores negativos ya que va entre 0 e infinito.\n",
        "    \"Visa_mlimitecompra\", # Puedo imputar con valores negativos ya que va entre 0 e infinito.\n",
        "    \"Visa_mfinanciacion_limite\", # Puedo imputar con valores negativos ya que va entre 0 e infinito.\n",
        "    \"Visa_status\", # Puedo imputar con valores negativos ya que va entre 0 e infinito.\n",
        "    \"Visa_delinquency\"\t# Puedo imputar con valores negativos ya que va entre 0 e infinito.\n",
        "    \"Visa_msaldopesos\", # Pensar como imputar ya va entre - infinito a + infinito. (0?)\n",
        "    \"Visa_msaldototal\", # Pensar como imputar ya va entre - infinito a + infinito. (0?)\n",
        "    \"Visa_Fvencimiento\", # Pensar como imputar ya va entre - infinito a + infinito. (0?)\n",
        "    \"Visa_msaldodolares\", # Pensar como imputar ya va entre - infinito a + infinito. (0?)\n",
        "\n",
        "    ]\n"
      ]
    },
    {
      "cell_type": "code",
      "execution_count": 4,
      "metadata": {},
      "outputs": [],
      "source": [
        "#iii. Columnas pertenecientes a pagos, consumos, adelantos y pagos.\n",
        "consumos_generales_master = [\n",
        "    \"Master_mconsumototal\",     # Todos los consumos, mas allá de la TC.        \n",
        "    \"Master_mconsumosdolares\",  # Todos los consumos, mas allá de la TC.\n",
        "    \"Master_mconsumospesos\",    # Todos los consumos, mas allá de la TC.\n",
        "    \"Master_cconsumos\",         # Consumos con la TC.\n",
        "    \"Master_mpagosdolares\",\n",
        "    \"Master_mpagospesos\",     \n",
        "    \"Master_cadelantosefectivo\", \n",
        "    \"Master_madelantopesos\",  \n",
        "    \"Master_madelantodolares\",  \n",
        "        \n",
        "]\n",
        "\n",
        "consumos_generales_visa = [\n",
        "    \"Visa_mpagosdolares\",       \n",
        "    \"Visa_mconsumototal\",          \n",
        "    \"Visa_cconsumos\",              \n",
        "    \"Visa_cadelantosefectivo\",   \n",
        "    \"Visa_madelantodolares\",      \n",
        "    \"Visa_madelantopesos\",          \n",
        "    \"Visa_mconsumosdolares\",         \n",
        "    \"Visa_mconsumospesos\",           \n",
        "    \"Visa_mpagospesos\"             \n",
        "]\n",
        "\n",
        "# caso 1 ----> No tengo la tarjeta, entonces no corresponde, los imputo con -1:\n",
        "#data[(data[consumos_generales_master].isna().all(axis=1))&(data[\"ctarjeta_master\"]==0)]\n",
        "\n",
        "# caso 2 ----> Tengo la tarjeta, pero sin movimientos, los imputo con 0.\n",
        "# La gran mayoría, no tuvo transacciones (25 casos si).\n",
        "# La gran mayoria, no tuvo consumos con la TC (mtarjeta_master_consumo) (25 casos si).\n",
        "\n",
        "#Ej: data[(data[consumos_generales_master].isna().all(axis=1))&(data[\"ctarjeta_master\"]==1)][\"ctarjeta_master_transacciones\"].value_counts()\n",
        "\n",
        "# Entonces... ¿Cuál es la diferencia con los casos donde = 0 en vez de nulo? No la encuentro.\n",
        "# data[(data[\"ctarjeta_master\"]==1)&(data[\"Master_cconsumos\"]==0)][\"mtarjeta_master_consumo\"].value_counts() Tiene la TC, no realizó consumos, pero tiene montos de consumo :O."
      ]
    },
    {
      "cell_type": "code",
      "execution_count": null,
      "metadata": {},
      "outputs": [],
      "source": [
        "#iv. Columnas de Fecha de último cierre.\n",
        "nc_ultimo_cierre = [\n",
        "    \"Master_fultimo_cierre\",\n",
        "    \"Visa_fultimo_cierre\"\n",
        "]\n",
        "# ------> Se imputa con -1 ya que no corresponde porque son casos o que no tienen la TC (ctarjeta_master=0),\n",
        "# o se dieron de alta hace menos de 30 días (Master_fechaalta<30), y por ende, no tuvieron nunca una fecha de cierre todavía.\n",
        "data[nc_ultimo_cierre] = data[nc_ultimo_cierre].fillna(-1)"
      ]
    },
    {
      "cell_type": "code",
      "execution_count": null,
      "metadata": {},
      "outputs": [],
      "source": [
        "#v. Columnas de Descuentos.\n",
        "descuentos = [\n",
        "    \"mtarjeta_master_descuentos\",\n",
        "    \"mtarjeta_visa_descuentos\"\n",
        "    ]\n",
        "# ----> Para los casos que no corresponde, se pone 0 y no None.\n",
        "# De hecho, la gran mayoría de los datos faltantes corresponden a clientes con la Tarjeta de Crédito.\n",
        "# Al investigar, se ve que todos los casos donde hay datos faltantes del monto del descuento \n",
        "# tiene datos de cantidades de descuentos (ctarjeta_master_descuentos).\n",
        "# Hipótesis: Se tomó un descuento pero no se procesó el monto aún? Error en la carga de datos?\n",
        "# Vamos a calcular cual es el monto medio de cada descuento, y multiplicar por la columna de cantidad de descuentos."
      ]
    },
    {
      "cell_type": "markdown",
      "metadata": {},
      "source": [
        "#### 4. División entre Train y Test."
      ]
    },
    {
      "cell_type": "code",
      "execution_count": null,
      "metadata": {},
      "outputs": [],
      "source": [
        "#a. Train.\n",
        "X = data[data['foto_mes'].isin(mes_train)]\n",
        "y = X['clase_ternaria']\n",
        "X = X.drop(columns=['clase_ternaria'])"
      ]
    },
    {
      "cell_type": "code",
      "execution_count": null,
      "metadata": {},
      "outputs": [],
      "source": [
        "#b. Test.\n",
        "X_futuro = data[data['foto_mes'] == mes_test]\n",
        "y_futuro = X_futuro['clase_ternaria']\n",
        "X_futuro = X_futuro.drop(columns=['clase_ternaria'])"
      ]
    },
    {
      "cell_type": "code",
      "execution_count": null,
      "metadata": {},
      "outputs": [],
      "source": [
        "#c. Verifico que la columna target de Train no tenga vacios.\n",
        "print(\"La columna target de train tiene {} vacíos.\".format(y.isna().sum()))"
      ]
    },
    {
      "cell_type": "markdown",
      "metadata": {},
      "source": [
        "#### 5. Búsqueda de hiperparámetros con 100 trials."
      ]
    },
    {
      "cell_type": "code",
      "execution_count": null,
      "metadata": {},
      "outputs": [],
      "source": [
        "#a. Defino la función de optimización.\n",
        "def objective(trial):\n",
        "    max_depth = trial.suggest_int('max_depth', 2, 32)\n",
        "    min_samples_split = trial.suggest_int('min_samples_split', 2, 2000)\n",
        "    min_samples_leaf = trial.suggest_int('min_samples_leaf', 1, 200)\n",
        "    max_features = trial.suggest_float('max_features', 0.05, 0.7)\n",
        "\n",
        "    model = RandomForestClassifier(\n",
        "        n_estimators=100,\n",
        "        max_depth=max_depth,\n",
        "        min_samples_split=min_samples_split,\n",
        "        min_samples_leaf=min_samples_leaf,\n",
        "        max_features=max_features,\n",
        "        max_samples=0.7,\n",
        "        random_state=semillas[0],\n",
        "        n_jobs=-1,\n",
        "        oob_score=True\n",
        "    )\n",
        "\n",
        "    model.fit(Xi, y)\n",
        "\n",
        "    return ganancia_prob(model.oob_decision_function_, y)\n",
        "\n",
        "storage_name = \"sqlite:///\" + db_path + \"optimization_tree.db\"\n",
        "study_name = \"exp_206_random-forest-opt\"\n",
        "\n",
        "study = optuna.create_study(\n",
        "    direction=\"maximize\",\n",
        "    study_name=study_name,\n",
        "    storage=storage_name,\n",
        "    load_if_exists=True,\n",
        ")"
      ]
    },
    {
      "cell_type": "code",
      "execution_count": null,
      "metadata": {},
      "outputs": [],
      "source": [
        "#b. Optimizo.\n",
        "study.optimize(objective, n_trials=100)"
      ]
    },
    {
      "cell_type": "code",
      "execution_count": null,
      "metadata": {},
      "outputs": [],
      "source": [
        "#c. Visualización de la búsqueda de parámetros."
      ]
    },
    {
      "cell_type": "code",
      "execution_count": null,
      "metadata": {},
      "outputs": [],
      "source": [
        "#i. Mejor puntaje en la optimización de los parámetros.\n",
        "optuna.visualization.plot_optimization_history(study)"
      ]
    },
    {
      "cell_type": "code",
      "execution_count": null,
      "metadata": {},
      "outputs": [],
      "source": [
        "#ii. Importancia de los hiperparámetros.\n",
        "plot_param_importances(study)"
      ]
    },
    {
      "cell_type": "code",
      "execution_count": null,
      "metadata": {},
      "outputs": [],
      "source": [
        "#iii. Analizo la performance para distintos valores de los hiperparámetros, y su resultado en las ganancias.\n",
        "plot_slice(study)"
      ]
    },
    {
      "cell_type": "code",
      "execution_count": null,
      "metadata": {},
      "outputs": [],
      "source": [
        "#iv. Visualizo la relación entre los diferentes hiperparámetros.\n",
        "plot_contour(study)"
      ]
    },
    {
      "cell_type": "code",
      "execution_count": null,
      "metadata": {},
      "outputs": [],
      "source": [
        "#v. Veo la relación entre max_depth y max_leaf_nodes.\n",
        "plot_contour(study, params=[\"max_depth\", \"min_samples_split\"])"
      ]
    },
    {
      "cell_type": "markdown",
      "metadata": {},
      "source": [
        "#### 6. Entrenamiento del Random Forest."
      ]
    },
    {
      "cell_type": "code",
      "execution_count": null,
      "metadata": {},
      "outputs": [],
      "source": [
        "#a. Construimos el modelo con ciertos parámetros.\n",
        "model_rf = RandomForestClassifier(\n",
        "        n_estimators=100,\n",
        "        **study.best_params,\n",
        "        max_samples=0.7,\n",
        "        random_state=semillas[0],\n",
        "        n_jobs=-1,\n",
        "        oob_score=True\n",
        "    )"
      ]
    },
    {
      "cell_type": "code",
      "execution_count": null,
      "metadata": {},
      "outputs": [],
      "source": [
        "#b. Entrenamos.\n",
        "model_rf.fit(Xi, y)"
      ]
    },
    {
      "cell_type": "code",
      "execution_count": null,
      "metadata": {},
      "outputs": [],
      "source": [
        "#c. Guardamos el modelo.\n",
        "filename = modelos_path + 'exp_206_random_forest_model_100.sav'\n",
        "pickle.dump(model_rf, open(filename, 'wb'))"
      ]
    },
    {
      "cell_type": "code",
      "execution_count": null,
      "metadata": {},
      "outputs": [],
      "source": [
        "#d. Cargamos el modelo para reutilizarlo.\n",
        "model_rf = pickle.load(open(filename, 'rb'))\n",
        "model_rf"
      ]
    },
    {
      "cell_type": "code",
      "execution_count": null,
      "metadata": {},
      "outputs": [],
      "source": [
        "#h. Predigo Junio.\n",
        "#i. Realizo la predicción de probabilidades usando el modelo entrenado.\n",
        "predicciones = model_rf.predict_proba(X_futuro)\n",
        "#ii. Encuentro el índice de la columna \"BAJA+2\".\n",
        "indice_baja2 = model_rf.classes_.tolist().index(\"BAJA+2\")\n",
        "#iii. Agrego la columna de probabilidad de \"BAJA+2\" al DataFrame.\n",
        "X_futuro['prob_baja2'] = predicciones[:, indice_baja2]\n",
        "#iv. Solo envío estímulo a los registros con probabilidad de \"BAJA+2\" mayor a 1/40.\n",
        "X_futuro['Predicted'] = (X_futuro['prob_baja2'] > 1/40).astype(int)\n",
        "#v. Selecciono las columnas de interés.\n",
        "resultados = X_futuro[[\"numero_de_cliente\",\"Predicted\"]].reset_index(drop=True) \n",
        "#vi. Exporto como archivo .csv.\n",
        "nombre_archivo = \"K104_002.csv\"\n",
        "ruta_archivo= \"../../../exp/{}\".format(nombre_archivo)\n",
        "resultados.to_csv(ruta_archivo,index=False)"
      ]
    },
    {
      "cell_type": "code",
      "execution_count": null,
      "metadata": {},
      "outputs": [],
      "source": [
        "#c. Envío a Kaggle.\n",
        "#a. Importo librería.\n",
        "from kaggle.api.kaggle_api_extended import KaggleApi\n",
        "#b. Configura el API de Kaggle\n",
        "api = KaggleApi()\n",
        "api.authenticate()\n",
        "#c. Defino los parámetros claves.\n",
        "mensaje = f'Archivo {nombre_archivo}. Se predice Junio con modelo entrenado con Enero, Febrero, Marzo y Abril. Imputación pensada. 100 Trials para búsqueda de hiperparámetros'\n",
        "competencia = 'dm-ey-f-2024-primera'\n",
        "#c. Subo la Submission.\n",
        "api.competition_submit(file_name=ruta_archivo,message=mensaje,competition=competencia)"
      ]
    },
    {
      "cell_type": "markdown",
      "metadata": {},
      "source": [
        "#### 7. Búsqueda de Hiperparámetros con 1000 trials."
      ]
    },
    {
      "cell_type": "code",
      "execution_count": null,
      "metadata": {},
      "outputs": [],
      "source": []
    }
  ],
  "metadata": {
    "colab": {
      "provenance": []
    },
    "kernelspec": {
      "display_name": "Python 3",
      "name": "python3"
    },
    "language_info": {
      "codemirror_mode": {
        "name": "ipython",
        "version": 3
      },
      "file_extension": ".py",
      "mimetype": "text/x-python",
      "name": "python",
      "nbconvert_exporter": "python",
      "pygments_lexer": "ipython3",
      "version": "3.12.3"
    }
  },
  "nbformat": 4,
  "nbformat_minor": 0
}
