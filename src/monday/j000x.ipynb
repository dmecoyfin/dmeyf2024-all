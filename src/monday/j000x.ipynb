{
 "cells": [
  {
   "cell_type": "markdown",
   "metadata": {
    "id": "pJz8GT5QDbbR"
   },
   "source": [
    "## Instrucciones:\n",
    "\n",
    "Este archivo es una plantilla que deberás completar para la creación de un job que permita ejecutar tu experimento asignado. Es importante reemplazar el nombre genérico del archivo por un identificador único, que será el número asignado al alumno que lo creó. Cada vez que otro alumno utilice ese job, se recompensará al autor original.\n",
    "\n",
    "El job debe ser ejecutable simplemente configurando correctamente las siguientes secciones:\n",
    "- **Parámetros**\n",
    "- **Input**\n",
    "- **Output**\n",
    "\n",
    "El archivo debe ser obligatoriamente un *Jupyter Notebook*, con el fin de facilitar su uso a los alumnos menos técnicos. Sin embargo, si prefieres migrar o adaptar el código a archivos planos para tus propios pipelines, podrás hacerlo, siempre que quede claro el origen del código.\n",
    "\n",
    "El formato del nombre del job debe seguir la siguiente convención:\n",
    "- `j<id_alumno>_<ref>.ipynb`\n",
    "\n",
    "Cada alumno puede generar más de un job, y también puede modificar los jobs de otros, siempre que se respete el nombre original.\n",
    "\n",
    "Para la entrega de la segunda competencia, debes incluir dos componentes:\n",
    "1. Todos los jobs utilizados, con sus nombres originales.\n",
    "2. Un archivo explicando la secuencia en la que se ejecutaron los jobs.\n",
    "\n",
    "Los jobs se compartirán en las slides de los experimentos con el link al repo de github.\n",
    "---\n"
   ]
  },
  {
   "cell_type": "markdown",
   "metadata": {
    "id": "d_xvJXPhCkMA"
   },
   "source": [
    "# “Trazas de información ocultas bajo el análisis de los valores SHAP”\n",
    "\n",
    "## Autor: Nahuel Alba\n",
    "## Fecha de última modificación: <ie: 06/11/2024>\n",
    "## Descripción: Al modelo optimizado aplicado al dataset se le aplica el algoritmo Shap value y se utiliza la importancia de las feature para realizar selectivamente transformaciones en su distribución con el algoritmo Yeo-Johnson.\n",
    "\n",
    "< Completar >"
   ]
  },
  {
   "cell_type": "markdown",
   "metadata": {
    "id": "qRTSvXdLHkpB"
   },
   "source": [
    "## Parámetros\n",
    "\n",
    "< Descripción de cada uno de los parámetros que utiliza el job >\n"
   ]
  },
  {
   "cell_type": "code",
   "execution_count": null,
   "metadata": {
    "id": "yMU00Fl7IIfm"
   },
   "outputs": [],
   "source": [
    "# Ejemplo\n",
    "cantidad_modelos = 10\n",
    "threshold = 0.025\n"
   ]
  },
  {
   "cell_type": "markdown",
   "metadata": {
    "id": "sH5VivJSIM42"
   },
   "source": [
    "## Input\n",
    "\n",
    "< Archivos de datos (csv.gz) con sus paths que van a consumirse por el job>"
   ]
  },
  {
   "cell_type": "code",
   "execution_count": null,
   "metadata": {
    "id": "MEk4Fj7VIv7g"
   },
   "outputs": [],
   "source": [
    "# Ejemplo\n",
    "base_path = '/content/drive/MyDrive/DMEyF/2024/'\n",
    "dataset_path = base_path + 'datos/'\n",
    "dataset_file = 'competencia_01.csv'"
   ]
  },
  {
   "cell_type": "markdown",
   "metadata": {
    "id": "fQ6MUhENI0Ya"
   },
   "source": [
    "## Output\n",
    "\n",
    "< Archivos, bases de datos, modelos que va a generar el job>"
   ]
  },
  {
   "cell_type": "code",
   "execution_count": null,
   "metadata": {
    "id": "ZT3kxlkFIv4p"
   },
   "outputs": [],
   "source": [
    "# Ejemplo\n",
    "base_path = '/content/drive/MyDrive/DMEyF/2024/'\n",
    "modelos_path = base_path + 'modelos/'\n",
    "modelo_file = 'mi_modelo'"
   ]
  },
  {
   "cell_type": "code",
   "execution_count": null,
   "metadata": {
    "id": "NtIT33WnJFx-"
   },
   "outputs": [],
   "source": [
    "## Procesos"
   ]
  },
  {
   "cell_type": "markdown",
   "metadata": {
    "id": "iVe0GO1IJHtI"
   },
   "source": [
    "### Paquetes necesarios"
   ]
  },
  {
   "cell_type": "code",
   "execution_count": null,
   "metadata": {
    "id": "O2VG2xS_Ivq3"
   },
   "outputs": [],
   "source": [
    "# Ejemplo\n",
    "%pip install catboost"
   ]
  },
  {
   "cell_type": "markdown",
   "metadata": {
    "id": "0LM2kY_WJj15"
   },
   "source": [
    "## Código del proceso\n",
    "\n",
    "< Todo el código a partir de aquí debe poder ejecutarse sin necesidad de parametrizar nada>"
   ]
  },
  {
   "cell_type": "code",
   "execution_count": null,
   "metadata": {
    "id": "Nr6BNGDUJkWd"
   },
   "outputs": [],
   "source": []
  }
 ],
 "metadata": {
  "colab": {
   "provenance": []
  },
  "kernelspec": {
   "display_name": "Python 3",
   "name": "python3"
  },
  "language_info": {
   "name": "python"
  }
 },
 "nbformat": 4,
 "nbformat_minor": 0
}
