{
 "cells": [
  {
   "cell_type": "markdown",
   "metadata": {},
   "source": [
    "## A. Configuraciones Generales."
   ]
  },
  {
   "cell_type": "code",
   "execution_count": null,
   "metadata": {},
   "outputs": [],
   "source": [
    "#1. Librerías.\n",
    "%run \"./librerias.ipynb\""
   ]
  },
  {
   "cell_type": "code",
   "execution_count": null,
   "metadata": {},
   "outputs": [],
   "source": [
    "#2. Constantes.\n",
    "#a. Constantes generales.\n",
    "%run \"./constantes.ipynb\"\n",
    "\n",
    "#b. Constantes a definir por el usuario.\n",
    "#i. Dataset Train.\n",
    "dataset_train = datasets_path + \"competencia_02_stacking.parquet\"\n",
    "#ii. Dataset Test.\n",
    "dataset_test = datasets_path + \"competencia_02_stacking_test.parquet\"\n",
    "#iii. Información sobre rango temporal del modelo.\n",
    "cantidad_meses_train = 12\n",
    "#iv. Ruta del modelo guardado post-optimización de hiperparámetros.\n",
    "modelo =  modelos_path + 'STACKING_{}m.txt'.format(cantidad_meses_train)"
   ]
  },
  {
   "cell_type": "code",
   "execution_count": null,
   "metadata": {},
   "outputs": [],
   "source": [
    "#3. Lectura de datos.\n",
    "#i. Entrenamiento.\n",
    "train_data = pd.read_parquet(dataset_train)\n",
    "#ii. Test.\n",
    "test_data = pd.read_parquet(dataset_test)"
   ]
  },
  {
   "cell_type": "code",
   "execution_count": null,
   "metadata": {},
   "outputs": [],
   "source": [
    "#4. Obtenemos los hiperparámetros del modelo.\n",
    "model_lgb = lgb.Booster(model_file=modelo)\n",
    "parametros = model_lgb.params # Parámetros.\n",
    "best_iter = parametros[\"num_iterations\"]  # Mejor número de iteraciones guardado en el modelo."
   ]
  },
  {
   "cell_type": "code",
   "execution_count": null,
   "metadata": {},
   "outputs": [],
   "source": [
    "#5. Pesos y reclusterización.\n",
    "#i. Train.\n",
    "train_data['clase_peso'] = 1.0\n",
    "\n",
    "train_data.loc[train_data['clase_ternaria'] == 'BAJA+2', 'clase_peso'] = 1.00002\n",
    "train_data.loc[train_data['clase_ternaria'] == 'BAJA+1', 'clase_peso'] = 1.00001\n",
    "\n",
    "train_data['clase_binaria2'] = 0\n",
    "train_data['clase_binaria2'] = np.where(train_data['clase_ternaria'] == 'CONTINUA', 0, 1)"
   ]
  },
  {
   "cell_type": "code",
   "execution_count": null,
   "metadata": {},
   "outputs": [],
   "source": [
    "#6. Eliminamos numero_de_cliente y foto_mes del análisis.\n",
    "#a. Train.\n",
    "train_data.drop([\"numero_de_cliente\",\"foto_mes\"],axis=1,inplace=True)\n",
    "#b. Test.\n",
    "test_data.drop([\"numero_de_cliente\",\"foto_mes\"],axis=1,inplace=True)"
   ]
  },
  {
   "cell_type": "code",
   "execution_count": null,
   "metadata": {},
   "outputs": [],
   "source": [
    "#7. Dividimos los datasets en las columnas de interés.\n",
    "#a. Datos para entrenar todo el modelo final para Kaggle.\n",
    "X_train = train_data.drop(['clase_ternaria', 'clase_peso','clase_binaria2'], axis=1)\n",
    "y_train_binaria2 = train_data['clase_binaria2']\n",
    "w_train = train_data['clase_peso']"
   ]
  },
  {
   "cell_type": "markdown",
   "metadata": {},
   "source": [
    "## B. Envíos para encontrar el punto de corte óptimo con 10 semillas."
   ]
  },
  {
   "cell_type": "code",
   "execution_count": null,
   "metadata": {},
   "outputs": [],
   "source": [
    "#1. Configuramos la cantidad de veces que vamos a subir cada curva de intentos (semillas).\n",
    "cantidad_semillas = 10\n",
    "semillas = [np.random.randint(0, 10000) for _ in range(cantidad_semillas)]"
   ]
  },
  {
   "cell_type": "code",
   "execution_count": null,
   "metadata": {},
   "outputs": [],
   "source": [
    "#2. Entrenamos y predecimos Agosto.\n",
    "#i. Recorremos diferentes semillas para entrenar.\n",
    "i= 0\n",
    "for semilla in semillas:\n",
    "    print(\"\\n---------------------------------------\")\n",
    "    print(\"Semilla: {}.\".format(semilla))\n",
    "    #ii. Activamos la API para realizar envíos a Kaggle.\n",
    "    api = KaggleApi()\n",
    "    api.authenticate()\n",
    "    #iii. Tomamos el mejor modelo y con eso entrenamos.\n",
    "    print(\"--> Mejores parámetros...\")\n",
    "    params = parametros.copy()  \n",
    "    params['seed'] = semilla\n",
    "    #iv. Adaptamos el dataset de entrenamiento.\n",
    "    train_data = lgb.Dataset(X_train,\n",
    "                            label=y_train_binaria2,\n",
    "                            weight=w_train)\n",
    "    #v. Entrenamos el modelo de Light GBM con los mejores hiperparámetros y la semilla aleatoria.\n",
    "    print(\"--> Comienza el entrenamiento...\")\n",
    "    model_lgb = lgb.train(params,\n",
    "                    train_data,\n",
    "                    num_boost_round=best_iter)\n",
    "    \n",
    "    #vi. Predecimos Agosto.\n",
    "    predicciones = model_lgb.predict(test_data)\n",
    "    #vii. Le pegamos la probabilidad de ser \"BAJA\" a cada cliente.\n",
    "    test_data['Probabilidad'] = predicciones\n",
    "    #viii. Ordenamos a los clientes por probabilidad de ser \"BAJA\" de forma descendente.\n",
    "    tb_entrega = test_data.sort_values(by='Probabilidad', ascending=False)\n",
    "    #ix. Genero una lista de distintos cortes candidatos, para enviar a Kaggle.\n",
    "    cortes = range(8500,13500,500)\n",
    "    #x. Generamos las distintas predicciones de clases a partir de los distintos cortes posibles.\n",
    "    num_subida_kaggle = 1\n",
    "    print(\"--> Comienzan los envíos a Kaggle...\\n\")\n",
    "    for envios in cortes:\n",
    "        #1. Le ponemos clase 1 (\"BAJA\") a los primeros \"envios\" con mayor probabilidad.\n",
    "        tb_entrega['Predicted'] = 0\n",
    "        tb_entrega.iloc[:envios, tb_entrega.columns.get_loc('Predicted')] = 1\n",
    "        resultados = tb_entrega[[\"numero_de_cliente\", 'Predicted']].reset_index(drop=True)\n",
    "        \n",
    "        print(\"Cantidad de clientes {}\".format(envios))\n",
    "        #2. Guardamos el archivo para Kaggle.\n",
    "        nombre_archivo = \"KSt_{}_EK_0{}_{}.csv\".format(cantidad_meses_train,num_subida_kaggle,semilla) #DF con -X meses, número de intento, número de semilla.\n",
    "        ruta_archivo= \"{}/{}\".format(exp_path,nombre_archivo)\n",
    "        resultados.to_csv(ruta_archivo, index=False)\n",
    "        \n",
    "        num_subida_kaggle += 1\n",
    "        i += 1\n",
    "        \n",
    "        #3. Envío a Kaggle.\n",
    "        #a. Defino los parámetros claves.\n",
    "        mensaje = f'Archivo {nombre_archivo}.Train {cantidad_meses_train}. Semilla:{semilla},corte:{envios}' # Datos de Train, semilla y punto de corte de prueba.\n",
    "        competencia = 'dm-ey-f-2024-segunda'\n",
    "        #c. Subo la Submission.\n",
    "        while i<=18:\n",
    "                api.competition_submit(file_name=ruta_archivo, message=mensaje, competition=competencia)\n",
    "                print(\"Submission successful!\")\n",
    "                break\n",
    "        else:\n",
    "            print(\"Esperamos 30 segundos...\")\n",
    "            time.sleep(30)\n",
    "            api.competition_submit(file_name=ruta_archivo, message=mensaje, competition=competencia)\n",
    "            print(\"Submission successful!\")\n",
    "            i= 0\n",
    "        \n",
    "    #d. Borramos la columna de predicciones anterior.\n",
    "    test_data.drop([\"Probabilidad\"],axis=1,inplace=True)"
   ]
  },
  {
   "cell_type": "code",
   "execution_count": null,
   "metadata": {},
   "outputs": [],
   "source": [
    "#3. Análisis de las subidas a Kaggle.\n",
    "#i. Eligiendo el mejor punto de corte.\n",
    "# Dados las 10 semillas corridas, y los 10 diferentes puntos de corte, el promedio nos indica que el punto de corte\n",
    "# más óptimo para este modelo es X envíos. En tanto la distribución promedio del Público se asemeja a la\n",
    "# distribución promedio del Privado, dicho punto de corte sería el mejor para la distribución promedio del Privado."
   ]
  },
  {
   "cell_type": "code",
   "execution_count": null,
   "metadata": {},
   "outputs": [],
   "source": []
  },
  {
   "cell_type": "markdown",
   "metadata": {},
   "source": [
    "## C. Envios a Kaggle para elegir luego el valor Promedio del punto de corte óptimo (estabilizar el modelo)."
   ]
  },
  {
   "cell_type": "code",
   "execution_count": null,
   "metadata": {},
   "outputs": [],
   "source": [
    "#1. Configuramos la cantidad de veces que vamos a subir cada curva de intentos (semillas).\n",
    "cantidad_semillas = 40\n",
    "semillas = [np.random.randint(0, 10000) for _ in range(cantidad_semillas)]"
   ]
  },
  {
   "cell_type": "code",
   "execution_count": null,
   "metadata": {},
   "outputs": [],
   "source": [
    "#2. Entrenamos y predecimos Agosto.\n",
    "#i. Recorremos diferentes semillas para entrenar.\n",
    "i= 0\n",
    "for semilla in semillas:\n",
    "    print(\"\\n---------------------------------------\")\n",
    "    print(\"Semilla: {}.\".format(semilla))\n",
    "    #ii. Activamos la API para realizar envíos a Kaggle.\n",
    "    api = KaggleApi()\n",
    "    api.authenticate()\n",
    "    #iii. Tomamos el mejor modelo y con eso entrenamos.\n",
    "    print(\"--> Mejores parámetros...\")\n",
    "    params = parametros.copy() \n",
    "    params['seed'] = semilla\n",
    "    #iv. Adaptamos el dataset de entrenamiento.\n",
    "    train_data = lgb.Dataset(X_train,\n",
    "                            label=y_train_binaria2,\n",
    "                            weight=w_train)\n",
    "    #v. Entrenamos el modelo de Light GBM con los mejores hiperparámetros y la semilla aleatoria.\n",
    "    print(\"--> Comienza el entrenamiento...\")\n",
    "    model_lgb = lgb.train(params,\n",
    "                    train_data,\n",
    "                    num_boost_round=best_iter)\n",
    "    \n",
    "    #vi. Predecimos Agosto.\n",
    "    predicciones = model_lgb.predict(X_test)\n",
    "    #vii. Le pegamos la probabilidad de ser \"BAJA\" a cada cliente.\n",
    "    X_test['Probabilidad'] = predicciones\n",
    "    #viii. Ordenamos a los clientes por probabilidad de ser \"BAJA\" de forma descendente.\n",
    "    tb_entrega = X_test.sort_values(by='Probabilidad', ascending=False)\n",
    "    #ix. Genero una lista de distintos cortes candidatos, para enviar a Kaggle.\n",
    "    cortes = range(8500,13500,500)\n",
    "    #x. Generamos las distintas predicciones de clases a partir de los distintos cortes posibles.\n",
    "    num_subida_kaggle = 1\n",
    "    print(\"--> Comienzan los envíos a Kaggle...\\n\")\n",
    "    for envios in cortes:\n",
    "        #1. Le ponemos clase 1 (\"BAJA\") a los primeros \"envios\" con mayor probabilidad.\n",
    "        tb_entrega['Predicted'] = 0\n",
    "        tb_entrega.iloc[:envios, tb_entrega.columns.get_loc('Predicted')] = 1\n",
    "        resultados = tb_entrega[[\"numero_de_cliente\", 'Predicted']].reset_index(drop=True)\n",
    "        \n",
    "        print(\"Cantidad de clientes {}\".format(envios))\n",
    "        #2. Guardamos el archivo para Kaggle.\n",
    "        nombre_archivo = \"KSt_{}_EK_0{}_{}.csv\".format(cantidad_meses_train,num_subida_kaggle,semilla) #DF con -X meses, número de intento, número de semilla.\n",
    "        ruta_archivo= \"{}/{}\".format(exp_path,nombre_archivo)\n",
    "        resultados.to_csv(ruta_archivo, index=False)\n",
    "        \n",
    "        num_subida_kaggle += 1\n",
    "        i += 1\n",
    "        \n",
    "        #3. Envío a Kaggle.\n",
    "        #a. Defino los parámetros claves.\n",
    "        mensaje = f'Archivo {nombre_archivo}.Train {cantidad_meses_train}. Semilla:{semilla},corte:{envios}' # Datos de Train, semilla y punto de corte de prueba.\n",
    "        competencia = 'dm-ey-f-2024-segunda'\n",
    "        #c. Subo la Submission.\n",
    "        while i<=18:\n",
    "                api.competition_submit(file_name=ruta_archivo, message=mensaje, competition=competencia)\n",
    "                print(\"Submission successful!\")\n",
    "                break\n",
    "        else:\n",
    "            print(\"Esperamos 30 segundos...\")\n",
    "            time.sleep(30)\n",
    "            api.competition_submit(file_name=ruta_archivo, message=mensaje, competition=competencia)\n",
    "            print(\"Submission successful!\")\n",
    "            i= 0\n",
    "        \n",
    "    #d. Borramos la columna de predicciones anterior.\n",
    "    X_test.drop([\"Probabilidad\"],axis=1,inplace=True)"
   ]
  }
 ],
 "metadata": {
  "language_info": {
   "name": "python"
  }
 },
 "nbformat": 4,
 "nbformat_minor": 2
}
