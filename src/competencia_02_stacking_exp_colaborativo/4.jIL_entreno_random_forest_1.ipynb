{
 "cells": [
  {
   "cell_type": "markdown",
   "metadata": {},
   "source": [
    "## A. Configuraciones Generales."
   ]
  },
  {
   "cell_type": "code",
   "execution_count": null,
   "metadata": {},
   "outputs": [],
   "source": [
    "#1. Librerías.\n",
    "%run \"./librerias.ipynb\""
   ]
  },
  {
   "cell_type": "code",
   "execution_count": null,
   "metadata": {},
   "outputs": [],
   "source": [
    "#2. Constantes.\n",
    "#a. Constantes generales.\n",
    "%run \"./constantes.ipynb\"\n",
    "\n",
    "#b. Constantes a definir por el usuario.\n",
    "#i. Dataset post Future Engineering del modelo.\n",
    "dataset_input = dataset_file_fe_12_3\n",
    "#ii. Mes de entrenamiento.\n",
    "mes_train = mes_train_ult_anio\n",
    "#iii. Ruta del modelo guardado post-optimización de hiperparámetros.\n",
    "modelo =  \"{}\".format(modelos_path) + 'rf_1_3.sav'\n",
    "#iv. Dataset donde exportar los resultados obtenidos.\n",
    "dataset_output = path_output_m4"
   ]
  },
  {
   "cell_type": "code",
   "execution_count": null,
   "metadata": {},
   "outputs": [],
   "source": [
    "#3. Funciones.\n",
    "%run \"./funciones.ipynb\""
   ]
  },
  {
   "cell_type": "code",
   "execution_count": null,
   "metadata": {},
   "outputs": [],
   "source": [
    "#4. Lectura de dataframes post-feature engineering (.csv o .parquet), y modelos ya optimizados previamente (.txt).\n",
    "#i. Modelo LGBM propio con 3 meses para calculo de slope y valor actual vs promedio histórico. \n",
    "data = pd.read_parquet(dataset_input)"
   ]
  },
  {
   "cell_type": "code",
   "execution_count": null,
   "metadata": {},
   "outputs": [],
   "source": [
    "#5. Pequeño pre-procesamiento sobre los datos.\n",
    "#i. Cambio tipos de datos (Me lo toma como tipo de dato \"object\"...)\n",
    "data['ctrx_quarter_normalizado'] = data['ctrx_quarter_normalizado'].astype(float)\n",
    "#ii. Elimino columnas de último momento por Data Concept.\n",
    "columnas_de_interes_prestamos = data.filter(like='prestamos_personales').columns\n",
    "data.drop(columnas_de_interes_prestamos,axis=1,inplace=True)"
   ]
  },
  {
   "cell_type": "code",
   "execution_count": null,
   "metadata": {},
   "outputs": [],
   "source": [
    "#7. Dividimos entre conjuntos de datos.\n",
    "#a. Train.\n",
    "X = data[data['foto_mes'].isin(mes_train)]\n",
    "y = X['clase_ternaria']\n",
    "X = X.drop(columns=['clase_ternaria'])"
   ]
  },
  {
   "cell_type": "code",
   "execution_count": null,
   "metadata": {},
   "outputs": [],
   "source": [
    "#4. Importo el modelo.\n",
    "#i. Lo importo.\n",
    "model_rf = pickle.load(open(modelo, 'rb'))\n",
    "#ii. Extraigo los mejores parámetros del modelo.\n",
    "best_params = model_rf.get_params()"
   ]
  },
  {
   "cell_type": "code",
   "execution_count": null,
   "metadata": {},
   "outputs": [],
   "source": [
    "#9. Dataframe con predicciones finales.\n",
    "stacking_predictions = pd.DataFrame(columns=['numero_de_cliente', 'foto_mes', 'probabilidad'])"
   ]
  },
  {
   "cell_type": "markdown",
   "metadata": {},
   "source": [
    "## B. Entrenamiento de Modelo Individual, y predicción de las folds restantes."
   ]
  },
  {
   "cell_type": "code",
   "execution_count": null,
   "metadata": {},
   "outputs": [],
   "source": [
    "#1. Entrenamos y predecimos.\n",
    "#i. Se crean las 5 folds estratificadas por mes.\n",
    "skf = StratifiedKFold(n_splits=5, shuffle=True, random_state=semillas[0])\n",
    "\n",
    "#ii. Se recorre cada fold, dividiendo entre 4 para train y 1 para validación.\n",
    "for fold, (train_index, val_index) in enumerate(skf.split(X, X['foto_mes'])):\n",
    "    print(f\"Fold {fold + 1}\")\n",
    "    \n",
    "    #a. Se dividen los datos en conjuntos de entrenamiento y validación para este fold.\n",
    "    X_train_fold, X_val_fold = X.iloc[train_index], X.iloc[val_index]\n",
    "    y_train_fold, y_val_fold = y.iloc[train_index], y.iloc[val_index]\n",
    "    \n",
    "    #b. Entrenamiento del modelo en los datos del fold actual usando los parámetros del modelo original.\n",
    "    model_rf = RandomForestClassifier(\n",
    "    **best_params # Usa los mejores hiperparámetros obtenidos de Optuna\n",
    ")\n",
    "    \n",
    "    model_rf.fit(X_train_fold, y_train_fold)\n",
    "    \n",
    "    #d. Se predice el conjunto de validación para el fold actual.\n",
    "    val_predictions = model_rf.predict_proba(X_val_fold)[:, 1]\n",
    "    \n",
    "    #e. Se crea un DataFrame temporal para almacenar las predicciones2.\n",
    "    fold_predictions = pd.DataFrame({\n",
    "        'numero_de_cliente': X.iloc[val_index]['numero_de_cliente'].values,\n",
    "        'foto_mes': X.iloc[val_index]['foto_mes'].values,\n",
    "        'probabilidad': val_predictions\n",
    "    })\n",
    "    \n",
    "    #f. Se agregan las predicciones del fold al DataFrame final.\n",
    "    stacking_predictions = pd.concat([stacking_predictions, fold_predictions], ignore_index=True)"
   ]
  },
  {
   "cell_type": "code",
   "execution_count": null,
   "metadata": {},
   "outputs": [],
   "source": [
    "#2. Renombramos.\n",
    "stacking_predictions.rename({\"probabilidad\":\"probabilidad_modelo4\"},axis=1,inplace=True)"
   ]
  },
  {
   "cell_type": "code",
   "execution_count": null,
   "metadata": {},
   "outputs": [],
   "source": [
    "#3. Exportamos.\n",
    "stacking_predictions.to_parquet(dataset_output)"
   ]
  }
 ],
 "metadata": {
  "kernelspec": {
   "display_name": "dmeyf",
   "language": "python",
   "name": "python3"
  },
  "language_info": {
   "codemirror_mode": {
    "name": "ipython",
    "version": 3
   },
   "file_extension": ".py",
   "mimetype": "text/x-python",
   "name": "python",
   "nbconvert_exporter": "python",
   "pygments_lexer": "ipython3",
   "version": "3.12.3"
  }
 },
 "nbformat": 4,
 "nbformat_minor": 2
}
