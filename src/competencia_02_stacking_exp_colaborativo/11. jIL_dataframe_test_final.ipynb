{
 "cells": [
  {
   "cell_type": "markdown",
   "metadata": {},
   "source": [
    "## A. Configuraciones Generales."
   ]
  },
  {
   "cell_type": "code",
   "execution_count": null,
   "metadata": {},
   "outputs": [],
   "source": [
    "#1. Librerías.\n",
    "%run \"./librerias.ipynb\""
   ]
  },
  {
   "cell_type": "code",
   "execution_count": null,
   "metadata": {},
   "outputs": [],
   "source": [
    "#2. Constantes.\n",
    "#i. General.\n",
    "%run \"./constantes.ipynb\"\n",
    "\n",
    "#ii. Particular.\n",
    "#a. Meses de Test.\n",
    "mes_test = mes_test\n",
    "#b. Output del dataset mergeado con las predicciones de los modelos individuales.\n",
    "dataset_joineado_stacking = datasets_path + \"competencia_02_stacking_test.parquet\""
   ]
  },
  {
   "cell_type": "code",
   "execution_count": null,
   "metadata": {},
   "outputs": [],
   "source": [
    "#3. Funciones\n",
    "%run \"./funciones.ipynb\""
   ]
  },
  {
   "cell_type": "code",
   "execution_count": null,
   "metadata": {},
   "outputs": [],
   "source": [
    "#4. Lectura de datos.\n",
    "#i. Modelo 1.\n",
    "m1 = pd.read_parquet(path_output_m1_test)\n",
    "#ii. Modelo 2.\n",
    "m2 = pd.read_parquet(path_output_m2_test)\n",
    "#iii. Modelo 3.\n",
    "m3 = pd.read_parquet(path_output_m3_test)\n",
    "#iv. Modelo 4.\n",
    "m4 = pd.read_parquet(path_output_m4_test)"
   ]
  },
  {
   "cell_type": "markdown",
   "metadata": {},
   "source": [
    "## B. Pre-procesamiento."
   ]
  },
  {
   "cell_type": "code",
   "execution_count": null,
   "metadata": {},
   "outputs": [],
   "source": [
    "#1. Mergeo toda la información en un solo dataframe.\n",
    "#i. Defino las columnas de mergeo.\n",
    "cols_mergeo = [\"numero_de_cliente\",\"foto_mes\"]\n",
    "#ii. Mergeo propiamente dicho.\n",
    "data = m1.merge(m2,how=\"left\",on=cols_mergeo).merge(m3,how=\"left\",on=cols_mergeo).merge(m4,how=\"left\",on=cols_mergeo)"
   ]
  },
  {
   "cell_type": "code",
   "execution_count": null,
   "metadata": {},
   "outputs": [],
   "source": [
    "#4. Exporto el dataframe final.\n",
    "data.to_parquet(dataset_joineado_stacking)"
   ]
  }
 ],
 "metadata": {
  "language_info": {
   "name": "python"
  }
 },
 "nbformat": 4,
 "nbformat_minor": 2
}
