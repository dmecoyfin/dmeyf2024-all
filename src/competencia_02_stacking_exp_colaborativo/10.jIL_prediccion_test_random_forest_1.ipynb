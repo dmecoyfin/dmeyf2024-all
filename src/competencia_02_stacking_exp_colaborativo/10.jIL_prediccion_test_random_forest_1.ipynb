{
 "cells": [
  {
   "cell_type": "markdown",
   "metadata": {},
   "source": [
    "## A. Configuraciones Generales."
   ]
  },
  {
   "cell_type": "code",
   "execution_count": null,
   "metadata": {},
   "outputs": [],
   "source": [
    "#1. Librerías.\n",
    "%run \"./librerias.ipynb\""
   ]
  },
  {
   "cell_type": "code",
   "execution_count": null,
   "metadata": {},
   "outputs": [],
   "source": [
    "#2. Constantes.\n",
    "#i. Generales.\n",
    "%run \"./constantes.ipynb\"\n",
    "\n",
    "#ii. Particulares.\n",
    "#i. Dataset post Future Engineering del modelo.\n",
    "dataset_input = dataset_file_fe_12_3\n",
    "#ii. Mes de Test.\n",
    "mes_test= mes_test\n",
    "#iii. Ruta del modelo guardado post-optimización de hiperparámetros.\n",
    "modelo =  \"{}\".format(modelos_path) + 'rf_1_3.sav'\n",
    "#iv. Dataset donde exportar los resultados obtenidos.\n",
    "dataset_output = path_output_m4_test"
   ]
  },
  {
   "cell_type": "code",
   "execution_count": null,
   "metadata": {},
   "outputs": [],
   "source": [
    "#3. Funciones.\n",
    "%run \"./funciones.ipynb\""
   ]
  },
  {
   "cell_type": "code",
   "execution_count": null,
   "metadata": {},
   "outputs": [],
   "source": [
    "#4. Lectura de dataframes post-feature engineering (.csv o .parquet), y modelos ya optimizados previamente (.txt).\n",
    "data = pd.read_parquet(dataset_input)"
   ]
  },
  {
   "cell_type": "code",
   "execution_count": null,
   "metadata": {},
   "outputs": [],
   "source": [
    "#5. Pequeño pre-procesamiento sobre los datos.\n",
    "#i. Cambio tipos de datos (Me lo toma como tipo de dato \"object\"...)\n",
    "data['ctrx_quarter_normalizado'] = data['ctrx_quarter_normalizado'].astype(float)\n",
    "#ii. Elimino columnas de último momento por Data Concept.\n",
    "columnas_de_interes_prestamos = data.filter(like='prestamos_personales').columns\n",
    "data.drop(columnas_de_interes_prestamos,axis=1,inplace=True)"
   ]
  },
  {
   "cell_type": "code",
   "execution_count": null,
   "metadata": {},
   "outputs": [],
   "source": [
    "#6. Dividimos entre conjuntos de datos.\n",
    "#i. Datos a predecir.\n",
    "X = data[data['foto_mes'] == mes_test]\n",
    "#ii. Borramos las columnas de no interés.\n",
    "X = X.drop(columns=['clase_ternaria'])"
   ]
  },
  {
   "cell_type": "code",
   "execution_count": null,
   "metadata": {},
   "outputs": [],
   "source": [
    "#8. Obtenemos los hiperparámetros del modelo.\n",
    "#i. Lo importo.\n",
    "model_rf = pickle.load(open(modelo, 'rb'))\n",
    "#ii. Extraigo los mejores parámetros del modelo.\n",
    "best_params = model_rf.get_params()"
   ]
  },
  {
   "cell_type": "markdown",
   "metadata": {},
   "source": [
    "## B. Predicción de Test."
   ]
  },
  {
   "cell_type": "code",
   "execution_count": null,
   "metadata": {},
   "outputs": [],
   "source": [
    "#i. Predecimos propiamente dicho.\n",
    "predicciones = model_rf.predict_proba(X)[:, 1]"
   ]
  },
  {
   "cell_type": "code",
   "execution_count": null,
   "metadata": {},
   "outputs": [],
   "source": [
    "#ii. Le pegamos la probabilidad de ser \"BAJA\" a cada cliente.\n",
    "X['probabilidad'] = predicciones"
   ]
  },
  {
   "cell_type": "code",
   "execution_count": null,
   "metadata": {},
   "outputs": [],
   "source": [
    "#iii. Nos quedamos solamente con las columnas de interés.\n",
    "stacking_predictions = X[['numero_de_cliente', 'foto_mes', 'probabilidad']]"
   ]
  },
  {
   "cell_type": "code",
   "execution_count": null,
   "metadata": {},
   "outputs": [],
   "source": [
    "#iv. Renombramos.\n",
    "stacking_predictions.rename({\"probabilidad\":\"probabilidad_modelo4\"},axis=1,inplace=True)"
   ]
  },
  {
   "cell_type": "code",
   "execution_count": null,
   "metadata": {},
   "outputs": [],
   "source": [
    "#v. Exportamos.\n",
    "stacking_predictions.to_parquet(dataset_output)"
   ]
  }
 ],
 "metadata": {
  "kernelspec": {
   "display_name": "dmeyf",
   "language": "python",
   "name": "python3"
  },
  "language_info": {
   "codemirror_mode": {
    "name": "ipython",
    "version": 3
   },
   "file_extension": ".py",
   "mimetype": "text/x-python",
   "name": "python",
   "nbconvert_exporter": "python",
   "pygments_lexer": "ipython3",
   "version": "3.12.3"
  }
 },
 "nbformat": 4,
 "nbformat_minor": 2
}
