{
 "cells": [
  {
   "cell_type": "markdown",
   "metadata": {},
   "source": [
    "## A. Configuraciones Generales."
   ]
  },
  {
   "cell_type": "code",
   "execution_count": null,
   "metadata": {},
   "outputs": [],
   "source": [
    "#1. Librerías.\n",
    "%run \"./librerias.ipynb\""
   ]
  },
  {
   "cell_type": "code",
   "execution_count": null,
   "metadata": {},
   "outputs": [],
   "source": [
    "#2. Constantes.\n",
    "#i. General.\n",
    "%run \"./constantes.ipynb\"\n",
    "\n",
    "#ii. Particular.\n",
    "#a. Meses de Train y Test.\n",
    "mes_train =  mes_train_ult_anio\n",
    "mes_test = mes_test\n",
    "#b. Cantidad de meses de Train.\n",
    "cantidad_meses_train = 12\n",
    "#c. Output del dataset mergeado de los modelos individuales.\n",
    "dataset_joineado_stacking = datasets_path + \"competencia_02_stacking.parquet\""
   ]
  },
  {
   "cell_type": "code",
   "execution_count": null,
   "metadata": {},
   "outputs": [],
   "source": [
    "#3. Funciones\n",
    "%run \"./funciones.ipynb\""
   ]
  },
  {
   "cell_type": "code",
   "execution_count": null,
   "metadata": {},
   "outputs": [],
   "source": [
    "#4. Lectura de datos.\n",
    "#i. Modelo 1.\n",
    "m1 = pd.read_parquet(path_output_m1)\n",
    "#ii. Modelo 2.\n",
    "m2 = pd.read_parquet(path_output_m2)\n",
    "#iii. Modelo 3.\n",
    "m3 = pd.read_parquet(path_output_m3)\n",
    "#iv. Modelo 4.\n",
    "m4 = pd.read_parquet(path_output_m4)\n",
    "#v. Leo todos los datos para traerme el target real de dichos datos.\n",
    "target = pd.read_parquet(dataset_file_fe_12_3)"
   ]
  },
  {
   "cell_type": "markdown",
   "metadata": {},
   "source": [
    "## B. Mergeo y Exportación del dataframe de Train final."
   ]
  },
  {
   "cell_type": "code",
   "execution_count": null,
   "metadata": {},
   "outputs": [],
   "source": [
    "#1. Filtro los meses de interés.\n",
    "target = target[target[\"foto_mes\"].isin(mes_train_ult_anio)]"
   ]
  },
  {
   "cell_type": "code",
   "execution_count": null,
   "metadata": {},
   "outputs": [],
   "source": [
    "#2. Me quedo solamente con el target.\n",
    "target = target[[\"numero_de_cliente\",\"foto_mes\",\"clase_ternaria\"]]"
   ]
  },
  {
   "cell_type": "code",
   "execution_count": null,
   "metadata": {},
   "outputs": [],
   "source": [
    "#3. Mergeo toda la información en un solo dataframe.\n",
    "#i. Defino las columnas de mergeo.\n",
    "cols_mergeo = [\"numero_de_cliente\",\"foto_mes\"]\n",
    "#ii. Mergeo propiamente dicho.\n",
    "data = m1.merge(m2,how=\"left\",on=cols_mergeo).merge(m3,how=\"left\",on=cols_mergeo).merge(m4,how=\"left\",on=cols_mergeo).merge(target,how=\"left\",on=cols_mergeo)"
   ]
  },
  {
   "cell_type": "code",
   "execution_count": null,
   "metadata": {},
   "outputs": [],
   "source": [
    "#4. Exporto el dataframe final.\n",
    "data.to_parquet(dataset_joineado_stacking)"
   ]
  }
 ],
 "metadata": {
  "language_info": {
   "name": "python"
  }
 },
 "nbformat": 4,
 "nbformat_minor": 2
}
