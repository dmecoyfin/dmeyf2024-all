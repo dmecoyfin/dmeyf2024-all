{
 "cells": [
  {
   "cell_type": "markdown",
   "metadata": {},
   "source": [
    "#### A. Configuración General."
   ]
  },
  {
   "cell_type": "code",
   "execution_count": null,
   "metadata": {},
   "outputs": [],
   "source": [
    "#1. Librerías.\n",
    "%run \"../librerias.ipynb\""
   ]
  },
  {
   "cell_type": "code",
   "execution_count": null,
   "metadata": {},
   "outputs": [],
   "source": [
    "#2. Constantes.\n",
    "#a. Constantes generales.\n",
    "%run \"../constantes.ipynb\"\n",
    "\n",
    "#b. Constantes a definir por el usuari.\n",
    "#i. Dataset de lectura (post-feature engineering).\n",
    "dataset_con_fe = dataset_file_fe_12_3\n",
    "#ii. Información sobre rango temporal del modelo.\n",
    "cantidad_meses_train = 1\n",
    "ventana = 3\n",
    "#iii. Meses de train y test.\n",
    "mes_train = 202106\n",
    "mes_test = mes_test\n",
    "#iv. Ruta del modelo guardado post-optimización de hiperparámetros.\n",
    "modelo =  \"{}\".format(modelos_path) + 'rf_{}_{}.sav'.format(cantidad_meses_train,ventana)\n",
    "#v. Ruta de la BBDD donde se almacenan los hiperparámetros óptimos post-Optuna.\n",
    "storage_name = \"sqlite:///\" + db_path + \"optimization_tree.db\"\n",
    "study_name = f\"exp_rf_{cantidad_meses_train}_{ventana}\""
   ]
  },
  {
   "cell_type": "code",
   "execution_count": null,
   "metadata": {},
   "outputs": [],
   "source": [
    "#3. Lectura de datos.\n",
    "data = pd.read_parquet(dataset_con_fe)"
   ]
  },
  {
   "cell_type": "code",
   "execution_count": null,
   "metadata": {},
   "outputs": [],
   "source": [
    "#4. Importo el modelo.\n",
    "model_rf = pickle.load(open(modelo, 'rb'))"
   ]
  },
  {
   "cell_type": "markdown",
   "metadata": {},
   "source": [
    "#### B. Pre-procesamiento."
   ]
  },
  {
   "cell_type": "code",
   "execution_count": null,
   "metadata": {},
   "outputs": [],
   "source": [
    "#1. Dividimos entre conjuntos de datos entre Train y Test.\n",
    "#a. Train.\n",
    "X = data[data['foto_mes'] == mes_train]\n",
    "y = X['clase_ternaria']\n",
    "X = X.drop(columns=['clase_ternaria'])\n",
    "\n",
    "#b. Test.\n",
    "X_futuro = data[data['foto_mes'] == mes_test]\n",
    "y_futuro = X_futuro['clase_ternaria']\n",
    "X_futuro = X_futuro.drop(columns=['clase_ternaria'])"
   ]
  },
  {
   "cell_type": "markdown",
   "metadata": {},
   "source": [
    "#### C. Envíos para encontrar el punto de corte óptimo con 10 semillas."
   ]
  },
  {
   "cell_type": "code",
   "execution_count": null,
   "metadata": {},
   "outputs": [],
   "source": [
    "#1. Configuramos la cantidad de veces que vamos a subir cada curva de intentos (semillas).\n",
    "cantidad_semillas = 10\n",
    "semillas = [np.random.randint(0, 10000) for _ in range(cantidad_semillas)]"
   ]
  },
  {
   "cell_type": "code",
   "execution_count": null,
   "metadata": {},
   "outputs": [],
   "source": [
    "#2. Entrenamos y predecimos Agosto.\n",
    "#i. Recorremos diferentes semillas para entrenar.\n",
    "i= 0\n",
    "for semilla in semillas:\n",
    "    print(\"\\n---------------------------------------\")\n",
    "    print(\"Semilla: {}.\".format(semilla))\n",
    "    #ii. Activamos la API para realizar envíos a Kaggle.\n",
    "    api = KaggleApi()\n",
    "    api.authenticate()\n",
    "    #iii. Entrenamos el modelo Random Forest con los mejores hiperparámetros y la semilla aleatoria.\n",
    "    print(\"--> Comienza el entrenamiento...\")\n",
    "    model_rf = RandomForestClassifier(\n",
    "        n_estimators=1000,\n",
    "        **best_params,  # Usa los mejores hiperparámetros obtenidos de Optuna\n",
    "        max_samples=0.7,\n",
    "        random_state=semilla,  # Cambia la semilla aquí para cada iteración\n",
    "        n_jobs=-1,\n",
    "        oob_score=True\n",
    "    )\n",
    "    \n",
    "    model_rf.fit(X, y)\n",
    "    #iv. Predecimos Agosto.\n",
    "    predicciones = model_rf.predict_proba(X_futuro)[:, 1]  # Probabilidad de ser \"BAJA+2\"\n",
    "    #v. Le pegamos la probabilidad de ser \"BAJA\" a cada cliente.\n",
    "    X_futuro['Probabilidad'] = predicciones\n",
    "    #vi. Ordenamos a los clientes por probabilidad de ser \"BAJA\" de forma descendente.\n",
    "    tb_entrega = X_futuro.sort_values(by='Probabilidad', ascending=False)\n",
    "    #vii. Genero una lista de distintos cortes candidatos, para enviar a Kaggle.\n",
    "    cortes = range(8500,13500,500)\n",
    "    #viii. Generamos las distintas predicciones de clases a partir de los distintos cortes posibles.\n",
    "    num_subida_kaggle = 1\n",
    "    print(\"--> Comienzan los envíos a Kaggle...\\n\")\n",
    "    for envios in cortes:\n",
    "        #1. Le ponemos clase 1 (\"BAJA\") a los primeros \"envios\" con mayor probabilidad.\n",
    "        tb_entrega['Predicted'] = 0\n",
    "        tb_entrega.iloc[:envios, tb_entrega.columns.get_loc('Predicted')] = 1\n",
    "        resultados = tb_entrega[[\"numero_de_cliente\", 'Predicted']].reset_index(drop=True)\n",
    "        \n",
    "        print(\"Cantidad de clientes {}\".format(envios))\n",
    "        #2. Guardamos el archivo para Kaggle.\n",
    "        nombre_archivo = \"KRF_{}_{}_EK_0{}_{}.csv\".format(cantidad_meses_train,ventana,num_subida_kaggle,semilla) #DF con -X meses, Y ventana, número de intento, número de semilla.\n",
    "        ruta_archivo= \"{}/{}\".format(exp_path,nombre_archivo)\n",
    "        resultados.to_csv(ruta_archivo, index=False)\n",
    "        \n",
    "        num_subida_kaggle += 1\n",
    "        i += 1\n",
    "        \n",
    "        #3. Envío a Kaggle.\n",
    "        #a. Defino los parámetros claves.\n",
    "        mensaje = f'Archivo {nombre_archivo}.RF Train {cantidad_meses_train}. Semilla:{semilla},corte:{envios}' # Datos de Train, si está con Data Drifting o no, semilla y punto de corte de prueba.\n",
    "        competencia = 'dm-ey-f-2024-segunda'\n",
    "        #c. Subo la Submission.\n",
    "        while i<=18:\n",
    "                api.competition_submit(file_name=ruta_archivo, message=mensaje, competition=competencia)\n",
    "                print(\"Submission successful!\")\n",
    "                break\n",
    "        else:\n",
    "            print(\"Esperamos 30 segundos...\")\n",
    "            time.sleep(30)\n",
    "            api.competition_submit(file_name=ruta_archivo, message=mensaje, competition=competencia)\n",
    "            print(\"Submission successful!\")\n",
    "            i= 0\n",
    "        \n",
    "    #d. Borramos la columna de predicciones anterior.\n",
    "    X_futuro.drop([\"Probabilidad\"],axis=1,inplace=True)"
   ]
  }
 ],
 "metadata": {
  "kernelspec": {
   "display_name": "dmeyf",
   "language": "python",
   "name": "python3"
  },
  "language_info": {
   "codemirror_mode": {
    "name": "ipython",
    "version": 3
   },
   "file_extension": ".py",
   "mimetype": "text/x-python",
   "name": "python",
   "nbconvert_exporter": "python",
   "pygments_lexer": "ipython3",
   "version": "3.12.3"
  }
 },
 "nbformat": 4,
 "nbformat_minor": 2
}
