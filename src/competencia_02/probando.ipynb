{
 "cells": [
  {
   "cell_type": "code",
   "execution_count": 1,
   "id": "033ac3c4-54b6-426a-8b44-1e50275782ab",
   "metadata": {},
   "outputs": [
    {
     "name": "stdout",
     "output_type": "stream",
     "text": [
      "probando\n"
     ]
    }
   ],
   "source": [
    "print(\"probando\")"
   ]
  },
  {
   "cell_type": "code",
   "execution_count": null,
   "id": "2fcfcb88-ceed-4c90-a8e1-ec95fdf848a8",
   "metadata": {},
   "outputs": [],
   "source": []
  }
 ],
 "metadata": {
  "kernelspec": {
   "display_name": "Python 3 (ipykernel)",
   "language": "python",
   "name": "python3"
  },
  "language_info": {
   "codemirror_mode": {
    "name": "ipython",
    "version": 3
   },
   "file_extension": ".py",
   "mimetype": "text/x-python",
   "name": "python",
   "nbconvert_exporter": "python",
   "pygments_lexer": "ipython3",
   "version": "3.12.3"
  }
 },
 "nbformat": 4,
 "nbformat_minor": 5
}
