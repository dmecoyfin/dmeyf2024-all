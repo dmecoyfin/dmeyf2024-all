{
 "cells": [
  {
   "cell_type": "markdown",
   "metadata": {},
   "source": [
    "## A. Configuración General."
   ]
  },
  {
   "cell_type": "code",
   "execution_count": 2,
   "metadata": {},
   "outputs": [
    {
     "name": "stderr",
     "output_type": "stream",
     "text": [
      "Matplotlib is building the font cache; this may take a moment.\n"
     ]
    },
    {
     "data": {
      "text/html": [
       "<style type='text/css'>\n",
       ".datatable table.frame { margin-bottom: 0; }\n",
       ".datatable table.frame thead { border-bottom: none; }\n",
       ".datatable table.frame tr.coltypes td {  color: #FFFFFF;  line-height: 6px;  padding: 0 0.5em;}\n",
       ".datatable .bool    { background: #DDDD99; }\n",
       ".datatable .object  { background: #565656; }\n",
       ".datatable .int     { background: #5D9E5D; }\n",
       ".datatable .float   { background: #4040CC; }\n",
       ".datatable .str     { background: #CC4040; }\n",
       ".datatable .time    { background: #40CC40; }\n",
       ".datatable .row_index {  background: var(--jp-border-color3);  border-right: 1px solid var(--jp-border-color0);  color: var(--jp-ui-font-color3);  font-size: 9px;}\n",
       ".datatable .frame tbody td { text-align: left; }\n",
       ".datatable .frame tr.coltypes .row_index {  background: var(--jp-border-color0);}\n",
       ".datatable th:nth-child(2) { padding-left: 12px; }\n",
       ".datatable .hellipsis {  color: var(--jp-cell-editor-border-color);}\n",
       ".datatable .vellipsis {  background: var(--jp-layout-color0);  color: var(--jp-cell-editor-border-color);}\n",
       ".datatable .na {  color: var(--jp-cell-editor-border-color);  font-size: 80%;}\n",
       ".datatable .sp {  opacity: 0.25;}\n",
       ".datatable .footer { font-size: 9px; }\n",
       ".datatable .frame_dimensions {  background: var(--jp-border-color3);  border-top: 1px solid var(--jp-border-color0);  color: var(--jp-ui-font-color3);  display: inline-block;  opacity: 0.6;  padding: 1px 10px 1px 5px;}\n",
       "</style>\n"
      ],
      "text/plain": [
       "<IPython.core.display.HTML object>"
      ]
     },
     "metadata": {},
     "output_type": "display_data"
    },
    {
     "name": "stderr",
     "output_type": "stream",
     "text": [
      "/home/ianlink95/.venv/lib/python3.12/site-packages/dask/dataframe/__init__.py:42: FutureWarning: \n",
      "Dask dataframe query planning is disabled because dask-expr is not installed.\n",
      "\n",
      "You can install it with `pip install dask[dataframe]` or `conda install dask`.\n",
      "This will raise in a future version.\n",
      "\n",
      "  warnings.warn(msg, FutureWarning)\n",
      "/home/ianlink95/.venv/lib/python3.12/site-packages/tqdm/auto.py:21: TqdmWarning: IProgress not found. Please update jupyter and ipywidgets. See https://ipywidgets.readthedocs.io/en/stable/user_install.html\n",
      "  from .autonotebook import tqdm as notebook_tqdm\n"
     ]
    }
   ],
   "source": [
    "#1. Librerías.\n",
    "%run \"../librerias.ipynb\""
   ]
  },
  {
   "cell_type": "code",
   "execution_count": 3,
   "metadata": {},
   "outputs": [],
   "source": [
    "#3. Constantes.\n",
    "%run \"../constantes.ipynb\"\n",
    "\n",
    "dataset_con_fe = dataset_file_fe_all_1\n",
    "\n",
    "cantidad_meses_train = \"all\"\n",
    "ventana = 1\n",
    "\n",
    "mes_train = mes_train_all_menos_1\n",
    "mes_test = mes_test"
   ]
  },
  {
   "cell_type": "code",
   "execution_count": 4,
   "metadata": {},
   "outputs": [],
   "source": [
    "#4. Funciones\n",
    "%run \"../funciones.ipynb\""
   ]
  },
  {
   "cell_type": "code",
   "execution_count": 5,
   "metadata": {},
   "outputs": [],
   "source": [
    "#5. Lectura de datos.\n",
    "data = pd.read_parquet(dataset_con_fe)"
   ]
  },
  {
   "cell_type": "code",
   "execution_count": 6,
   "metadata": {},
   "outputs": [],
   "source": [
    "#6. Pequeño pre-procesamiento sobre los datos.\n",
    "#i. Cambio tipos de datos (Me lo toma como tipo de dato \"object\"...)\n",
    "data['ctrx_quarter_normalizado'] = data['ctrx_quarter_normalizado'].astype(float)\n",
    "#ii. Elimino columnas de último momento por Data Concept.\n",
    "columnas_de_interes_prestamos = data.filter(like='prestamos_personales').columns\n",
    "data.drop(columnas_de_interes_prestamos,axis=1,inplace=True)\n",
    "#iii. Pesos y reclusterización.\n",
    "data['clase_peso'] = 1.0\n",
    "\n",
    "data.loc[data['clase_ternaria'] == 'BAJA+2', 'clase_peso'] = 1.00002\n",
    "data.loc[data['clase_ternaria'] == 'BAJA+1', 'clase_peso'] = 1.00001\n",
    "\n",
    "data['clase_binaria2'] = 0\n",
    "data['clase_binaria2'] = np.where(data['clase_ternaria'] == 'CONTINUA', 0, 1)"
   ]
  },
  {
   "cell_type": "code",
   "execution_count": 7,
   "metadata": {},
   "outputs": [],
   "source": [
    "#iv. Divido entre Train y Test.\n",
    "train_data = data[data['foto_mes'].isin(mes_train)]\n",
    "test_data = data[data['foto_mes'] == mes_test]"
   ]
  },
  {
   "cell_type": "code",
   "execution_count": 8,
   "metadata": {},
   "outputs": [],
   "source": [
    "#v. Undersampleo.\n",
    "#a. Filtramos las clases.\n",
    "continua_train = train_data[(train_data['clase_binaria2'] == 0)]\n",
    "baja_train = train_data[(train_data['clase_binaria2'] == 1)]\n",
    "\n",
    "#b. Lista para almacenar los datos submuestreados.\n",
    "continua_undersampleados = []\n",
    "\n",
    "#c. Iteramos sobre cada mes para submuestrear.\n",
    "for mes in continua_train['foto_mes'].unique():\n",
    "    #1. Filtramos los datos de la clase mayoritaria para el mes específico.\n",
    "    continua_mes_seleccionado = continua_train[continua_train['foto_mes'] == mes]\n",
    "    \n",
    "    #2. Calculamos el tamaño objetivo para el undersampling (30%).\n",
    "    n_samples = int(len(continua_mes_seleccionado) * 0.3)\n",
    "    \n",
    "    #3. Submuestreamos las instancias de la clase mayoritaria para este mes\n",
    "    continua_mes_seleccionado_undersampleados = resample(continua_mes_seleccionado, \n",
    "                                        replace=False, \n",
    "                                        n_samples=n_samples, \n",
    "                                        random_state=semillas[0])\n",
    "    \n",
    "    #4. Agregamos los datos submuestreados a la lista\n",
    "    continua_undersampleados.append(continua_mes_seleccionado_undersampleados)\n",
    "\n",
    "#d. Concatenamos todos los meses submuestreados en un solo DataFrame\n",
    "continua_undersampleados = pd.concat(continua_undersampleados)\n",
    "\n",
    "#e. Concatenamos la clase mayoritaria submuestreada con la clase minoritaria completa\n",
    "train_undersampleado = pd.concat([continua_undersampleados, baja_train])\n",
    "\n",
    "#v. Separar en X e y después del undersampling.\n",
    "#a. Datos para optimizar Optuna.\n",
    "X_train_undersampleado = train_undersampleado.drop(['clase_ternaria', 'clase_peso', 'clase_binaria2'], axis=1)\n",
    "y_train_binaria2_undersampleado = train_undersampleado['clase_binaria2']\n",
    "w_train_undersampleado = train_undersampleado['clase_peso']\n",
    "\n",
    "#b. Datos para entrenar todo el modelo final para Kaggle.\n",
    "X_train = train_data.drop(['clase_ternaria', 'clase_peso','clase_binaria2'], axis=1)\n",
    "y_train_binaria2 = train_data['clase_binaria2']\n",
    "w_train = train_data['clase_peso']\n",
    "\n",
    "#c. Datos de Test (a predecir).\n",
    "X_test = test_data.drop(['clase_ternaria', 'clase_peso','clase_binaria2'], axis=1)"
   ]
  },
  {
   "cell_type": "markdown",
   "metadata": {},
   "source": [
    "## B. Train con cantidad_meses_train meses con df -ventana con ratios incluidos."
   ]
  },
  {
   "cell_type": "code",
   "execution_count": 9,
   "metadata": {},
   "outputs": [],
   "source": [
    "#1. Funcion de optimización de hiperparámetros.\n",
    "def objective(trial): \n",
    "    # Rango de parámetros a buscar sus valores óptimos.\n",
    "    num_leaves = trial.suggest_int('num_leaves', 10, 200)\n",
    "    learning_rate = trial.suggest_float('learning_rate', 0.005, 0.3) # mas bajo, más iteraciones necesita.\n",
    "    min_data_in_leaf = trial.suggest_int('min_data_in_leaf', 15, 900)\n",
    "    feature_fraction = trial.suggest_float('feature_fraction', 0.1, 1.0)\n",
    "    bagging_fraction = trial.suggest_float('bagging_fraction', 0.1, 1.0)\n",
    "\n",
    "\n",
    "    # Parámetros que le voy a pasar al modelo.\n",
    "    params = {\n",
    "        'objective': 'binary',\n",
    "        'metric': 'custom',\n",
    "        'boosting_type': 'gbdt',\n",
    "        'first_metric_only': True,\n",
    "        'boost_from_average': True,\n",
    "        'feature_pre_filter': False,\n",
    "        'max_bin': 31,\n",
    "        'num_leaves': num_leaves,\n",
    "        'learning_rate': learning_rate,\n",
    "        'min_data_in_leaf': min_data_in_leaf,\n",
    "        'feature_fraction': feature_fraction,\n",
    "        'bagging_fraction': bagging_fraction,\n",
    "        'seed': semillas[0],\n",
    "        'verbose': -1\n",
    "    }\n",
    "    \n",
    "    # Creo el dataset para Light GBM.\n",
    "    train_data_ob = lgb.Dataset(X_train_undersampleado,\n",
    "                              label=y_train_binaria2_undersampleado, # eligir la clase\n",
    "                              weight=w_train_undersampleado)\n",
    "    \n",
    "    # Entreno.\n",
    "    cv_results = lgb.cv(\n",
    "        params,\n",
    "        train_data_ob,\n",
    "        num_boost_round=1000, # modificar, subit y subir... y descomentar la línea inferior\n",
    "        callbacks=[lgb.early_stopping(int(50 + 5 / learning_rate))],\n",
    "        feval=lgb_gan_eval,\n",
    "        stratified=True,\n",
    "        nfold=5,\n",
    "        seed=semillas[0]\n",
    "    )\n",
    "    \n",
    "    # Calculo la ganancia máxima y la mejor iteración donde se obtuvo dicha ganancia.\n",
    "    max_gan = max(cv_results['valid gan_eval-mean'])\n",
    "    best_iter = cv_results['valid gan_eval-mean'].index(max_gan) + 1\n",
    "\n",
    "    # Guardamos cual es la mejor iteración del modelo\n",
    "    trial.set_user_attr(\"best_iter\", best_iter)\n",
    "\n",
    "    return max_gan * 5"
   ]
  },
  {
   "cell_type": "code",
   "execution_count": null,
   "metadata": {},
   "outputs": [
    {
     "name": "stderr",
     "output_type": "stream",
     "text": [
      "[I 2024-11-09 02:30:39,257] A new study created in RDB with name: exp_lgbm_all_1_undersampling\n"
     ]
    },
    {
     "name": "stdout",
     "output_type": "stream",
     "text": [
      "Training until validation scores don't improve for 88 rounds\n",
      "Early stopping, best iteration is:\n",
      "[223]\tcv_agg's valid gan_eval: 6.48021e+08 + 9.7715e+06\n"
     ]
    },
    {
     "name": "stderr",
     "output_type": "stream",
     "text": [
      "[I 2024-11-09 02:54:31,809] Trial 0 finished with value: 3240104000.0 and parameters: {'num_leaves': 121, 'learning_rate': 0.12918106155967501, 'min_data_in_leaf': 639, 'feature_fraction': 0.6391425543002685, 'bagging_fraction': 0.3842259584712716}. Best is trial 0 with value: 3240104000.0.\n"
     ]
    },
    {
     "name": "stdout",
     "output_type": "stream",
     "text": [
      "Training until validation scores don't improve for 70 rounds\n",
      "Early stopping, best iteration is:\n",
      "[37]\tcv_agg's valid gan_eval: 6.13962e+08 + 1.22272e+07\n"
     ]
    },
    {
     "name": "stderr",
     "output_type": "stream",
     "text": [
      "[I 2024-11-09 03:01:26,333] Trial 1 finished with value: 3069808000.0 and parameters: {'num_leaves': 71, 'learning_rate': 0.24950053842993855, 'min_data_in_leaf': 27, 'feature_fraction': 0.18653538911882572, 'bagging_fraction': 0.5503657943132991}. Best is trial 0 with value: 3240104000.0.\n"
     ]
    },
    {
     "name": "stdout",
     "output_type": "stream",
     "text": [
      "Training until validation scores don't improve for 77 rounds\n",
      "Early stopping, best iteration is:\n",
      "[322]\tcv_agg's valid gan_eval: 6.34862e+08 + 1.19849e+07\n"
     ]
    },
    {
     "name": "stderr",
     "output_type": "stream",
     "text": [
      "[I 2024-11-09 03:20:35,384] Trial 2 finished with value: 3174311000.0 and parameters: {'num_leaves': 23, 'learning_rate': 0.18284450146142223, 'min_data_in_leaf': 230, 'feature_fraction': 0.18576488490863347, 'bagging_fraction': 0.7951671685232008}. Best is trial 0 with value: 3240104000.0.\n"
     ]
    },
    {
     "name": "stdout",
     "output_type": "stream",
     "text": [
      "Training until validation scores don't improve for 123 rounds\n",
      "Did not meet early stopping. Best iteration is:\n",
      "[941]\tcv_agg's valid gan_eval: 6.54342e+08 + 9.10444e+06\n"
     ]
    },
    {
     "name": "stderr",
     "output_type": "stream",
     "text": [
      "[I 2024-11-09 04:10:15,193] Trial 3 finished with value: 3271709000.0 and parameters: {'num_leaves': 87, 'learning_rate': 0.06781176296668011, 'min_data_in_leaf': 423, 'feature_fraction': 0.2132086990466358, 'bagging_fraction': 0.49070828021424895}. Best is trial 3 with value: 3271709000.0.\n"
     ]
    },
    {
     "name": "stdout",
     "output_type": "stream",
     "text": [
      "Training until validation scores don't improve for 208 rounds\n",
      "Did not meet early stopping. Best iteration is:\n",
      "[999]\tcv_agg's valid gan_eval: 6.48861e+08 + 1.01979e+07\n"
     ]
    },
    {
     "name": "stderr",
     "output_type": "stream",
     "text": [
      "[I 2024-11-09 04:40:09,496] Trial 4 finished with value: 3244304000.0 and parameters: {'num_leaves': 56, 'learning_rate': 0.03161803802695924, 'min_data_in_leaf': 611, 'feature_fraction': 0.8647587207465398, 'bagging_fraction': 0.7016375547962735}. Best is trial 3 with value: 3271709000.0.\n"
     ]
    },
    {
     "name": "stdout",
     "output_type": "stream",
     "text": [
      "Training until validation scores don't improve for 83 rounds\n",
      "Early stopping, best iteration is:\n",
      "[629]\tcv_agg's valid gan_eval: 6.40688e+08 + 1.07401e+07\n"
     ]
    },
    {
     "name": "stderr",
     "output_type": "stream",
     "text": [
      "[I 2024-11-09 05:10:37,693] Trial 5 finished with value: 3203438000.0 and parameters: {'num_leaves': 25, 'learning_rate': 0.14851219181147207, 'min_data_in_leaf': 73, 'feature_fraction': 0.14594034763443645, 'bagging_fraction': 0.820823688518626}. Best is trial 3 with value: 3271709000.0.\n"
     ]
    },
    {
     "name": "stdout",
     "output_type": "stream",
     "text": [
      "Training until validation scores don't improve for 71 rounds\n",
      "Early stopping, best iteration is:\n",
      "[776]\tcv_agg's valid gan_eval: 6.42162e+08 + 8.62964e+06\n"
     ]
    },
    {
     "name": "stderr",
     "output_type": "stream",
     "text": [
      "[I 2024-11-09 05:41:38,080] Trial 6 finished with value: 3210809000.0 and parameters: {'num_leaves': 185, 'learning_rate': 0.23522180625107134, 'min_data_in_leaf': 431, 'feature_fraction': 0.8851453985072449, 'bagging_fraction': 0.967031139562891}. Best is trial 3 with value: 3271709000.0.\n"
     ]
    },
    {
     "name": "stdout",
     "output_type": "stream",
     "text": [
      "Training until validation scores don't improve for 70 rounds\n",
      "Early stopping, best iteration is:\n",
      "[154]\tcv_agg's valid gan_eval: 6.28769e+08 + 1.41111e+07\n"
     ]
    },
    {
     "name": "stderr",
     "output_type": "stream",
     "text": [
      "[I 2024-11-09 05:57:48,370] Trial 7 finished with value: 3143847000.0 and parameters: {'num_leaves': 34, 'learning_rate': 0.24768949582241864, 'min_data_in_leaf': 432, 'feature_fraction': 0.49586726411361004, 'bagging_fraction': 0.35022211884453835}. Best is trial 3 with value: 3271709000.0.\n"
     ]
    },
    {
     "name": "stdout",
     "output_type": "stream",
     "text": [
      "Training until validation scores don't improve for 137 rounds\n",
      "Early stopping, best iteration is:\n",
      "[337]\tcv_agg's valid gan_eval: 6.54567e+08 + 1.05398e+07\n"
     ]
    },
    {
     "name": "stderr",
     "output_type": "stream",
     "text": [
      "[I 2024-11-09 06:26:42,242] Trial 8 finished with value: 3272836000.0 and parameters: {'num_leaves': 153, 'learning_rate': 0.05730360736219985, 'min_data_in_leaf': 516, 'feature_fraction': 0.595216310261227, 'bagging_fraction': 0.8792768688362574}. Best is trial 8 with value: 3272836000.0.\n"
     ]
    },
    {
     "name": "stdout",
     "output_type": "stream",
     "text": [
      "Training until validation scores don't improve for 98 rounds\n",
      "Early stopping, best iteration is:\n",
      "[544]\tcv_agg's valid gan_eval: 6.49373e+08 + 1.01037e+07\n"
     ]
    },
    {
     "name": "stderr",
     "output_type": "stream",
     "text": [
      "[I 2024-11-09 06:54:11,011] Trial 9 finished with value: 3246866000.0 and parameters: {'num_leaves': 95, 'learning_rate': 0.10334791863401153, 'min_data_in_leaf': 562, 'feature_fraction': 0.11745300319230206, 'bagging_fraction': 0.5637348477974211}. Best is trial 8 with value: 3272836000.0.\n"
     ]
    },
    {
     "name": "stdout",
     "output_type": "stream",
     "text": [
      "Training until validation scores don't improve for 365 rounds\n",
      "Did not meet early stopping. Best iteration is:\n",
      "[1000]\tcv_agg's valid gan_eval: 6.57364e+08 + 8.21621e+06\n"
     ]
    },
    {
     "name": "stderr",
     "output_type": "stream",
     "text": [
      "[I 2024-11-09 08:11:00,082] Trial 10 finished with value: 3286822000.0 and parameters: {'num_leaves': 150, 'learning_rate': 0.015851835888398745, 'min_data_in_leaf': 844, 'feature_fraction': 0.5169155702487678, 'bagging_fraction': 0.12209372740396313}. Best is trial 10 with value: 3286822000.0.\n"
     ]
    },
    {
     "name": "stdout",
     "output_type": "stream",
     "text": [
      "Training until validation scores don't improve for 851 rounds\n",
      "Did not meet early stopping. Best iteration is:\n",
      "[999]\tcv_agg's valid gan_eval: 6.48703e+08 + 9.01471e+06\n"
     ]
    },
    {
     "name": "stderr",
     "output_type": "stream",
     "text": [
      "[I 2024-11-09 09:29:44,205] Trial 11 finished with value: 3243513000.0 and parameters: {'num_leaves': 151, 'learning_rate': 0.006240105856715656, 'min_data_in_leaf': 898, 'feature_fraction': 0.5048526795279558, 'bagging_fraction': 0.1080366492091992}. Best is trial 10 with value: 3286822000.0.\n"
     ]
    },
    {
     "name": "stdout",
     "output_type": "stream",
     "text": [
      "Training until validation scores don't improve for 137 rounds\n",
      "Early stopping, best iteration is:\n",
      "[649]\tcv_agg's valid gan_eval: 6.5492e+08 + 9.11653e+06\n"
     ]
    },
    {
     "name": "stderr",
     "output_type": "stream",
     "text": [
      "[I 2024-11-09 10:06:39,792] Trial 12 finished with value: 3274600000.0 and parameters: {'num_leaves': 140, 'learning_rate': 0.05685146451447202, 'min_data_in_leaf': 858, 'feature_fraction': 0.6807123086312123, 'bagging_fraction': 0.11958793250016339}. Best is trial 10 with value: 3286822000.0.\n"
     ]
    },
    {
     "name": "stdout",
     "output_type": "stream",
     "text": [
      "Training until validation scores don't improve for 110 rounds\n",
      "Early stopping, best iteration is:\n",
      "[224]\tcv_agg's valid gan_eval: 6.51776e+08 + 9.26667e+06\n"
     ]
    },
    {
     "name": "stderr",
     "output_type": "stream",
     "text": [
      "[I 2024-11-09 10:24:03,080] Trial 13 finished with value: 3258878000.0 and parameters: {'num_leaves': 137, 'learning_rate': 0.08332370417639486, 'min_data_in_leaf': 899, 'feature_fraction': 0.7318738465756347, 'bagging_fraction': 0.11002290900279688}. Best is trial 10 with value: 3286822000.0.\n"
     ]
    },
    {
     "name": "stdout",
     "output_type": "stream",
     "text": [
      "Training until validation scores don't improve for 250 rounds\n",
      "Did not meet early stopping. Best iteration is:\n",
      "[968]\tcv_agg's valid gan_eval: 6.6079e+08 + 8.49933e+06\n"
     ]
    },
    {
     "name": "stderr",
     "output_type": "stream",
     "text": [
      "[I 2024-11-09 11:34:09,776] Trial 14 finished with value: 3303951000.0 and parameters: {'num_leaves': 184, 'learning_rate': 0.024899492479589086, 'min_data_in_leaf': 737, 'feature_fraction': 0.37633533264500285, 'bagging_fraction': 0.2153762669812679}. Best is trial 14 with value: 3303951000.0.\n"
     ]
    },
    {
     "name": "stdout",
     "output_type": "stream",
     "text": [
      "Training until validation scores don't improve for 632 rounds\n",
      "Did not meet early stopping. Best iteration is:\n",
      "[1000]\tcv_agg's valid gan_eval: 6.55404e+08 + 1.0107e+07\n"
     ]
    },
    {
     "name": "stderr",
     "output_type": "stream",
     "text": [
      "[I 2024-11-09 12:43:48,924] Trial 15 finished with value: 3277022000.0 and parameters: {'num_leaves': 197, 'learning_rate': 0.008582498094602847, 'min_data_in_leaf': 745, 'feature_fraction': 0.3588880717376752, 'bagging_fraction': 0.26455924338572034}. Best is trial 14 with value: 3303951000.0.\n"
     ]
    },
    {
     "name": "stdout",
     "output_type": "stream",
     "text": [
      "Training until validation scores don't improve for 76 rounds\n",
      "Early stopping, best iteration is:\n",
      "[107]\tcv_agg's valid gan_eval: 6.39045e+08 + 1.06633e+07\n"
     ]
    },
    {
     "name": "stderr",
     "output_type": "stream",
     "text": [
      "[I 2024-11-09 12:57:42,995] Trial 16 finished with value: 3195227000.0 and parameters: {'num_leaves': 173, 'learning_rate': 0.19135092454147729, 'min_data_in_leaf': 740, 'feature_fraction': 0.36921855176629004, 'bagging_fraction': 0.23586546563252436}. Best is trial 14 with value: 3303951000.0.\n"
     ]
    },
    {
     "name": "stdout",
     "output_type": "stream",
     "text": [
      "Training until validation scores don't improve for 95 rounds\n",
      "Early stopping, best iteration is:\n",
      "[204]\tcv_agg's valid gan_eval: 6.51266e+08 + 1.09867e+07\n"
     ]
    },
    {
     "name": "stderr",
     "output_type": "stream",
     "text": [
      "[I 2024-11-09 13:18:55,761] Trial 17 finished with value: 3256330000.0 and parameters: {'num_leaves': 170, 'learning_rate': 0.10915106134709467, 'min_data_in_leaf': 734, 'feature_fraction': 0.3817366087463956, 'bagging_fraction': 0.2455865958777283}. Best is trial 14 with value: 3303951000.0.\n"
     ]
    },
    {
     "name": "stdout",
     "output_type": "stream",
     "text": [
      "Training until validation scores don't improve for 67 rounds\n",
      "Early stopping, best iteration is:\n",
      "[98]\tcv_agg's valid gan_eval: 6.26006e+08 + 8.12419e+06\n"
     ]
    },
    {
     "name": "stderr",
     "output_type": "stream",
     "text": [
      "[I 2024-11-09 13:31:50,118] Trial 18 finished with value: 3130029000.0 and parameters: {'num_leaves': 118, 'learning_rate': 0.28364329779722103, 'min_data_in_leaf': 795, 'feature_fraction': 0.4604140144984927, 'bagging_fraction': 0.4099418168623718}. Best is trial 14 with value: 3303951000.0.\n"
     ]
    },
    {
     "name": "stdout",
     "output_type": "stream",
     "text": [
      "Training until validation scores don't improve for 216 rounds\n",
      "Did not meet early stopping. Best iteration is:\n",
      "[939]\tcv_agg's valid gan_eval: 6.59604e+08 + 9.72069e+06\n"
     ]
    },
    {
     "name": "stderr",
     "output_type": "stream",
     "text": [
      "[I 2024-11-09 14:31:53,973] Trial 19 finished with value: 3298022000.0 and parameters: {'num_leaves': 196, 'learning_rate': 0.030088816847513786, 'min_data_in_leaf': 310, 'feature_fraction': 0.29124847959394673, 'bagging_fraction': 0.2970912303528168}. Best is trial 14 with value: 3303951000.0.\n"
     ]
    },
    {
     "name": "stdout",
     "output_type": "stream",
     "text": [
      "Training until validation scores don't improve for 167 rounds\n",
      "Did not meet early stopping. Best iteration is:\n",
      "[930]\tcv_agg's valid gan_eval: 6.58004e+08 + 1.04451e+07\n"
     ]
    },
    {
     "name": "stderr",
     "output_type": "stream",
     "text": [
      "[I 2024-11-09 15:31:00,664] Trial 20 finished with value: 3290021000.0 and parameters: {'num_leaves': 198, 'learning_rate': 0.04251265638167803, 'min_data_in_leaf': 304, 'feature_fraction': 0.28080406350560255, 'bagging_fraction': 0.6537810264305447}. Best is trial 14 with value: 3303951000.0.\n"
     ]
    },
    {
     "name": "stdout",
     "output_type": "stream",
     "text": [
      "Training until validation scores don't improve for 167 rounds\n",
      "Early stopping, best iteration is:\n",
      "[682]\tcv_agg's valid gan_eval: 6.57299e+08 + 7.52499e+06\n"
     ]
    },
    {
     "name": "stderr",
     "output_type": "stream",
     "text": [
      "[I 2024-11-09 16:20:47,431] Trial 21 finished with value: 3286493000.0 and parameters: {'num_leaves': 191, 'learning_rate': 0.04244147379266566, 'min_data_in_leaf': 301, 'feature_fraction': 0.2775734642872071, 'bagging_fraction': 0.5906300770171131}. Best is trial 14 with value: 3303951000.0.\n"
     ]
    },
    {
     "name": "stdout",
     "output_type": "stream",
     "text": [
      "Training until validation scores don't improve for 105 rounds\n",
      "Early stopping, best iteration is:\n",
      "[470]\tcv_agg's valid gan_eval: 6.53089e+08 + 8.08136e+06\n"
     ]
    },
    {
     "name": "stderr",
     "output_type": "stream",
     "text": [
      "[I 2024-11-09 16:54:49,584] Trial 22 finished with value: 3265444000.0 and parameters: {'num_leaves': 176, 'learning_rate': 0.08982531989507798, 'min_data_in_leaf': 304, 'feature_fraction': 0.2842783895112754, 'bagging_fraction': 0.6633761717668057}. Best is trial 14 with value: 3303951000.0.\n"
     ]
    },
    {
     "name": "stdout",
     "output_type": "stream",
     "text": [
      "Training until validation scores don't improve for 185 rounds\n",
      "Did not meet early stopping. Best iteration is:\n",
      "[879]\tcv_agg's valid gan_eval: 6.59179e+08 + 9.94284e+06\n"
     ]
    },
    {
     "name": "stderr",
     "output_type": "stream",
     "text": [
      "[I 2024-11-09 17:54:32,564] Trial 23 finished with value: 3295894000.0 and parameters: {'num_leaves': 196, 'learning_rate': 0.03701027056977342, 'min_data_in_leaf': 185, 'feature_fraction': 0.2994561506017316, 'bagging_fraction': 0.4723791547166918}. Best is trial 14 with value: 3303951000.0.\n"
     ]
    },
    {
     "name": "stdout",
     "output_type": "stream",
     "text": [
      "Training until validation scores don't improve for 226 rounds\n",
      "Did not meet early stopping. Best iteration is:\n",
      "[975]\tcv_agg's valid gan_eval: 6.57777e+08 + 8.03475e+06\n"
     ]
    },
    {
     "name": "stderr",
     "output_type": "stream",
     "text": [
      "[I 2024-11-09 19:02:18,356] Trial 24 finished with value: 3288887000.0 and parameters: {'num_leaves': 172, 'learning_rate': 0.028382547012044075, 'min_data_in_leaf': 160, 'feature_fraction': 0.4168545180634128, 'bagging_fraction': 0.3063796195532489}. Best is trial 14 with value: 3303951000.0.\n"
     ]
    },
    {
     "name": "stdout",
     "output_type": "stream",
     "text": [
      "Training until validation scores don't improve for 116 rounds\n",
      "Did not meet early stopping. Best iteration is:\n",
      "[995]\tcv_agg's valid gan_eval: 6.56187e+08 + 1.02712e+07\n"
     ]
    },
    {
     "name": "stderr",
     "output_type": "stream",
     "text": [
      "[I 2024-11-09 20:02:47,046] Trial 25 finished with value: 3280935000.0 and parameters: {'num_leaves': 200, 'learning_rate': 0.07477914118302852, 'min_data_in_leaf': 188, 'feature_fraction': 0.31169550130346235, 'bagging_fraction': 0.46506665369170813}. Best is trial 14 with value: 3303951000.0.\n"
     ]
    },
    {
     "name": "stdout",
     "output_type": "stream",
     "text": [
      "Training until validation scores don't improve for 89 rounds\n",
      "Did not meet early stopping. Best iteration is:\n",
      "[1000]\tcv_agg's valid gan_eval: 6.56832e+08 + 1.19821e+07\n"
     ]
    },
    {
     "name": "stderr",
     "output_type": "stream",
     "text": [
      "[I 2024-11-09 21:10:23,676] Trial 26 finished with value: 3284162000.0 and parameters: {'num_leaves': 162, 'learning_rate': 0.12564215532140358, 'min_data_in_leaf': 344, 'feature_fraction': 0.42958109145698237, 'bagging_fraction': 0.20540050444001784}. Best is trial 14 with value: 3303951000.0.\n"
     ]
    },
    {
     "name": "stdout",
     "output_type": "stream",
     "text": [
      "Training until validation scores don't improve for 162 rounds\n",
      "Did not meet early stopping. Best iteration is:\n",
      "[977]\tcv_agg's valid gan_eval: 6.5813e+08 + 7.72732e+06\n"
     ]
    },
    {
     "name": "stderr",
     "output_type": "stream",
     "text": [
      "[I 2024-11-09 22:06:48,660] Trial 27 finished with value: 3290651000.0 and parameters: {'num_leaves': 183, 'learning_rate': 0.044272968270519034, 'min_data_in_leaf': 151, 'feature_fraction': 0.2427752497270366, 'bagging_fraction': 0.44925140426522275}. Best is trial 14 with value: 3303951000.0.\n"
     ]
    },
    {
     "name": "stdout",
     "output_type": "stream",
     "text": [
      "Training until validation scores don't improve for 77 rounds\n",
      "Early stopping, best iteration is:\n",
      "[238]\tcv_agg's valid gan_eval: 6.38497e+08 + 8.26628e+06\n"
     ]
    },
    {
     "name": "stderr",
     "output_type": "stream",
     "text": [
      "[I 2024-11-09 22:19:59,883] Trial 28 finished with value: 3192483000.0 and parameters: {'num_leaves': 129, 'learning_rate': 0.18285025171265484, 'min_data_in_leaf': 371, 'feature_fraction': 0.9682282307464434, 'bagging_fraction': 0.32350728661133754}. Best is trial 14 with value: 3303951000.0.\n"
     ]
    },
    {
     "name": "stdout",
     "output_type": "stream",
     "text": [
      "Training until validation scores don't improve for 83 rounds\n"
     ]
    }
   ],
   "source": [
    "#2. Voy a realizar un estudio de Optuna para encontrar los mejores parámetros.\n",
    "#i. Creo la base de datos donde guardar los resultados.\n",
    "storage_name = \"sqlite:///\" + db_path + \"optimization_lgbm.db\"\n",
    "\n",
    "study_name = f\"exp_lgbm_{cantidad_meses_train}_{ventana}_undersampling\" # Primer dígito cuantos meses para atrás desde 06/21, segundo dígito número data drifting.\n",
    "\n",
    "#ii. Creo el estudio.\n",
    "study = optuna.create_study(\n",
    "    direction=\"maximize\",\n",
    "    study_name=study_name,\n",
    "    storage=storage_name,\n",
    "    load_if_exists=True,\n",
    ")\n",
    "\n",
    "#iii. Corro el estudio.\n",
    "study.optimize(objective, n_trials=100)"
   ]
  },
  {
   "cell_type": "code",
   "execution_count": null,
   "metadata": {},
   "outputs": [],
   "source": [
    "#4. Visualizo los resultados del estudio, para modificar los rangos de análisis."
   ]
  },
  {
   "cell_type": "code",
   "execution_count": null,
   "metadata": {},
   "outputs": [],
   "source": [
    "optuna.visualization.plot_optimization_history(study)"
   ]
  },
  {
   "cell_type": "code",
   "execution_count": null,
   "metadata": {},
   "outputs": [],
   "source": [
    "plot_param_importances(study)"
   ]
  },
  {
   "cell_type": "code",
   "execution_count": null,
   "metadata": {},
   "outputs": [],
   "source": [
    "plot_slice(study)"
   ]
  },
  {
   "cell_type": "code",
   "execution_count": null,
   "metadata": {},
   "outputs": [],
   "source": [
    "plot_contour(study)"
   ]
  },
  {
   "cell_type": "code",
   "execution_count": null,
   "metadata": {},
   "outputs": [],
   "source": [
    "plot_contour(study, params=['num_leaves','min_data_in_leaf'] )"
   ]
  },
  {
   "cell_type": "code",
   "execution_count": null,
   "metadata": {},
   "outputs": [],
   "source": [
    "study.best_trial.params"
   ]
  },
  {
   "cell_type": "code",
   "execution_count": null,
   "metadata": {},
   "outputs": [],
   "source": [
    "#5. Tomamos el mejor modelo y con eso entrenamos todos los datos.\n",
    "best_iter = study.best_trial.user_attrs[\"best_iter\"]\n",
    "print(f\"Mejor cantidad de árboles para el mejor model {best_iter}\")\n",
    "params = {\n",
    "    'objective': 'binary',\n",
    "    'boosting_type': 'gbdt',\n",
    "    'first_metric_only': True,\n",
    "    'boost_from_average': True,\n",
    "    'feature_pre_filter': False,\n",
    "    'max_bin': 31,\n",
    "    'num_leaves': study.best_trial.params['num_leaves'],\n",
    "    'learning_rate': study.best_trial.params['learning_rate'],\n",
    "    'min_data_in_leaf': study.best_trial.params['min_data_in_leaf'],\n",
    "    'feature_fraction': study.best_trial.params['feature_fraction'],\n",
    "    'bagging_fraction': study.best_trial.params['bagging_fraction'],\n",
    "    'seed': semillas[0],\n",
    "    'verbose': 0\n",
    "}\n",
    "\n",
    "train_data_modelo = lgb.Dataset(X_train,\n",
    "                          label=y_train_binaria2,\n",
    "                          weight=w_train)\n",
    "\n",
    "model_lgb = lgb.train(params,\n",
    "                  train_data_modelo,\n",
    "                  num_boost_round=best_iter)"
   ]
  },
  {
   "cell_type": "code",
   "execution_count": null,
   "metadata": {},
   "outputs": [],
   "source": [
    "#6. Observamos las variables más importantes para el modelo.\n",
    "#i. Gráfico.\n",
    "lgb.plot_importance(model_lgb, figsize=(10, 20))\n",
    "plt.show()"
   ]
  },
  {
   "cell_type": "code",
   "execution_count": null,
   "metadata": {},
   "outputs": [],
   "source": [
    "#ii. Dataframe.\n",
    "#a. Extract feature importance and feature names.\n",
    "importance = model_lgb.feature_importance()\n",
    "features = model_lgb.feature_name()\n",
    "\n",
    "#b. Create a dataframe for better visualization.\n",
    "importance_df = pd.DataFrame({'Feature': features, 'Importance': importance})\n",
    "\n",
    "#c. Sort by importance in descending order.\n",
    "importance_df = importance_df.sort_values(by='Importance', ascending=False).reset_index(drop=True)\n",
    "\n",
    "#d. show.\n",
    "importance_df.head(100)"
   ]
  },
  {
   "cell_type": "code",
   "execution_count": null,
   "metadata": {},
   "outputs": [],
   "source": [
    "#7. Guardamos el modelo.\n",
    "# Primer dígito cuantos meses para atrás desde 06/21, segundo dígito número data drifting, tercer dígito número de entrenamiento.\n",
    "model_lgb.save_model(modelos_path + 'lgbm_{}_{}_undersampling.txt'.format(cantidad_meses_train,ventana))"
   ]
  },
  {
   "cell_type": "code",
   "execution_count": null,
   "metadata": {},
   "outputs": [],
   "source": [
    "####################################################################################################\n",
    "####################################################################################################\n",
    "####################################################################################################\n",
    "####################################################################################################\n",
    "############## Primera subida orientativa a Kaggle previo medir semillas, etc. #####################\n",
    "####################################################################################################\n",
    "####################################################################################################\n",
    "####################################################################################################\n",
    "####################################################################################################"
   ]
  },
  {
   "cell_type": "code",
   "execution_count": null,
   "metadata": {},
   "outputs": [],
   "source": [
    "#8. Volvemos a leer el modelo.\n",
    "model_lgb = lgb.Booster(model_file= modelos_path + 'lgbm_{}_{}_undersampling.txt'.format(cantidad_meses_train,ventana))"
   ]
  },
  {
   "cell_type": "code",
   "execution_count": null,
   "metadata": {},
   "outputs": [],
   "source": [
    "#a. Importo librería.\n",
    "from kaggle.api.kaggle_api_extended import KaggleApi\n",
    "#b. Configura el API de Kaggle\n",
    "api = KaggleApi()\n",
    "api.authenticate()"
   ]
  },
  {
   "cell_type": "code",
   "execution_count": null,
   "metadata": {},
   "outputs": [],
   "source": [
    "#L. Predecimos Agosto.\n",
    "#i. Predecimos propiamente dicho.\n",
    "predicciones = model_lgb.predict(X_test)\n",
    "#ii. Le pegamos la probabilidad de ser \"BAJA\" a cada cliente.\n",
    "X_test['Probabilidad'] = predicciones\n",
    "#iii. Ordenamos a los clientes por probabilidad de ser \"BAJA\" de forma descendente.\n",
    "tb_entrega = X_test.sort_values(by='Probabilidad', ascending=False)\n",
    "#iv. Genero una lista de distintos cortes candidatos, para enviar a Kaggle.\n",
    "cortes = range(9000,14000,200)\n",
    "#v. Generamos las distintas predicciones de clases a partir de los distintos cortes posibles.\n",
    "num_subida_kaggle = 1\n",
    "i = 0\n",
    "for envios in cortes:\n",
    "    #1. Le ponemos clase 1 (\"BAJA\") a los primeros \"envios\" con mayor probabilidad.\n",
    "    tb_entrega['Predicted'] = 0\n",
    "    tb_entrega.iloc[:envios, tb_entrega.columns.get_loc('Predicted')] = 1\n",
    "    resultados = tb_entrega[[\"numero_de_cliente\", 'Predicted']].reset_index(drop=True)\n",
    "    \n",
    "    print(\"Cantidad de clientes {}\".format(envios))\n",
    "    #2. Guardamos el archivo para Kaggle.\n",
    "    nombre_archivo = \"K_OH_{}_{}_00{}.csv\".format(cantidad_meses_train,ventana,num_subida_kaggle) #-X meses, con df de -X meses, número de intento.\n",
    "    ruta_archivo= \"{}/{}\".format(exp_path,nombre_archivo)\n",
    "    resultados.to_csv(ruta_archivo, index=False)\n",
    "    \n",
    "    num_subida_kaggle += 1\n",
    "    i += 1\n",
    "    \n",
    "    #3. Envío a Kaggle.\n",
    "    #a. Defino los parámetros claves.\n",
    "    mensaje = f'Archivo {nombre_archivo}.LGBM meses train {cantidad_meses_train} con undersampling, DF {ventana}, punto_corte: {envios}.'\n",
    "    competencia = 'dm-ey-f-2024-segunda'\n",
    "    #c. Subo la Submission.\n",
    "    while i<=15:\n",
    "        print(i)\n",
    "        api.competition_submit(file_name=ruta_archivo, message=mensaje, competition=competencia)\n",
    "        print(\"Submission successful!\")\n",
    "        break\n",
    "    else:\n",
    "        print(\"Esperamos 30 segundos...\")\n",
    "        time.sleep(30)\n",
    "        api.competition_submit(file_name=ruta_archivo, message=mensaje, competition=competencia)\n",
    "        print(\"Submission successful!\")\n",
    "        i= 0"
   ]
  },
  {
   "cell_type": "code",
   "execution_count": null,
   "metadata": {},
   "outputs": [],
   "source": [
    "print(\"Terminó\")"
   ]
  }
 ],
 "metadata": {
  "kernelspec": {
   "display_name": "Python 3 (ipykernel)",
   "language": "python",
   "name": "python3"
  },
  "language_info": {
   "codemirror_mode": {
    "name": "ipython",
    "version": 3
   },
   "file_extension": ".py",
   "mimetype": "text/x-python",
   "name": "python",
   "nbconvert_exporter": "python",
   "pygments_lexer": "ipython3",
   "version": "3.12.3"
  }
 },
 "nbformat": 4,
 "nbformat_minor": 4
}
