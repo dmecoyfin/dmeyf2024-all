{
 "cells": [
  {
   "cell_type": "markdown",
   "metadata": {},
   "source": [
    "## A. Configuraciones generales."
   ]
  },
  {
   "cell_type": "code",
   "execution_count": 1,
   "metadata": {},
   "outputs": [
    {
     "data": {
      "text/html": [
       "<style type='text/css'>\n",
       ".datatable table.frame { margin-bottom: 0; }\n",
       ".datatable table.frame thead { border-bottom: none; }\n",
       ".datatable table.frame tr.coltypes td {  color: #FFFFFF;  line-height: 6px;  padding: 0 0.5em;}\n",
       ".datatable .bool    { background: #DDDD99; }\n",
       ".datatable .object  { background: #565656; }\n",
       ".datatable .int     { background: #5D9E5D; }\n",
       ".datatable .float   { background: #4040CC; }\n",
       ".datatable .str     { background: #CC4040; }\n",
       ".datatable .time    { background: #40CC40; }\n",
       ".datatable .row_index {  background: var(--jp-border-color3);  border-right: 1px solid var(--jp-border-color0);  color: var(--jp-ui-font-color3);  font-size: 9px;}\n",
       ".datatable .frame tbody td { text-align: left; }\n",
       ".datatable .frame tr.coltypes .row_index {  background: var(--jp-border-color0);}\n",
       ".datatable th:nth-child(2) { padding-left: 12px; }\n",
       ".datatable .hellipsis {  color: var(--jp-cell-editor-border-color);}\n",
       ".datatable .vellipsis {  background: var(--jp-layout-color0);  color: var(--jp-cell-editor-border-color);}\n",
       ".datatable .na {  color: var(--jp-cell-editor-border-color);  font-size: 80%;}\n",
       ".datatable .sp {  opacity: 0.25;}\n",
       ".datatable .footer { font-size: 9px; }\n",
       ".datatable .frame_dimensions {  background: var(--jp-border-color3);  border-top: 1px solid var(--jp-border-color0);  color: var(--jp-ui-font-color3);  display: inline-block;  opacity: 0.6;  padding: 1px 10px 1px 5px;}\n",
       "</style>\n"
      ],
      "text/plain": [
       "<IPython.core.display.HTML object>"
      ]
     },
     "metadata": {},
     "output_type": "display_data"
    },
    {
     "name": "stderr",
     "output_type": "stream",
     "text": [
      "/home/ianlink95/.venv/lib/python3.12/site-packages/dask/dataframe/__init__.py:42: FutureWarning: \n",
      "Dask dataframe query planning is disabled because dask-expr is not installed.\n",
      "\n",
      "You can install it with `pip install dask[dataframe]` or `conda install dask`.\n",
      "This will raise in a future version.\n",
      "\n",
      "  warnings.warn(msg, FutureWarning)\n",
      "/home/ianlink95/.venv/lib/python3.12/site-packages/tqdm/auto.py:21: TqdmWarning: IProgress not found. Please update jupyter and ipywidgets. See https://ipywidgets.readthedocs.io/en/stable/user_install.html\n",
      "  from .autonotebook import tqdm as notebook_tqdm\n"
     ]
    }
   ],
   "source": [
    "#1. Librerías.\n",
    "%run \"./librerias.ipynb\""
   ]
  },
  {
   "cell_type": "code",
   "execution_count": null,
   "metadata": {},
   "outputs": [],
   "source": [
    "#2. Constantes.\n",
    "%run \"./constantes.ipynb\""
   ]
  },
  {
   "cell_type": "code",
   "execution_count": null,
   "metadata": {},
   "outputs": [],
   "source": [
    "#3. Funciones.\n",
    "%run \"./funciones.ipynb\""
   ]
  },
  {
   "cell_type": "code",
   "execution_count": null,
   "metadata": {},
   "outputs": [],
   "source": [
    "#4. Lectura de datos.\n",
    "data = pd.read_csv(dataset_file_clase_ternaria)"
   ]
  },
  {
   "cell_type": "code",
   "execution_count": null,
   "metadata": {},
   "outputs": [],
   "source": [
    "data.shape"
   ]
  },
  {
   "cell_type": "code",
   "execution_count": null,
   "metadata": {},
   "outputs": [],
   "source": [
    "data.head()"
   ]
  },
  {
   "cell_type": "markdown",
   "metadata": {},
   "source": [
    "## B. Data Quality."
   ]
  },
  {
   "cell_type": "markdown",
   "metadata": {},
   "source": [
    "#### 1. Valores nulos."
   ]
  },
  {
   "cell_type": "code",
   "execution_count": 12,
   "metadata": {},
   "outputs": [
    {
     "data": {
      "text/html": [
       "<div>\n",
       "<style scoped>\n",
       "    .dataframe tbody tr th:only-of-type {\n",
       "        vertical-align: middle;\n",
       "    }\n",
       "\n",
       "    .dataframe tbody tr th {\n",
       "        vertical-align: top;\n",
       "    }\n",
       "\n",
       "    .dataframe thead th {\n",
       "        text-align: right;\n",
       "    }\n",
       "</style>\n",
       "<table border=\"1\" class=\"dataframe\">\n",
       "  <thead>\n",
       "    <tr style=\"text-align: right;\">\n",
       "      <th></th>\n",
       "      <th>Train Null Percentage</th>\n",
       "      <th>Score Null Percentage</th>\n",
       "      <th>diff</th>\n",
       "    </tr>\n",
       "  </thead>\n",
       "  <tbody>\n",
       "    <tr>\n",
       "      <th>clase_ternaria</th>\n",
       "      <td>0.000000</td>\n",
       "      <td>100.000000</td>\n",
       "      <td>100.000000</td>\n",
       "    </tr>\n",
       "    <tr>\n",
       "      <th>Master_mpagospesos</th>\n",
       "      <td>60.126416</td>\n",
       "      <td>58.459691</td>\n",
       "      <td>1.666725</td>\n",
       "    </tr>\n",
       "    <tr>\n",
       "      <th>Master_mconsumototal</th>\n",
       "      <td>60.126416</td>\n",
       "      <td>58.459691</td>\n",
       "      <td>1.666725</td>\n",
       "    </tr>\n",
       "    <tr>\n",
       "      <th>Master_cconsumos</th>\n",
       "      <td>60.126416</td>\n",
       "      <td>58.459691</td>\n",
       "      <td>1.666725</td>\n",
       "    </tr>\n",
       "    <tr>\n",
       "      <th>Master_cadelantosefectivo</th>\n",
       "      <td>60.126416</td>\n",
       "      <td>58.459691</td>\n",
       "      <td>1.666725</td>\n",
       "    </tr>\n",
       "    <tr>\n",
       "      <th>...</th>\n",
       "      <td>...</td>\n",
       "      <td>...</td>\n",
       "      <td>...</td>\n",
       "    </tr>\n",
       "    <tr>\n",
       "      <th>mpayroll</th>\n",
       "      <td>0.000000</td>\n",
       "      <td>0.000000</td>\n",
       "      <td>0.000000</td>\n",
       "    </tr>\n",
       "    <tr>\n",
       "      <th>mpayroll2</th>\n",
       "      <td>0.000000</td>\n",
       "      <td>0.000000</td>\n",
       "      <td>0.000000</td>\n",
       "    </tr>\n",
       "    <tr>\n",
       "      <th>cpayroll2_trx</th>\n",
       "      <td>0.000000</td>\n",
       "      <td>0.000000</td>\n",
       "      <td>0.000000</td>\n",
       "    </tr>\n",
       "    <tr>\n",
       "      <th>ccuenta_debitos_automaticos</th>\n",
       "      <td>0.000000</td>\n",
       "      <td>0.000000</td>\n",
       "      <td>0.000000</td>\n",
       "    </tr>\n",
       "    <tr>\n",
       "      <th>mforex_buy</th>\n",
       "      <td>0.000000</td>\n",
       "      <td>0.000000</td>\n",
       "      <td>0.000000</td>\n",
       "    </tr>\n",
       "  </tbody>\n",
       "</table>\n",
       "<p>155 rows × 3 columns</p>\n",
       "</div>"
      ],
      "text/plain": [
       "                             Train Null Percentage  Score Null Percentage  \\\n",
       "clase_ternaria                            0.000000             100.000000   \n",
       "Master_mpagospesos                       60.126416              58.459691   \n",
       "Master_mconsumototal                     60.126416              58.459691   \n",
       "Master_cconsumos                         60.126416              58.459691   \n",
       "Master_cadelantosefectivo                60.126416              58.459691   \n",
       "...                                            ...                    ...   \n",
       "mpayroll                                  0.000000               0.000000   \n",
       "mpayroll2                                 0.000000               0.000000   \n",
       "cpayroll2_trx                             0.000000               0.000000   \n",
       "ccuenta_debitos_automaticos               0.000000               0.000000   \n",
       "mforex_buy                                0.000000               0.000000   \n",
       "\n",
       "                                   diff  \n",
       "clase_ternaria               100.000000  \n",
       "Master_mpagospesos             1.666725  \n",
       "Master_mconsumototal           1.666725  \n",
       "Master_cconsumos               1.666725  \n",
       "Master_cadelantosefectivo      1.666725  \n",
       "...                                 ...  \n",
       "mpayroll                       0.000000  \n",
       "mpayroll2                      0.000000  \n",
       "cpayroll2_trx                  0.000000  \n",
       "ccuenta_debitos_automaticos    0.000000  \n",
       "mforex_buy                     0.000000  \n",
       "\n",
       "[155 rows x 3 columns]"
      ]
     },
     "execution_count": 12,
     "metadata": {},
     "output_type": "execute_result"
    }
   ],
   "source": [
    "#a. Evaluamos.\n",
    "train_data = data[data['foto_mes'].isin(mes_train_efma)]\n",
    "score_data = data[data['foto_mes'] == mes_test]\n",
    "\n",
    "train_null_percentage = train_data.isnull().mean() * 100\n",
    "score_null_percentage = score_data.isnull().mean() * 100\n",
    "\n",
    "comparison_df = pd.DataFrame({'Train Null Percentage': train_null_percentage, 'Score Null Percentage': score_null_percentage})\n",
    "comparison_df['diff'] = (comparison_df['Score Null Percentage'] - comparison_df['Train Null Percentage']).abs()\n",
    "\n",
    "comparison_df_sorted = comparison_df.sort_values('diff', ascending=False)\n",
    "\n",
    "comparison_df_sorted"
   ]
  },
  {
   "cell_type": "code",
   "execution_count": 13,
   "metadata": {},
   "outputs": [
    {
     "name": "stdout",
     "output_type": "stream",
     "text": [
      "No parece haber una diferencia significativa en la cantidad de valores nulos.\n"
     ]
    }
   ],
   "source": [
    "#b. Decidimos.\n",
    "print(\"No parece haber una diferencia significativa en la cantidad de valores nulos.\")"
   ]
  },
  {
   "cell_type": "markdown",
   "metadata": {},
   "source": [
    "#### 2. Valores 0."
   ]
  },
  {
   "cell_type": "code",
   "execution_count": 14,
   "metadata": {},
   "outputs": [
    {
     "data": {
      "text/html": [
       "<div>\n",
       "<style scoped>\n",
       "    .dataframe tbody tr th:only-of-type {\n",
       "        vertical-align: middle;\n",
       "    }\n",
       "\n",
       "    .dataframe tbody tr th {\n",
       "        vertical-align: top;\n",
       "    }\n",
       "\n",
       "    .dataframe thead th {\n",
       "        text-align: right;\n",
       "    }\n",
       "</style>\n",
       "<table border=\"1\" class=\"dataframe\">\n",
       "  <thead>\n",
       "    <tr style=\"text-align: right;\">\n",
       "      <th></th>\n",
       "      <th>Train Zero Percentage</th>\n",
       "      <th>Score Zero Percentage</th>\n",
       "      <th>diff_zero_percentage</th>\n",
       "    </tr>\n",
       "  </thead>\n",
       "  <tbody>\n",
       "    <tr>\n",
       "      <th>Master_fultimo_cierre</th>\n",
       "      <td>0.000000</td>\n",
       "      <td>68.891773</td>\n",
       "      <td>68.891773</td>\n",
       "    </tr>\n",
       "    <tr>\n",
       "      <th>Visa_fultimo_cierre</th>\n",
       "      <td>0.000000</td>\n",
       "      <td>68.829909</td>\n",
       "      <td>68.829909</td>\n",
       "    </tr>\n",
       "    <tr>\n",
       "      <th>cmobile_app_trx</th>\n",
       "      <td>29.815295</td>\n",
       "      <td>23.683859</td>\n",
       "      <td>6.131436</td>\n",
       "    </tr>\n",
       "    <tr>\n",
       "      <th>ctransferencias_recibidas</th>\n",
       "      <td>27.867398</td>\n",
       "      <td>24.303719</td>\n",
       "      <td>3.563678</td>\n",
       "    </tr>\n",
       "    <tr>\n",
       "      <th>mtransferencias_recibidas</th>\n",
       "      <td>27.867398</td>\n",
       "      <td>24.303719</td>\n",
       "      <td>3.563678</td>\n",
       "    </tr>\n",
       "    <tr>\n",
       "      <th>...</th>\n",
       "      <td>...</td>\n",
       "      <td>...</td>\n",
       "      <td>...</td>\n",
       "    </tr>\n",
       "    <tr>\n",
       "      <th>tcuentas</th>\n",
       "      <td>0.000000</td>\n",
       "      <td>0.000000</td>\n",
       "      <td>0.000000</td>\n",
       "    </tr>\n",
       "    <tr>\n",
       "      <th>cproductos</th>\n",
       "      <td>0.000000</td>\n",
       "      <td>0.000000</td>\n",
       "      <td>0.000000</td>\n",
       "    </tr>\n",
       "    <tr>\n",
       "      <th>cliente_antiguedad</th>\n",
       "      <td>0.000000</td>\n",
       "      <td>0.000000</td>\n",
       "      <td>0.000000</td>\n",
       "    </tr>\n",
       "    <tr>\n",
       "      <th>cliente_edad</th>\n",
       "      <td>0.000000</td>\n",
       "      <td>0.000000</td>\n",
       "      <td>0.000000</td>\n",
       "    </tr>\n",
       "    <tr>\n",
       "      <th>clase_ternaria</th>\n",
       "      <td>0.000000</td>\n",
       "      <td>0.000000</td>\n",
       "      <td>0.000000</td>\n",
       "    </tr>\n",
       "  </tbody>\n",
       "</table>\n",
       "<p>155 rows × 3 columns</p>\n",
       "</div>"
      ],
      "text/plain": [
       "                           Train Zero Percentage  Score Zero Percentage  \\\n",
       "Master_fultimo_cierre                   0.000000              68.891773   \n",
       "Visa_fultimo_cierre                     0.000000              68.829909   \n",
       "cmobile_app_trx                        29.815295              23.683859   \n",
       "ctransferencias_recibidas              27.867398              24.303719   \n",
       "mtransferencias_recibidas              27.867398              24.303719   \n",
       "...                                          ...                    ...   \n",
       "tcuentas                                0.000000               0.000000   \n",
       "cproductos                              0.000000               0.000000   \n",
       "cliente_antiguedad                      0.000000               0.000000   \n",
       "cliente_edad                            0.000000               0.000000   \n",
       "clase_ternaria                          0.000000               0.000000   \n",
       "\n",
       "                           diff_zero_percentage  \n",
       "Master_fultimo_cierre                 68.891773  \n",
       "Visa_fultimo_cierre                   68.829909  \n",
       "cmobile_app_trx                        6.131436  \n",
       "ctransferencias_recibidas              3.563678  \n",
       "mtransferencias_recibidas              3.563678  \n",
       "...                                         ...  \n",
       "tcuentas                               0.000000  \n",
       "cproductos                             0.000000  \n",
       "cliente_antiguedad                     0.000000  \n",
       "cliente_edad                           0.000000  \n",
       "clase_ternaria                         0.000000  \n",
       "\n",
       "[155 rows x 3 columns]"
      ]
     },
     "execution_count": 14,
     "metadata": {},
     "output_type": "execute_result"
    }
   ],
   "source": [
    "#a. Evaluamos.\n",
    "train_zero_percentage = (train_data == 0).mean() * 100\n",
    "score_zero_percentage = (score_data == 0).mean() * 100\n",
    "\n",
    "comparison_df_zero = pd.DataFrame({'Train Zero Percentage': train_zero_percentage, 'Score Zero Percentage': score_zero_percentage})\n",
    "\n",
    "comparison_df_zero['diff_zero_percentage'] = (comparison_df_zero['Score Zero Percentage'] - comparison_df_zero['Train Zero Percentage']).abs()\n",
    "diff_zero_percentage_sorted = comparison_df_zero.sort_values('diff_zero_percentage',ascending=False)\n",
    "\n",
    "diff_zero_percentage_sorted"
   ]
  },
  {
   "cell_type": "code",
   "execution_count": 15,
   "metadata": {},
   "outputs": [
    {
     "name": "stderr",
     "output_type": "stream",
     "text": [
      "C:\\Users\\c678456\\AppData\\Local\\Temp\\ipykernel_4484\\326767688.py:4: SettingWithCopyWarning: \n",
      "A value is trying to be set on a copy of a slice from a DataFrame\n",
      "\n",
      "See the caveats in the documentation: https://pandas.pydata.org/pandas-docs/stable/user_guide/indexing.html#returning-a-view-versus-a-copy\n",
      "  train_data.drop([\"Master_fultimo_cierre\",\"Visa_fultimo_cierre\"],axis=1,inplace=True)\n",
      "C:\\Users\\c678456\\AppData\\Local\\Temp\\ipykernel_4484\\326767688.py:5: SettingWithCopyWarning: \n",
      "A value is trying to be set on a copy of a slice from a DataFrame\n",
      "\n",
      "See the caveats in the documentation: https://pandas.pydata.org/pandas-docs/stable/user_guide/indexing.html#returning-a-view-versus-a-copy\n",
      "  score_data.drop([\"Master_fultimo_cierre\",\"Visa_fultimo_cierre\"],axis=1,inplace=True)\n"
     ]
    }
   ],
   "source": [
    "#b. Decidimos eliminar aquellas columnas con un gran aumento en la cantidad de 0 en el mes test.\n",
    "data.drop([\"Master_fultimo_cierre\",\"Visa_fultimo_cierre\"],axis=1,inplace=True)\n",
    "\n",
    "train_data.drop([\"Master_fultimo_cierre\",\"Visa_fultimo_cierre\"],axis=1,inplace=True)\n",
    "score_data.drop([\"Master_fultimo_cierre\",\"Visa_fultimo_cierre\"],axis=1,inplace=True)"
   ]
  },
  {
   "cell_type": "markdown",
   "metadata": {},
   "source": [
    "#### 3. Valores <0."
   ]
  },
  {
   "cell_type": "code",
   "execution_count": 16,
   "metadata": {},
   "outputs": [
    {
     "data": {
      "text/html": [
       "<div>\n",
       "<style scoped>\n",
       "    .dataframe tbody tr th:only-of-type {\n",
       "        vertical-align: middle;\n",
       "    }\n",
       "\n",
       "    .dataframe tbody tr th {\n",
       "        vertical-align: top;\n",
       "    }\n",
       "\n",
       "    .dataframe thead th {\n",
       "        text-align: right;\n",
       "    }\n",
       "</style>\n",
       "<table border=\"1\" class=\"dataframe\">\n",
       "  <thead>\n",
       "    <tr style=\"text-align: right;\">\n",
       "      <th></th>\n",
       "      <th>Train Negative Percentage</th>\n",
       "      <th>Score Negative Percentage</th>\n",
       "      <th>diff_negative_percentage</th>\n",
       "    </tr>\n",
       "  </thead>\n",
       "  <tbody>\n",
       "    <tr>\n",
       "      <th>Master_Finiciomora</th>\n",
       "      <td>0.003678</td>\n",
       "      <td>0.000000</td>\n",
       "      <td>0.003678</td>\n",
       "    </tr>\n",
       "    <tr>\n",
       "      <th>mactivos_margen</th>\n",
       "      <td>0.001533</td>\n",
       "      <td>0.003033</td>\n",
       "      <td>0.001500</td>\n",
       "    </tr>\n",
       "    <tr>\n",
       "      <th>Visa_mpagospesos</th>\n",
       "      <td>0.000000</td>\n",
       "      <td>0.001213</td>\n",
       "      <td>0.001213</td>\n",
       "    </tr>\n",
       "    <tr>\n",
       "      <th>Master_msaldototal</th>\n",
       "      <td>0.004598</td>\n",
       "      <td>0.003639</td>\n",
       "      <td>0.000959</td>\n",
       "    </tr>\n",
       "    <tr>\n",
       "      <th>Master_msaldopesos</th>\n",
       "      <td>0.004445</td>\n",
       "      <td>0.003639</td>\n",
       "      <td>0.000806</td>\n",
       "    </tr>\n",
       "    <tr>\n",
       "      <th>...</th>\n",
       "      <td>...</td>\n",
       "      <td>...</td>\n",
       "      <td>...</td>\n",
       "    </tr>\n",
       "    <tr>\n",
       "      <th>cpayroll2_trx</th>\n",
       "      <td>0.000000</td>\n",
       "      <td>0.000000</td>\n",
       "      <td>0.000000</td>\n",
       "    </tr>\n",
       "    <tr>\n",
       "      <th>ccuenta_debitos_automaticos</th>\n",
       "      <td>0.000000</td>\n",
       "      <td>0.000000</td>\n",
       "      <td>0.000000</td>\n",
       "    </tr>\n",
       "    <tr>\n",
       "      <th>mcuenta_debitos_automaticos</th>\n",
       "      <td>0.000000</td>\n",
       "      <td>0.000000</td>\n",
       "      <td>0.000000</td>\n",
       "    </tr>\n",
       "    <tr>\n",
       "      <th>ctarjeta_visa_debitos_automaticos</th>\n",
       "      <td>0.000000</td>\n",
       "      <td>0.000000</td>\n",
       "      <td>0.000000</td>\n",
       "    </tr>\n",
       "    <tr>\n",
       "      <th>clase_ternaria</th>\n",
       "      <td>0.000000</td>\n",
       "      <td>0.000000</td>\n",
       "      <td>0.000000</td>\n",
       "    </tr>\n",
       "  </tbody>\n",
       "</table>\n",
       "<p>153 rows × 3 columns</p>\n",
       "</div>"
      ],
      "text/plain": [
       "                                   Train Negative Percentage  \\\n",
       "Master_Finiciomora                                  0.003678   \n",
       "mactivos_margen                                     0.001533   \n",
       "Visa_mpagospesos                                    0.000000   \n",
       "Master_msaldototal                                  0.004598   \n",
       "Master_msaldopesos                                  0.004445   \n",
       "...                                                      ...   \n",
       "cpayroll2_trx                                       0.000000   \n",
       "ccuenta_debitos_automaticos                         0.000000   \n",
       "mcuenta_debitos_automaticos                         0.000000   \n",
       "ctarjeta_visa_debitos_automaticos                   0.000000   \n",
       "clase_ternaria                                      0.000000   \n",
       "\n",
       "                                   Score Negative Percentage  \\\n",
       "Master_Finiciomora                                  0.000000   \n",
       "mactivos_margen                                     0.003033   \n",
       "Visa_mpagospesos                                    0.001213   \n",
       "Master_msaldototal                                  0.003639   \n",
       "Master_msaldopesos                                  0.003639   \n",
       "...                                                      ...   \n",
       "cpayroll2_trx                                       0.000000   \n",
       "ccuenta_debitos_automaticos                         0.000000   \n",
       "mcuenta_debitos_automaticos                         0.000000   \n",
       "ctarjeta_visa_debitos_automaticos                   0.000000   \n",
       "clase_ternaria                                      0.000000   \n",
       "\n",
       "                                   diff_negative_percentage  \n",
       "Master_Finiciomora                                 0.003678  \n",
       "mactivos_margen                                    0.001500  \n",
       "Visa_mpagospesos                                   0.001213  \n",
       "Master_msaldototal                                 0.000959  \n",
       "Master_msaldopesos                                 0.000806  \n",
       "...                                                     ...  \n",
       "cpayroll2_trx                                      0.000000  \n",
       "ccuenta_debitos_automaticos                        0.000000  \n",
       "mcuenta_debitos_automaticos                        0.000000  \n",
       "ctarjeta_visa_debitos_automaticos                  0.000000  \n",
       "clase_ternaria                                     0.000000  \n",
       "\n",
       "[153 rows x 3 columns]"
      ]
     },
     "execution_count": 16,
     "metadata": {},
     "output_type": "execute_result"
    }
   ],
   "source": [
    "#a. Evaluamos.\n",
    "train_negative_percentage = (train_data == -1).mean() * 100\n",
    "score_negative_percentage = (score_data == -1).mean() * 100\n",
    "\n",
    "comparison_df_zero = pd.DataFrame({'Train Negative Percentage': train_negative_percentage, 'Score Negative Percentage': score_negative_percentage})\n",
    "\n",
    "comparison_df_zero['diff_negative_percentage'] = (comparison_df_zero['Score Negative Percentage'] - comparison_df_zero['Train Negative Percentage']).abs()\n",
    "diff_negative_percentage_sorted = comparison_df_zero.sort_values('diff_negative_percentage',ascending=False)\n",
    "\n",
    "diff_negative_percentage_sorted"
   ]
  },
  {
   "cell_type": "code",
   "execution_count": 17,
   "metadata": {},
   "outputs": [
    {
     "name": "stdout",
     "output_type": "stream",
     "text": [
      "No parece haber una diferencia significativa en la cantidad de valores con -1.\n"
     ]
    }
   ],
   "source": [
    "#b. Decidimos.\n",
    "print(\"No parece haber una diferencia significativa en la cantidad de valores con -1.\")"
   ]
  },
  {
   "cell_type": "markdown",
   "metadata": {},
   "source": [
    "#### 4. Valores duplicados."
   ]
  },
  {
   "cell_type": "code",
   "execution_count": 18,
   "metadata": {},
   "outputs": [
    {
     "name": "stdout",
     "output_type": "stream",
     "text": [
      "Train tiene 0 valores duplicados\n",
      "Test tiene 0 valores duplicados\n"
     ]
    }
   ],
   "source": [
    "#a. Verifico.\n",
    "print(\"Train tiene {} valores duplicados\".format(train_data.duplicated().sum()))\n",
    "print(\"Test tiene {} valores duplicados\".format(score_data.duplicated().sum()))\n"
   ]
  },
  {
   "cell_type": "markdown",
   "metadata": {},
   "source": [
    "## C. Data Drifting."
   ]
  },
  {
   "cell_type": "code",
   "execution_count": 19,
   "metadata": {},
   "outputs": [
    {
     "name": "stderr",
     "output_type": "stream",
     "text": [
      "C:\\Users\\c678456\\AppData\\Local\\Temp\\ipykernel_4484\\3157422034.py:7: RuntimeWarning: divide by zero encountered in log\n",
      "  result = (actual_prop - expected_prop) * np.log(actual_prop / expected_prop)\n",
      "C:\\Users\\c678456\\AppData\\Local\\Temp\\ipykernel_4484\\3157422034.py:7: RuntimeWarning: divide by zero encountered in log\n",
      "  result = (actual_prop - expected_prop) * np.log(actual_prop / expected_prop)\n"
     ]
    }
   ],
   "source": [
    "#1. Aplicamos PSI a casi todas las variables, excepto las de no interés.\n",
    "psi_results = []\n",
    "for column in train_data.columns:\n",
    "  if column not in ['foto_mes','numero_de_cliente','clase_ternaria']:\n",
    "    train_variable = train_data[column]\n",
    "    score_variable = score_data[column]\n",
    "    psi_value = psi(train_variable, score_variable)\n",
    "    psi_results.append({'feature': column, 'psi': psi_value})\n",
    "\n",
    "psi_df = pd.DataFrame(psi_results)\n",
    "psi_df = psi_df.sort_values('psi', ascending=False)"
   ]
  },
  {
   "cell_type": "code",
   "execution_count": 20,
   "metadata": {},
   "outputs": [
    {
     "data": {
      "text/html": [
       "<div>\n",
       "<style scoped>\n",
       "    .dataframe tbody tr th:only-of-type {\n",
       "        vertical-align: middle;\n",
       "    }\n",
       "\n",
       "    .dataframe tbody tr th {\n",
       "        vertical-align: top;\n",
       "    }\n",
       "\n",
       "    .dataframe thead th {\n",
       "        text-align: right;\n",
       "    }\n",
       "</style>\n",
       "<table border=\"1\" class=\"dataframe\">\n",
       "  <thead>\n",
       "    <tr style=\"text-align: right;\">\n",
       "      <th></th>\n",
       "      <th>feature</th>\n",
       "      <th>psi</th>\n",
       "    </tr>\n",
       "  </thead>\n",
       "  <tbody>\n",
       "    <tr>\n",
       "      <th>112</th>\n",
       "      <td>Master_Finiciomora</td>\n",
       "      <td>inf</td>\n",
       "    </tr>\n",
       "    <tr>\n",
       "      <th>133</th>\n",
       "      <td>Visa_Finiciomora</td>\n",
       "      <td>inf</td>\n",
       "    </tr>\n",
       "    <tr>\n",
       "      <th>50</th>\n",
       "      <td>mpayroll</td>\n",
       "      <td>0.257969</td>\n",
       "    </tr>\n",
       "    <tr>\n",
       "      <th>49</th>\n",
       "      <td>cpayroll_trx</td>\n",
       "      <td>0.197012</td>\n",
       "    </tr>\n",
       "  </tbody>\n",
       "</table>\n",
       "</div>"
      ],
      "text/plain": [
       "                feature       psi\n",
       "112  Master_Finiciomora       inf\n",
       "133    Visa_Finiciomora       inf\n",
       "50             mpayroll  0.257969\n",
       "49         cpayroll_trx  0.197012"
      ]
     },
     "execution_count": 20,
     "metadata": {},
     "output_type": "execute_result"
    }
   ],
   "source": [
    "#2. Observamos variables con PSI >= 0.1 (casos a atender).\n",
    "psi_df[psi_df[\"psi\"] > 0.1]"
   ]
  },
  {
   "cell_type": "code",
   "execution_count": 21,
   "metadata": {},
   "outputs": [
    {
     "name": "stdout",
     "output_type": "stream",
     "text": [
      "Cortes en Master_Finiciomora: [-1.001, 9.0, 16.0, 18.0, 20.0, 23.0, 46.0, 51.0, 207.0]\n",
      "Frecuencia Esperada: [250 253 614 546 712 294 351 378]\n",
      "Frecuencia Actual: [ 73   0   0   0  25 320  11 234]\n"
     ]
    }
   ],
   "source": [
    "#3. Analizo las variables a tener en cuenta.\n",
    "#i. Master_Finiciomora y Visa_Finiciomora.\n",
    "variable_name = 'Master_Finiciomora'\n",
    "expected = train_data[variable_name]\n",
    "actual = score_data[variable_name]\n",
    "\n",
    "expected_not_null = expected.dropna()\n",
    "actual_not_null = actual.dropna()\n",
    "\n",
    "bin_edges = pd.qcut(expected_not_null, q=10, duplicates='drop').unique()\n",
    "bin_edges2 = [edge.left for edge in bin_edges] + [edge.right for edge in bin_edges]\n",
    "breakpoints = sorted(list(set(bin_edges2)))\n",
    "\n",
    "print(f'Cortes en {variable_name}: {breakpoints}')\n",
    "expected_counts, _ = np.histogram(expected_not_null, bins=breakpoints)\n",
    "actual_counts, _ = np.histogram(actual_not_null, bins=breakpoints)\n",
    "\n",
    "print(f'Frecuencia Esperada: {expected_counts}')\n",
    "print(f'Frecuencia Actual: {actual_counts}')\n"
   ]
  },
  {
   "cell_type": "code",
   "execution_count": 22,
   "metadata": {},
   "outputs": [
    {
     "name": "stdout",
     "output_type": "stream",
     "text": [
      "Cortes en cpayroll_trx: [-0.001, 1.0, 2.0, 3.0, 251.0]\n",
      "Frecuencia Esperada: [303288 204451  95166  49542]\n",
      "Frecuencia Actual: [73677 26686 39300 25212]\n",
      "\n",
      "\n",
      " No voy a tomar ninguna acción dado que el árbol suele cortar entre 1 sueldo ó menos de 1 sueldo. No me cambia la distribución.\n"
     ]
    }
   ],
   "source": [
    "#ii. cpayroll_trx.\n",
    "variable_name = 'cpayroll_trx'\n",
    "expected = train_data[variable_name]\n",
    "actual = score_data[variable_name]\n",
    "\n",
    "expected_not_null = expected.dropna()\n",
    "actual_not_null = actual.dropna()\n",
    "\n",
    "bin_edges = pd.qcut(expected_not_null, q=20, duplicates='drop').unique()\n",
    "bin_edges2 = [edge.left for edge in bin_edges] + [edge.right for edge in bin_edges]\n",
    "breakpoints = sorted(list(set(bin_edges2)))\n",
    "\n",
    "print(f'Cortes en {variable_name}: {breakpoints}')\n",
    "expected_counts, _ = np.histogram(expected_not_null, bins=breakpoints)\n",
    "actual_counts, _ = np.histogram(actual_not_null, bins=breakpoints)\n",
    "\n",
    "print(f'Frecuencia Esperada: {expected_counts}')\n",
    "print(f'Frecuencia Actual: {actual_counts}')\n",
    "\n",
    "\n",
    "print(\"\\n\\n No voy a tomar ninguna acción dado que el árbol suele cortar entre 1 sueldo ó menos de 1 sueldo. No me cambia la distribución.\")"
   ]
  },
  {
   "cell_type": "markdown",
   "metadata": {},
   "source": [
    "## D. Ajustes por inflación."
   ]
  },
  {
   "cell_type": "code",
   "execution_count": 23,
   "metadata": {},
   "outputs": [],
   "source": [
    "#1. Valores financieros y meses\n",
    "#i. Listas.\n",
    "vfoto_mes = [202101, 202102, 202103, 202104, 202105, 202106]\n",
    "vIPC = [0.9680542110, 0.9344152616, 0.8882274350, 0.8532444140, 0.8251880213, 0.8003763543]\n",
    "vdolar_blue = [157.900000, 149.380952, 143.615385, 146.250000, 153.550000, 162.000000]\n",
    "vdolar_oficial = [91.474000, 93.997778, 96.635909, 98.526000, 99.613158, 100.619048]\n",
    "vUVA = [0.9669867858358365, 0.9323750098728378, 0.8958202912590305, 0.8631993702994263, 0.8253893405524657, 0.7928918905364516]\n",
    "#ii. Lo junto en un dataframe.\n",
    "tb_indices = pd.DataFrame({\n",
    "    'IPC': vIPC,\n",
    "    'dolar_blue': vdolar_blue,\n",
    "    'dolar_oficial': vdolar_oficial,\n",
    "    'UVA': vUVA,\n",
    "    'foto_mes': vfoto_mes\n",
    "})"
   ]
  },
  {
   "cell_type": "code",
   "execution_count": 31,
   "metadata": {},
   "outputs": [],
   "source": [
    "#2. Defino los campos que voy a ajustar por inflación.\n",
    "campos_monetarios = [col for col in data.columns if col.startswith(('m', 'Visa_m', 'Master_m', 'vm_m'))]\n"
   ]
  },
  {
   "cell_type": "code",
   "execution_count": 34,
   "metadata": {},
   "outputs": [],
   "source": [
    "#3. Diferentes funciones y métodos para corregir el efecto de la inflación.\n",
    "def drift_uva(dataset, campos_monetarios, tb_indices):\n",
    "    print(\"inicio drift_UVA()\")\n",
    "    dataset = dataset.merge(tb_indices[['foto_mes', 'UVA']], on='foto_mes', how='left')\n",
    "    for campo in campos_monetarios:\n",
    "        dataset[campo] *= dataset['UVA']\n",
    "    dataset.drop(columns=['UVA'], inplace=True)\n",
    "    print(\"fin drift_UVA()\")\n",
    "\n",
    "def drift_deflacion(dataset, campos_monetarios, tb_indices):\n",
    "    print(\"inicio drift_deflacion()\")\n",
    "    dataset = dataset.merge(tb_indices[['foto_mes', 'IPC']], on='foto_mes', how='left')\n",
    "    for campo in campos_monetarios:\n",
    "        dataset[campo] *= dataset['IPC']\n",
    "    dataset.drop(columns=['IPC'], inplace=True)\n",
    "    print(\"fin drift_deflacion()\")\n",
    "\n",
    "# Función para estandarizar datos\n",
    "def drift_estandarizar(dataset, campos_drift):\n",
    "    print(\"inicio drift_estandarizar()\")\n",
    "    for campo in campos_drift:\n",
    "        dataset[campo + \"_normal\"] = dataset.groupby('foto_mes')[campo].transform(lambda x: (x - x.mean()) / x.std())\n",
    "        dataset.drop(columns=[campo], inplace=True)\n",
    "    print(\"fin drift_estandarizar()\")"
   ]
  },
  {
   "cell_type": "code",
   "execution_count": 35,
   "metadata": {},
   "outputs": [
    {
     "name": "stdout",
     "output_type": "stream",
     "text": [
      "inicio drift_deflacion()\n",
      "fin drift_deflacion()\n"
     ]
    }
   ],
   "source": [
    "#4. Le aplico la inflación a todas ellas.\n",
    "data = drift_deflacion(data, campos_monetarios, tb_indices)"
   ]
  },
  {
   "cell_type": "markdown",
   "metadata": {},
   "source": [
    "## E. Exportación."
   ]
  },
  {
   "cell_type": "code",
   "execution_count": 39,
   "metadata": {},
   "outputs": [],
   "source": [
    "#i. Exportación propiamente dicha.\n",
    "data.to_csv(dataset_file_preprocesado,index=False)"
   ]
  }
 ],
 "metadata": {
  "kernelspec": {
   "display_name": "Python 3 (ipykernel)",
   "language": "python",
   "name": "python3"
  },
  "language_info": {
   "codemirror_mode": {
    "name": "ipython",
    "version": 3
   },
   "file_extension": ".py",
   "mimetype": "text/x-python",
   "name": "python",
   "nbconvert_exporter": "python",
   "pygments_lexer": "ipython3",
   "version": "3.12.3"
  }
 },
 "nbformat": 4,
 "nbformat_minor": 4
}
