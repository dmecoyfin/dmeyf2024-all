{
 "cells": [
  {
   "cell_type": "markdown",
   "metadata": {},
   "source": [
    "## A. Configuraciones generales."
   ]
  },
  {
   "cell_type": "code",
   "execution_count": 1,
   "metadata": {},
   "outputs": [
    {
     "name": "stderr",
     "output_type": "stream",
     "text": [
      "Matplotlib is building the font cache; this may take a moment.\n"
     ]
    },
    {
     "data": {
      "text/html": [
       "<style type='text/css'>\n",
       ".datatable table.frame { margin-bottom: 0; }\n",
       ".datatable table.frame thead { border-bottom: none; }\n",
       ".datatable table.frame tr.coltypes td {  color: #FFFFFF;  line-height: 6px;  padding: 0 0.5em;}\n",
       ".datatable .bool    { background: #DDDD99; }\n",
       ".datatable .object  { background: #565656; }\n",
       ".datatable .int     { background: #5D9E5D; }\n",
       ".datatable .float   { background: #4040CC; }\n",
       ".datatable .str     { background: #CC4040; }\n",
       ".datatable .time    { background: #40CC40; }\n",
       ".datatable .row_index {  background: var(--jp-border-color3);  border-right: 1px solid var(--jp-border-color0);  color: var(--jp-ui-font-color3);  font-size: 9px;}\n",
       ".datatable .frame tbody td { text-align: left; }\n",
       ".datatable .frame tr.coltypes .row_index {  background: var(--jp-border-color0);}\n",
       ".datatable th:nth-child(2) { padding-left: 12px; }\n",
       ".datatable .hellipsis {  color: var(--jp-cell-editor-border-color);}\n",
       ".datatable .vellipsis {  background: var(--jp-layout-color0);  color: var(--jp-cell-editor-border-color);}\n",
       ".datatable .na {  color: var(--jp-cell-editor-border-color);  font-size: 80%;}\n",
       ".datatable .sp {  opacity: 0.25;}\n",
       ".datatable .footer { font-size: 9px; }\n",
       ".datatable .frame_dimensions {  background: var(--jp-border-color3);  border-top: 1px solid var(--jp-border-color0);  color: var(--jp-ui-font-color3);  display: inline-block;  opacity: 0.6;  padding: 1px 10px 1px 5px;}\n",
       "</style>\n"
      ],
      "text/plain": [
       "<IPython.core.display.HTML object>"
      ]
     },
     "metadata": {},
     "output_type": "display_data"
    },
    {
     "name": "stderr",
     "output_type": "stream",
     "text": [
      "/home/ianlink95/.venv/lib/python3.12/site-packages/dask/dataframe/__init__.py:42: FutureWarning: \n",
      "Dask dataframe query planning is disabled because dask-expr is not installed.\n",
      "\n",
      "You can install it with `pip install dask[dataframe]` or `conda install dask`.\n",
      "This will raise in a future version.\n",
      "\n",
      "  warnings.warn(msg, FutureWarning)\n",
      "/home/ianlink95/.venv/lib/python3.12/site-packages/tqdm/auto.py:21: TqdmWarning: IProgress not found. Please update jupyter and ipywidgets. See https://ipywidgets.readthedocs.io/en/stable/user_install.html\n",
      "  from .autonotebook import tqdm as notebook_tqdm\n"
     ]
    }
   ],
   "source": [
    "#1. Librerías.\n",
    "%run \"./librerias.ipynb\""
   ]
  },
  {
   "cell_type": "code",
   "execution_count": 2,
   "metadata": {},
   "outputs": [],
   "source": [
    "#2. Constantes.\n",
    "%run \"./constantes.ipynb\""
   ]
  },
  {
   "cell_type": "code",
   "execution_count": 3,
   "metadata": {},
   "outputs": [],
   "source": [
    "#3. Funciones.\n",
    "%run \"./funciones.ipynb\""
   ]
  },
  {
   "cell_type": "code",
   "execution_count": 23,
   "metadata": {},
   "outputs": [],
   "source": [
    "#4. Lectura de datos.\n",
    "data = pd.read_csv(dataset_file_clase_ternaria)"
   ]
  },
  {
   "cell_type": "markdown",
   "metadata": {},
   "source": [
    "## B. Data Quality."
   ]
  },
  {
   "cell_type": "markdown",
   "metadata": {},
   "source": [
    "#### 1. Valores nulos."
   ]
  },
  {
   "cell_type": "code",
   "execution_count": 24,
   "metadata": {},
   "outputs": [
    {
     "data": {
      "text/html": [
       "<div>\n",
       "<style scoped>\n",
       "    .dataframe tbody tr th:only-of-type {\n",
       "        vertical-align: middle;\n",
       "    }\n",
       "\n",
       "    .dataframe tbody tr th {\n",
       "        vertical-align: top;\n",
       "    }\n",
       "\n",
       "    .dataframe thead th {\n",
       "        text-align: right;\n",
       "    }\n",
       "</style>\n",
       "<table border=\"1\" class=\"dataframe\">\n",
       "  <thead>\n",
       "    <tr style=\"text-align: right;\">\n",
       "      <th></th>\n",
       "      <th>Train Null Percentage</th>\n",
       "      <th>Score Null Percentage</th>\n",
       "      <th>diff</th>\n",
       "    </tr>\n",
       "  </thead>\n",
       "  <tbody>\n",
       "    <tr>\n",
       "      <th>clase_ternaria</th>\n",
       "      <td>0.000000</td>\n",
       "      <td>100.000000</td>\n",
       "      <td>100.000000</td>\n",
       "    </tr>\n",
       "    <tr>\n",
       "      <th>Master_mconsumototal</th>\n",
       "      <td>59.707968</td>\n",
       "      <td>58.356403</td>\n",
       "      <td>1.351565</td>\n",
       "    </tr>\n",
       "    <tr>\n",
       "      <th>Master_mpagosdolares</th>\n",
       "      <td>59.707968</td>\n",
       "      <td>58.356403</td>\n",
       "      <td>1.351565</td>\n",
       "    </tr>\n",
       "    <tr>\n",
       "      <th>Master_mpagospesos</th>\n",
       "      <td>59.707968</td>\n",
       "      <td>58.356403</td>\n",
       "      <td>1.351565</td>\n",
       "    </tr>\n",
       "    <tr>\n",
       "      <th>Master_cconsumos</th>\n",
       "      <td>59.707968</td>\n",
       "      <td>58.356403</td>\n",
       "      <td>1.351565</td>\n",
       "    </tr>\n",
       "    <tr>\n",
       "      <th>...</th>\n",
       "      <td>...</td>\n",
       "      <td>...</td>\n",
       "      <td>...</td>\n",
       "    </tr>\n",
       "    <tr>\n",
       "      <th>ctarjeta_visa_debitos_automaticos</th>\n",
       "      <td>0.000000</td>\n",
       "      <td>0.000000</td>\n",
       "      <td>0.000000</td>\n",
       "    </tr>\n",
       "    <tr>\n",
       "      <th>mttarjeta_visa_debitos_automaticos</th>\n",
       "      <td>0.000000</td>\n",
       "      <td>0.000000</td>\n",
       "      <td>0.000000</td>\n",
       "    </tr>\n",
       "    <tr>\n",
       "      <th>ctarjeta_master_debitos_automaticos</th>\n",
       "      <td>0.000000</td>\n",
       "      <td>0.000000</td>\n",
       "      <td>0.000000</td>\n",
       "    </tr>\n",
       "    <tr>\n",
       "      <th>mttarjeta_master_debitos_automaticos</th>\n",
       "      <td>0.000000</td>\n",
       "      <td>0.000000</td>\n",
       "      <td>0.000000</td>\n",
       "    </tr>\n",
       "    <tr>\n",
       "      <th>mpayroll</th>\n",
       "      <td>0.000000</td>\n",
       "      <td>0.000000</td>\n",
       "      <td>0.000000</td>\n",
       "    </tr>\n",
       "  </tbody>\n",
       "</table>\n",
       "<p>155 rows × 3 columns</p>\n",
       "</div>"
      ],
      "text/plain": [
       "                                      Train Null Percentage  \\\n",
       "clase_ternaria                                     0.000000   \n",
       "Master_mconsumototal                              59.707968   \n",
       "Master_mpagosdolares                              59.707968   \n",
       "Master_mpagospesos                                59.707968   \n",
       "Master_cconsumos                                  59.707968   \n",
       "...                                                     ...   \n",
       "ctarjeta_visa_debitos_automaticos                  0.000000   \n",
       "mttarjeta_visa_debitos_automaticos                 0.000000   \n",
       "ctarjeta_master_debitos_automaticos                0.000000   \n",
       "mttarjeta_master_debitos_automaticos               0.000000   \n",
       "mpayroll                                           0.000000   \n",
       "\n",
       "                                      Score Null Percentage        diff  \n",
       "clase_ternaria                                   100.000000  100.000000  \n",
       "Master_mconsumototal                              58.356403    1.351565  \n",
       "Master_mpagosdolares                              58.356403    1.351565  \n",
       "Master_mpagospesos                                58.356403    1.351565  \n",
       "Master_cconsumos                                  58.356403    1.351565  \n",
       "...                                                     ...         ...  \n",
       "ctarjeta_visa_debitos_automaticos                  0.000000    0.000000  \n",
       "mttarjeta_visa_debitos_automaticos                 0.000000    0.000000  \n",
       "ctarjeta_master_debitos_automaticos                0.000000    0.000000  \n",
       "mttarjeta_master_debitos_automaticos               0.000000    0.000000  \n",
       "mpayroll                                           0.000000    0.000000  \n",
       "\n",
       "[155 rows x 3 columns]"
      ]
     },
     "execution_count": 24,
     "metadata": {},
     "output_type": "execute_result"
    }
   ],
   "source": [
    "#a. Evaluamos.\n",
    "train_data = data[data['foto_mes'].isin(mes_train_ult_6_meses)]\n",
    "score_data = data[data['foto_mes'] == mes_test]\n",
    "\n",
    "train_null_percentage = train_data.isnull().mean() * 100\n",
    "score_null_percentage = score_data.isnull().mean() * 100\n",
    "\n",
    "comparison_df = pd.DataFrame({'Train Null Percentage': train_null_percentage, 'Score Null Percentage': score_null_percentage})\n",
    "comparison_df['diff'] = (comparison_df['Score Null Percentage'] - comparison_df['Train Null Percentage']).abs()\n",
    "\n",
    "comparison_df_sorted = comparison_df.sort_values('diff', ascending=False)\n",
    "\n",
    "comparison_df_sorted"
   ]
  },
  {
   "cell_type": "code",
   "execution_count": 25,
   "metadata": {},
   "outputs": [
    {
     "name": "stdout",
     "output_type": "stream",
     "text": [
      "No parece haber una diferencia significativa en la cantidad de valores nulos.\n"
     ]
    }
   ],
   "source": [
    "#b. Decidimos.\n",
    "print(\"No parece haber una diferencia significativa en la cantidad de valores nulos.\")"
   ]
  },
  {
   "cell_type": "markdown",
   "metadata": {},
   "source": [
    "#### 2. Valores 0."
   ]
  },
  {
   "cell_type": "code",
   "execution_count": 26,
   "metadata": {},
   "outputs": [
    {
     "data": {
      "text/html": [
       "<div>\n",
       "<style scoped>\n",
       "    .dataframe tbody tr th:only-of-type {\n",
       "        vertical-align: middle;\n",
       "    }\n",
       "\n",
       "    .dataframe tbody tr th {\n",
       "        vertical-align: top;\n",
       "    }\n",
       "\n",
       "    .dataframe thead th {\n",
       "        text-align: right;\n",
       "    }\n",
       "</style>\n",
       "<table border=\"1\" class=\"dataframe\">\n",
       "  <thead>\n",
       "    <tr style=\"text-align: right;\">\n",
       "      <th></th>\n",
       "      <th>Train Zero Percentage</th>\n",
       "      <th>Score Zero Percentage</th>\n",
       "      <th>diff_zero_percentage</th>\n",
       "    </tr>\n",
       "  </thead>\n",
       "  <tbody>\n",
       "    <tr>\n",
       "      <th>Master_fultimo_cierre</th>\n",
       "      <td>11.567439</td>\n",
       "      <td>0.000000</td>\n",
       "      <td>11.567439</td>\n",
       "    </tr>\n",
       "    <tr>\n",
       "      <th>Visa_fultimo_cierre</th>\n",
       "      <td>11.557051</td>\n",
       "      <td>0.000000</td>\n",
       "      <td>11.557051</td>\n",
       "    </tr>\n",
       "    <tr>\n",
       "      <th>Visa_mpagado</th>\n",
       "      <td>80.493632</td>\n",
       "      <td>69.013914</td>\n",
       "      <td>11.479718</td>\n",
       "    </tr>\n",
       "    <tr>\n",
       "      <th>cmobile_app_trx</th>\n",
       "      <td>28.251859</td>\n",
       "      <td>20.980767</td>\n",
       "      <td>7.271092</td>\n",
       "    </tr>\n",
       "    <tr>\n",
       "      <th>mtransferencias_emitidas</th>\n",
       "      <td>40.924756</td>\n",
       "      <td>37.012971</td>\n",
       "      <td>3.911784</td>\n",
       "    </tr>\n",
       "    <tr>\n",
       "      <th>...</th>\n",
       "      <td>...</td>\n",
       "      <td>...</td>\n",
       "      <td>...</td>\n",
       "    </tr>\n",
       "    <tr>\n",
       "      <th>Visa_Fvencimiento</th>\n",
       "      <td>0.000000</td>\n",
       "      <td>0.000000</td>\n",
       "      <td>0.000000</td>\n",
       "    </tr>\n",
       "    <tr>\n",
       "      <th>tcuentas</th>\n",
       "      <td>0.000000</td>\n",
       "      <td>0.000000</td>\n",
       "      <td>0.000000</td>\n",
       "    </tr>\n",
       "    <tr>\n",
       "      <th>foto_mes</th>\n",
       "      <td>0.000000</td>\n",
       "      <td>0.000000</td>\n",
       "      <td>0.000000</td>\n",
       "    </tr>\n",
       "    <tr>\n",
       "      <th>numero_de_cliente</th>\n",
       "      <td>0.000000</td>\n",
       "      <td>0.000000</td>\n",
       "      <td>0.000000</td>\n",
       "    </tr>\n",
       "    <tr>\n",
       "      <th>clase_ternaria</th>\n",
       "      <td>0.000000</td>\n",
       "      <td>0.000000</td>\n",
       "      <td>0.000000</td>\n",
       "    </tr>\n",
       "  </tbody>\n",
       "</table>\n",
       "<p>155 rows × 3 columns</p>\n",
       "</div>"
      ],
      "text/plain": [
       "                          Train Zero Percentage  Score Zero Percentage  \\\n",
       "Master_fultimo_cierre                 11.567439               0.000000   \n",
       "Visa_fultimo_cierre                   11.557051               0.000000   \n",
       "Visa_mpagado                          80.493632              69.013914   \n",
       "cmobile_app_trx                       28.251859              20.980767   \n",
       "mtransferencias_emitidas              40.924756              37.012971   \n",
       "...                                         ...                    ...   \n",
       "Visa_Fvencimiento                      0.000000               0.000000   \n",
       "tcuentas                               0.000000               0.000000   \n",
       "foto_mes                               0.000000               0.000000   \n",
       "numero_de_cliente                      0.000000               0.000000   \n",
       "clase_ternaria                         0.000000               0.000000   \n",
       "\n",
       "                          diff_zero_percentage  \n",
       "Master_fultimo_cierre                11.567439  \n",
       "Visa_fultimo_cierre                  11.557051  \n",
       "Visa_mpagado                         11.479718  \n",
       "cmobile_app_trx                       7.271092  \n",
       "mtransferencias_emitidas              3.911784  \n",
       "...                                        ...  \n",
       "Visa_Fvencimiento                     0.000000  \n",
       "tcuentas                              0.000000  \n",
       "foto_mes                              0.000000  \n",
       "numero_de_cliente                     0.000000  \n",
       "clase_ternaria                        0.000000  \n",
       "\n",
       "[155 rows x 3 columns]"
      ]
     },
     "execution_count": 26,
     "metadata": {},
     "output_type": "execute_result"
    }
   ],
   "source": [
    "#a. Evaluamos.\n",
    "train_zero_percentage = (train_data == 0).mean() * 100\n",
    "score_zero_percentage = (score_data == 0).mean() * 100\n",
    "\n",
    "comparison_df_zero = pd.DataFrame({'Train Zero Percentage': train_zero_percentage, 'Score Zero Percentage': score_zero_percentage})\n",
    "\n",
    "comparison_df_zero['diff_zero_percentage'] = (comparison_df_zero['Score Zero Percentage'] - comparison_df_zero['Train Zero Percentage']).abs()\n",
    "diff_zero_percentage_sorted = comparison_df_zero.sort_values('diff_zero_percentage',ascending=False)\n",
    "\n",
    "diff_zero_percentage_sorted"
   ]
  },
  {
   "cell_type": "code",
   "execution_count": 27,
   "metadata": {},
   "outputs": [
    {
     "name": "stderr",
     "output_type": "stream",
     "text": [
      "/tmp/ipykernel_2547/3055451641.py:5: SettingWithCopyWarning: \n",
      "A value is trying to be set on a copy of a slice from a DataFrame\n",
      "\n",
      "See the caveats in the documentation: https://pandas.pydata.org/pandas-docs/stable/user_guide/indexing.html#returning-a-view-versus-a-copy\n",
      "  train_data.drop(cols_eliminar,axis=1,inplace=True)\n",
      "/tmp/ipykernel_2547/3055451641.py:6: SettingWithCopyWarning: \n",
      "A value is trying to be set on a copy of a slice from a DataFrame\n",
      "\n",
      "See the caveats in the documentation: https://pandas.pydata.org/pandas-docs/stable/user_guide/indexing.html#returning-a-view-versus-a-copy\n",
      "  score_data.drop(cols_eliminar,axis=1,inplace=True)\n"
     ]
    }
   ],
   "source": [
    "#b. Decidimos eliminar aquellas columnas con un gran cambio en la cantidad de 0 en el mes test.\n",
    "cols_eliminar = [\"Master_fultimo_cierre\",\"Visa_fultimo_cierre\",\"Visa_mpagado\",\"cmobile_app_trx\"]\n",
    "data.drop(cols_eliminar,axis=1,inplace=True)\n",
    "\n",
    "train_data.drop(cols_eliminar,axis=1,inplace=True)\n",
    "score_data.drop(cols_eliminar,axis=1,inplace=True)"
   ]
  },
  {
   "cell_type": "markdown",
   "metadata": {},
   "source": [
    "#### 3. Valores <0."
   ]
  },
  {
   "cell_type": "code",
   "execution_count": 28,
   "metadata": {},
   "outputs": [
    {
     "data": {
      "text/html": [
       "<div>\n",
       "<style scoped>\n",
       "    .dataframe tbody tr th:only-of-type {\n",
       "        vertical-align: middle;\n",
       "    }\n",
       "\n",
       "    .dataframe tbody tr th {\n",
       "        vertical-align: top;\n",
       "    }\n",
       "\n",
       "    .dataframe thead th {\n",
       "        text-align: right;\n",
       "    }\n",
       "</style>\n",
       "<table border=\"1\" class=\"dataframe\">\n",
       "  <thead>\n",
       "    <tr style=\"text-align: right;\">\n",
       "      <th></th>\n",
       "      <th>Train Negative Percentage</th>\n",
       "      <th>Score Negative Percentage</th>\n",
       "      <th>diff_negative_percentage</th>\n",
       "    </tr>\n",
       "  </thead>\n",
       "  <tbody>\n",
       "    <tr>\n",
       "      <th>Master_Finiciomora</th>\n",
       "      <td>0.002444</td>\n",
       "      <td>0.000000</td>\n",
       "      <td>0.002444</td>\n",
       "    </tr>\n",
       "    <tr>\n",
       "      <th>Master_msaldototal</th>\n",
       "      <td>0.004379</td>\n",
       "      <td>0.003627</td>\n",
       "      <td>0.000752</td>\n",
       "    </tr>\n",
       "    <tr>\n",
       "      <th>Master_msaldopesos</th>\n",
       "      <td>0.004277</td>\n",
       "      <td>0.003627</td>\n",
       "      <td>0.000651</td>\n",
       "    </tr>\n",
       "    <tr>\n",
       "      <th>mactivos_margen</th>\n",
       "      <td>0.001731</td>\n",
       "      <td>0.001209</td>\n",
       "      <td>0.000522</td>\n",
       "    </tr>\n",
       "    <tr>\n",
       "      <th>mrentabilidad</th>\n",
       "      <td>0.000102</td>\n",
       "      <td>0.000604</td>\n",
       "      <td>0.000503</td>\n",
       "    </tr>\n",
       "    <tr>\n",
       "      <th>...</th>\n",
       "      <td>...</td>\n",
       "      <td>...</td>\n",
       "      <td>...</td>\n",
       "    </tr>\n",
       "    <tr>\n",
       "      <th>cpayroll2_trx</th>\n",
       "      <td>0.000000</td>\n",
       "      <td>0.000000</td>\n",
       "      <td>0.000000</td>\n",
       "    </tr>\n",
       "    <tr>\n",
       "      <th>ccuenta_debitos_automaticos</th>\n",
       "      <td>0.000000</td>\n",
       "      <td>0.000000</td>\n",
       "      <td>0.000000</td>\n",
       "    </tr>\n",
       "    <tr>\n",
       "      <th>mcuenta_debitos_automaticos</th>\n",
       "      <td>0.000000</td>\n",
       "      <td>0.000000</td>\n",
       "      <td>0.000000</td>\n",
       "    </tr>\n",
       "    <tr>\n",
       "      <th>ctarjeta_visa_debitos_automaticos</th>\n",
       "      <td>0.000000</td>\n",
       "      <td>0.000000</td>\n",
       "      <td>0.000000</td>\n",
       "    </tr>\n",
       "    <tr>\n",
       "      <th>cseguro_vivienda</th>\n",
       "      <td>0.000000</td>\n",
       "      <td>0.000000</td>\n",
       "      <td>0.000000</td>\n",
       "    </tr>\n",
       "  </tbody>\n",
       "</table>\n",
       "<p>151 rows × 3 columns</p>\n",
       "</div>"
      ],
      "text/plain": [
       "                                   Train Negative Percentage  \\\n",
       "Master_Finiciomora                                  0.002444   \n",
       "Master_msaldototal                                  0.004379   \n",
       "Master_msaldopesos                                  0.004277   \n",
       "mactivos_margen                                     0.001731   \n",
       "mrentabilidad                                       0.000102   \n",
       "...                                                      ...   \n",
       "cpayroll2_trx                                       0.000000   \n",
       "ccuenta_debitos_automaticos                         0.000000   \n",
       "mcuenta_debitos_automaticos                         0.000000   \n",
       "ctarjeta_visa_debitos_automaticos                   0.000000   \n",
       "cseguro_vivienda                                    0.000000   \n",
       "\n",
       "                                   Score Negative Percentage  \\\n",
       "Master_Finiciomora                                  0.000000   \n",
       "Master_msaldototal                                  0.003627   \n",
       "Master_msaldopesos                                  0.003627   \n",
       "mactivos_margen                                     0.001209   \n",
       "mrentabilidad                                       0.000604   \n",
       "...                                                      ...   \n",
       "cpayroll2_trx                                       0.000000   \n",
       "ccuenta_debitos_automaticos                         0.000000   \n",
       "mcuenta_debitos_automaticos                         0.000000   \n",
       "ctarjeta_visa_debitos_automaticos                   0.000000   \n",
       "cseguro_vivienda                                    0.000000   \n",
       "\n",
       "                                   diff_negative_percentage  \n",
       "Master_Finiciomora                                 0.002444  \n",
       "Master_msaldototal                                 0.000752  \n",
       "Master_msaldopesos                                 0.000651  \n",
       "mactivos_margen                                    0.000522  \n",
       "mrentabilidad                                      0.000503  \n",
       "...                                                     ...  \n",
       "cpayroll2_trx                                      0.000000  \n",
       "ccuenta_debitos_automaticos                        0.000000  \n",
       "mcuenta_debitos_automaticos                        0.000000  \n",
       "ctarjeta_visa_debitos_automaticos                  0.000000  \n",
       "cseguro_vivienda                                   0.000000  \n",
       "\n",
       "[151 rows x 3 columns]"
      ]
     },
     "execution_count": 28,
     "metadata": {},
     "output_type": "execute_result"
    }
   ],
   "source": [
    "#a. Evaluamos.\n",
    "train_negative_percentage = (train_data == -1).mean() * 100\n",
    "score_negative_percentage = (score_data == -1).mean() * 100\n",
    "\n",
    "comparison_df_zero = pd.DataFrame({'Train Negative Percentage': train_negative_percentage, 'Score Negative Percentage': score_negative_percentage})\n",
    "\n",
    "comparison_df_zero['diff_negative_percentage'] = (comparison_df_zero['Score Negative Percentage'] - comparison_df_zero['Train Negative Percentage']).abs()\n",
    "diff_negative_percentage_sorted = comparison_df_zero.sort_values('diff_negative_percentage',ascending=False)\n",
    "\n",
    "diff_negative_percentage_sorted"
   ]
  },
  {
   "cell_type": "code",
   "execution_count": 29,
   "metadata": {},
   "outputs": [
    {
     "name": "stdout",
     "output_type": "stream",
     "text": [
      "No parece haber una diferencia significativa en la cantidad de valores con -1.\n"
     ]
    }
   ],
   "source": [
    "#b. Decidimos.\n",
    "print(\"No parece haber una diferencia significativa en la cantidad de valores con -1.\")"
   ]
  },
  {
   "cell_type": "markdown",
   "metadata": {},
   "source": [
    "#### 4. Valores duplicados."
   ]
  },
  {
   "cell_type": "code",
   "execution_count": 30,
   "metadata": {},
   "outputs": [
    {
     "name": "stdout",
     "output_type": "stream",
     "text": [
      "Train tiene 0 valores duplicados\n",
      "Test tiene 0 valores duplicados\n"
     ]
    }
   ],
   "source": [
    "#a. Verifico.\n",
    "print(\"Train tiene {} valores duplicados\".format(train_data.duplicated().sum()))\n",
    "print(\"Test tiene {} valores duplicados\".format(score_data.duplicated().sum()))\n"
   ]
  },
  {
   "cell_type": "markdown",
   "metadata": {},
   "source": [
    "## C. Data Drifting."
   ]
  },
  {
   "cell_type": "code",
   "execution_count": 32,
   "metadata": {},
   "outputs": [
    {
     "name": "stderr",
     "output_type": "stream",
     "text": [
      "/tmp/ipykernel_2547/3157422034.py:7: RuntimeWarning: divide by zero encountered in log\n",
      "  result = (actual_prop - expected_prop) * np.log(actual_prop / expected_prop)\n"
     ]
    }
   ],
   "source": [
    "#1. Aplicamos PSI a casi todas las variables, excepto las de no interés.\n",
    "psi_results = []\n",
    "for column in train_data.columns:\n",
    "  if column not in ['foto_mes','numero_de_cliente','clase_ternaria']:\n",
    "    train_variable = train_data[column]\n",
    "    score_variable = score_data[column]\n",
    "    psi_value = psi(train_variable, score_variable)\n",
    "    psi_results.append({'feature': column, 'psi': psi_value})\n",
    "\n",
    "psi_df = pd.DataFrame(psi_results)\n",
    "psi_df = psi_df.sort_values('psi', ascending=False)"
   ]
  },
  {
   "cell_type": "code",
   "execution_count": 33,
   "metadata": {},
   "outputs": [
    {
     "data": {
      "text/html": [
       "<div>\n",
       "<style scoped>\n",
       "    .dataframe tbody tr th:only-of-type {\n",
       "        vertical-align: middle;\n",
       "    }\n",
       "\n",
       "    .dataframe tbody tr th {\n",
       "        vertical-align: top;\n",
       "    }\n",
       "\n",
       "    .dataframe thead th {\n",
       "        text-align: right;\n",
       "    }\n",
       "</style>\n",
       "<table border=\"1\" class=\"dataframe\">\n",
       "  <thead>\n",
       "    <tr style=\"text-align: right;\">\n",
       "      <th></th>\n",
       "      <th>feature</th>\n",
       "      <th>psi</th>\n",
       "    </tr>\n",
       "  </thead>\n",
       "  <tbody>\n",
       "    <tr>\n",
       "      <th>111</th>\n",
       "      <td>Master_Finiciomora</td>\n",
       "      <td>inf</td>\n",
       "    </tr>\n",
       "    <tr>\n",
       "      <th>132</th>\n",
       "      <td>Visa_Finiciomora</td>\n",
       "      <td>0.622660</td>\n",
       "    </tr>\n",
       "    <tr>\n",
       "      <th>110</th>\n",
       "      <td>Master_Fvencimiento</td>\n",
       "      <td>0.130568</td>\n",
       "    </tr>\n",
       "  </tbody>\n",
       "</table>\n",
       "</div>"
      ],
      "text/plain": [
       "                 feature       psi\n",
       "111   Master_Finiciomora       inf\n",
       "132     Visa_Finiciomora  0.622660\n",
       "110  Master_Fvencimiento  0.130568"
      ]
     },
     "execution_count": 33,
     "metadata": {},
     "output_type": "execute_result"
    }
   ],
   "source": [
    "#2. Observamos variables con PSI >= 0.1 (casos a atender).\n",
    "psi_df[psi_df[\"psi\"] > 0.1]"
   ]
  },
  {
   "cell_type": "code",
   "execution_count": 34,
   "metadata": {},
   "outputs": [
    {
     "name": "stdout",
     "output_type": "stream",
     "text": [
      "Cortes en Visa_Finiciomora: [-0.001, 9.0, 17.0, 21.0, 24.0, 50.0, 269.0]\n",
      "Frecuencia Esperada: [6809  608 1542 1525 1579 1565]\n",
      "Frecuencia Actual: [3199    4   74  495  114  255]\n"
     ]
    }
   ],
   "source": [
    "#3. Analizo las variables a tener en cuenta.\n",
    "#i. Master_Finiciomora y Visa_Finiciomora.\n",
    "variable_name = 'Visa_Finiciomora'\n",
    "expected = train_data[variable_name]\n",
    "actual = score_data[variable_name]\n",
    "\n",
    "expected_not_null = expected.dropna()\n",
    "actual_not_null = actual.dropna()\n",
    "\n",
    "bin_edges = pd.qcut(expected_not_null, q=10, duplicates='drop').unique()\n",
    "bin_edges2 = [edge.left for edge in bin_edges] + [edge.right for edge in bin_edges]\n",
    "breakpoints = sorted(list(set(bin_edges2)))\n",
    "\n",
    "print(f'Cortes en {variable_name}: {breakpoints}')\n",
    "expected_counts, _ = np.histogram(expected_not_null, bins=breakpoints)\n",
    "actual_counts, _ = np.histogram(actual_not_null, bins=breakpoints)\n",
    "\n",
    "print(f'Frecuencia Esperada: {expected_counts}')\n",
    "print(f'Frecuencia Actual: {actual_counts}')"
   ]
  },
  {
   "cell_type": "code",
   "execution_count": 35,
   "metadata": {},
   "outputs": [
    {
     "name": "stdout",
     "output_type": "stream",
     "text": [
      "Cortes en Master_Fvencimiento: [-2914237.001, -2129.0, -2009.0, -1641.0, -1551.0, -1460.0, -1399.0, -1307.0, -1187.0, -1065.0, -882.0, -757.0, -668.0, -609.0, -548.0, -517.0, -456.0, -395.0, -305.0, -211.0, 5206.0]\n",
      "Frecuencia Esperada: [37448 45997 46507 42767 43633 40650 50739 39965 47701 39065 49203 42827\n",
      " 35396 49988 27786 52269 45836 51715 46781 44354]\n",
      "Frecuencia Actual: [ 5984  9098 13603   824  2651  6040  8618 11347  8267 10711  4114  3365\n",
      "  3559  4898  2361  8377  8907 13209 10263 12448]\n"
     ]
    }
   ],
   "source": [
    "#ii. Master_Fvencimiento.\n",
    "variable_name = 'Master_Fvencimiento'\n",
    "expected = train_data[variable_name]\n",
    "actual = score_data[variable_name]\n",
    "\n",
    "expected_not_null = expected.dropna()\n",
    "actual_not_null = actual.dropna()\n",
    "\n",
    "bin_edges = pd.qcut(expected_not_null, q=20, duplicates='drop').unique()\n",
    "bin_edges2 = [edge.left for edge in bin_edges] + [edge.right for edge in bin_edges]\n",
    "breakpoints = sorted(list(set(bin_edges2)))\n",
    "\n",
    "print(f'Cortes en {variable_name}: {breakpoints}')\n",
    "expected_counts, _ = np.histogram(expected_not_null, bins=breakpoints)\n",
    "actual_counts, _ = np.histogram(actual_not_null, bins=breakpoints)\n",
    "\n",
    "print(f'Frecuencia Esperada: {expected_counts}')\n",
    "print(f'Frecuencia Actual: {actual_counts}')"
   ]
  },
  {
   "cell_type": "code",
   "execution_count": 36,
   "metadata": {},
   "outputs": [
    {
     "name": "stderr",
     "output_type": "stream",
     "text": [
      "/tmp/ipykernel_2547/1238236985.py:5: SettingWithCopyWarning: \n",
      "A value is trying to be set on a copy of a slice from a DataFrame\n",
      "\n",
      "See the caveats in the documentation: https://pandas.pydata.org/pandas-docs/stable/user_guide/indexing.html#returning-a-view-versus-a-copy\n",
      "  train_data.drop(cols_eliminar,axis=1,inplace=True)\n",
      "/tmp/ipykernel_2547/1238236985.py:6: SettingWithCopyWarning: \n",
      "A value is trying to be set on a copy of a slice from a DataFrame\n",
      "\n",
      "See the caveats in the documentation: https://pandas.pydata.org/pandas-docs/stable/user_guide/indexing.html#returning-a-view-versus-a-copy\n",
      "  score_data.drop(cols_eliminar,axis=1,inplace=True)\n"
     ]
    }
   ],
   "source": [
    "#4. Elimino las columnas con un PSI alto.\n",
    "cols_eliminar = [\"Master_Finiciomora\",\"Visa_Finiciomora\",\"Master_Fvencimiento\"]\n",
    "data.drop(cols_eliminar,axis=1,inplace=True)\n",
    "\n",
    "train_data.drop(cols_eliminar,axis=1,inplace=True)\n",
    "score_data.drop(cols_eliminar,axis=1,inplace=True)"
   ]
  },
  {
   "cell_type": "markdown",
   "metadata": {},
   "source": [
    "## D. Ajustes por inflación."
   ]
  },
  {
   "cell_type": "code",
   "execution_count": 48,
   "metadata": {},
   "outputs": [],
   "source": [
    "#1. Valores financieros y meses\n",
    "#i. Listas.\n",
    "vfoto_mes = [201901, 201902, 201903, 201904, 201905, 201906,\n",
    "  201907, 201908, 201909, 201910, 201911, 201912,\n",
    "  202001, 202002, 202003, 202004, 202005, 202006,\n",
    "  202007, 202008, 202009, 202010, 202011, 202012,\n",
    "  202101, 202102, 202103, 202104, 202105, 202106,\n",
    "  202107, 202108, 202109]\n",
    "vIPC = [1.9903030878, 1.9174403544, 1.8296186587,\n",
    "  1.7728862972, 1.7212488323, 1.6776304408,\n",
    "  1.6431248196, 1.5814483345, 1.4947526791,\n",
    "  1.4484037589, 1.3913580777, 1.3404220402,\n",
    "  1.3154288912, 1.2921698342, 1.2472681797,\n",
    "  1.2300475145, 1.2118694724, 1.1881073259,\n",
    "  1.1693969743, 1.1375456949, 1.1065619600,\n",
    "  1.0681100000, 1.0370000000, 1.0000000000,\n",
    "  0.9680542110, 0.9344152616, 0.8882274350,\n",
    "  0.8532444140, 0.8251880213, 0.8003763543,\n",
    "  0.7763107219, 0.7566381305, 0.7289384687]\n",
    "vdolar_blue = [39.045455,  38.402500,  41.639474,\n",
    "   44.274737,  46.095455,  45.063333,\n",
    "   43.983333,  54.842857,  61.059524,\n",
    "   65.545455,  66.750000,  72.368421,\n",
    "   77.477273,  78.191667,  82.434211,\n",
    "  101.087500, 126.236842, 125.857143,\n",
    "  130.782609, 133.400000, 137.954545,\n",
    "  170.619048, 160.400000, 153.052632,\n",
    "  157.900000, 149.380952, 143.615385,\n",
    "  146.250000, 153.550000, 162.000000,\n",
    "  178.478261, 180.878788, 184.357143]\n",
    "vdolar_oficial = [38.430000,  39.428000,  42.542105,\n",
    "   44.354211,  46.088636,  44.955000,\n",
    "   43.751429,  54.650476,  58.790000,\n",
    "   61.403182,  63.012632,  63.011579,\n",
    "   62.983636,  63.580556,  65.200000,\n",
    "   67.872000,  70.047895,  72.520952,\n",
    "   75.324286,  77.488500,  79.430909,\n",
    "   83.134762,  85.484737,  88.181667,\n",
    "   91.474000,  93.997778,  96.635909,\n",
    "   98.526000,  99.613158, 100.619048,\n",
    "  101.619048, 102.569048, 103.781818]\n",
    "vUVA = [2.001408838932958,  1.950325472789153,  1.89323032351521,\n",
    "  1.8247220405493787, 1.746027787673673,  1.6871348409529485,\n",
    "  1.6361678865622313, 1.5927529755859773, 1.5549162794128493,\n",
    "  1.4949100586391746, 1.4197729500774545, 1.3678188186372326,\n",
    "  1.3136508617223726, 1.2690535173062818, 1.2381595983200178,\n",
    "  1.211656735577568,  1.1770808941405335, 1.1570338657445522,\n",
    "  1.1388769475653255, 1.1156993751209352, 1.093638313080772,\n",
    "  1.0657171590878205, 1.0362173587708712, 1.0,\n",
    "  0.9669867858358365, 0.9323750098728378, 0.8958202912590305,\n",
    "  0.8631993702994263, 0.8253893405524657, 0.7928918905364516,\n",
    "  0.7666323845128089, 0.7428976357662823, 0.721615762047849]\n",
    "#ii. Lo junto en un dataframe.\n",
    "tb_indices = pd.DataFrame({\n",
    "    'IPC': vIPC,\n",
    "    'dolar_blue': vdolar_blue,\n",
    "    'dolar_oficial': vdolar_oficial,\n",
    "    'UVA': vUVA,\n",
    "    'foto_mes': vfoto_mes\n",
    "})"
   ]
  },
  {
   "cell_type": "code",
   "execution_count": 49,
   "metadata": {},
   "outputs": [],
   "source": [
    "#2. Defino los campos que voy a ajustar por inflación.\n",
    "campos_monetarios = [col for col in data.columns if col.startswith(('m', 'Visa_m', 'Master_m', 'vm_m'))]"
   ]
  },
  {
   "cell_type": "code",
   "execution_count": 62,
   "metadata": {},
   "outputs": [],
   "source": [
    "#3. Diferentes funciones y métodos para corregir el efecto de la inflación.\n",
    "def drift_uva(dataset, campos_monetarios, tb_indices):\n",
    "    print(\"inicio drift_UVA()\")\n",
    "    dataset = dataset.merge(tb_indices[['foto_mes', 'UVA']], on='foto_mes', how='left')\n",
    "    for campo in campos_monetarios:\n",
    "        dataset[campo] *= dataset['UVA']\n",
    "    dataset.drop(columns=['UVA'], inplace=True)\n",
    "    print(\"fin drift_UVA()\")\n",
    "    return dataset\n",
    "\n",
    "def drift_deflacion(dataset, campos_monetarios, tb_indices):\n",
    "    print(\"inicio drift_deflacion()\")\n",
    "    dataset = dataset.merge(tb_indices[['foto_mes', 'IPC']], on='foto_mes', how='left')\n",
    "    for campo in campos_monetarios:\n",
    "        dataset[campo] *= dataset['IPC']\n",
    "    dataset.drop(columns=['IPC'], inplace=True)\n",
    "    print(\"fin drift_deflacion()\")\n",
    "    return dataset\n",
    "\n",
    "# Función para estandarizar datos\n",
    "def drift_estandarizar(dataset, campos_drift):\n",
    "    print(\"inicio drift_estandarizar()\")\n",
    "    for campo in campos_drift:\n",
    "        dataset[campo + \"_normal\"] = dataset.groupby('foto_mes')[campo].transform(lambda x: (x - x.mean()) / x.std())\n",
    "        dataset.drop(columns=[campo], inplace=True)\n",
    "    print(\"fin drift_estandarizar()\")\n",
    "    return dataset"
   ]
  },
  {
   "cell_type": "code",
   "execution_count": 63,
   "metadata": {},
   "outputs": [
    {
     "name": "stdout",
     "output_type": "stream",
     "text": [
      "inicio drift_deflacion()\n",
      "fin drift_deflacion()\n"
     ]
    }
   ],
   "source": [
    "#4. Le aplico la inflación a todas ellas.\n",
    "data = drift_deflacion(data, campos_monetarios, tb_indices)"
   ]
  },
  {
   "cell_type": "markdown",
   "metadata": {},
   "source": [
    "## E. Exportación."
   ]
  },
  {
   "cell_type": "code",
   "execution_count": 65,
   "metadata": {},
   "outputs": [],
   "source": [
    "#i. Exportación propiamente dicha.\n",
    "data.to_csv(dataset_file_preprocesado,index=False)"
   ]
  },
  {
   "cell_type": "code",
   "execution_count": 66,
   "metadata": {},
   "outputs": [
    {
     "name": "stdout",
     "output_type": "stream",
     "text": [
      "Terminó\n"
     ]
    }
   ],
   "source": [
    "print(\"Terminó\")"
   ]
  }
 ],
 "metadata": {
  "kernelspec": {
   "display_name": "Python 3 (ipykernel)",
   "language": "python",
   "name": "python3"
  },
  "language_info": {
   "codemirror_mode": {
    "name": "ipython",
    "version": 3
   },
   "file_extension": ".py",
   "mimetype": "text/x-python",
   "name": "python",
   "nbconvert_exporter": "python",
   "pygments_lexer": "ipython3",
   "version": "3.12.3"
  }
 },
 "nbformat": 4,
 "nbformat_minor": 4
}
