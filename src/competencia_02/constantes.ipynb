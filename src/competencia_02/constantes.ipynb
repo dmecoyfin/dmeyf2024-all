{
 "cells": [
  {
   "cell_type": "code",
   "execution_count": null,
   "metadata": {},
   "outputs": [],
   "source": [
    "#A. Constantes.\n",
    "base_path = '/home/ianlink95/'\n",
    "modelos_path = base_path + 'modelos/'\n",
    "db_path = base_path + 'db/'\n",
    "datasets_path = base_path + 'buckets/b1/datasets/'\n",
    "\n",
    "dataset_file_crudo = datasets_path + 'competencia_02_crudo.csv.gz'\n",
    "dataset_file_clase_ternaria = datasets_path + 'competencia_02_clase_ternaria.csv'\n",
    "dataset_file_preprocesado = datasets_path + 'competencia_02_preprocesamiento.csv'\n",
    "\n",
    "dataset_file_fe = datasets_path + 'competencia_02_fe_drifting_menos_1.csv'\n",
    "\n",
    "\n",
    "\n",
    "ganancia_acierto = 273000\n",
    "costo_estimulo = 7000\n",
    "\n",
    "mes_train_all = [201901, 201902, 201903, 201904, 201905, 201906, 201907, 201908,\n",
    "                 201909, 201910, 201911, 201912, 202001, 202002, 202003, 202004,\n",
    "                 202005, 202006, 202007, 202008, 202009, 202010, 202011, 202012,\n",
    "                 202101, 202102, 202103, 202104, 202105, 202106]\n",
    "mes_train_ult_6_meses = [202101, 202102, 202103, 202104, 202105, 202106]\n",
    "#mes_train_fma = [202102,202103,202104]\n",
    "#mes_train_ma = [202103,202104]\n",
    "#mes_train_a = 202104\n",
    "mes_test = 202108\n",
    "\n",
    "#mes_backtesting_train = 202102\n",
    "#mes_backtesting_test= 202104\n",
    "\n",
    "semillas = [211777, 174989, 131497, 612223, 234803]"
   ]
  }
 ],
 "metadata": {
  "kernelspec": {
   "display_name": "Python 3 (ipykernel)",
   "language": "python",
   "name": "python3"
  },
  "language_info": {
   "codemirror_mode": {
    "name": "ipython",
    "version": 3
   },
   "file_extension": ".py",
   "mimetype": "text/x-python",
   "name": "python",
   "nbconvert_exporter": "python",
   "pygments_lexer": "ipython3",
   "version": "3.12.3"
  }
 },
 "nbformat": 4,
 "nbformat_minor": 4
}
