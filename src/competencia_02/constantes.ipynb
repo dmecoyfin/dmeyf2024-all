{
 "cells": [
  {
   "cell_type": "code",
   "execution_count": null,
   "metadata": {},
   "outputs": [],
   "source": [
    "#A. Constantes.\n",
    "base_path = '/home/ianlink95/'\n",
    "modelos_path = base_path + 'modelos/'\n",
    "db_path = base_path + 'db/'\n",
    "datasets_path = base_path + 'buckets/b1/datasets/'\n",
    "\n",
    "dataset_file_crudo = datasets_path + 'competencia_02_crudo.csv.gz'\n",
    "dataset_file_clase_ternaria = datasets_path + 'competencia_02_clase_ternaria.csv'\n",
    "dataset_file_preprocesado = datasets_path + 'competencia_02_preprocesamiento.csv'\n",
    "\n",
    "dataset_file_fe = datasets_path + 'competencia_02_fe_drifting_menos_1.csv'\n",
    "\n",
    "\n",
    "\n",
    "ganancia_acierto = 273000\n",
    "costo_estimulo = 7000\n",
    "\n",
    "mes_train_efma = [202101,202102,202103,202104]\n",
    "mes_train_fma = [202102,202103,202104]\n",
    "mes_train_ma = [202103,202104]\n",
    "mes_train_a = 202104\n",
    "mes_test = 202106\n",
    "\n",
    "#mes_backtesting_train = 202102\n",
    "#mes_backtesting_test= 202104\n",
    "\n",
    "semillas = [211777, 174989, 131497, 612223, 234803]"
   ]
  }
 ],
 "metadata": {
  "language_info": {
   "name": "python"
  }
 },
 "nbformat": 4,
 "nbformat_minor": 2
}
