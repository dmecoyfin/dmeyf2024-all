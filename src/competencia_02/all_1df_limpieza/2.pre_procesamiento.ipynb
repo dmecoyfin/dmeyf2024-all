{
 "cells": [
  {
   "cell_type": "markdown",
   "metadata": {},
   "source": [
    "## A. Configuraciones generales."
   ]
  },
  {
   "cell_type": "code",
   "execution_count": null,
   "metadata": {},
   "outputs": [
    {
     "name": "stderr",
     "output_type": "stream",
     "text": [
      "Matplotlib is building the font cache; this may take a moment.\n"
     ]
    },
    {
     "data": {
      "text/html": [
       "<style type='text/css'>\n",
       ".datatable table.frame { margin-bottom: 0; }\n",
       ".datatable table.frame thead { border-bottom: none; }\n",
       ".datatable table.frame tr.coltypes td {  color: #FFFFFF;  line-height: 6px;  padding: 0 0.5em;}\n",
       ".datatable .bool    { background: #DDDD99; }\n",
       ".datatable .object  { background: #565656; }\n",
       ".datatable .int     { background: #5D9E5D; }\n",
       ".datatable .float   { background: #4040CC; }\n",
       ".datatable .str     { background: #CC4040; }\n",
       ".datatable .time    { background: #40CC40; }\n",
       ".datatable .row_index {  background: var(--jp-border-color3);  border-right: 1px solid var(--jp-border-color0);  color: var(--jp-ui-font-color3);  font-size: 9px;}\n",
       ".datatable .frame tbody td { text-align: left; }\n",
       ".datatable .frame tr.coltypes .row_index {  background: var(--jp-border-color0);}\n",
       ".datatable th:nth-child(2) { padding-left: 12px; }\n",
       ".datatable .hellipsis {  color: var(--jp-cell-editor-border-color);}\n",
       ".datatable .vellipsis {  background: var(--jp-layout-color0);  color: var(--jp-cell-editor-border-color);}\n",
       ".datatable .na {  color: var(--jp-cell-editor-border-color);  font-size: 80%;}\n",
       ".datatable .sp {  opacity: 0.25;}\n",
       ".datatable .footer { font-size: 9px; }\n",
       ".datatable .frame_dimensions {  background: var(--jp-border-color3);  border-top: 1px solid var(--jp-border-color0);  color: var(--jp-ui-font-color3);  display: inline-block;  opacity: 0.6;  padding: 1px 10px 1px 5px;}\n",
       "</style>\n"
      ],
      "text/plain": [
       "<IPython.core.display.HTML object>"
      ]
     },
     "metadata": {},
     "output_type": "display_data"
    },
    {
     "name": "stderr",
     "output_type": "stream",
     "text": [
      "/home/ianlink95/.venv/lib/python3.12/site-packages/dask/dataframe/__init__.py:42: FutureWarning: \n",
      "Dask dataframe query planning is disabled because dask-expr is not installed.\n",
      "\n",
      "You can install it with `pip install dask[dataframe]` or `conda install dask`.\n",
      "This will raise in a future version.\n",
      "\n",
      "  warnings.warn(msg, FutureWarning)\n",
      "/home/ianlink95/.venv/lib/python3.12/site-packages/tqdm/auto.py:21: TqdmWarning: IProgress not found. Please update jupyter and ipywidgets. See https://ipywidgets.readthedocs.io/en/stable/user_install.html\n",
      "  from .autonotebook import tqdm as notebook_tqdm\n"
     ]
    }
   ],
   "source": [
    "#1. Librerías.\n",
    "%run \"../librerias.ipynb\""
   ]
  },
  {
   "cell_type": "code",
   "execution_count": null,
   "metadata": {},
   "outputs": [],
   "source": [
    "#2. Constantes.\n",
    "%run \"../constantes.ipynb\"\n",
    "\n",
    "mes_train = mes_train_all_menos_1\n",
    "mes_test = mes_test\n",
    "dataset_output = dataset_file_preprocesado_all_1_limpieza"
   ]
  },
  {
   "cell_type": "code",
   "execution_count": null,
   "metadata": {},
   "outputs": [],
   "source": [
    "#3. Funciones.\n",
    "%run \"../funciones.ipynb\""
   ]
  },
  {
   "cell_type": "code",
   "execution_count": 23,
   "metadata": {},
   "outputs": [],
   "source": [
    "#4. Lectura de datos.\n",
    "data = pd.read_csv(dataset_file_clase_ternaria)"
   ]
  },
  {
   "cell_type": "markdown",
   "metadata": {},
   "source": [
    "## B. Data Quality."
   ]
  },
  {
   "cell_type": "markdown",
   "metadata": {},
   "source": [
    "#### 1. Valores nulos."
   ]
  },
  {
   "cell_type": "code",
   "execution_count": null,
   "metadata": {},
   "outputs": [
    {
     "data": {
      "text/html": [
       "<div>\n",
       "<style scoped>\n",
       "    .dataframe tbody tr th:only-of-type {\n",
       "        vertical-align: middle;\n",
       "    }\n",
       "\n",
       "    .dataframe tbody tr th {\n",
       "        vertical-align: top;\n",
       "    }\n",
       "\n",
       "    .dataframe thead th {\n",
       "        text-align: right;\n",
       "    }\n",
       "</style>\n",
       "<table border=\"1\" class=\"dataframe\">\n",
       "  <thead>\n",
       "    <tr style=\"text-align: right;\">\n",
       "      <th></th>\n",
       "      <th>Train Null Percentage</th>\n",
       "      <th>Score Null Percentage</th>\n",
       "      <th>diff</th>\n",
       "    </tr>\n",
       "  </thead>\n",
       "  <tbody>\n",
       "    <tr>\n",
       "      <th>clase_ternaria</th>\n",
       "      <td>0.000000</td>\n",
       "      <td>100.000000</td>\n",
       "      <td>100.000000</td>\n",
       "    </tr>\n",
       "    <tr>\n",
       "      <th>Master_mconsumototal</th>\n",
       "      <td>59.707968</td>\n",
       "      <td>58.356403</td>\n",
       "      <td>1.351565</td>\n",
       "    </tr>\n",
       "    <tr>\n",
       "      <th>Master_mpagosdolares</th>\n",
       "      <td>59.707968</td>\n",
       "      <td>58.356403</td>\n",
       "      <td>1.351565</td>\n",
       "    </tr>\n",
       "    <tr>\n",
       "      <th>Master_mpagospesos</th>\n",
       "      <td>59.707968</td>\n",
       "      <td>58.356403</td>\n",
       "      <td>1.351565</td>\n",
       "    </tr>\n",
       "    <tr>\n",
       "      <th>Master_cconsumos</th>\n",
       "      <td>59.707968</td>\n",
       "      <td>58.356403</td>\n",
       "      <td>1.351565</td>\n",
       "    </tr>\n",
       "    <tr>\n",
       "      <th>...</th>\n",
       "      <td>...</td>\n",
       "      <td>...</td>\n",
       "      <td>...</td>\n",
       "    </tr>\n",
       "    <tr>\n",
       "      <th>ctarjeta_visa_debitos_automaticos</th>\n",
       "      <td>0.000000</td>\n",
       "      <td>0.000000</td>\n",
       "      <td>0.000000</td>\n",
       "    </tr>\n",
       "    <tr>\n",
       "      <th>mttarjeta_visa_debitos_automaticos</th>\n",
       "      <td>0.000000</td>\n",
       "      <td>0.000000</td>\n",
       "      <td>0.000000</td>\n",
       "    </tr>\n",
       "    <tr>\n",
       "      <th>ctarjeta_master_debitos_automaticos</th>\n",
       "      <td>0.000000</td>\n",
       "      <td>0.000000</td>\n",
       "      <td>0.000000</td>\n",
       "    </tr>\n",
       "    <tr>\n",
       "      <th>mttarjeta_master_debitos_automaticos</th>\n",
       "      <td>0.000000</td>\n",
       "      <td>0.000000</td>\n",
       "      <td>0.000000</td>\n",
       "    </tr>\n",
       "    <tr>\n",
       "      <th>mpayroll</th>\n",
       "      <td>0.000000</td>\n",
       "      <td>0.000000</td>\n",
       "      <td>0.000000</td>\n",
       "    </tr>\n",
       "  </tbody>\n",
       "</table>\n",
       "<p>155 rows × 3 columns</p>\n",
       "</div>"
      ],
      "text/plain": [
       "                                      Train Null Percentage  \\\n",
       "clase_ternaria                                     0.000000   \n",
       "Master_mconsumototal                              59.707968   \n",
       "Master_mpagosdolares                              59.707968   \n",
       "Master_mpagospesos                                59.707968   \n",
       "Master_cconsumos                                  59.707968   \n",
       "...                                                     ...   \n",
       "ctarjeta_visa_debitos_automaticos                  0.000000   \n",
       "mttarjeta_visa_debitos_automaticos                 0.000000   \n",
       "ctarjeta_master_debitos_automaticos                0.000000   \n",
       "mttarjeta_master_debitos_automaticos               0.000000   \n",
       "mpayroll                                           0.000000   \n",
       "\n",
       "                                      Score Null Percentage        diff  \n",
       "clase_ternaria                                   100.000000  100.000000  \n",
       "Master_mconsumototal                              58.356403    1.351565  \n",
       "Master_mpagosdolares                              58.356403    1.351565  \n",
       "Master_mpagospesos                                58.356403    1.351565  \n",
       "Master_cconsumos                                  58.356403    1.351565  \n",
       "...                                                     ...         ...  \n",
       "ctarjeta_visa_debitos_automaticos                  0.000000    0.000000  \n",
       "mttarjeta_visa_debitos_automaticos                 0.000000    0.000000  \n",
       "ctarjeta_master_debitos_automaticos                0.000000    0.000000  \n",
       "mttarjeta_master_debitos_automaticos               0.000000    0.000000  \n",
       "mpayroll                                           0.000000    0.000000  \n",
       "\n",
       "[155 rows x 3 columns]"
      ]
     },
     "execution_count": 24,
     "metadata": {},
     "output_type": "execute_result"
    }
   ],
   "source": [
    "#a. Evaluamos.\n",
    "train_data = data[data['foto_mes'].isin(mes_train)]\n",
    "score_data = data[data['foto_mes'] == mes_test]\n",
    "\n",
    "train_null_percentage = train_data.isnull().mean() * 100\n",
    "score_null_percentage = score_data.isnull().mean() * 100\n",
    "\n",
    "comparison_df = pd.DataFrame({'Train Null Percentage': train_null_percentage, 'Score Null Percentage': score_null_percentage})\n",
    "comparison_df['diff'] = (comparison_df['Score Null Percentage'] - comparison_df['Train Null Percentage']).abs()\n",
    "\n",
    "comparison_df_sorted = comparison_df.sort_values('diff', ascending=False)\n",
    "\n",
    "comparison_df_sorted"
   ]
  },
  {
   "cell_type": "markdown",
   "metadata": {},
   "source": [
    "#### 2. Valores 0."
   ]
  },
  {
   "cell_type": "code",
   "execution_count": null,
   "metadata": {},
   "outputs": [
    {
     "data": {
      "text/html": [
       "<div>\n",
       "<style scoped>\n",
       "    .dataframe tbody tr th:only-of-type {\n",
       "        vertical-align: middle;\n",
       "    }\n",
       "\n",
       "    .dataframe tbody tr th {\n",
       "        vertical-align: top;\n",
       "    }\n",
       "\n",
       "    .dataframe thead th {\n",
       "        text-align: right;\n",
       "    }\n",
       "</style>\n",
       "<table border=\"1\" class=\"dataframe\">\n",
       "  <thead>\n",
       "    <tr style=\"text-align: right;\">\n",
       "      <th></th>\n",
       "      <th>Train Zero Percentage</th>\n",
       "      <th>Score Zero Percentage</th>\n",
       "      <th>diff_zero_percentage</th>\n",
       "    </tr>\n",
       "  </thead>\n",
       "  <tbody>\n",
       "    <tr>\n",
       "      <th>Master_fultimo_cierre</th>\n",
       "      <td>11.567439</td>\n",
       "      <td>0.000000</td>\n",
       "      <td>11.567439</td>\n",
       "    </tr>\n",
       "    <tr>\n",
       "      <th>Visa_fultimo_cierre</th>\n",
       "      <td>11.557051</td>\n",
       "      <td>0.000000</td>\n",
       "      <td>11.557051</td>\n",
       "    </tr>\n",
       "    <tr>\n",
       "      <th>Visa_mpagado</th>\n",
       "      <td>80.493632</td>\n",
       "      <td>69.013914</td>\n",
       "      <td>11.479718</td>\n",
       "    </tr>\n",
       "    <tr>\n",
       "      <th>cmobile_app_trx</th>\n",
       "      <td>28.251859</td>\n",
       "      <td>20.980767</td>\n",
       "      <td>7.271092</td>\n",
       "    </tr>\n",
       "    <tr>\n",
       "      <th>mtransferencias_emitidas</th>\n",
       "      <td>40.924756</td>\n",
       "      <td>37.012971</td>\n",
       "      <td>3.911784</td>\n",
       "    </tr>\n",
       "    <tr>\n",
       "      <th>...</th>\n",
       "      <td>...</td>\n",
       "      <td>...</td>\n",
       "      <td>...</td>\n",
       "    </tr>\n",
       "    <tr>\n",
       "      <th>Visa_Fvencimiento</th>\n",
       "      <td>0.000000</td>\n",
       "      <td>0.000000</td>\n",
       "      <td>0.000000</td>\n",
       "    </tr>\n",
       "    <tr>\n",
       "      <th>tcuentas</th>\n",
       "      <td>0.000000</td>\n",
       "      <td>0.000000</td>\n",
       "      <td>0.000000</td>\n",
       "    </tr>\n",
       "    <tr>\n",
       "      <th>foto_mes</th>\n",
       "      <td>0.000000</td>\n",
       "      <td>0.000000</td>\n",
       "      <td>0.000000</td>\n",
       "    </tr>\n",
       "    <tr>\n",
       "      <th>numero_de_cliente</th>\n",
       "      <td>0.000000</td>\n",
       "      <td>0.000000</td>\n",
       "      <td>0.000000</td>\n",
       "    </tr>\n",
       "    <tr>\n",
       "      <th>clase_ternaria</th>\n",
       "      <td>0.000000</td>\n",
       "      <td>0.000000</td>\n",
       "      <td>0.000000</td>\n",
       "    </tr>\n",
       "  </tbody>\n",
       "</table>\n",
       "<p>155 rows × 3 columns</p>\n",
       "</div>"
      ],
      "text/plain": [
       "                          Train Zero Percentage  Score Zero Percentage  \\\n",
       "Master_fultimo_cierre                 11.567439               0.000000   \n",
       "Visa_fultimo_cierre                   11.557051               0.000000   \n",
       "Visa_mpagado                          80.493632              69.013914   \n",
       "cmobile_app_trx                       28.251859              20.980767   \n",
       "mtransferencias_emitidas              40.924756              37.012971   \n",
       "...                                         ...                    ...   \n",
       "Visa_Fvencimiento                      0.000000               0.000000   \n",
       "tcuentas                               0.000000               0.000000   \n",
       "foto_mes                               0.000000               0.000000   \n",
       "numero_de_cliente                      0.000000               0.000000   \n",
       "clase_ternaria                         0.000000               0.000000   \n",
       "\n",
       "                          diff_zero_percentage  \n",
       "Master_fultimo_cierre                11.567439  \n",
       "Visa_fultimo_cierre                  11.557051  \n",
       "Visa_mpagado                         11.479718  \n",
       "cmobile_app_trx                       7.271092  \n",
       "mtransferencias_emitidas              3.911784  \n",
       "...                                        ...  \n",
       "Visa_Fvencimiento                     0.000000  \n",
       "tcuentas                              0.000000  \n",
       "foto_mes                              0.000000  \n",
       "numero_de_cliente                     0.000000  \n",
       "clase_ternaria                        0.000000  \n",
       "\n",
       "[155 rows x 3 columns]"
      ]
     },
     "execution_count": 26,
     "metadata": {},
     "output_type": "execute_result"
    }
   ],
   "source": [
    "#a. Evaluamos.\n",
    "train_zero_percentage = (train_data == 0).mean() * 100\n",
    "score_zero_percentage = (score_data == 0).mean() * 100\n",
    "\n",
    "comparison_df_zero = pd.DataFrame({'Train Zero Percentage': train_zero_percentage, 'Score Zero Percentage': score_zero_percentage})\n",
    "\n",
    "comparison_df_zero['diff_zero_percentage'] = (comparison_df_zero['Score Zero Percentage'] - comparison_df_zero['Train Zero Percentage']).abs()\n",
    "diff_zero_percentage_sorted = comparison_df_zero.sort_values('diff_zero_percentage',ascending=False)"
   ]
  },
  {
   "cell_type": "code",
   "execution_count": null,
   "metadata": {},
   "outputs": [
    {
     "name": "stderr",
     "output_type": "stream",
     "text": [
      "/tmp/ipykernel_2547/3055451641.py:5: SettingWithCopyWarning: \n",
      "A value is trying to be set on a copy of a slice from a DataFrame\n",
      "\n",
      "See the caveats in the documentation: https://pandas.pydata.org/pandas-docs/stable/user_guide/indexing.html#returning-a-view-versus-a-copy\n",
      "  train_data.drop(cols_eliminar,axis=1,inplace=True)\n",
      "/tmp/ipykernel_2547/3055451641.py:6: SettingWithCopyWarning: \n",
      "A value is trying to be set on a copy of a slice from a DataFrame\n",
      "\n",
      "See the caveats in the documentation: https://pandas.pydata.org/pandas-docs/stable/user_guide/indexing.html#returning-a-view-versus-a-copy\n",
      "  score_data.drop(cols_eliminar,axis=1,inplace=True)\n"
     ]
    }
   ],
   "source": [
    "#b. Decidimos eliminar aquellas columnas con un gran cambio en la cantidad de 0 en el mes test.\n",
    "cols_eliminar = list(diff_zero_percentage_sorted[(diff_zero_percentage_sorted[\"diff_zero_percentage\"] > 5)&(diff_zero_percentage_sorted[\"Score Zero Percentage\"]>diff_zero_percentage_sorted[\"Train Zero Percentage\"])].index())\n",
    "data.drop(cols_eliminar,axis=1,inplace=True)\n",
    "\n",
    "train_data.drop(cols_eliminar,axis=1,inplace=True)\n",
    "score_data.drop(cols_eliminar,axis=1,inplace=True)"
   ]
  },
  {
   "cell_type": "markdown",
   "metadata": {},
   "source": [
    "#### 3. Valores <0."
   ]
  },
  {
   "cell_type": "code",
   "execution_count": 28,
   "metadata": {},
   "outputs": [
    {
     "data": {
      "text/html": [
       "<div>\n",
       "<style scoped>\n",
       "    .dataframe tbody tr th:only-of-type {\n",
       "        vertical-align: middle;\n",
       "    }\n",
       "\n",
       "    .dataframe tbody tr th {\n",
       "        vertical-align: top;\n",
       "    }\n",
       "\n",
       "    .dataframe thead th {\n",
       "        text-align: right;\n",
       "    }\n",
       "</style>\n",
       "<table border=\"1\" class=\"dataframe\">\n",
       "  <thead>\n",
       "    <tr style=\"text-align: right;\">\n",
       "      <th></th>\n",
       "      <th>Train Negative Percentage</th>\n",
       "      <th>Score Negative Percentage</th>\n",
       "      <th>diff_negative_percentage</th>\n",
       "    </tr>\n",
       "  </thead>\n",
       "  <tbody>\n",
       "    <tr>\n",
       "      <th>Master_Finiciomora</th>\n",
       "      <td>0.002444</td>\n",
       "      <td>0.000000</td>\n",
       "      <td>0.002444</td>\n",
       "    </tr>\n",
       "    <tr>\n",
       "      <th>Master_msaldototal</th>\n",
       "      <td>0.004379</td>\n",
       "      <td>0.003627</td>\n",
       "      <td>0.000752</td>\n",
       "    </tr>\n",
       "    <tr>\n",
       "      <th>Master_msaldopesos</th>\n",
       "      <td>0.004277</td>\n",
       "      <td>0.003627</td>\n",
       "      <td>0.000651</td>\n",
       "    </tr>\n",
       "    <tr>\n",
       "      <th>mactivos_margen</th>\n",
       "      <td>0.001731</td>\n",
       "      <td>0.001209</td>\n",
       "      <td>0.000522</td>\n",
       "    </tr>\n",
       "    <tr>\n",
       "      <th>mrentabilidad</th>\n",
       "      <td>0.000102</td>\n",
       "      <td>0.000604</td>\n",
       "      <td>0.000503</td>\n",
       "    </tr>\n",
       "    <tr>\n",
       "      <th>...</th>\n",
       "      <td>...</td>\n",
       "      <td>...</td>\n",
       "      <td>...</td>\n",
       "    </tr>\n",
       "    <tr>\n",
       "      <th>cpayroll2_trx</th>\n",
       "      <td>0.000000</td>\n",
       "      <td>0.000000</td>\n",
       "      <td>0.000000</td>\n",
       "    </tr>\n",
       "    <tr>\n",
       "      <th>ccuenta_debitos_automaticos</th>\n",
       "      <td>0.000000</td>\n",
       "      <td>0.000000</td>\n",
       "      <td>0.000000</td>\n",
       "    </tr>\n",
       "    <tr>\n",
       "      <th>mcuenta_debitos_automaticos</th>\n",
       "      <td>0.000000</td>\n",
       "      <td>0.000000</td>\n",
       "      <td>0.000000</td>\n",
       "    </tr>\n",
       "    <tr>\n",
       "      <th>ctarjeta_visa_debitos_automaticos</th>\n",
       "      <td>0.000000</td>\n",
       "      <td>0.000000</td>\n",
       "      <td>0.000000</td>\n",
       "    </tr>\n",
       "    <tr>\n",
       "      <th>cseguro_vivienda</th>\n",
       "      <td>0.000000</td>\n",
       "      <td>0.000000</td>\n",
       "      <td>0.000000</td>\n",
       "    </tr>\n",
       "  </tbody>\n",
       "</table>\n",
       "<p>151 rows × 3 columns</p>\n",
       "</div>"
      ],
      "text/plain": [
       "                                   Train Negative Percentage  \\\n",
       "Master_Finiciomora                                  0.002444   \n",
       "Master_msaldototal                                  0.004379   \n",
       "Master_msaldopesos                                  0.004277   \n",
       "mactivos_margen                                     0.001731   \n",
       "mrentabilidad                                       0.000102   \n",
       "...                                                      ...   \n",
       "cpayroll2_trx                                       0.000000   \n",
       "ccuenta_debitos_automaticos                         0.000000   \n",
       "mcuenta_debitos_automaticos                         0.000000   \n",
       "ctarjeta_visa_debitos_automaticos                   0.000000   \n",
       "cseguro_vivienda                                    0.000000   \n",
       "\n",
       "                                   Score Negative Percentage  \\\n",
       "Master_Finiciomora                                  0.000000   \n",
       "Master_msaldototal                                  0.003627   \n",
       "Master_msaldopesos                                  0.003627   \n",
       "mactivos_margen                                     0.001209   \n",
       "mrentabilidad                                       0.000604   \n",
       "...                                                      ...   \n",
       "cpayroll2_trx                                       0.000000   \n",
       "ccuenta_debitos_automaticos                         0.000000   \n",
       "mcuenta_debitos_automaticos                         0.000000   \n",
       "ctarjeta_visa_debitos_automaticos                   0.000000   \n",
       "cseguro_vivienda                                    0.000000   \n",
       "\n",
       "                                   diff_negative_percentage  \n",
       "Master_Finiciomora                                 0.002444  \n",
       "Master_msaldototal                                 0.000752  \n",
       "Master_msaldopesos                                 0.000651  \n",
       "mactivos_margen                                    0.000522  \n",
       "mrentabilidad                                      0.000503  \n",
       "...                                                     ...  \n",
       "cpayroll2_trx                                      0.000000  \n",
       "ccuenta_debitos_automaticos                        0.000000  \n",
       "mcuenta_debitos_automaticos                        0.000000  \n",
       "ctarjeta_visa_debitos_automaticos                  0.000000  \n",
       "cseguro_vivienda                                   0.000000  \n",
       "\n",
       "[151 rows x 3 columns]"
      ]
     },
     "execution_count": 28,
     "metadata": {},
     "output_type": "execute_result"
    }
   ],
   "source": [
    "#a. Evaluamos.\n",
    "train_negative_percentage = (train_data == -1).mean() * 100\n",
    "score_negative_percentage = (score_data == -1).mean() * 100\n",
    "\n",
    "comparison_df_zero = pd.DataFrame({'Train Negative Percentage': train_negative_percentage, 'Score Negative Percentage': score_negative_percentage})\n",
    "\n",
    "comparison_df_zero['diff_negative_percentage'] = (comparison_df_zero['Score Negative Percentage'] - comparison_df_zero['Train Negative Percentage']).abs()\n",
    "diff_negative_percentage_sorted = comparison_df_zero.sort_values('diff_negative_percentage',ascending=False)\n",
    "\n",
    "diff_negative_percentage_sorted"
   ]
  },
  {
   "cell_type": "markdown",
   "metadata": {},
   "source": [
    "#### 4. Valores duplicados."
   ]
  },
  {
   "cell_type": "code",
   "execution_count": null,
   "metadata": {},
   "outputs": [
    {
     "name": "stdout",
     "output_type": "stream",
     "text": [
      "Train tiene 0 valores duplicados\n",
      "Test tiene 0 valores duplicados\n"
     ]
    }
   ],
   "source": [
    "#a. Verifico.\n",
    "print(\"Train tiene {} valores duplicados\".format(train_data.duplicated().sum()))\n",
    "print(\"Test tiene {} valores duplicados\".format(score_data.duplicated().sum()))"
   ]
  },
  {
   "cell_type": "markdown",
   "metadata": {},
   "source": [
    "## C. Data Drifting."
   ]
  },
  {
   "cell_type": "code",
   "execution_count": 32,
   "metadata": {},
   "outputs": [
    {
     "name": "stderr",
     "output_type": "stream",
     "text": [
      "/tmp/ipykernel_2547/3157422034.py:7: RuntimeWarning: divide by zero encountered in log\n",
      "  result = (actual_prop - expected_prop) * np.log(actual_prop / expected_prop)\n"
     ]
    }
   ],
   "source": [
    "#1. Aplicamos PSI a casi todas las variables, excepto las de no interés.\n",
    "psi_results = []\n",
    "for column in train_data.columns:\n",
    "  if column not in ['foto_mes','numero_de_cliente','clase_ternaria']:\n",
    "    train_variable = train_data[column]\n",
    "    score_variable = score_data[column]\n",
    "    psi_value = psi(train_variable, score_variable)\n",
    "    psi_results.append({'feature': column, 'psi': psi_value})\n",
    "\n",
    "psi_df = pd.DataFrame(psi_results)\n",
    "psi_df = psi_df.sort_values('psi', ascending=False)"
   ]
  },
  {
   "cell_type": "code",
   "execution_count": null,
   "metadata": {},
   "outputs": [
    {
     "data": {
      "text/html": [
       "<div>\n",
       "<style scoped>\n",
       "    .dataframe tbody tr th:only-of-type {\n",
       "        vertical-align: middle;\n",
       "    }\n",
       "\n",
       "    .dataframe tbody tr th {\n",
       "        vertical-align: top;\n",
       "    }\n",
       "\n",
       "    .dataframe thead th {\n",
       "        text-align: right;\n",
       "    }\n",
       "</style>\n",
       "<table border=\"1\" class=\"dataframe\">\n",
       "  <thead>\n",
       "    <tr style=\"text-align: right;\">\n",
       "      <th></th>\n",
       "      <th>feature</th>\n",
       "      <th>psi</th>\n",
       "    </tr>\n",
       "  </thead>\n",
       "  <tbody>\n",
       "    <tr>\n",
       "      <th>111</th>\n",
       "      <td>Master_Finiciomora</td>\n",
       "      <td>inf</td>\n",
       "    </tr>\n",
       "    <tr>\n",
       "      <th>132</th>\n",
       "      <td>Visa_Finiciomora</td>\n",
       "      <td>0.622660</td>\n",
       "    </tr>\n",
       "    <tr>\n",
       "      <th>110</th>\n",
       "      <td>Master_Fvencimiento</td>\n",
       "      <td>0.130568</td>\n",
       "    </tr>\n",
       "  </tbody>\n",
       "</table>\n",
       "</div>"
      ],
      "text/plain": [
       "                 feature       psi\n",
       "111   Master_Finiciomora       inf\n",
       "132     Visa_Finiciomora  0.622660\n",
       "110  Master_Fvencimiento  0.130568"
      ]
     },
     "execution_count": 33,
     "metadata": {},
     "output_type": "execute_result"
    }
   ],
   "source": [
    "#2. Observamos variables con PSI >= 0.1 (casos a atender).\n",
    "psi_df[psi_df[\"psi\"] > 0.1][\"feature\"]"
   ]
  },
  {
   "cell_type": "code",
   "execution_count": null,
   "metadata": {},
   "outputs": [
    {
     "name": "stderr",
     "output_type": "stream",
     "text": [
      "/tmp/ipykernel_2547/1238236985.py:5: SettingWithCopyWarning: \n",
      "A value is trying to be set on a copy of a slice from a DataFrame\n",
      "\n",
      "See the caveats in the documentation: https://pandas.pydata.org/pandas-docs/stable/user_guide/indexing.html#returning-a-view-versus-a-copy\n",
      "  train_data.drop(cols_eliminar,axis=1,inplace=True)\n",
      "/tmp/ipykernel_2547/1238236985.py:6: SettingWithCopyWarning: \n",
      "A value is trying to be set on a copy of a slice from a DataFrame\n",
      "\n",
      "See the caveats in the documentation: https://pandas.pydata.org/pandas-docs/stable/user_guide/indexing.html#returning-a-view-versus-a-copy\n",
      "  score_data.drop(cols_eliminar,axis=1,inplace=True)\n"
     ]
    }
   ],
   "source": [
    "#3. Elimino las columnas con un PSI alto.\n",
    "cols_eliminar = list(psi_df[psi_df[\"psi\"] > 0.1][\"feature\"])\n",
    "data.drop(cols_eliminar,axis=1,inplace=True)\n",
    "\n",
    "train_data.drop(cols_eliminar,axis=1,inplace=True)\n",
    "score_data.drop(cols_eliminar,axis=1,inplace=True)"
   ]
  },
  {
   "cell_type": "markdown",
   "metadata": {},
   "source": [
    "## D. Ajustes por inflación."
   ]
  },
  {
   "cell_type": "code",
   "execution_count": null,
   "metadata": {},
   "outputs": [],
   "source": [
    "#1. Defino los campos que voy a ajustar por inflación.\n",
    "campos_monetarios = [col for col in data.columns if col.startswith(('m', 'Visa_m', 'Master_m', 'vm_m'))]"
   ]
  },
  {
   "cell_type": "code",
   "execution_count": null,
   "metadata": {},
   "outputs": [
    {
     "name": "stdout",
     "output_type": "stream",
     "text": [
      "inicio drift_deflacion()\n",
      "fin drift_deflacion()\n"
     ]
    }
   ],
   "source": [
    "#2. Le aplico la inflación a todas ellas.\n",
    "data = drift_deflacion(data, campos_monetarios, tb_indices)"
   ]
  },
  {
   "cell_type": "markdown",
   "metadata": {},
   "source": [
    "## E. Exportación."
   ]
  },
  {
   "cell_type": "code",
   "execution_count": null,
   "metadata": {},
   "outputs": [],
   "source": [
    "#1. Exportación propiamente dicha.\n",
    "data.to_csv(dataset_output,index=False)"
   ]
  }
 ],
 "metadata": {
  "kernelspec": {
   "display_name": "Python 3 (ipykernel)",
   "language": "python",
   "name": "python3"
  },
  "language_info": {
   "codemirror_mode": {
    "name": "ipython",
    "version": 3
   },
   "file_extension": ".py",
   "mimetype": "text/x-python",
   "name": "python",
   "nbconvert_exporter": "python",
   "pygments_lexer": "ipython3",
   "version": "3.12.3"
  }
 },
 "nbformat": 4,
 "nbformat_minor": 4
}
