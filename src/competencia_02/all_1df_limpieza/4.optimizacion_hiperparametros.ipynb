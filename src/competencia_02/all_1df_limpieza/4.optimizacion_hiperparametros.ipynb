{
 "cells": [
  {
   "cell_type": "markdown",
   "metadata": {},
   "source": [
    "## A. Configuración General."
   ]
  },
  {
   "cell_type": "code",
   "execution_count": null,
   "metadata": {},
   "outputs": [
    {
     "name": "stderr",
     "output_type": "stream",
     "text": [
      "c:\\Users\\c678456\\AppData\\Local\\anaconda3\\envs\\dmeyf\\Lib\\site-packages\\tqdm\\auto.py:21: TqdmWarning: IProgress not found. Please update jupyter and ipywidgets. See https://ipywidgets.readthedocs.io/en/stable/user_install.html\n",
      "  from .autonotebook import tqdm as notebook_tqdm\n"
     ]
    }
   ],
   "source": [
    "#1. Librerías.\n",
    "%run \"../librerias.ipynb\""
   ]
  },
  {
   "cell_type": "code",
   "execution_count": null,
   "metadata": {},
   "outputs": [],
   "source": [
    "#2. Constantes.\n",
    "%run \"../constantes.ipynb\"\n",
    "\n",
    "dataset_con_fe = dataset_file_fe_all_1_limpieza\n",
    "\n",
    "cantidad_meses_train = \"all\"\n",
    "ventana = 1\n",
    "\n",
    "mes_train = mes_train_all_menos_1\n",
    "mes_test = mes_test"
   ]
  },
  {
   "cell_type": "code",
   "execution_count": null,
   "metadata": {},
   "outputs": [],
   "source": [
    "#3. Funciones\n",
    "%run \"../funciones.ipynb\""
   ]
  },
  {
   "cell_type": "code",
   "execution_count": null,
   "metadata": {},
   "outputs": [],
   "source": [
    "#4. Lectura de datos.\n",
    "data = pd.read_parquet(dataset_con_fe)"
   ]
  },
  {
   "cell_type": "code",
   "execution_count": null,
   "metadata": {},
   "outputs": [],
   "source": [
    "#5. Pequeño pre-procesamiento sobre los datos.\n",
    "#i. Cambio tipos de datos (Me lo toma como tipo de dato \"object\"...)\n",
    "data['ctrx_quarter_normalizado'] = data['ctrx_quarter_normalizado'].astype(float)\n",
    "#ii. Elimino columnas de último momento por Data Concept.\n",
    "columnas_de_interes_prestamos = data.filter(like='prestamos_personales').columns\n",
    "data.drop(columnas_de_interes_prestamos,axis=1,inplace=True)\n",
    "#iii. Pesos y reclusterización.\n",
    "data['clase_peso'] = 1.0\n",
    "\n",
    "data.loc[data['clase_ternaria'] == 'BAJA+2', 'clase_peso'] = 1.00002\n",
    "data.loc[data['clase_ternaria'] == 'BAJA+1', 'clase_peso'] = 1.00001\n",
    "\n",
    "data['clase_binaria2'] = 0\n",
    "data['clase_binaria2'] = np.where(data['clase_ternaria'] == 'CONTINUA', 0, 1)"
   ]
  },
  {
   "cell_type": "code",
   "execution_count": null,
   "metadata": {},
   "outputs": [],
   "source": [
    "#iv. Divido entre Train y Test.\n",
    "train_data = data[data['foto_mes'].isin(mes_train)]\n",
    "test_data = data[data['foto_mes'] == mes_test]"
   ]
  },
  {
   "cell_type": "code",
   "execution_count": null,
   "metadata": {},
   "outputs": [],
   "source": [
    "#v. Undersampleo.\n",
    "#a. Filtramos las clases.\n",
    "continua_train = train_data[(train_data['clase_binaria2'] == 0)]\n",
    "baja_train = train_data[(train_data['clase_binaria2'] == 1)]\n",
    "\n",
    "#b. Lista para almacenar los datos submuestreados.\n",
    "continua_undersampleados = []\n",
    "\n",
    "#c. Iteramos sobre cada mes para submuestrear.\n",
    "for mes in continua_train['foto_mes'].unique():\n",
    "    #1. Filtramos los datos de la clase mayoritaria para el mes específico.\n",
    "    continua_mes_seleccionado = continua_train[continua_train['foto_mes'] == mes]\n",
    "    \n",
    "    #2. Calculamos el tamaño objetivo para el undersampling (30%).\n",
    "    n_samples = int(len(continua_mes_seleccionado) * 0.3)\n",
    "    \n",
    "    #3. Submuestreamos las instancias de la clase mayoritaria para este mes\n",
    "    continua_mes_seleccionado_undersampleados = resample(continua_mes_seleccionado, \n",
    "                                        replace=False, \n",
    "                                        n_samples=n_samples, \n",
    "                                        random_state=semillas[0])\n",
    "    \n",
    "    #4. Agregamos los datos submuestreados a la lista\n",
    "    continua_undersampleados.append(continua_mes_seleccionado_undersampleados)\n",
    "\n",
    "#d. Concatenamos todos los meses submuestreados en un solo DataFrame\n",
    "continua_undersampleados = pd.concat(continua_undersampleados)\n",
    "\n",
    "#e. Concatenamos la clase mayoritaria submuestreada con la clase minoritaria completa\n",
    "train_undersampleado = pd.concat([continua_undersampleados, baja_train])"
   ]
  },
  {
   "cell_type": "code",
   "execution_count": null,
   "metadata": {},
   "outputs": [],
   "source": [
    "#vi. Separar en X e y después del undersampling.\n",
    "#a. Datos para optimizar Optuna.\n",
    "X_train_undersampleado = train_undersampleado.drop(['clase_ternaria', 'clase_peso', 'clase_binaria2'], axis=1)\n",
    "y_train_binaria2_undersampleado = train_undersampleado['clase_binaria2']\n",
    "w_train_undersampleado = train_undersampleado['clase_peso']\n",
    "\n",
    "#b. Datos para entrenar todo el modelo final para Kaggle.\n",
    "X_train = train_data.drop(['clase_ternaria', 'clase_peso','clase_binaria2'], axis=1)\n",
    "y_train_binaria2 = train_data['clase_binaria2']\n",
    "w_train = train_data['clase_peso']\n",
    "\n",
    "#c. Datos de Test (a predecir).\n",
    "X_test = test_data.drop(['clase_ternaria', 'clase_peso','clase_binaria2'], axis=1)"
   ]
  },
  {
   "cell_type": "markdown",
   "metadata": {},
   "source": [
    "## B. Optimización Hiperparámetros (OH) con cantidad_meses_train meses con df -ventana con ratios incluidos."
   ]
  },
  {
   "cell_type": "code",
   "execution_count": null,
   "metadata": {},
   "outputs": [],
   "source": [
    "#1. Funcion de optimización de hiperparámetros.\n",
    "def objective(trial): \n",
    "    # Rango de parámetros a buscar sus valores óptimos.\n",
    "    num_leaves = trial.suggest_int('num_leaves', 10, 200)\n",
    "    learning_rate = trial.suggest_float('learning_rate', 0.005, 0.3) # mas bajo, más iteraciones necesita.\n",
    "    min_data_in_leaf = trial.suggest_int('min_data_in_leaf', 15, 900)\n",
    "    feature_fraction = trial.suggest_float('feature_fraction', 0.1, 1.0)\n",
    "    bagging_fraction = trial.suggest_float('bagging_fraction', 0.1, 1.0)\n",
    "\n",
    "\n",
    "    # Parámetros que le voy a pasar al modelo.\n",
    "    params = {\n",
    "        'objective': 'binary',\n",
    "        'metric': 'custom',\n",
    "        'boosting_type': 'gbdt',\n",
    "        'first_metric_only': True,\n",
    "        'boost_from_average': True,\n",
    "        'feature_pre_filter': False,\n",
    "        'max_bin': 31,\n",
    "        'num_leaves': num_leaves,\n",
    "        'learning_rate': learning_rate,\n",
    "        'min_data_in_leaf': min_data_in_leaf,\n",
    "        'feature_fraction': feature_fraction,\n",
    "        'bagging_fraction': bagging_fraction,\n",
    "        'seed': semillas[0],\n",
    "        'verbose': -1\n",
    "    }\n",
    "    \n",
    "    # Creo el dataset para Light GBM.\n",
    "    train_data_ob = lgb.Dataset(X_train_undersampleado,\n",
    "                              label=y_train_binaria2_undersampleado, # eligir la clase\n",
    "                              weight=w_train_undersampleado)\n",
    "    \n",
    "    # Entreno.\n",
    "    cv_results = lgb.cv(\n",
    "        params,\n",
    "        train_data_ob,\n",
    "        num_boost_round=1000, # modificar, subit y subir... y descomentar la línea inferior\n",
    "        callbacks=[lgb.early_stopping(int(50 + 5 / learning_rate))],\n",
    "        feval=lgb_gan_eval,\n",
    "        stratified=True,\n",
    "        nfold=5,\n",
    "        seed=semillas[0]\n",
    "    )\n",
    "    \n",
    "    # Calculo la ganancia máxima y la mejor iteración donde se obtuvo dicha ganancia.\n",
    "    max_gan = max(cv_results['valid gan_eval-mean'])\n",
    "    best_iter = cv_results['valid gan_eval-mean'].index(max_gan) + 1\n",
    "\n",
    "    # Guardamos cual es la mejor iteración del modelo\n",
    "    trial.set_user_attr(\"best_iter\", best_iter)\n",
    "\n",
    "    return max_gan * 5"
   ]
  },
  {
   "cell_type": "code",
   "execution_count": null,
   "metadata": {},
   "outputs": [],
   "source": [
    "#2. Voy a realizar un estudio de Optuna para encontrar los mejores parámetros.\n",
    "#i. Creo la base de datos donde guardar los resultados.\n",
    "storage_name = \"sqlite:///\" + db_path + \"optimization_lgbm.db\"\n",
    "\n",
    "study_name = f\"exp_lgbm_{cantidad_meses_train}_{ventana}_undersampling_limpieza\" # Primer dígito cuantos meses para atrás desde 06/21, segundo dígito número data drifting.\n",
    "\n",
    "#ii. Creo el estudio.\n",
    "study = optuna.create_study(\n",
    "    direction=\"maximize\",\n",
    "    study_name=study_name,\n",
    "    storage=storage_name,\n",
    "    load_if_exists=True,\n",
    ")\n",
    "\n",
    "#iii. Corro el estudio.\n",
    "study.optimize(objective, n_trials=100)"
   ]
  },
  {
   "cell_type": "code",
   "execution_count": 10,
   "metadata": {},
   "outputs": [],
   "source": [
    "#4. Visualizo los resultados del estudio, para modificar los rangos de análisis."
   ]
  },
  {
   "cell_type": "code",
   "execution_count": null,
   "metadata": {},
   "outputs": [],
   "source": [
    "optuna.visualization.plot_optimization_history(study)"
   ]
  },
  {
   "cell_type": "code",
   "execution_count": null,
   "metadata": {},
   "outputs": [],
   "source": [
    "plot_param_importances(study)"
   ]
  },
  {
   "cell_type": "code",
   "execution_count": null,
   "metadata": {},
   "outputs": [],
   "source": [
    "plot_slice(study)"
   ]
  },
  {
   "cell_type": "code",
   "execution_count": null,
   "metadata": {},
   "outputs": [],
   "source": [
    "plot_contour(study)"
   ]
  },
  {
   "cell_type": "code",
   "execution_count": null,
   "metadata": {},
   "outputs": [],
   "source": [
    "plot_contour(study, params=['num_leaves','min_data_in_leaf'] )"
   ]
  },
  {
   "cell_type": "code",
   "execution_count": null,
   "metadata": {},
   "outputs": [],
   "source": [
    "study.best_trial.params"
   ]
  },
  {
   "cell_type": "markdown",
   "metadata": {},
   "source": [
    "## C. Entrenamiento con mejos Hiperparámetros."
   ]
  },
  {
   "cell_type": "code",
   "execution_count": null,
   "metadata": {},
   "outputs": [],
   "source": [
    "#1. Tomamos el mejor modelo y con eso entrenamos todos los datos.\n",
    "best_iter = study.best_trial.user_attrs[\"best_iter\"]\n",
    "print(f\"Mejor cantidad de árboles para el mejor model {best_iter}\")\n",
    "params = {\n",
    "    'objective': 'binary',\n",
    "    'boosting_type': 'gbdt',\n",
    "    'first_metric_only': True,\n",
    "    'boost_from_average': True,\n",
    "    'feature_pre_filter': False,\n",
    "    'max_bin': 31,\n",
    "    'num_leaves': study.best_trial.params['num_leaves'],\n",
    "    'learning_rate': study.best_trial.params['learning_rate'],\n",
    "    'min_data_in_leaf': study.best_trial.params['min_data_in_leaf'],\n",
    "    'feature_fraction': study.best_trial.params['feature_fraction'],\n",
    "    'bagging_fraction': study.best_trial.params['bagging_fraction'],\n",
    "    'seed': semillas[0],\n",
    "    'verbose': 0\n",
    "}\n",
    "\n",
    "train_data_modelo = lgb.Dataset(X_train,\n",
    "                          label=y_train_binaria2,\n",
    "                          weight=w_train)\n",
    "\n",
    "model_lgb = lgb.train(params,\n",
    "                  train_data_modelo,\n",
    "                  num_boost_round=best_iter)"
   ]
  },
  {
   "cell_type": "code",
   "execution_count": null,
   "metadata": {},
   "outputs": [],
   "source": [
    "#2. Observamos las variables más importantes para el modelo.\n",
    "#i. Gráfico.\n",
    "lgb.plot_importance(model_lgb, figsize=(10, 20))\n",
    "plt.show()"
   ]
  },
  {
   "cell_type": "code",
   "execution_count": null,
   "metadata": {},
   "outputs": [],
   "source": [
    "#ii. Dataframe.\n",
    "#a. Extract feature importance and feature names.\n",
    "importance = model_lgb.feature_importance()\n",
    "features = model_lgb.feature_name()\n",
    "\n",
    "#b. Create a dataframe for better visualization.\n",
    "importance_df = pd.DataFrame({'Feature': features, 'Importance': importance})\n",
    "\n",
    "#c. Sort by importance in descending order.\n",
    "importance_df = importance_df.sort_values(by='Importance', ascending=False).reset_index(drop=True)\n",
    "\n",
    "#d. show.\n",
    "importance_df.head(100)"
   ]
  },
  {
   "cell_type": "markdown",
   "metadata": {},
   "source": [
    "## D. Guardamos el modelo entrenado."
   ]
  },
  {
   "cell_type": "code",
   "execution_count": null,
   "metadata": {},
   "outputs": [],
   "source": [
    "#1. Guardamos el modelo.\n",
    "# Primer dígito cuantos meses para atrás desde 06/21, segundo dígito número data drifting, tercer dígito número de entrenamiento.\n",
    "model_lgb.save_model(modelos_path + 'lgbm_{}_{}_undersampling_limpieza.txt'.format(cantidad_meses_train,ventana))"
   ]
  }
 ],
 "metadata": {
  "kernelspec": {
   "display_name": "Python 3 (ipykernel)",
   "language": "python",
   "name": "python3"
  },
  "language_info": {
   "codemirror_mode": {
    "name": "ipython",
    "version": 3
   },
   "file_extension": ".py",
   "mimetype": "text/x-python",
   "name": "python",
   "nbconvert_exporter": "python",
   "pygments_lexer": "ipython3",
   "version": "3.12.3"
  }
 },
 "nbformat": 4,
 "nbformat_minor": 4
}
