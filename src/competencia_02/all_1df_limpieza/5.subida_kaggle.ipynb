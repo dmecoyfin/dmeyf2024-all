{
 "cells": [
  {
   "cell_type": "markdown",
   "metadata": {},
   "source": [
    "#### A. Configuración General."
   ]
  },
  {
   "cell_type": "code",
   "execution_count": null,
   "metadata": {},
   "outputs": [],
   "source": [
    "#1. Librerías.\n",
    "%run \"../librerias.ipynb\""
   ]
  },
  {
   "cell_type": "code",
   "execution_count": null,
   "metadata": {},
   "outputs": [],
   "source": [
    "#2. Constantes.\n",
    "#a. Constantes generales.\n",
    "%run \"../constantes.ipynb\"\n",
    "\n",
    "#b. Constantes a definir por el usuari.\n",
    "#i. Dataset de lectura (post-feature engineering).\n",
    "dataset_con_fe = dataset_file_fe_all_1_limpieza\n",
    "#ii. Información sobre rango temporal del modelo.\n",
    "cantidad_meses_train = \"all\"\n",
    "ventana = 1\n",
    "#iii. Meses de train y test.\n",
    "mes_train = mes_train_all_menos_1\n",
    "mes_test = mes_test\n",
    "#iv. Ruta del modelo guardado post-optimización de hiperparámetros.\n",
    "modelo =  \"{}\".format(modelos_path) + 'lgbm_{}_{}_undersampling_limpieza.txt'.format(cantidad_meses_train,ventana)\n",
    "#v. Ruta de la BBDD donde se almacenan los hiperparámetros óptimos post-Optuna.\n",
    "storage_name = \"sqlite:///\" + db_path + \"optimization_lgbm.db\"\n",
    "study_name = f\"exp_lgbm_{cantidad_meses_train}_{ventana}_undersampling_limpieza\""
   ]
  },
  {
   "cell_type": "code",
   "execution_count": null,
   "metadata": {},
   "outputs": [],
   "source": [
    "#3. Lectura de datos.\n",
    "data = pd.read_parquet(dataset_con_fe)"
   ]
  },
  {
   "cell_type": "code",
   "execution_count": null,
   "metadata": {},
   "outputs": [],
   "source": [
    "#4. Importo el modelo.\n",
    "model_lgb = lgb.Booster(model_file=modelo)"
   ]
  },
  {
   "cell_type": "code",
   "execution_count": null,
   "metadata": {},
   "outputs": [],
   "source": [
    "#5. Importo el estudio de Optuna.\n",
    "#g. Recogemos los parámetros probados con Optuna.\n",
    "\n",
    "#ii. Creo el estudio.\n",
    "study = optuna.create_study(\n",
    "    direction=\"maximize\",\n",
    "    study_name=study_name,\n",
    "    storage=storage_name,\n",
    "    load_if_exists=True,\n",
    ")"
   ]
  },
  {
   "cell_type": "markdown",
   "metadata": {},
   "source": [
    "#### B. Pre-procesamiento."
   ]
  },
  {
   "cell_type": "code",
   "execution_count": null,
   "metadata": {},
   "outputs": [],
   "source": [
    "#1. Pequeño pre-procesamiento sobre los datos.\n",
    "#i. Cambio tipos de datos (Me lo toma como tipo de dato \"object\"...)\n",
    "data['ctrx_quarter_normalizado'] = data['ctrx_quarter_normalizado'].astype(float)\n",
    "#ii. Elimino columnas de último momento por Data Concept.\n",
    "columnas_de_interes_prestamos = data.filter(like='prestamos_personales').columns\n",
    "data.drop(columnas_de_interes_prestamos,axis=1,inplace=True)\n",
    "#iii. Pesos y reclusterización.\n",
    "data['clase_peso'] = 1.0\n",
    "\n",
    "data.loc[data['clase_ternaria'] == 'BAJA+2', 'clase_peso'] = 1.00002\n",
    "data.loc[data['clase_ternaria'] == 'BAJA+1', 'clase_peso'] = 1.00001\n",
    "\n",
    "data['clase_binaria2'] = 0\n",
    "data['clase_binaria2'] = np.where(data['clase_ternaria'] == 'CONTINUA', 0, 1)"
   ]
  },
  {
   "cell_type": "code",
   "execution_count": null,
   "metadata": {},
   "outputs": [],
   "source": [
    "#2. Dividimos entre conjuntos de datos.\n",
    "#a. Datos para entrenar todo el modelo final para Kaggle.\n",
    "train_data = data[data['foto_mes'].isin(mes_train)]\n",
    "test_data = data[data['foto_mes'] == mes_test]\n",
    "\n",
    "X_train = train_data.drop(['clase_ternaria', 'clase_peso','clase_binaria2'], axis=1)\n",
    "y_train_binaria2 = train_data['clase_binaria2']\n",
    "w_train = train_data['clase_peso']\n",
    "\n",
    "#b. Datos de Test (a predecir).\n",
    "X_test = test_data.drop(['clase_ternaria', 'clase_peso','clase_binaria2'], axis=1)"
   ]
  },
  {
   "cell_type": "markdown",
   "metadata": {},
   "source": [
    "#### C. Envíos para encontrar el punto de corte óptimo con 10 semillas."
   ]
  },
  {
   "cell_type": "code",
   "execution_count": null,
   "metadata": {},
   "outputs": [],
   "source": [
    "#1. Configuramos la cantidad de veces que vamos a subir cada curva de intentos (semillas).\n",
    "cantidad_semillas = 10\n",
    "semillas = [np.random.randint(0, 10000) for _ in range(cantidad_semillas)]"
   ]
  },
  {
   "cell_type": "code",
   "execution_count": null,
   "metadata": {},
   "outputs": [],
   "source": [
    "#2. Entrenamos y predecimos Agosto.\n",
    "#i. Recorremos diferentes semillas para entrenar.\n",
    "i= 0\n",
    "for semilla in semillas:\n",
    "    print(\"\\n---------------------------------------\")\n",
    "    print(\"Semilla: {}.\".format(semilla))\n",
    "    #ii. Activamos la API para realizar envíos a Kaggle.\n",
    "    api = KaggleApi()\n",
    "    api.authenticate()\n",
    "    #iii. Tomamos el mejor modelo y con eso entrenamos.\n",
    "    print(\"--> Mejores parámetros...\")\n",
    "    best_iter = study.best_trial.user_attrs[\"best_iter\"]\n",
    "    params = {\n",
    "        'objective': 'binary',\n",
    "        'boosting_type': 'gbdt',\n",
    "        'first_metric_only': True,\n",
    "        'boost_from_average': True,\n",
    "        'feature_pre_filter': False,\n",
    "        'max_bin': 31,\n",
    "        'num_leaves': study.best_trial.params['num_leaves'],\n",
    "        'learning_rate': study.best_trial.params['learning_rate'],\n",
    "        'min_data_in_leaf': study.best_trial.params['min_data_in_leaf'],\n",
    "        'feature_fraction': study.best_trial.params['feature_fraction'],\n",
    "        'bagging_fraction': study.best_trial.params['bagging_fraction'],\n",
    "        'seed': semilla,\n",
    "        'verbose': 0\n",
    "    }\n",
    "    #iv. Adaptamos el dataset de entrenamiento.\n",
    "    train_data = lgb.Dataset(X_train,\n",
    "                            label=y_train_binaria2,\n",
    "                            weight=w_train)\n",
    "    #v. Entrenamos el modelo de Light GBM con los mejores hiperparámetros y la semilla aleatoria.\n",
    "    print(\"--> Comienza el entrenamiento...\")\n",
    "    model_lgb = lgb.train(params,\n",
    "                    train_data,\n",
    "                    num_boost_round=best_iter)\n",
    "    \n",
    "    #vi. Predecimos Agosto.\n",
    "    predicciones = model_lgb.predict(X_test)\n",
    "    #vii. Le pegamos la probabilidad de ser \"BAJA\" a cada cliente.\n",
    "    X_test['Probabilidad'] = predicciones\n",
    "    #viii. Ordenamos a los clientes por probabilidad de ser \"BAJA\" de forma descendente.\n",
    "    tb_entrega = X_test.sort_values(by='Probabilidad', ascending=False)\n",
    "    #ix. Genero una lista de distintos cortes candidatos, para enviar a Kaggle.\n",
    "    cortes = range(8500,13500,500)\n",
    "    #x. Generamos las distintas predicciones de clases a partir de los distintos cortes posibles.\n",
    "    num_subida_kaggle = 1\n",
    "    print(\"--> Comienzan los envíos a Kaggle...\\n\")\n",
    "    for envios in cortes:\n",
    "        #1. Le ponemos clase 1 (\"BAJA\") a los primeros \"envios\" con mayor probabilidad.\n",
    "        tb_entrega['Predicted'] = 0\n",
    "        tb_entrega.iloc[:envios, tb_entrega.columns.get_loc('Predicted')] = 1\n",
    "        resultados = tb_entrega[[\"numero_de_cliente\", 'Predicted']].reset_index(drop=True)\n",
    "        \n",
    "        print(\"Cantidad de clientes {}\".format(envios))\n",
    "        #2. Guardamos el archivo para Kaggle.\n",
    "        nombre_archivo = \"KLimp_{}_{}_EK_0{}_{}.csv\".format(cantidad_meses_train,ventana,num_subida_kaggle,semilla) #DF con -X meses, Y ventana, número de intento, número de semilla.\n",
    "        ruta_archivo= \"{}/{}\".format(exp_path,nombre_archivo)\n",
    "        resultados.to_csv(ruta_archivo, index=False)\n",
    "        \n",
    "        num_subida_kaggle += 1\n",
    "        i += 1\n",
    "        \n",
    "        #3. Envío a Kaggle.\n",
    "        #a. Defino los parámetros claves.\n",
    "        mensaje = f'Archivo {nombre_archivo}.Train {cantidad_meses_train} c/undersampling y limpieza. Semilla:{semilla},corte:{envios}' # Datos de Train, si está con Data Drifting o no, semilla y punto de corte de prueba.\n",
    "        competencia = 'dm-ey-f-2024-segunda'\n",
    "        #c. Subo la Submission.\n",
    "        while i<=18:\n",
    "                api.competition_submit(file_name=ruta_archivo, message=mensaje, competition=competencia)\n",
    "                print(\"Submission successful!\")\n",
    "                break\n",
    "        else:\n",
    "            print(\"Esperamos 30 segundos...\")\n",
    "            time.sleep(30)\n",
    "            api.competition_submit(file_name=ruta_archivo, message=mensaje, competition=competencia)\n",
    "            print(\"Submission successful!\")\n",
    "            i= 0\n",
    "        \n",
    "    #d. Borramos la columna de predicciones anterior.\n",
    "    X_test.drop([\"Probabilidad\"],axis=1,inplace=True)"
   ]
  },
  {
   "cell_type": "code",
   "execution_count": null,
   "metadata": {},
   "outputs": [],
   "source": [
    "#3. Análisis de las subidas a Kaggle.\n",
    "#i. Eligiendo el mejor punto de corte.\n",
    "# Dados las 10 semillas corridas, y los 10 diferentes puntos de corte, el promedio nos indica que el punto de corte\n",
    "# más óptimo para este modelo es X envíos. En tanto la distribución promedio del Público se asemeja a la\n",
    "# distribución promedio del Privado, dicho punto de corte sería el mejor para la distribución promedio del Privado."
   ]
  },
  {
   "cell_type": "code",
   "execution_count": null,
   "metadata": {},
   "outputs": [],
   "source": [
    "print(\"Hasta acá.\")"
   ]
  },
  {
   "cell_type": "markdown",
   "metadata": {},
   "source": [
    "#### D. Envios a Kaggle para elegir luego el valor Promedio del punto de corte óptimo (estabilizar el modelo)."
   ]
  },
  {
   "cell_type": "code",
   "execution_count": null,
   "metadata": {},
   "outputs": [],
   "source": [
    "#1. Configuramos la cantidad de veces que vamos a subir cada curva de intentos (semillas).\n",
    "cantidad_semillas = 40\n",
    "semillas = [np.random.randint(0, 10000) for _ in range(cantidad_semillas)]"
   ]
  },
  {
   "cell_type": "code",
   "execution_count": null,
   "metadata": {},
   "outputs": [],
   "source": [
    "#2. Entrenamos y predecimos Agosto.\n",
    "#i. Recorremos diferentes semillas para entrenar.\n",
    "i= 0\n",
    "for semilla in semillas:\n",
    "    print(\"\\n---------------------------------------\")\n",
    "    print(\"Semilla: {}.\".format(semilla))\n",
    "    #ii. Activamos la API para realizar envíos a Kaggle.\n",
    "    api = KaggleApi()\n",
    "    api.authenticate()\n",
    "    #iii. Tomamos el mejor modelo y con eso entrenamos.\n",
    "    print(\"--> Mejores parámetros...\")\n",
    "    best_iter = study.best_trial.user_attrs[\"best_iter\"]\n",
    "    params = {\n",
    "        'objective': 'binary',\n",
    "        'boosting_type': 'gbdt',\n",
    "        'first_metric_only': True,\n",
    "        'boost_from_average': True,\n",
    "        'feature_pre_filter': False,\n",
    "        'max_bin': 31,\n",
    "        'num_leaves': study.best_trial.params['num_leaves'],\n",
    "        'learning_rate': study.best_trial.params['learning_rate'],\n",
    "        'min_data_in_leaf': study.best_trial.params['min_data_in_leaf'],\n",
    "        'feature_fraction': study.best_trial.params['feature_fraction'],\n",
    "        'bagging_fraction': study.best_trial.params['bagging_fraction'],\n",
    "        'seed': semilla,\n",
    "        'verbose': 0\n",
    "    }\n",
    "    #iv. Adaptamos el dataset de entrenamiento.\n",
    "    train_data = lgb.Dataset(X_train,\n",
    "                            label=y_train_binaria2,\n",
    "                            weight=w_train)\n",
    "    #v. Entrenamos el modelo de Light GBM con los mejores hiperparámetros y la semilla aleatoria.\n",
    "    print(\"--> Comienza el entrenamiento...\")\n",
    "    model_lgb = lgb.train(params,\n",
    "                    train_data,\n",
    "                    num_boost_round=best_iter)\n",
    "    \n",
    "    #vi. Predecimos Agosto.\n",
    "    predicciones = model_lgb.predict(X_test)\n",
    "    #vii. Le pegamos la probabilidad de ser \"BAJA\" a cada cliente.\n",
    "    X_test['Probabilidad'] = predicciones\n",
    "    #viii. Ordenamos a los clientes por probabilidad de ser \"BAJA\" de forma descendente.\n",
    "    tb_entrega = X_test.sort_values(by='Probabilidad', ascending=False)\n",
    "    #ix. Genero una lista de distintos cortes candidatos, para enviar a Kaggle.\n",
    "    cortes = range(8500,13500,500)\n",
    "    #x. Generamos las distintas predicciones de clases a partir de los distintos cortes posibles.\n",
    "    num_subida_kaggle = 1\n",
    "    print(\"--> Comienzan los envíos a Kaggle...\\n\")\n",
    "    for envios in cortes:\n",
    "        #1. Le ponemos clase 1 (\"BAJA\") a los primeros \"envios\" con mayor probabilidad.\n",
    "        tb_entrega['Predicted'] = 0\n",
    "        tb_entrega.iloc[:envios, tb_entrega.columns.get_loc('Predicted')] = 1\n",
    "        resultados = tb_entrega[[\"numero_de_cliente\", 'Predicted']].reset_index(drop=True)\n",
    "        \n",
    "        print(\"Cantidad de clientes {}\".format(envios))\n",
    "        #2. Guardamos el archivo para Kaggle.\n",
    "        nombre_archivo = \"K_{}_{}_EK_0{}_{}.csv\".format(cantidad_meses_train,ventana,num_subida_kaggle,semilla) #DF con -X meses, Y ventana, número de intento, número de semilla.\n",
    "        ruta_archivo= \"{}/{}\".format(exp_path,nombre_archivo)\n",
    "        resultados.to_csv(ruta_archivo, index=False)\n",
    "        \n",
    "        num_subida_kaggle += 1\n",
    "        i += 1\n",
    "        \n",
    "        #3. Envío a Kaggle.\n",
    "        #a. Defino los parámetros claves.\n",
    "        mensaje = f'Archivo {nombre_archivo}.Train {cantidad_meses_train} c/undersampling. Semilla:{semilla},corte:{envios}' # Datos de Train, si está con Data Drifting o no, semilla y punto de corte de prueba.\n",
    "        competencia = 'dm-ey-f-2024-segunda'\n",
    "        #c. Subo la Submission.\n",
    "        while i<=18:\n",
    "                api.competition_submit(file_name=ruta_archivo, message=mensaje, competition=competencia)\n",
    "                print(\"Submission successful!\")\n",
    "                break\n",
    "        else:\n",
    "            print(\"Esperamos 30 segundos...\")\n",
    "            time.sleep(30)\n",
    "            api.competition_submit(file_name=ruta_archivo, message=mensaje, competition=competencia)\n",
    "            print(\"Submission successful!\")\n",
    "            i= 0\n",
    "        \n",
    "    #d. Borramos la columna de predicciones anterior.\n",
    "    X_test.drop([\"Probabilidad\"],axis=1,inplace=True)"
   ]
  }
 ],
 "metadata": {
  "kernelspec": {
   "display_name": "dmeyf",
   "language": "python",
   "name": "python3"
  },
  "language_info": {
   "codemirror_mode": {
    "name": "ipython",
    "version": 3
   },
   "file_extension": ".py",
   "mimetype": "text/x-python",
   "name": "python",
   "nbconvert_exporter": "python",
   "pygments_lexer": "ipython3",
   "version": "3.12.3"
  }
 },
 "nbformat": 4,
 "nbformat_minor": 2
}
