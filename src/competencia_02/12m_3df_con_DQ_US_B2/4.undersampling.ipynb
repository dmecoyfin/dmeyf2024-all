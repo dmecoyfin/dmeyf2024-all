{
 "cells": [
  {
   "cell_type": "code",
   "execution_count": null,
   "metadata": {},
   "outputs": [
    {
     "name": "stderr",
     "output_type": "stream",
     "text": [
      "c:\\Users\\c678456\\AppData\\Local\\anaconda3\\envs\\dmeyf\\Lib\\site-packages\\tqdm\\auto.py:21: TqdmWarning: IProgress not found. Please update jupyter and ipywidgets. See https://ipywidgets.readthedocs.io/en/stable/user_install.html\n",
      "  from .autonotebook import tqdm as notebook_tqdm\n"
     ]
    }
   ],
   "source": [
    "#1. Librerías.\n",
    "%run \"../librerias.ipynb\"\n",
    "\n",
    "!pip install imbalanced-learn\n",
    "from imblearn.under_sampling import RandomUnderSampler"
   ]
  },
  {
   "cell_type": "code",
   "execution_count": null,
   "metadata": {},
   "outputs": [],
   "source": [
    "#2. Constantes.\n",
    "#a. Generales.z\n",
    "%run \"../constantes.ipynb\"\n",
    "\n",
    "#b. A definir por el usuario.\n",
    "dataset_con_fe = dataset_file_fe_12_3_DQ\n",
    "\n",
    "cantidad_meses_train = 12\n",
    "ventana = 3\n",
    "\n",
    "mes_train = mes_train_ult_anio\n",
    "mes_test = mes_test\n",
    "\n",
    "dataset_output =  dataset_file_fe_12_3_undersampleado_DQ_B2"
   ]
  },
  {
   "cell_type": "code",
   "execution_count": null,
   "metadata": {},
   "outputs": [],
   "source": [
    "#3. Funciones\n",
    "%run \"../funciones.ipynb\""
   ]
  },
  {
   "cell_type": "code",
   "execution_count": null,
   "metadata": {},
   "outputs": [],
   "source": [
    "#4. Lectura de datos.\n",
    "data = pd.read_parquet(dataset_con_fe)"
   ]
  },
  {
   "cell_type": "code",
   "execution_count": null,
   "metadata": {},
   "outputs": [],
   "source": [
    "#5. Divido entre clases.\n",
    "data['clase_binaria2'] = 0\n",
    "data['clase_binaria2'] = np.where(data['clase_ternaria'] == 'CONTINUA', 0, 1)"
   ]
  },
  {
   "cell_type": "code",
   "execution_count": null,
   "metadata": {},
   "outputs": [],
   "source": [
    "#6. Filtro solamente los datos de entrenamiento.\n",
    "data = data[data[\"foto_mes\"].isin(mes_train)]"
   ]
  },
  {
   "cell_type": "code",
   "execution_count": null,
   "metadata": {},
   "outputs": [],
   "source": [
    "#7. Calculo las proporciones.\n",
    "proportions = (\n",
    "    data.groupby('foto_mes')['clase_binaria2']\n",
    "    .value_counts()\n",
    "    .unstack(fill_value=0)\n",
    "    .reset_index()\n",
    ")\n",
    "\n",
    "proportions.columns = ['foto_mes', 'proportion_0', 'proportion_1']\n",
    "proportions"
   ]
  },
  {
   "cell_type": "code",
   "execution_count": null,
   "metadata": {},
   "outputs": [],
   "source": [
    "#8. Undersampleo.\n",
    "df_subsampled = []\n",
    "\n",
    "for mes, group in data.groupby(\"foto_mes\"):\n",
    "\n",
    "    X = group.drop(columns=\"clase_binaria2\")\n",
    "    y = group[\"clase_binaria2\"]\n",
    "    \n",
    "    # Calculo la proporcion de bajas\n",
    "    minority_proportion = y.value_counts(normalize=True).get(1, 0)\n",
    "    print(f'Original proportion:{minority_proportion}')\n",
    "    \n",
    "    # voy a incrementar esa proporcion por 5.\n",
    "    new_proportion = minority_proportion * 5\n",
    "\n",
    "    # Apply RandomUnderSampler with the calculated strategy\n",
    "    rus = RandomUnderSampler(sampling_strategy=new_proportion, random_state=semillas[0])\n",
    "    X_res, y_res = rus.fit_resample(X, y)\n",
    "\n",
    "    # Rebuild the resampled DataFrame for the group\n",
    "    group_resampled = pd.concat([X_res, y_res], axis=1)\n",
    "    group_resampled[\"foto_mes\"] = mes  # Add back the 'foto_mes' column\n",
    "\n",
    "    # Add the resampled DataFrame to the list\n",
    "    df_subsampled.append(group_resampled)\n",
    "\n",
    "# Concatenate all resampled groups into a single DataFrame\n",
    "data = pd.concat(df_subsampled, ignore_index=True)"
   ]
  },
  {
   "cell_type": "code",
   "execution_count": null,
   "metadata": {},
   "outputs": [],
   "source": [
    "#9. Nuevas proporciones.\n",
    "proportions = (\n",
    "    data.groupby('foto_mes')['clase_binaria2']\n",
    "    .value_counts()\n",
    "    .unstack(fill_value=0)\n",
    "    .reset_index()\n",
    ")\n",
    "\n",
    "proportions.columns = ['foto_mes', 'proportion_0', 'proportion_1']\n",
    "proportions"
   ]
  },
  {
   "cell_type": "code",
   "execution_count": null,
   "metadata": {},
   "outputs": [],
   "source": [
    "#10. Guardamos el modelo.\n",
    "data.to_parquet(dataset_output, index=False)"
   ]
  },
  {
   "cell_type": "code",
   "execution_count": null,
   "metadata": {},
   "outputs": [],
   "source": [
    "#11. Mensaje.\n",
    "print(\"Terminó.\")"
   ]
  }
 ],
 "metadata": {
  "kernelspec": {
   "display_name": "Python 3 (ipykernel)",
   "language": "python",
   "name": "python3"
  },
  "language_info": {
   "codemirror_mode": {
    "name": "ipython",
    "version": 3
   },
   "file_extension": ".py",
   "mimetype": "text/x-python",
   "name": "python",
   "nbconvert_exporter": "python",
   "pygments_lexer": "ipython3",
   "version": "3.12.3"
  }
 },
 "nbformat": 4,
 "nbformat_minor": 4
}
