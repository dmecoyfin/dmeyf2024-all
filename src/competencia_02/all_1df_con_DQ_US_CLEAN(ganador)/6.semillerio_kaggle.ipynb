{
 "cells": [
  {
   "cell_type": "markdown",
   "metadata": {},
   "source": [
    "## A. Configuraciones Generales."
   ]
  },
  {
   "cell_type": "code",
   "execution_count": null,
   "metadata": {},
   "outputs": [],
   "source": [
    "#1. Librerías.\n",
    "%run \"../librerias.ipynb\""
   ]
  },
  {
   "cell_type": "code",
   "execution_count": null,
   "metadata": {},
   "outputs": [],
   "source": [
    "#2. Constantes.\n",
    "#a. Constantes generales.\n",
    "%run \"../constantes.ipynb\"\n",
    "\n",
    "#b. Constantes a definir por el usuario.\n",
    "#i. Dataset de lectura (post-feature engineering y undersampleado).\n",
    "dataset_con_fe = dataset_file_fe_1_all_undersampleado_DQ_CLEAN\n",
    "dataset_con_test = dataset_file_fe_all_1_DQ_CLEAN\n",
    "#ii. Información sobre rango temporal del modelo.\n",
    "cantidad_meses_train = all\n",
    "ventana = 1\n",
    "#iii. Meses de train y test.\n",
    "mes_train = mes_train_all_menos_1_sin_rotas\n",
    "mes_test = mes_test\n",
    "#iv. Ruta de la BBDD donde se almacenan los hiperparámetros óptimos post-Optuna.\n",
    "storage_name = \"sqlite:///\" + db_path + \"optimization_lgbm.db\"\n",
    "study_name = f\"exp_lgbm_{cantidad_meses_train}_{ventana}_undersampling_DQ_CLEAN\""
   ]
  },
  {
   "cell_type": "code",
   "execution_count": null,
   "metadata": {},
   "outputs": [],
   "source": [
    "#3. Lectura de datos.\n",
    "#i. Train.\n",
    "data = pd.read_parquet(dataset_con_fe)\n",
    "#ii. Test.\n",
    "test = pd.read_parquet(dataset_con_test)"
   ]
  },
  {
   "cell_type": "code",
   "execution_count": null,
   "metadata": {},
   "outputs": [],
   "source": [
    "#4. Importo el estudio de Optuna.\n",
    "study = optuna.load_study(\n",
    "    study_name=study_name,\n",
    "    storage=storage_name\n",
    "    )"
   ]
  },
  {
   "cell_type": "markdown",
   "metadata": {},
   "source": [
    "#### B. Pre-procesamiento."
   ]
  },
  {
   "cell_type": "code",
   "execution_count": null,
   "metadata": {},
   "outputs": [],
   "source": [
    "#1. Concateno Train y Test.\n",
    "#i. Filtro el mes de interés en Test.\n",
    "test = test[test[\"foto_mes\"] == mes_test]\n",
    "#ii. Borro la columna de clase binaria en train para poder concatenar.\n",
    "data.drop([\"clase_binaria\"],axis=1,inplace=True)\n",
    "#ii. Concateno.\n",
    "data = pd.concat([data,test],axis=0)"
   ]
  },
  {
   "cell_type": "code",
   "execution_count": null,
   "metadata": {},
   "outputs": [],
   "source": [
    "#2. Pequeño pre-procesamiento sobre los datos.\n",
    "#i. Cambio tipos de datos (Me lo toma como tipo de dato \"object\"...)\n",
    "data['ctrx_quarter_normalizado'] = data['ctrx_quarter_normalizado'].astype(float)\n",
    "\n",
    "#ii. Pesos y reclusterización.\n",
    "data['clase_peso'] = 1.0\n",
    "\n",
    "data.loc[data['clase_ternaria'] == 'BAJA+2', 'clase_peso'] = 1.00002\n",
    "data.loc[data['clase_ternaria'] == 'BAJA+1', 'clase_peso'] = 1.00001\n",
    "\n",
    "data['clase_binaria'] = 0\n",
    "data['clase_binaria'] = np.where(data['clase_ternaria'] == 'BAJA+2', 1, 0)"
   ]
  },
  {
   "cell_type": "code",
   "execution_count": null,
   "metadata": {},
   "outputs": [],
   "source": [
    "#3. Dividimos entre conjuntos de datos.\n",
    "#a. Datos para entrenar todo el modelo final para Kaggle.\n",
    "train_data = data[data['foto_mes'].isin(mes_train)]\n",
    "test_data = data[data['foto_mes'] == mes_test]\n",
    "\n",
    "X_train = train_data.drop(['clase_ternaria', 'clase_peso','clase_binaria'], axis=1)\n",
    "y_train_binaria = train_data['clase_binaria']\n",
    "w_train = train_data['clase_peso']\n",
    "\n",
    "#b. Datos de Test (a predecir).\n",
    "X_test = test_data.drop(['clase_ternaria', 'clase_peso','clase_binaria'], axis=1)"
   ]
  },
  {
   "cell_type": "markdown",
   "metadata": {},
   "source": [
    "## C. Semillerío."
   ]
  },
  {
   "cell_type": "code",
   "execution_count": null,
   "metadata": {},
   "outputs": [],
   "source": [
    "#1. Configuramos la cantidad de semillas.\n",
    "cantidad_semillas = 100\n",
    "semillas = [np.random.randint(0, 10000) for _ in range(cantidad_semillas)]"
   ]
  },
  {
   "cell_type": "code",
   "execution_count": null,
   "metadata": {},
   "outputs": [],
   "source": [
    "#2. Construyo un DataFrame para guardar resultados.\n",
    "resultados = pd.DataFrame()"
   ]
  },
  {
   "cell_type": "code",
   "execution_count": null,
   "metadata": {},
   "outputs": [],
   "source": [
    "#3. Obtengo los mejores parámetros del estudio.\n",
    "best_iter = study.best_trial.user_attrs[\"best_iter\"]\n",
    "best_params = {\n",
    "    'objective': 'binary',\n",
    "    'boosting_type': 'gbdt',\n",
    "    'first_metric_only': True,\n",
    "    'boost_from_average': True,\n",
    "    'feature_pre_filter': False,\n",
    "    'max_bin': 31,\n",
    "    'num_leaves': study.best_trial.params['num_leaves'],\n",
    "    'learning_rate': study.best_trial.params['learning_rate'],\n",
    "    'min_data_in_leaf': study.best_trial.params['min_data_in_leaf'],\n",
    "    'feature_fraction': study.best_trial.params['feature_fraction'],\n",
    "    'bagging_fraction': study.best_trial.params['bagging_fraction'],\n",
    "    'verbose': 0  # La semilla se ajustará en cada iteración\n",
    "}"
   ]
  },
  {
   "cell_type": "code",
   "execution_count": null,
   "metadata": {},
   "outputs": [],
   "source": [
    "#4. Realizo 100 iteraciones con semillas distintas.\n",
    "num_semilla = 1\n",
    "for semilla in semillas:\n",
    "    print(\"\\n---------------------------------------\")\n",
    "    print(\"Semilla {}: {}.\".format(num_semilla,semilla))\n",
    "    num_semilla += 1\n",
    "    #i. Listo los parámetros con la semilla correspondiente.\n",
    "    print(\"--> Mejores parámetros...\")\n",
    "    best_params['seed'] = semilla\n",
    "    #ii. Adaptamos el dataset de entrenamiento.\n",
    "    train_data = lgb.Dataset(X_train,\n",
    "                            label=y_train_binaria,\n",
    "                            weight=w_train)\n",
    "    #iii. Entreno el modelo.\n",
    "    print(\"--> Comienza el entrenamiento...\")\n",
    "    model_lgb = lgb.train(best_params,\n",
    "                          train_data,\n",
    "                          num_boost_round=best_iter)\n",
    "    \n",
    "    #iv. Predigo Agosto y obtengo las probabilidades.\n",
    "    predicciones = model_lgb.predict(X_test)\n",
    "    \n",
    "    #v. Le pegamos la probabilidad de ser \"BAJA\" a cada cliente.\n",
    "    X_test[\"Probabilidad\"] = predicciones\n",
    "    \n",
    "    #vi. Creamos un DataFrame con las probabilidades de la semilla.\n",
    "    temp_df = X_test[[\"numero_de_cliente\",\"foto_mes\",\"Probabilidad\"]]\n",
    "    \n",
    "    #vii. Renombramos.\n",
    "    temp_df = temp_df.rename({\"Probabilidad\": f\"prob_semilla_{semilla}\"}, axis=1)\n",
    "    \n",
    "    #viii. Unimos los resultados al Dataframe general con todos los resultados.\n",
    "    if resultados.empty:\n",
    "        resultados = temp_df\n",
    "    else:\n",
    "        resultados = pd.merge(resultados, temp_df, on=['numero_de_cliente', 'foto_mes'], how='left')\n",
    "        \n",
    "    #ix. Borramos la columna con las Predicciones.\n",
    "    X_test.drop([\"Probabilidad\"],axis=1,inplace=True)"
   ]
  },
  {
   "cell_type": "code",
   "execution_count": null,
   "metadata": {},
   "outputs": [],
   "source": [
    "#5. Guardamos el dataframe para leerlo después.\n",
    "resultados.to_csv(dataset_semillerio_all_1, index=False)\n",
    "print(\"Archivo con semillerio guardado con éxito.\")"
   ]
  },
  {
   "cell_type": "code",
   "execution_count": null,
   "metadata": {},
   "outputs": [],
   "source": [
    "#6. Calculamos la probabilidad promedio de cada numero_de_cliente-foto_mes.\n",
    "resultados[\"probabilidad_promedio\"] = resultados.filter(like=\"prob_semilla_\").mean(axis=1)"
   ]
  },
  {
   "cell_type": "code",
   "execution_count": null,
   "metadata": {},
   "outputs": [],
   "source": [
    "#7. Filtro el dataframe para quedarme con el numero_de_cliente,foto_mes,probabilidad_promedio.\n",
    "resultados_promedio = resultados[[\"numero_de_cliente\",\"foto_mes\",\"probabilidad_promedio\"]]"
   ]
  },
  {
   "cell_type": "code",
   "execution_count": null,
   "metadata": {},
   "outputs": [],
   "source": [
    "#8. Enviamos a Kaggle la probabilidad promedio por numero_de_cliente-foto_mes producto del semillerío.\n",
    "#i. Activamos la API para realizar envíos a Kaggle.\n",
    "api = KaggleApi()\n",
    "api.authenticate()\n",
    "#ii. Ordenamos a los clientes por probabilidad de ser \"BAJA\" de forma descendente.\n",
    "tb_entrega = resultados_promedio.sort_values(by='probabilidad_promedio', ascending=False)\n",
    "#iii. Genero una lista de distintos cortes candidatos, para enviar a Kaggle.\n",
    "cortes = range(10000,13500,500)\n",
    "#iv.. Generamos las distintas predicciones de clases a partir de los distintos cortes posibles.\n",
    "num_subida_kaggle = 1\n",
    "print(\"--> Comienzan los envíos a Kaggle...\\n\")\n",
    "for envios in cortes:\n",
    "    #1. Le ponemos clase 1 (\"BAJA\") a los primeros \"envios\" con mayor probabilidad.\n",
    "    tb_entrega['Predicted'] = 0\n",
    "    tb_entrega.iloc[:envios, tb_entrega.columns.get_loc('Predicted')] = 1\n",
    "    resultados = tb_entrega[[\"numero_de_cliente\", 'Predicted']].reset_index(drop=True)\n",
    "    \n",
    "    print(\"Cantidad de clientes {}\".format(envios))\n",
    "    #2. Guardamos el archivo para Kaggle.\n",
    "    nombre_archivo = \"K_semillerio_{}_{}_DQCLEAN_EK_0{}_{}.csv\".format(cantidad_meses_train,ventana,num_subida_kaggle,semilla) #DF con -X meses, Y ventana, número de intento, número de semilla.\n",
    "    ruta_archivo= \"{}/{}\".format(exp_path,nombre_archivo)\n",
    "    resultados.to_csv(ruta_archivo, index=False)\n",
    "    \n",
    "    num_subida_kaggle += 1\n",
    "    \n",
    "    #3. Envío a Kaggle.\n",
    "    #a. Defino los parámetros claves.\n",
    "    mensaje = f'Archivo {nombre_archivo}.Train {cantidad_meses_train} semillerio c/DQ,US,CLEAN. Semilla:{semilla},corte:{envios}' # Datos de Train, si está con Data Drifting o no, semilla y punto de corte de prueba.\n",
    "    competencia = 'dm-ey-f-2024-segunda'\n",
    "    #b. Subo la Submission.\n",
    "    api.competition_submit(file_name=ruta_archivo, message=mensaje, competition=competencia)\n",
    "    print(\"Submission successful!\")"
   ]
  }
 ],
 "metadata": {
  "language_info": {
   "name": "python"
  }
 },
 "nbformat": 4,
 "nbformat_minor": 2
}
