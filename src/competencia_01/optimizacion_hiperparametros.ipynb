{
 "cells": [
  {
   "cell_type": "markdown",
   "metadata": {},
   "source": [
    "## A. Configuración General."
   ]
  },
  {
   "cell_type": "code",
   "execution_count": null,
   "metadata": {},
   "outputs": [],
   "source": [
    "#1. Librerías.\n",
    "%run \"./librerias.ipynb\""
   ]
  },
  {
   "cell_type": "code",
   "execution_count": null,
   "metadata": {},
   "outputs": [],
   "source": [
    "#3. Constantes.\n",
    "%run \"./constantes.ipynb\""
   ]
  },
  {
   "cell_type": "code",
   "execution_count": null,
   "metadata": {},
   "outputs": [],
   "source": [
    "#4. Funciones\n",
    "%run \"./funciones.ipynb\""
   ]
  },
  {
   "cell_type": "code",
   "execution_count": null,
   "metadata": {},
   "outputs": [],
   "source": [
    "#5. Lectura de datos.\n",
    "#data = pd.read_csv(base_path + dataset_file_fe_menos_3) # Para apartado B.\n",
    "#data = pd.read_csv(base_path + dataset_file_fe_menos_2) # Para apartado C.\n",
    "data = pd.read_csv(base_path + dataset_file_fe_menos_3) # Para apartado D.\n",
    "#."
   ]
  },
  {
   "cell_type": "code",
   "execution_count": null,
   "metadata": {},
   "outputs": [],
   "source": [
    "#6. Pesos y reclusterización.\n",
    "data['clase_peso'] = 1.0\n",
    "\n",
    "data.loc[data['clase_ternaria'] == 'BAJA+2', 'clase_peso'] = 1.00002\n",
    "data.loc[data['clase_ternaria'] == 'BAJA+1', 'clase_peso'] = 1.00001\n",
    "\n",
    "#data['clase_binaria1'] = 0\n",
    "data['clase_binaria2'] = 0\n",
    "#data['clase_binaria1'] = np.where(data['clase_ternaria'] == 'BAJA+2', 1, 0)\n",
    "data['clase_binaria2'] = np.where(data['clase_ternaria'] == 'CONTINUA', 0, 1)"
   ]
  },
  {
   "cell_type": "markdown",
   "metadata": {},
   "source": [
    "## B. Train con Abril con DF -3 con ratios incluidos."
   ]
  },
  {
   "cell_type": "code",
   "execution_count": null,
   "metadata": {},
   "outputs": [],
   "source": [
    "#1. Funcion de optimización de hiperparámetros.\n",
    "def objective(trial): \n",
    "    # Rango de parámetros a buscar sus valores óptimos.\n",
    "    num_leaves = trial.suggest_int('num_leaves', 10, 200)\n",
    "    learning_rate = trial.suggest_float('learning_rate', 0.005, 0.3) # mas bajo, más iteraciones necesita.\n",
    "    min_data_in_leaf = trial.suggest_int('min_data_in_leaf', 50, 2000)\n",
    "    feature_fraction = trial.suggest_float('feature_fraction', 0.1, 1.0)\n",
    "    bagging_fraction = trial.suggest_float('bagging_fraction', 0.1, 1.0)\n",
    "\n",
    "\n",
    "    # Parámetros que le voy a pasar al modelo.\n",
    "    params = {\n",
    "        'objective': 'binary',\n",
    "        'metric': 'custom',\n",
    "        'boosting_type': 'gbdt',\n",
    "        'first_metric_only': True,\n",
    "        'boost_from_average': True,\n",
    "        'feature_pre_filter': False,\n",
    "        'max_bin': 31,\n",
    "        'num_leaves': num_leaves,\n",
    "        'learning_rate': learning_rate,\n",
    "        'min_data_in_leaf': min_data_in_leaf,\n",
    "        'feature_fraction': feature_fraction,\n",
    "        'bagging_fraction': bagging_fraction,\n",
    "        'seed': semillas[0],\n",
    "        'verbose': -1\n",
    "    }\n",
    "    \n",
    "    # Creo el dataset para Light GBM.\n",
    "    train_data = lgb.Dataset(X_train,\n",
    "                              label=y_train_binaria2, # eligir la clase\n",
    "                              weight=w_train)\n",
    "    \n",
    "    # Entreno.\n",
    "    cv_results = lgb.cv(\n",
    "        params,\n",
    "        train_data,\n",
    "        num_boost_round=1000, # modificar, subit y subir... y descomentar la línea inferior\n",
    "        callbacks=[lgb.early_stopping(int(50 + 5 / learning_rate))],\n",
    "        feval=lgb_gan_eval,\n",
    "        stratified=True,\n",
    "        nfold=5,\n",
    "        seed=semillas[0]\n",
    "    )\n",
    "    \n",
    "    # Calculo la ganancia máxima y la mejor iteración donde se obtuvo dicha ganancia.\n",
    "    max_gan = max(cv_results['valid gan_eval-mean'])\n",
    "    best_iter = cv_results['valid gan_eval-mean'].index(max_gan) + 1\n",
    "\n",
    "    # Guardamos cual es la mejor iteración del modelo\n",
    "    trial.set_user_attr(\"best_iter\", best_iter)\n",
    "\n",
    "    return max_gan * 5"
   ]
  },
  {
   "cell_type": "code",
   "execution_count": null,
   "metadata": {},
   "outputs": [],
   "source": [
    "#2. Divido entre Train y Test.\n",
    "train_data = data[data['foto_mes'] == mes_train_a]\n",
    "test_data = data[data['foto_mes'] == mes_test]\n",
    "\n",
    "X_train = train_data.drop(['clase_ternaria', 'clase_peso', 'clase_binaria1','clase_binaria2'], axis=1)\n",
    "y_train_binaria1 = train_data['clase_binaria1']\n",
    "y_train_binaria2 = train_data['clase_binaria2']\n",
    "w_train = train_data['clase_peso']\n",
    "\n",
    "X_test = test_data.drop(['clase_ternaria', 'clase_peso', 'clase_binaria1','clase_binaria2'], axis=1)\n",
    "y_test_binaria1 = test_data['clase_binaria1']\n",
    "y_test_class = test_data['clase_ternaria']\n",
    "w_test = test_data['clase_peso']"
   ]
  },
  {
   "cell_type": "code",
   "execution_count": null,
   "metadata": {},
   "outputs": [],
   "source": [
    "#3. Voy a realizar un estudio de Optuna para encontrar los mejores parámetros.\n",
    "#i. Creo la base de datos donde guardar los resultados.\n",
    "storage_name = \"sqlite:///\" + db_path + \"optimization_lgbm.db\"\n",
    "study_name = \"exp_731_lgbm_train_abril_menos_3_V2\" # Primer dígito número de clase, segundo dígito df - cuanto, tercer dígito número de entrenamiento.\n",
    "\n",
    "#ii. Creo el estudio.\n",
    "study = optuna.create_study(\n",
    "    direction=\"maximize\",\n",
    "    study_name=study_name,\n",
    "    storage=storage_name,\n",
    "    load_if_exists=True,\n",
    ")\n",
    "\n",
    "#iii. Corro el estudio.\n",
    "study.optimize(objective, n_trials=100)"
   ]
  },
  {
   "cell_type": "code",
   "execution_count": null,
   "metadata": {},
   "outputs": [],
   "source": [
    "#4. Visualizo los resultados del estudio, para modificar los rangos de análisis."
   ]
  },
  {
   "cell_type": "code",
   "execution_count": null,
   "metadata": {},
   "outputs": [],
   "source": [
    "optuna.visualization.plot_optimization_history(study)"
   ]
  },
  {
   "cell_type": "code",
   "execution_count": null,
   "metadata": {},
   "outputs": [],
   "source": [
    "plot_param_importances(study)"
   ]
  },
  {
   "cell_type": "code",
   "execution_count": null,
   "metadata": {},
   "outputs": [],
   "source": [
    "plot_slice(study)"
   ]
  },
  {
   "cell_type": "code",
   "execution_count": null,
   "metadata": {},
   "outputs": [],
   "source": [
    "plot_contour(study)"
   ]
  },
  {
   "cell_type": "code",
   "execution_count": null,
   "metadata": {},
   "outputs": [],
   "source": [
    "plot_contour(study, params=['num_leaves','min_data_in_leaf'] )"
   ]
  },
  {
   "cell_type": "code",
   "execution_count": null,
   "metadata": {},
   "outputs": [],
   "source": [
    "study.best_trial.params"
   ]
  },
  {
   "cell_type": "code",
   "execution_count": null,
   "metadata": {},
   "outputs": [],
   "source": [
    "#5. Tomamos el mejor modelo y con eso entrenamos todos los datos.\n",
    "best_iter = study.best_trial.user_attrs[\"best_iter\"]\n",
    "print(f\"Mejor cantidad de árboles para el mejor model {best_iter}\")\n",
    "params = {\n",
    "    'objective': 'binary',\n",
    "    'boosting_type': 'gbdt',\n",
    "    'first_metric_only': True,\n",
    "    'boost_from_average': True,\n",
    "    'feature_pre_filter': False,\n",
    "    'max_bin': 31,\n",
    "    'num_leaves': study.best_trial.params['num_leaves'],\n",
    "    'learning_rate': study.best_trial.params['learning_rate'],\n",
    "    'min_data_in_leaf': study.best_trial.params['min_data_in_leaf'],\n",
    "    'feature_fraction': study.best_trial.params['feature_fraction'],\n",
    "    'bagging_fraction': study.best_trial.params['bagging_fraction'],\n",
    "    'seed': semillas[0],\n",
    "    'verbose': 0\n",
    "}\n",
    "\n",
    "train_data = lgb.Dataset(X_train,\n",
    "                          label=y_train_binaria2,\n",
    "                          weight=w_train)\n",
    "\n",
    "model_lgb = lgb.train(params,\n",
    "                  train_data,\n",
    "                  num_boost_round=best_iter)"
   ]
  },
  {
   "cell_type": "code",
   "execution_count": null,
   "metadata": {},
   "outputs": [],
   "source": [
    "#6. Observamos las variables más importantes para el modelo.\n",
    "#i. Gráfico.\n",
    "lgb.plot_importance(model_lgb, figsize=(10, 20))\n",
    "plt.show()"
   ]
  },
  {
   "cell_type": "code",
   "execution_count": null,
   "metadata": {},
   "outputs": [],
   "source": [
    "#ii. Dataframe.\n",
    "#a. Extract feature importance and feature names.\n",
    "importance = model_lgb.feature_importance()\n",
    "features = model_lgb.feature_name()\n",
    "\n",
    "#b. Create a dataframe for better visualization.\n",
    "importance_df = pd.DataFrame({'Feature': features, 'Importance': importance})\n",
    "\n",
    "#c. Sort by importance in descending order.\n",
    "importance_df = importance_df.sort_values(by='Importance', ascending=False).reset_index(drop=True)\n",
    "\n",
    "#d. show.\n",
    "importance_df.head(100)"
   ]
  },
  {
   "cell_type": "code",
   "execution_count": null,
   "metadata": {},
   "outputs": [],
   "source": [
    "#7. Guardamos el modelo.\n",
    "model_lgb.save_model('./lgb_datos_abril_menos_3_v2.txt')\n",
    "#model_lgb.save_model(modelos_path + 'lgb_datos_fe_02_ajusto_optuna.txt')"
   ]
  },
  {
   "cell_type": "code",
   "execution_count": null,
   "metadata": {},
   "outputs": [],
   "source": [
    "#8. Volvemos a leer el modelo.\n",
    "model_lgb = lgb.Booster(model_file=\"./lgb_datos_abril_menos_3_v2.txt\")\n",
    "#model_lgb = lgb.Booster(model_file=modelos_path + 'lgb_datos_fe_02_ajusto_optuna.txt')"
   ]
  },
  {
   "cell_type": "code",
   "execution_count": null,
   "metadata": {},
   "outputs": [],
   "source": [
    "#a. Importo librería.\n",
    "from kaggle.api.kaggle_api_extended import KaggleApi\n",
    "#b. Configura el API de Kaggle\n",
    "api = KaggleApi()\n",
    "api.authenticate()"
   ]
  },
  {
   "cell_type": "code",
   "execution_count": null,
   "metadata": {},
   "outputs": [],
   "source": [
    "#L. Predecimos Junio.\n",
    "#i. Predecimos propiamente dicho.\n",
    "predicciones = model_lgb.predict(X_test)\n",
    "#ii. Le pegamos la probabilidad de ser \"BAJA\" a cada cliente.\n",
    "X_test['Probabilidad'] = predicciones\n",
    "#iii. Ordenamos a los clientes por probabilidad de ser \"BAJA\" de forma descendente.\n",
    "tb_entrega = X_test.sort_values(by='Probabilidad', ascending=False)\n",
    "#iv. Genero una lista de distintos cortes candidatos, para enviar a Kaggle.\n",
    "cortes = range(9000,14000,200)\n",
    "#v. Generamos las distintas predicciones de clases a partir de los distintos cortes posibles.\n",
    "num_subida_kaggle = 1\n",
    "for envios in cortes:\n",
    "    #1. Le ponemos clase 1 (\"BAJA\") a los primeros \"envios\" con mayor probabilidad.\n",
    "    tb_entrega['Predicted'] = 0\n",
    "    tb_entrega.iloc[:envios, tb_entrega.columns.get_loc('Predicted')] = 1\n",
    "    resultados = tb_entrega[[\"numero_de_cliente\", 'Predicted']].reset_index(drop=True)\n",
    "    \n",
    "    print(\"Cantidad de clientes {}\".format(envios))\n",
    "    #2. Guardamos el archivo para Kaggle.\n",
    "    nombre_archivo = \"K107_OH_3_00{}.csv\".format(num_subida_kaggle) #DF con -X meses, número de intento.\n",
    "    ruta_archivo= \"../../../exp/{}\".format(nombre_archivo)\n",
    "    resultados.to_csv(ruta_archivo, index=False)\n",
    "    \n",
    "    num_subida_kaggle += 1\n",
    "    \n",
    "    #3. Envío a Kaggle.\n",
    "    #a. Defino los parámetros claves.\n",
    "    mensaje = f'Archivo {nombre_archivo}. LGB Train Abril FE V2 (lgb_datos_abril_menos_3_v2), punto_corte: {envios}. No se imputa, 100 Trials para búsqueda de hiperparámetros, 100 boost con stop early'\n",
    "    competencia = 'dm-ey-f-2024-primera'\n",
    "    #c. Subo la Submission.\n",
    "    while True:\n",
    "        try:\n",
    "            api.competition_submit(file_name=ruta_archivo, message=mensaje, competition=competencia)\n",
    "            print(\"Submission successful!\")\n",
    "            break\n",
    "        except ApiException as e:\n",
    "            if e.status == 429:  # Too Many Requests\n",
    "                print(\"Rate limit exceeded. Retrying after 30 seconds...\")\n",
    "                time.sleep(30)\n",
    "            else:\n",
    "                raise e  # Re-raise other exceptions"
   ]
  },
  {
   "cell_type": "markdown",
   "metadata": {},
   "source": [
    "## C. Train con Marzo-Abril con DF -2 con ratios incluidos."
   ]
  },
  {
   "cell_type": "code",
   "execution_count": null,
   "metadata": {},
   "outputs": [],
   "source": [
    "#1. Funcion de optimización de hiperparámetros.\n",
    "def objective(trial): \n",
    "    # Rango de parámetros a buscar sus valores óptimos.\n",
    "    num_leaves = trial.suggest_int('num_leaves', 10, 200)\n",
    "    learning_rate = trial.suggest_float('learning_rate', 0.005, 0.3) # mas bajo, más iteraciones necesita.\n",
    "    min_data_in_leaf = trial.suggest_int('min_data_in_leaf', 50, 2000)\n",
    "    feature_fraction = trial.suggest_float('feature_fraction', 0.1, 1.0)\n",
    "    bagging_fraction = trial.suggest_float('bagging_fraction', 0.1, 1.0)\n",
    "\n",
    "\n",
    "    # Parámetros que le voy a pasar al modelo.\n",
    "    params = {\n",
    "        'objective': 'binary',\n",
    "        'metric': 'custom',\n",
    "        'boosting_type': 'gbdt',\n",
    "        'first_metric_only': True,\n",
    "        'boost_from_average': True,\n",
    "        'feature_pre_filter': False,\n",
    "        'max_bin': 31,\n",
    "        'num_leaves': num_leaves,\n",
    "        'learning_rate': learning_rate,\n",
    "        'min_data_in_leaf': min_data_in_leaf,\n",
    "        'feature_fraction': feature_fraction,\n",
    "        'bagging_fraction': bagging_fraction,\n",
    "        'seed': semillas[0],\n",
    "        'verbose': -1\n",
    "    }\n",
    "    \n",
    "    # Creo el dataset para Light GBM.\n",
    "    train_data = lgb.Dataset(X_train,\n",
    "                              label=y_train_binaria2, # eligir la clase\n",
    "                              weight=w_train)\n",
    "    \n",
    "    # Entreno.\n",
    "    cv_results = lgb.cv(\n",
    "        params,\n",
    "        train_data,\n",
    "        num_boost_round=1000, # modificar, subit y subir... y descomentar la línea inferior\n",
    "        callbacks=[lgb.early_stopping(int(50 + 5 / learning_rate))],\n",
    "        feval=lgb_gan_eval,\n",
    "        stratified=True,\n",
    "        nfold=5,\n",
    "        seed=semillas[0]\n",
    "    )\n",
    "    \n",
    "    # Calculo la ganancia máxima y la mejor iteración donde se obtuvo dicha ganancia.\n",
    "    max_gan = max(cv_results['valid gan_eval-mean'])\n",
    "    best_iter = cv_results['valid gan_eval-mean'].index(max_gan) + 1\n",
    "\n",
    "    # Guardamos cual es la mejor iteración del modelo\n",
    "    trial.set_user_attr(\"best_iter\", best_iter)\n",
    "\n",
    "    return max_gan * 5"
   ]
  },
  {
   "cell_type": "code",
   "execution_count": null,
   "metadata": {},
   "outputs": [],
   "source": [
    "#2. Divido entre Train y Test.\n",
    "train_data = data[data['foto_mes'].isin(mes_train_ma)]\n",
    "test_data = data[data['foto_mes'] == mes_test]\n",
    "\n",
    "X_train = train_data.drop(['clase_ternaria', 'clase_peso', 'clase_binaria1','clase_binaria2'], axis=1)\n",
    "y_train_binaria1 = train_data['clase_binaria1']\n",
    "y_train_binaria2 = train_data['clase_binaria2']\n",
    "w_train = train_data['clase_peso']\n",
    "\n",
    "X_test = test_data.drop(['clase_ternaria', 'clase_peso', 'clase_binaria1','clase_binaria2'], axis=1)\n",
    "y_test_binaria1 = test_data['clase_binaria1']\n",
    "y_test_class = test_data['clase_ternaria']\n",
    "w_test = test_data['clase_peso']"
   ]
  },
  {
   "cell_type": "code",
   "execution_count": null,
   "metadata": {},
   "outputs": [],
   "source": [
    "#3. Voy a realizar un estudio de Optuna para encontrar los mejores parámetros.\n",
    "#i. Creo la base de datos donde guardar los resultados.\n",
    "storage_name = \"sqlite:///\" + db_path + \"optimization_lgbm.db\"\n",
    "study_name = \"exp_721_lgbm_train_marzo_abril_menos_2_V2\" # Primer dígito número de clase, segundo dígito df - cuanto, tercer dígito número de entrenamiento.\n",
    "\n",
    "#ii. Creo el estudio.\n",
    "study = optuna.create_study(\n",
    "    direction=\"maximize\",\n",
    "    study_name=study_name,\n",
    "    storage=storage_name,\n",
    "    load_if_exists=True,\n",
    ")\n",
    "\n",
    "#iii. Corro el estudio.\n",
    "#study.optimize(objective, n_trials=100)"
   ]
  },
  {
   "cell_type": "code",
   "execution_count": null,
   "metadata": {},
   "outputs": [],
   "source": [
    "#4. Visualizo los resultados del estudio, para modificar los rangos de análisis."
   ]
  },
  {
   "cell_type": "code",
   "execution_count": null,
   "metadata": {},
   "outputs": [],
   "source": [
    "optuna.visualization.plot_optimization_history(study)"
   ]
  },
  {
   "cell_type": "code",
   "execution_count": null,
   "metadata": {},
   "outputs": [],
   "source": [
    "plot_param_importances(study)"
   ]
  },
  {
   "cell_type": "code",
   "execution_count": null,
   "metadata": {},
   "outputs": [],
   "source": [
    "plot_slice(study)"
   ]
  },
  {
   "cell_type": "code",
   "execution_count": null,
   "metadata": {},
   "outputs": [],
   "source": [
    "# Podría intentar entrenar con mayor número de num_leaves."
   ]
  },
  {
   "cell_type": "code",
   "execution_count": null,
   "metadata": {},
   "outputs": [],
   "source": [
    "plot_contour(study)"
   ]
  },
  {
   "cell_type": "code",
   "execution_count": null,
   "metadata": {},
   "outputs": [],
   "source": [
    "plot_contour(study, params=['num_leaves','min_data_in_leaf'] )"
   ]
  },
  {
   "cell_type": "code",
   "execution_count": null,
   "metadata": {},
   "outputs": [],
   "source": [
    "study.best_trial.params"
   ]
  },
  {
   "cell_type": "code",
   "execution_count": null,
   "metadata": {},
   "outputs": [],
   "source": [
    "#5. Tomamos el mejor modelo y con eso entrenamos todos los datos.\n",
    "best_iter = study.best_trial.user_attrs[\"best_iter\"]\n",
    "print(f\"Mejor cantidad de árboles para el mejor model {best_iter}\")\n",
    "params = {\n",
    "    'objective': 'binary',\n",
    "    'boosting_type': 'gbdt',\n",
    "    'first_metric_only': True,\n",
    "    'boost_from_average': True,\n",
    "    'feature_pre_filter': False,\n",
    "    'max_bin': 31,\n",
    "    'num_leaves': study.best_trial.params['num_leaves'],\n",
    "    'learning_rate': study.best_trial.params['learning_rate'],\n",
    "    'min_data_in_leaf': study.best_trial.params['min_data_in_leaf'],\n",
    "    'feature_fraction': study.best_trial.params['feature_fraction'],\n",
    "    'bagging_fraction': study.best_trial.params['bagging_fraction'],\n",
    "    'seed': semillas[0],\n",
    "    'verbose': 0\n",
    "}\n",
    "\n",
    "train_data = lgb.Dataset(X_train,\n",
    "                          label=y_train_binaria2,\n",
    "                          weight=w_train)\n",
    "\n",
    "model_lgb = lgb.train(params,\n",
    "                  train_data,\n",
    "                  num_boost_round=best_iter)"
   ]
  },
  {
   "cell_type": "code",
   "execution_count": null,
   "metadata": {},
   "outputs": [],
   "source": [
    "#6. Observamos las variables más importantes para el modelo.\n",
    "#i. Gráfico.\n",
    "lgb.plot_importance(model_lgb, figsize=(10, 20))\n",
    "plt.show()"
   ]
  },
  {
   "cell_type": "code",
   "execution_count": null,
   "metadata": {},
   "outputs": [],
   "source": [
    "#ii. Dataframe.\n",
    "#a. Extract feature importance and feature names.\n",
    "importance = model_lgb.feature_importance()\n",
    "features = model_lgb.feature_name()\n",
    "\n",
    "#b. Create a dataframe for better visualization.\n",
    "importance_df = pd.DataFrame({'Feature': features, 'Importance': importance})\n",
    "\n",
    "#c. Sort by importance in descending order.\n",
    "importance_df = importance_df.sort_values(by='Importance', ascending=False).reset_index(drop=True)\n",
    "\n",
    "#d. show.\n",
    "importance_df.head(100)"
   ]
  },
  {
   "cell_type": "code",
   "execution_count": null,
   "metadata": {},
   "outputs": [],
   "source": [
    "#7. Guardamos el modelo.\n",
    "model_lgb.save_model('./lgb_datos_marzo_abril_menos_2_v2.txt')\n",
    "#model_lgb.save_model(modelos_path + 'lgb_datos_fe_02_ajusto_optuna.txt')"
   ]
  },
  {
   "cell_type": "code",
   "execution_count": null,
   "metadata": {},
   "outputs": [],
   "source": [
    "#8. Volvemos a leer el modelo.\n",
    "model_lgb = lgb.Booster(model_file=\"./lgb_datos_marzo_abril_menos_2_v2.txt\")\n",
    "#model_lgb = lgb.Booster(model_file=modelos_path + 'lgb_datos_fe_02_ajusto_optuna.txt')"
   ]
  },
  {
   "cell_type": "code",
   "execution_count": null,
   "metadata": {},
   "outputs": [],
   "source": [
    "#a. Importo librería.\n",
    "from kaggle.api.kaggle_api_extended import KaggleApi\n",
    "#b. Configura el API de Kaggle\n",
    "api = KaggleApi()\n",
    "api.authenticate()"
   ]
  },
  {
   "cell_type": "code",
   "execution_count": null,
   "metadata": {},
   "outputs": [],
   "source": [
    "#L. Predecimos Junio.\n",
    "#i. Predecimos propiamente dicho.\n",
    "predicciones = model_lgb.predict(X_test)\n",
    "#ii. Le pegamos la probabilidad de ser \"BAJA\" a cada cliente.\n",
    "X_test['Probabilidad'] = predicciones\n",
    "#iii. Ordenamos a los clientes por probabilidad de ser \"BAJA\" de forma descendente.\n",
    "tb_entrega = X_test.sort_values(by='Probabilidad', ascending=False)\n",
    "#iv. Genero una lista de distintos cortes candidatos, para enviar a Kaggle.\n",
    "cortes = range(9000,14000,200)\n",
    "#v. Generamos las distintas predicciones de clases a partir de los distintos cortes posibles.\n",
    "num_subida_kaggle = 1\n",
    "for envios in cortes:\n",
    "    #1. Le ponemos clase 1 (\"BAJA\") a los primeros \"envios\" con mayor probabilidad.\n",
    "    tb_entrega['Predicted'] = 0\n",
    "    tb_entrega.iloc[:envios, tb_entrega.columns.get_loc('Predicted')] = 1\n",
    "    resultados = tb_entrega[[\"numero_de_cliente\", 'Predicted']].reset_index(drop=True)\n",
    "    \n",
    "    print(\"Cantidad de clientes {}\".format(envios))\n",
    "    #2. Guardamos el archivo para Kaggle.\n",
    "    nombre_archivo = \"K107_OH_2_00{}.csv\".format(num_subida_kaggle) #DF con -X meses, número de intento.\n",
    "    ruta_archivo= \"../../../exp/{}\".format(nombre_archivo)\n",
    "    resultados.to_csv(ruta_archivo, index=False)\n",
    "    \n",
    "    num_subida_kaggle += 1\n",
    "    \n",
    "    #3. Envío a Kaggle.\n",
    "    #a. Defino los parámetros claves.\n",
    "    mensaje = f'Archivo {nombre_archivo}. LGB Train Marzo-Abril FE V2 (lgb_datos_marzo_abril_menos_2_v2), punto_corte: {envios}. No se imputa, 100 Trials para búsqueda de hiperparámetros, 100 boost con stop early'\n",
    "    competencia = 'dm-ey-f-2024-primera'\n",
    "    #c. Subo la Submission.\n",
    "    while True:\n",
    "        try:\n",
    "            api.competition_submit(file_name=ruta_archivo, message=mensaje, competition=competencia)\n",
    "            print(\"Submission successful!\")\n",
    "            break\n",
    "        except ApiException as e:\n",
    "            if e.status == 429:  # Too Many Requests\n",
    "                print(\"Rate limit exceeded. Retrying after 30 seconds...\")\n",
    "                time.sleep(30)\n",
    "            else:\n",
    "                raise e  # Re-raise other exceptions"
   ]
  },
  {
   "cell_type": "code",
   "execution_count": null,
   "metadata": {},
   "outputs": [],
   "source": []
  },
  {
   "cell_type": "markdown",
   "metadata": {},
   "source": [
    "## D. Train con Abril -3 DF, quitando las columnas relacionadas a los préstamos, por Data Concept. Además, primero entrenamos normalmente, nos fijamos las variables no importantes, y después volvemos a entrenar sin esas variables. Nos fijamos si tenemos un salto cuantitativo."
   ]
  },
  {
   "cell_type": "code",
   "execution_count": null,
   "metadata": {},
   "outputs": [],
   "source": [
    "###################################################################################################################\n",
    "###################################################################################################################\n",
    "###################################################################################################################\n",
    "###################################################################################################################\n",
    "############################ Quitamos todas las columnas relacionadas con préstamos personales, ###################\n",
    "############################ antes de comenzar la optimización de hiperparámetros #################################\n",
    "###################################################################################################################\n",
    "###################################################################################################################\n",
    "###################################################################################################################\n",
    "###################################################################################################################\n",
    "columnas_de_interes_prestamos = data.filter(like='prestamos_personales').columns\n",
    "\n",
    "data.drop(columnas_de_interes_prestamos,axis=1,inplace=True)"
   ]
  },
  {
   "cell_type": "code",
   "execution_count": null,
   "metadata": {},
   "outputs": [],
   "source": [
    "#1. Funcion de optimización de hiperparámetros.\n",
    "def objective(trial): \n",
    "    # Rango de parámetros a buscar sus valores óptimos.\n",
    "    num_leaves = trial.suggest_int('num_leaves', 10, 200)\n",
    "    learning_rate = trial.suggest_float('learning_rate', 0.005, 0.3) # mas bajo, más iteraciones necesita.\n",
    "    min_data_in_leaf = trial.suggest_int('min_data_in_leaf', 50, 2000)\n",
    "    feature_fraction = trial.suggest_float('feature_fraction', 0.1, 1.0)\n",
    "    bagging_fraction = trial.suggest_float('bagging_fraction', 0.1, 1.0)\n",
    "\n",
    "\n",
    "    # Parámetros que le voy a pasar al modelo.\n",
    "    params = {\n",
    "        'objective': 'binary',\n",
    "        'metric': 'custom',\n",
    "        'boosting_type': 'gbdt',\n",
    "        'first_metric_only': True,\n",
    "        'boost_from_average': True,\n",
    "        'feature_pre_filter': False,\n",
    "        'max_bin': 31,\n",
    "        'num_leaves': num_leaves,\n",
    "        'learning_rate': learning_rate,\n",
    "        'min_data_in_leaf': min_data_in_leaf,\n",
    "        'feature_fraction': feature_fraction,\n",
    "        'bagging_fraction': bagging_fraction,\n",
    "        'seed': semillas[0],\n",
    "        'verbose': -1\n",
    "    }\n",
    "    \n",
    "    # Creo el dataset para Light GBM.\n",
    "    train_data = lgb.Dataset(X_train,\n",
    "                              label=y_train_binaria2, # eligir la clase\n",
    "                              weight=w_train)\n",
    "    \n",
    "    # Entreno.\n",
    "    cv_results = lgb.cv(\n",
    "        params,\n",
    "        train_data,\n",
    "        num_boost_round=1000, # modificar, subit y subir... y descomentar la línea inferior\n",
    "        callbacks=[lgb.early_stopping(int(50 + 5 / learning_rate))],\n",
    "        feval=lgb_gan_eval,\n",
    "        stratified=True,\n",
    "        nfold=5,\n",
    "        seed=semillas[0]\n",
    "    )\n",
    "    \n",
    "    # Calculo la ganancia máxima y la mejor iteración donde se obtuvo dicha ganancia.\n",
    "    max_gan = max(cv_results['valid gan_eval-mean'])\n",
    "    best_iter = cv_results['valid gan_eval-mean'].index(max_gan) + 1\n",
    "\n",
    "    # Guardamos cual es la mejor iteración del modelo\n",
    "    trial.set_user_attr(\"best_iter\", best_iter)\n",
    "\n",
    "    return max_gan * 5"
   ]
  },
  {
   "cell_type": "code",
   "execution_count": null,
   "metadata": {},
   "outputs": [],
   "source": [
    "# Elimino de mi Dataframe las columnas con importancia 0 (está definida la variable más adelante, después de un entrenamiento).\n",
    "#i. Leo el modelo anterior.\n",
    "model_lgb = lgb.Booster(model_file=\"./lgb_datos_abril_menos_3_sin_prestamos.txt\")\n",
    "#ii. Calculo la feature importance.\n",
    "#a. Extract feature importance and feature names.\n",
    "importance = model_lgb.feature_importance()\n",
    "features = model_lgb.feature_name()\n",
    "#b. Create a dataframe for better visualization.\n",
    "importance_df = pd.DataFrame({'Feature': features, 'Importance': importance})\n",
    "#c. Sort by importance in descending order.\n",
    "importance_df = importance_df.sort_values(by='Importance', ascending=False).reset_index(drop=True)\n",
    "#d. show.\n",
    "importance_df\n",
    "#iii. Defino y elimino las columnas de interés.\n",
    "cols_eliminar = importance_df[importance_df[\"Importance\"] == 0][\"Feature\"].to_list()\n",
    "cols_eliminar.remove(\"foto_mes\")\n",
    "data = data.drop(columns=cols_eliminar)"
   ]
  },
  {
   "cell_type": "code",
   "execution_count": null,
   "metadata": {},
   "outputs": [],
   "source": [
    "#2. Divido entre Train y Test.\n",
    "train_data = data[data['foto_mes'] == mes_train_a]\n",
    "test_data = data[data['foto_mes'] == mes_test]\n",
    "\n",
    "X_train = train_data.drop(['clase_ternaria', 'clase_peso', 'clase_binaria1','clase_binaria2'], axis=1)\n",
    "y_train_binaria1 = train_data['clase_binaria1']\n",
    "y_train_binaria2 = train_data['clase_binaria2']\n",
    "w_train = train_data['clase_peso']\n",
    "\n",
    "X_test = test_data.drop(['clase_ternaria', 'clase_peso', 'clase_binaria1','clase_binaria2'], axis=1)\n",
    "y_test_binaria1 = test_data['clase_binaria1']\n",
    "y_test_class = test_data['clase_ternaria']\n",
    "w_test = test_data['clase_peso']"
   ]
  },
  {
   "cell_type": "code",
   "execution_count": null,
   "metadata": {},
   "outputs": [],
   "source": [
    "del data"
   ]
  },
  {
   "cell_type": "code",
   "execution_count": null,
   "metadata": {},
   "outputs": [],
   "source": [
    "#3. Voy a realizar un estudio de Optuna para encontrar los mejores parámetros.\n",
    "#i. Creo la base de datos donde guardar los resultados.\n",
    "storage_name = \"sqlite:///\" + db_path + \"optimization_lgbm.db\"\n",
    "study_name = \"exp_732_lgbm_train_abril_menos_3_sin_prestamo_limpieza_columnas\" # Primer dígito número de clase, segundo dígito df - cuanto, tercer dígito número de entrenamiento.\n",
    "\n",
    "#ii. Creo el estudio.\n",
    "study = optuna.create_study(\n",
    "    direction=\"maximize\",\n",
    "    study_name=study_name,\n",
    "    storage=storage_name,\n",
    "    load_if_exists=True,\n",
    ")\n",
    "\n",
    "#iii. Corro el estudio.\n",
    "study.optimize(objective, n_trials=100)"
   ]
  },
  {
   "cell_type": "code",
   "execution_count": null,
   "metadata": {},
   "outputs": [],
   "source": [
    "#4. Visualizo los resultados del estudio, para modificar los rangos de análisis."
   ]
  },
  {
   "cell_type": "code",
   "execution_count": null,
   "metadata": {},
   "outputs": [],
   "source": [
    "optuna.visualization.plot_optimization_history(study)"
   ]
  },
  {
   "cell_type": "code",
   "execution_count": null,
   "metadata": {},
   "outputs": [],
   "source": [
    "plot_param_importances(study)"
   ]
  },
  {
   "cell_type": "code",
   "execution_count": null,
   "metadata": {},
   "outputs": [],
   "source": [
    "plot_slice(study)"
   ]
  },
  {
   "cell_type": "code",
   "execution_count": null,
   "metadata": {},
   "outputs": [],
   "source": [
    "plot_contour(study)"
   ]
  },
  {
   "cell_type": "code",
   "execution_count": null,
   "metadata": {},
   "outputs": [],
   "source": [
    "plot_contour(study, params=['num_leaves','min_data_in_leaf'] )"
   ]
  },
  {
   "cell_type": "code",
   "execution_count": null,
   "metadata": {},
   "outputs": [],
   "source": [
    "study.best_trial.params"
   ]
  },
  {
   "cell_type": "code",
   "execution_count": null,
   "metadata": {},
   "outputs": [],
   "source": [
    "#5. Tomamos el mejor modelo y con eso entrenamos todos los datos.\n",
    "best_iter = study.best_trial.user_attrs[\"best_iter\"]\n",
    "print(f\"Mejor cantidad de árboles para el mejor model {best_iter}\")\n",
    "params = {\n",
    "    'objective': 'binary',\n",
    "    'boosting_type': 'gbdt',\n",
    "    'first_metric_only': True,\n",
    "    'boost_from_average': True,\n",
    "    'feature_pre_filter': False,\n",
    "    'max_bin': 31,\n",
    "    'num_leaves': study.best_trial.params['num_leaves'],\n",
    "    'learning_rate': study.best_trial.params['learning_rate'],\n",
    "    'min_data_in_leaf': study.best_trial.params['min_data_in_leaf'],\n",
    "    'feature_fraction': study.best_trial.params['feature_fraction'],\n",
    "    'bagging_fraction': study.best_trial.params['bagging_fraction'],\n",
    "    'seed': semillas[0],\n",
    "    'verbose': 0\n",
    "}\n",
    "\n",
    "train_data = lgb.Dataset(X_train,\n",
    "                          label=y_train_binaria2,\n",
    "                          weight=w_train)\n",
    "\n",
    "model_lgb = lgb.train(params,\n",
    "                  train_data,\n",
    "                  num_boost_round=best_iter)"
   ]
  },
  {
   "cell_type": "code",
   "execution_count": null,
   "metadata": {},
   "outputs": [],
   "source": [
    "#6. Observamos las variables más importantes para el modelo.\n",
    "#i. Gráfico.\n",
    "lgb.plot_importance(model_lgb, figsize=(10, 20))\n",
    "plt.show()"
   ]
  },
  {
   "cell_type": "code",
   "execution_count": null,
   "metadata": {},
   "outputs": [],
   "source": [
    "#ii. Dataframe.\n",
    "#a. Extract feature importance and feature names.\n",
    "importance = model_lgb.feature_importance()\n",
    "features = model_lgb.feature_name()\n",
    "\n",
    "#b. Create a dataframe for better visualization.\n",
    "importance_df = pd.DataFrame({'Feature': features, 'Importance': importance})\n",
    "\n",
    "#c. Sort by importance in descending order.\n",
    "importance_df = importance_df.sort_values(by='Importance', ascending=False).reset_index(drop=True)\n",
    "\n",
    "#d. show.\n",
    "importance_df\n",
    "#e. Columnas a Eliminar.\n",
    "cols_eliminar = importance_df[importance_df[\"Importance\"] == 0][\"Feature\"].to_list()"
   ]
  },
  {
   "cell_type": "code",
   "execution_count": null,
   "metadata": {},
   "outputs": [],
   "source": [
    "len(cols_eliminar)"
   ]
  },
  {
   "cell_type": "code",
   "execution_count": null,
   "metadata": {},
   "outputs": [],
   "source": [
    "importance_df"
   ]
  },
  {
   "cell_type": "code",
   "execution_count": null,
   "metadata": {},
   "outputs": [],
   "source": [
    "#7. Guardamos el modelo.\n",
    "model_lgb.save_model('./lgb_datos_abril_menos_3_sin_prestamos.txt')"
   ]
  },
  {
   "cell_type": "code",
   "execution_count": null,
   "metadata": {},
   "outputs": [],
   "source": [
    "#8. Volvemos a leer el modelo.\n",
    "model_lgb = lgb.Booster(model_file=\"./lgb_datos_abril_menos_3_sin_prestamos.txt\")"
   ]
  },
  {
   "cell_type": "code",
   "execution_count": null,
   "metadata": {},
   "outputs": [],
   "source": [
    "api = KaggleApi()\n",
    "api.authenticate()"
   ]
  },
  {
   "cell_type": "code",
   "execution_count": null,
   "metadata": {},
   "outputs": [],
   "source": [
    "#i. Entrenamos con Abril y predecimos Junio.\n",
    "#vi. Predecimos Junio.\n",
    "predicciones = model_lgb.predict(X_test)\n",
    "#vii. Le pegamos la probabilidad de ser \"BAJA\" a cada cliente.\n",
    "X_test['Probabilidad'] = predicciones\n",
    "#viii. Ordenamos a los clientes por probabilidad de ser \"BAJA\" de forma descendente.\n",
    "tb_entrega = X_test.sort_values(by='Probabilidad', ascending=False)\n",
    "#ix. Genero una lista de distintos cortes candidatos, para enviar a Kaggle.\n",
    "cortes = range(11000,13000,500)\n",
    "#x. Generamos las distintas predicciones de clases a partir de los distintos cortes posibles.\n",
    "num_subida_kaggle = 1\n",
    "print(\"--> Comienzan los envíos a Kaggle...\\n\")\n",
    "for envios in cortes:\n",
    "    #1. Le ponemos clase 1 (\"BAJA\") a los primeros \"envios\" con mayor probabilidad.\n",
    "    tb_entrega['Predicted'] = 0\n",
    "    tb_entrega.iloc[:envios, tb_entrega.columns.get_loc('Predicted')] = 1\n",
    "    resultados = tb_entrega[[\"numero_de_cliente\", 'Predicted']].reset_index(drop=True)\n",
    "\n",
    "    print(\"Cantidad de clientes {}\".format(envios))\n",
    "    #2. Guardamos el archivo para Kaggle.\n",
    "    nombre_archivo = \"K107_EK_3_SPP_LimpCol_0{}.csv\".format(num_subida_kaggle) #DF con -X meses, número de intento, número de semilla.\n",
    "    ruta_archivo= \"../../../exp/{}\".format(nombre_archivo)\n",
    "    resultados.to_csv(ruta_archivo, index=False)\n",
    "\n",
    "    num_subida_kaggle += 1\n",
    "\n",
    "    #3. Envío a Kaggle.\n",
    "    #a. Defino los parámetros claves.\n",
    "    mensaje = f'Archivo {nombre_archivo}. Abril DF sin PP. Corte:{envios}' # Datos de Train, si está con Data Drifting o no, semilla y punto de corte de prueba.\n",
    "    competencia = 'dm-ey-f-2024-primera'\n",
    "    #c. Subo la Submission.\n",
    "    api.competition_submit(file_name=ruta_archivo, message=mensaje, competition=competencia)\n",
    "    print(\"Submission Bien!\")"
   ]
  },
  {
   "cell_type": "markdown",
   "metadata": {},
   "source": [
    "## E. Train con Abril -3 DF, quitando todas las columnas relacionadas a monetarias."
   ]
  },
  {
   "cell_type": "code",
   "execution_count": null,
   "metadata": {},
   "outputs": [],
   "source": [
    "###################################################################################################################\n",
    "###################################################################################################################\n",
    "###################################################################################################################\n",
    "###################################################################################################################\n",
    "############################ Quitamos todas las columnas relacionadas con monetarias, ###################\n",
    "############################ antes de comenzar la optimización de hiperparámetros #################################\n",
    "###################################################################################################################\n",
    "###################################################################################################################\n",
    "###################################################################################################################\n",
    "###################################################################################################################\n",
    "campos_monetarios = [col for col in data.columns if col.startswith(('m', 'Visa_m', 'Master_m', 'vm_m'))]\n",
    "\n",
    "\n",
    "columnas_de_interes_prestamos = data.filter(like='mvisa').columns\n",
    "\n",
    "data.drop(columnas_de_interes_prestamos,axis=1,inplace=True)"
   ]
  },
  {
   "cell_type": "code",
   "execution_count": null,
   "metadata": {},
   "outputs": [],
   "source": [
    "#1. Funcion de optimización de hiperparámetros.\n",
    "def objective(trial): \n",
    "    # Rango de parámetros a buscar sus valores óptimos.\n",
    "    num_leaves = trial.suggest_int('num_leaves', 10, 200)\n",
    "    learning_rate = trial.suggest_float('learning_rate', 0.005, 0.3) # mas bajo, más iteraciones necesita.\n",
    "    min_data_in_leaf = trial.suggest_int('min_data_in_leaf', 50, 2000)\n",
    "    feature_fraction = trial.suggest_float('feature_fraction', 0.1, 1.0)\n",
    "    bagging_fraction = trial.suggest_float('bagging_fraction', 0.1, 1.0)\n",
    "\n",
    "\n",
    "    # Parámetros que le voy a pasar al modelo.\n",
    "    params = {\n",
    "        'objective': 'binary',\n",
    "        'metric': 'custom',\n",
    "        'boosting_type': 'gbdt',\n",
    "        'first_metric_only': True,\n",
    "        'boost_from_average': True,\n",
    "        'feature_pre_filter': False,\n",
    "        'max_bin': 31,\n",
    "        'num_leaves': num_leaves,\n",
    "        'learning_rate': learning_rate,\n",
    "        'min_data_in_leaf': min_data_in_leaf,\n",
    "        'feature_fraction': feature_fraction,\n",
    "        'bagging_fraction': bagging_fraction,\n",
    "        'seed': semillas[0],\n",
    "        'verbose': -1\n",
    "    }\n",
    "    \n",
    "    # Creo el dataset para Light GBM.\n",
    "    train_data = lgb.Dataset(X_train,\n",
    "                              label=y_train_binaria2, # eligir la clase\n",
    "                              weight=w_train)\n",
    "    \n",
    "    # Entreno.\n",
    "    cv_results = lgb.cv(\n",
    "        params,\n",
    "        train_data,\n",
    "        num_boost_round=1000, # modificar, subit y subir... y descomentar la línea inferior\n",
    "        callbacks=[lgb.early_stopping(int(50 + 5 / learning_rate))],\n",
    "        feval=lgb_gan_eval,\n",
    "        stratified=True,\n",
    "        nfold=5,\n",
    "        seed=semillas[0]\n",
    "    )\n",
    "    \n",
    "    # Calculo la ganancia máxima y la mejor iteración donde se obtuvo dicha ganancia.\n",
    "    max_gan = max(cv_results['valid gan_eval-mean'])\n",
    "    best_iter = cv_results['valid gan_eval-mean'].index(max_gan) + 1\n",
    "\n",
    "    # Guardamos cual es la mejor iteración del modelo\n",
    "    trial.set_user_attr(\"best_iter\", best_iter)\n",
    "\n",
    "    return max_gan * 5"
   ]
  },
  {
   "cell_type": "code",
   "execution_count": null,
   "metadata": {},
   "outputs": [],
   "source": [
    "# Elimino de mi Dataframe las columnas con importancia 0 (está definida la variable más adelante, después de un entrenamiento).\n",
    "#i. Leo el modelo anterior.\n",
    "model_lgb = lgb.Booster(model_file=\"./lgb_datos_abril_menos_3_sin_prestamos.txt\")\n",
    "#ii. Calculo la feature importance.\n",
    "#a. Extract feature importance and feature names.\n",
    "importance = model_lgb.feature_importance()\n",
    "features = model_lgb.feature_name()\n",
    "#b. Create a dataframe for better visualization.\n",
    "importance_df = pd.DataFrame({'Feature': features, 'Importance': importance})\n",
    "#c. Sort by importance in descending order.\n",
    "importance_df = importance_df.sort_values(by='Importance', ascending=False).reset_index(drop=True)\n",
    "#d. show.\n",
    "importance_df\n",
    "#iii. Defino y elimino las columnas de interés.\n",
    "cols_eliminar = importance_df[importance_df[\"Importance\"] == 0][\"Feature\"].to_list()\n",
    "cols_eliminar.remove(\"foto_mes\")\n",
    "data = data.drop(columns=cols_eliminar)"
   ]
  },
  {
   "cell_type": "code",
   "execution_count": null,
   "metadata": {},
   "outputs": [],
   "source": [
    "#2. Divido entre Train y Test.\n",
    "train_data = data[data['foto_mes'] == mes_train_a]\n",
    "test_data = data[data['foto_mes'] == mes_test]\n",
    "\n",
    "X_train = train_data.drop(['clase_ternaria', 'clase_peso', 'clase_binaria1','clase_binaria2'], axis=1)\n",
    "y_train_binaria1 = train_data['clase_binaria1']\n",
    "y_train_binaria2 = train_data['clase_binaria2']\n",
    "w_train = train_data['clase_peso']\n",
    "\n",
    "X_test = test_data.drop(['clase_ternaria', 'clase_peso', 'clase_binaria1','clase_binaria2'], axis=1)\n",
    "y_test_binaria1 = test_data['clase_binaria1']\n",
    "y_test_class = test_data['clase_ternaria']\n",
    "w_test = test_data['clase_peso']"
   ]
  },
  {
   "cell_type": "code",
   "execution_count": null,
   "metadata": {},
   "outputs": [],
   "source": [
    "del data"
   ]
  },
  {
   "cell_type": "code",
   "execution_count": null,
   "metadata": {},
   "outputs": [],
   "source": [
    "#3. Voy a realizar un estudio de Optuna para encontrar los mejores parámetros.\n",
    "#i. Creo la base de datos donde guardar los resultados.\n",
    "storage_name = \"sqlite:///\" + db_path + \"optimization_lgbm.db\"\n",
    "study_name = \"exp_732_lgbm_train_abril_menos_3_sin_prestamo_limpieza_columnas\" # Primer dígito número de clase, segundo dígito df - cuanto, tercer dígito número de entrenamiento.\n",
    "\n",
    "#ii. Creo el estudio.\n",
    "study = optuna.create_study(\n",
    "    direction=\"maximize\",\n",
    "    study_name=study_name,\n",
    "    storage=storage_name,\n",
    "    load_if_exists=True,\n",
    ")\n",
    "\n",
    "#iii. Corro el estudio.\n",
    "study.optimize(objective, n_trials=100)"
   ]
  },
  {
   "cell_type": "code",
   "execution_count": null,
   "metadata": {},
   "outputs": [],
   "source": [
    "#4. Visualizo los resultados del estudio, para modificar los rangos de análisis."
   ]
  },
  {
   "cell_type": "code",
   "execution_count": null,
   "metadata": {},
   "outputs": [],
   "source": [
    "optuna.visualization.plot_optimization_history(study)"
   ]
  },
  {
   "cell_type": "code",
   "execution_count": null,
   "metadata": {},
   "outputs": [],
   "source": [
    "plot_param_importances(study)"
   ]
  },
  {
   "cell_type": "code",
   "execution_count": null,
   "metadata": {},
   "outputs": [],
   "source": [
    "plot_slice(study)"
   ]
  },
  {
   "cell_type": "code",
   "execution_count": null,
   "metadata": {},
   "outputs": [],
   "source": [
    "plot_contour(study)"
   ]
  },
  {
   "cell_type": "code",
   "execution_count": null,
   "metadata": {},
   "outputs": [],
   "source": [
    "plot_contour(study, params=['num_leaves','min_data_in_leaf'] )"
   ]
  },
  {
   "cell_type": "code",
   "execution_count": null,
   "metadata": {},
   "outputs": [],
   "source": [
    "study.best_trial.params"
   ]
  },
  {
   "cell_type": "code",
   "execution_count": null,
   "metadata": {},
   "outputs": [],
   "source": [
    "#5. Tomamos el mejor modelo y con eso entrenamos todos los datos.\n",
    "best_iter = study.best_trial.user_attrs[\"best_iter\"]\n",
    "print(f\"Mejor cantidad de árboles para el mejor model {best_iter}\")\n",
    "params = {\n",
    "    'objective': 'binary',\n",
    "    'boosting_type': 'gbdt',\n",
    "    'first_metric_only': True,\n",
    "    'boost_from_average': True,\n",
    "    'feature_pre_filter': False,\n",
    "    'max_bin': 31,\n",
    "    'num_leaves': study.best_trial.params['num_leaves'],\n",
    "    'learning_rate': study.best_trial.params['learning_rate'],\n",
    "    'min_data_in_leaf': study.best_trial.params['min_data_in_leaf'],\n",
    "    'feature_fraction': study.best_trial.params['feature_fraction'],\n",
    "    'bagging_fraction': study.best_trial.params['bagging_fraction'],\n",
    "    'seed': semillas[0],\n",
    "    'verbose': 0\n",
    "}\n",
    "\n",
    "train_data = lgb.Dataset(X_train,\n",
    "                          label=y_train_binaria2,\n",
    "                          weight=w_train)\n",
    "\n",
    "model_lgb = lgb.train(params,\n",
    "                  train_data,\n",
    "                  num_boost_round=best_iter)"
   ]
  },
  {
   "cell_type": "code",
   "execution_count": null,
   "metadata": {},
   "outputs": [],
   "source": [
    "#6. Observamos las variables más importantes para el modelo.\n",
    "#i. Gráfico.\n",
    "lgb.plot_importance(model_lgb, figsize=(10, 20))\n",
    "plt.show()"
   ]
  },
  {
   "cell_type": "code",
   "execution_count": null,
   "metadata": {},
   "outputs": [],
   "source": [
    "#ii. Dataframe.\n",
    "#a. Extract feature importance and feature names.\n",
    "importance = model_lgb.feature_importance()\n",
    "features = model_lgb.feature_name()\n",
    "\n",
    "#b. Create a dataframe for better visualization.\n",
    "importance_df = pd.DataFrame({'Feature': features, 'Importance': importance})\n",
    "\n",
    "#c. Sort by importance in descending order.\n",
    "importance_df = importance_df.sort_values(by='Importance', ascending=False).reset_index(drop=True)\n",
    "\n",
    "#d. show.\n",
    "importance_df\n",
    "#e. Columnas a Eliminar.\n",
    "cols_eliminar = importance_df[importance_df[\"Importance\"] == 0][\"Feature\"].to_list()"
   ]
  },
  {
   "cell_type": "code",
   "execution_count": null,
   "metadata": {},
   "outputs": [],
   "source": [
    "len(cols_eliminar)"
   ]
  },
  {
   "cell_type": "code",
   "execution_count": null,
   "metadata": {},
   "outputs": [],
   "source": [
    "importance_df"
   ]
  },
  {
   "cell_type": "code",
   "execution_count": null,
   "metadata": {},
   "outputs": [],
   "source": [
    "#7. Guardamos el modelo.\n",
    "model_lgb.save_model('./lgb_datos_abril_menos_3_sin_prestamos.txt')"
   ]
  },
  {
   "cell_type": "code",
   "execution_count": null,
   "metadata": {},
   "outputs": [],
   "source": [
    "#8. Volvemos a leer el modelo.\n",
    "model_lgb = lgb.Booster(model_file=\"./lgb_datos_abril_menos_3_sin_prestamos.txt\")"
   ]
  },
  {
   "cell_type": "code",
   "execution_count": null,
   "metadata": {},
   "outputs": [],
   "source": [
    "api = KaggleApi()\n",
    "api.authenticate()"
   ]
  },
  {
   "cell_type": "code",
   "execution_count": null,
   "metadata": {},
   "outputs": [],
   "source": [
    "#i. Entrenamos con Abril y predecimos Junio.\n",
    "#vi. Predecimos Junio.\n",
    "predicciones = model_lgb.predict(X_test)\n",
    "#vii. Le pegamos la probabilidad de ser \"BAJA\" a cada cliente.\n",
    "X_test['Probabilidad'] = predicciones\n",
    "#viii. Ordenamos a los clientes por probabilidad de ser \"BAJA\" de forma descendente.\n",
    "tb_entrega = X_test.sort_values(by='Probabilidad', ascending=False)\n",
    "#ix. Genero una lista de distintos cortes candidatos, para enviar a Kaggle.\n",
    "cortes = range(11000,13000,500)\n",
    "#x. Generamos las distintas predicciones de clases a partir de los distintos cortes posibles.\n",
    "num_subida_kaggle = 1\n",
    "print(\"--> Comienzan los envíos a Kaggle...\\n\")\n",
    "for envios in cortes:\n",
    "    #1. Le ponemos clase 1 (\"BAJA\") a los primeros \"envios\" con mayor probabilidad.\n",
    "    tb_entrega['Predicted'] = 0\n",
    "    tb_entrega.iloc[:envios, tb_entrega.columns.get_loc('Predicted')] = 1\n",
    "    resultados = tb_entrega[[\"numero_de_cliente\", 'Predicted']].reset_index(drop=True)\n",
    "\n",
    "    print(\"Cantidad de clientes {}\".format(envios))\n",
    "    #2. Guardamos el archivo para Kaggle.\n",
    "    nombre_archivo = \"K107_EK_3_SPP_LimpCol_0{}.csv\".format(num_subida_kaggle) #DF con -X meses, número de intento, número de semilla.\n",
    "    ruta_archivo= \"../../../exp/{}\".format(nombre_archivo)\n",
    "    resultados.to_csv(ruta_archivo, index=False)\n",
    "\n",
    "    num_subida_kaggle += 1\n",
    "\n",
    "    #3. Envío a Kaggle.\n",
    "    #a. Defino los parámetros claves.\n",
    "    mensaje = f'Archivo {nombre_archivo}. Abril DF sin PP. Corte:{envios}' # Datos de Train, si está con Data Drifting o no, semilla y punto de corte de prueba.\n",
    "    competencia = 'dm-ey-f-2024-primera'\n",
    "    #c. Subo la Submission.\n",
    "    api.competition_submit(file_name=ruta_archivo, message=mensaje, competition=competencia)\n",
    "    print(\"Submission Bien!\")"
   ]
  }
 ],
 "metadata": {
  "kernelspec": {
   "display_name": "dmeyf",
   "language": "python",
   "name": "python3"
  },
  "language_info": {
   "codemirror_mode": {
    "name": "ipython",
    "version": 3
   },
   "file_extension": ".py",
   "mimetype": "text/x-python",
   "name": "python",
   "nbconvert_exporter": "python",
   "pygments_lexer": "ipython3",
   "version": "3.12.3"
  }
 },
 "nbformat": 4,
 "nbformat_minor": 2
}
