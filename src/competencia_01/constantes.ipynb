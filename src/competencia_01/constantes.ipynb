{
 "cells": [
  {
   "cell_type": "code",
   "execution_count": null,
   "metadata": {},
   "outputs": [],
   "source": [
    "#A. Constantes.\n",
    "base_path = 'C:/Users/c678456/Desktop/Ian/Maestría/Especializacion/2do_cuatrimestre/DMEyF/'\n",
    "dataset_file_crudo = 'datasets/competencia_01.csv'\n",
    "dataset_file_preprocesado = 'datasets/competencia_01_preprocesamiento.csv'\n",
    "\n",
    "\n",
    "dataset_file_menos_1_v1 = 'datasets/competencia_01_fe_drifting_menos_1.csv'\n",
    "\n",
    "dataset_file_fe_menos_1_solo_slope = 'datasets/competencia_01_menos1_solo_slope_v2.csv'\n",
    "dataset_file_fe_menos_2 = 'datasets/competencia_01_menos2_v2.csv'\n",
    "dataset_file_fe_menos_3 = 'datasets/competencia_01_menos3_v2.csv'\n",
    "\n",
    "modelos_path = base_path + 'modelos/'\n",
    "db_path = base_path + 'db/'\n",
    "\n",
    "ganancia_acierto = 273000\n",
    "costo_estimulo = 7000\n",
    "\n",
    "mes_train_efma = [202101,202102,202103,202104]\n",
    "mes_train_fma = [202102,202103,202104]\n",
    "mes_train_ma = [202103,202104]\n",
    "mes_train_a = 202104\n",
    "mes_test = 202106\n",
    "\n",
    "mes_backtesting_train = 202102\n",
    "mes_backtesting_test= 202104\n",
    "\n",
    "semillas = [211777, 174989, 131497, 612223, 234803]"
   ]
  }
 ],
 "metadata": {
  "language_info": {
   "name": "python"
  }
 },
 "nbformat": 4,
 "nbformat_minor": 2
}
