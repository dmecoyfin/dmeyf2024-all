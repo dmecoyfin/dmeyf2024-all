{
 "cells": [
  {
   "cell_type": "code",
   "execution_count": null,
   "metadata": {},
   "outputs": [],
   "source": [
    "#1. Importamos librerías.\n",
    "import pandas as pd\n",
    "import numpy as np\n",
    "import matplotlib.pyplot as plt\n",
    "from scipy.stats import binom"
   ]
  },
  {
   "cell_type": "code",
   "execution_count": null,
   "metadata": {},
   "outputs": [],
   "source": [
    "# Configuraciones de cada cazatalentos (n jugadoras, x encestes, y rondas de 100 tiros cada una).\n",
    "num_jugadoras_cazatalentos1 = 100\n",
    "num_jugadoras_cazatalentos2 = 200\n",
    "num_jugadoras_cazatalentos3 = 1 # Revisar, hay subjetiidad al seleccionar 1 porque sí.\n",
    "num_jugadoras_cazatalentos4 = 2\n",
    "num_jugadoras_cazatalentos5 = 1 # Revisar, en realidad hay 10 rondas de 100 tiros ya hechas con probabilidad promedio de 0.71."
   ]
  },
  {
   "cell_type": "code",
   "execution_count": null,
   "metadata": {},
   "outputs": [],
   "source": [
    "#2. Configuraciones.\n",
    "#a. Cantidad de tiros por ronda.\n",
    "cant_tiros = 100\n",
    "#a. Número de simulaciones para evaluar cada candidata en una nueva ronda de cant_tiros tiros.\n",
    "num_simulaciones = 1000\n",
    "#b. Suponemos una probabilidad de acierto fija e igual para todos de 0.70.\n",
    "indice_enceste_general = 0.7 \n",
    "#c. Semilla.\n",
    "np.random.seed(2024)"
   ]
  },
  {
   "cell_type": "code",
   "execution_count": null,
   "metadata": {},
   "outputs": [],
   "source": [
    "#3. Funciones.\n",
    "#a. Calcula cuantos encestes logra una jugadora con indice de enceste p que hace qyt tiros libres.\n",
    "def ftirar(prob, qty):\n",
    "  return sum(np.random.rand(qty) < prob)\n",
    "#b. Vectorizo la funcion  ftirar.\n",
    "vec_ftirar = np.vectorize(ftirar)"
   ]
  },
  {
   "cell_type": "markdown",
   "metadata": {},
   "source": [
    "#### ESCENARIO 1 ----> Suponemos que todas tienen igual probabilidad de encestar. Deberían dar distribuciones iguales. No se tiene en cuenta el efecto de las comparaciones con otras jugadoras!"
   ]
  },
  {
   "cell_type": "code",
   "execution_count": null,
   "metadata": {},
   "outputs": [],
   "source": [
    "#4. Casos\n",
    "#a. Cazatalentos 1.\n",
    "#i. Defino el vector de probabilidades de n jugadoras.\n",
    "jugadoras = [indice_enceste_general] * num_jugadoras_cazatalentos1\n",
    "\n",
    "#ii. Simulo una ronda de cant_tiros tiros reproduciendo las condiciones de la cazatalentos.\n",
    "vaciertos = vec_ftirar(jugadoras, cant_tiros) # cant_tiros tiros libres cada jugadora por ronda.\n",
    "mejor = np.argmax(vaciertos) # Tomo a la mejor jugadora de la 1era ronda.\n",
    "aciertos_torneo = vaciertos[mejor] # Me fijo cuantas veces acertó.\n",
    "\n",
    "#iii. Simulo 999 rondas más de cant_tiros tiros para la mejor jugadora de la primera ronda.\n",
    "aciertos_finales = [aciertos_torneo]\n",
    "for i in range(num_simulaciones-1): # num_simulaciones-1 rondas.\n",
    "  aciertos_ronda_adicional = ftirar(jugadoras[mejor], cant_tiros) # A la ganadora de la primera ronda, le hago tirar num_simulaciones rondas nuevas de cant_tiros tiros libres cada una.\n",
    "  aciertos_finales.append(aciertos_ronda_adicional) # Agrego los resultados a un vector de resultados finales.\n",
    "\n",
    "#iv. Dibujo una distribución donde \"X\" es la cantidad de aciertos sobre cant_tiros tiros, e \"Y\" la frecuencia de dichos aciertos en las num_simulaciones rondas.\n",
    "plt.hist(aciertos_finales, bins=range(50, 90), edgecolor='black')\n",
    "plt.axvline(aciertos_torneo, color='red', linestyle='dashed', linewidth=1, label=f'Primer Acierto: {aciertos_torneo}')\n",
    "plt.axvline(np.mean(aciertos_finales), color='blue', linestyle='dashed', linewidth=1, label=f'Media: {np.mean(aciertos_finales):.2f}')\n",
    "plt.xlabel('Cantidad de Aciertos en {} Tiros'.format(cant_tiros))\n",
    "plt.ylabel('Frecuencia')\n",
    "plt.title('Distribución de Aciertos de la Mejor Jugadora en {} Rondas'.format(num_simulaciones))\n",
    "plt.legend()\n",
    "plt.show()"
   ]
  },
  {
   "cell_type": "code",
   "execution_count": null,
   "metadata": {},
   "outputs": [],
   "source": [
    "#b. Cazatalentos 2.\n",
    "#i. Defino el vector de probabilidades de n jugadoras.\n",
    "jugadoras = [indice_enceste_general] * num_jugadoras_cazatalentos2\n",
    "\n",
    "#ii. Simulo una ronda de cant_tiros tiros reproduciendo las condiciones de la cazatalentos.\n",
    "vaciertos = vec_ftirar(jugadoras, cant_tiros) # cant_tiros tiros libres cada jugadora por ronda.\n",
    "mejor = np.argmax(vaciertos) # Tomo a la mejor jugadora de la 1era ronda.\n",
    "aciertos_torneo = vaciertos[mejor] # Me fijo cuantas veces acertó.\n",
    "\n",
    "#iii. Simulo 999 rondas más de cant_tiros tiros para la mejor jugadora de la primera ronda.\n",
    "aciertos_finales = [aciertos_torneo]\n",
    "for i in range(num_simulaciones-1): # num_simulaciones-1 rondas.\n",
    "  aciertos_ronda_adicional = ftirar(jugadoras[mejor], cant_tiros) # A la ganadora de la primera ronda, le hago tirar num_simulaciones rondas nuevas de cant_tiros tiros libres cada una.\n",
    "  aciertos_finales.append(aciertos_ronda_adicional) # Agrego los resultados a un vector de resultados finales.\n",
    "\n",
    "#iv. Dibujo una distribución donde \"X\" es la cantidad de aciertos sobre cant_tiros tiros, e \"Y\" la frecuencia de dichos aciertos en las num_simulaciones rondas.\n",
    "plt.hist(aciertos_finales, bins=range(50, 90), edgecolor='black')\n",
    "plt.axvline(aciertos_torneo, color='red', linestyle='dashed', linewidth=1, label=f'Primer Acierto: {aciertos_torneo}')\n",
    "plt.axvline(np.mean(aciertos_finales), color='blue', linestyle='dashed', linewidth=1, label=f'Media: {np.mean(aciertos_finales):.2f}')\n",
    "plt.xlabel('Cantidad de Aciertos en {} Tiros'.format(cant_tiros))\n",
    "plt.ylabel('Frecuencia')\n",
    "plt.title('Distribución de Aciertos de la Mejor Jugadora en {} Rondas'.format(num_simulaciones))\n",
    "plt.legend()\n",
    "plt.show()"
   ]
  },
  {
   "cell_type": "code",
   "execution_count": null,
   "metadata": {},
   "outputs": [],
   "source": [
    "#c. Cazatalentos 3.\n",
    "#i. Defino el vector de probabilidades de n jugadoras.\n",
    "jugadoras = [indice_enceste_general] * num_jugadoras_cazatalentos3\n",
    "\n",
    "#ii. Simulo una ronda de cant_tiros tiros reproduciendo las condiciones de la cazatalentos.\n",
    "vaciertos = vec_ftirar(jugadoras, cant_tiros) # cant_tiros tiros libres cada jugadora por ronda.\n",
    "mejor = np.argmax(vaciertos) # Tomo a la mejor jugadora de la 1era ronda.\n",
    "aciertos_torneo = vaciertos[mejor] # Me fijo cuantas veces acertó.\n",
    "\n",
    "#iii. Simulo 999 rondas más de cant_tiros tiros para la mejor jugadora de la primera ronda.\n",
    "aciertos_finales = [aciertos_torneo]\n",
    "for i in range(num_simulaciones-1): # num_simulaciones-1 rondas.\n",
    "  aciertos_ronda_adicional = ftirar(jugadoras[mejor], cant_tiros) # A la ganadora de la primera ronda, le hago tirar num_simulaciones rondas nuevas de cant_tiros tiros libres cada una.\n",
    "  aciertos_finales.append(aciertos_ronda_adicional) # Agrego los resultados a un vector de resultados finales.\n",
    "\n",
    "#iv. Dibujo una distribución donde \"X\" es la cantidad de aciertos sobre cant_tiros tiros, e \"Y\" la frecuencia de dichos aciertos en las num_simulaciones rondas.\n",
    "plt.hist(aciertos_finales, bins=range(50, 90), edgecolor='black')\n",
    "plt.axvline(aciertos_torneo, color='red', linestyle='dashed', linewidth=1, label=f'Primer Acierto: {aciertos_torneo}')\n",
    "plt.axvline(np.mean(aciertos_finales), color='blue', linestyle='dashed', linewidth=1, label=f'Media: {np.mean(aciertos_finales):.2f}')\n",
    "plt.xlabel('Cantidad de Aciertos en {} Tiros'.format(cant_tiros))\n",
    "plt.ylabel('Frecuencia')\n",
    "plt.title('Distribución de Aciertos de la Mejor Jugadora en {} Rondas'.format(num_simulaciones))\n",
    "plt.legend()\n",
    "plt.show()"
   ]
  },
  {
   "cell_type": "code",
   "execution_count": null,
   "metadata": {},
   "outputs": [],
   "source": [
    "#d. Cazatalentos 4.\n",
    "#i. Defino el vector de probabilidades de n jugadoras.\n",
    "jugadoras = [indice_enceste_general] * num_jugadoras_cazatalentos4\n",
    "\n",
    "#ii. Simulo una ronda de cant_tiros tiros reproduciendo las condiciones de la cazatalentos.\n",
    "vaciertos = vec_ftirar(jugadoras, cant_tiros) # cant_tiros tiros libres cada jugadora por ronda.\n",
    "mejor = np.argmax(vaciertos) # Tomo a la mejor jugadora de la 1era ronda.\n",
    "aciertos_torneo = vaciertos[mejor] # Me fijo cuantas veces acertó.\n",
    "\n",
    "#iii. Simulo 999 rondas más de cant_tiros tiros para la mejor jugadora de la primera ronda.\n",
    "aciertos_finales = [aciertos_torneo]\n",
    "for i in range(num_simulaciones-1): # num_simulaciones-1 rondas.\n",
    "  aciertos_ronda_adicional = ftirar(jugadoras[mejor], cant_tiros) # A la ganadora de la primera ronda, le hago tirar num_simulaciones rondas nuevas de cant_tiros tiros libres cada una.\n",
    "  aciertos_finales.append(aciertos_ronda_adicional) # Agrego los resultados a un vector de resultados finales.\n",
    "\n",
    "#iv. Dibujo una distribución donde \"X\" es la cantidad de aciertos sobre cant_tiros tiros, e \"Y\" la frecuencia de dichos aciertos en las num_simulaciones rondas.\n",
    "plt.hist(aciertos_finales, bins=range(50, 90), edgecolor='black')\n",
    "plt.axvline(aciertos_torneo, color='red', linestyle='dashed', linewidth=1, label=f'Primer Acierto: {aciertos_torneo}')\n",
    "plt.axvline(np.mean(aciertos_finales), color='blue', linestyle='dashed', linewidth=1, label=f'Media: {np.mean(aciertos_finales):.2f}')\n",
    "plt.xlabel('Cantidad de Aciertos en {} Tiros'.format(cant_tiros))\n",
    "plt.ylabel('Frecuencia')\n",
    "plt.title('Distribución de Aciertos de la Mejor Jugadora en {} Rondas'.format(num_simulaciones))\n",
    "plt.legend()\n",
    "plt.show()"
   ]
  },
  {
   "cell_type": "code",
   "execution_count": null,
   "metadata": {},
   "outputs": [],
   "source": [
    "#e. Cazatalentos 5.\n",
    "#i. Defino el vector de probabilidades de n jugadoras.\n",
    "jugadoras = [indice_enceste_general] * num_jugadoras_cazatalentos5\n",
    "\n",
    "#ii. Simulo una ronda de cant_tiros tiros reproduciendo las condiciones de la cazatalentos.\n",
    "vaciertos = vec_ftirar(jugadoras, cant_tiros) # cant_tiros tiros libres cada jugadora por ronda.\n",
    "mejor = np.argmax(vaciertos) # Tomo a la mejor jugadora de la 1era ronda.\n",
    "aciertos_torneo = vaciertos[mejor] # Me fijo cuantas veces acertó.\n",
    "\n",
    "#iii. Simulo 999 rondas más de cant_tiros tiros para la mejor jugadora de la primera ronda.\n",
    "aciertos_finales = [aciertos_torneo]\n",
    "for i in range(num_simulaciones-1): # num_simulaciones-1 rondas.\n",
    "  aciertos_ronda_adicional = ftirar(jugadoras[mejor], cant_tiros) # A la ganadora de la primera ronda, le hago tirar num_simulaciones rondas nuevas de cant_tiros tiros libres cada una.\n",
    "  aciertos_finales.append(aciertos_ronda_adicional) # Agrego los resultados a un vector de resultados finales.\n",
    "\n",
    "#iv. Dibujo una distribución donde \"X\" es la cantidad de aciertos sobre cant_tiros tiros, e \"Y\" la frecuencia de dichos aciertos en las num_simulaciones rondas.\n",
    "plt.hist(aciertos_finales, bins=range(50, 90), edgecolor='black')\n",
    "plt.axvline(aciertos_torneo, color='red', linestyle='dashed', linewidth=1, label=f'Primer Acierto: {aciertos_torneo}')\n",
    "plt.axvline(np.mean(aciertos_finales), color='blue', linestyle='dashed', linewidth=1, label=f'Media: {np.mean(aciertos_finales):.2f}')\n",
    "plt.xlabel('Cantidad de Aciertos en {} Tiros'.format(cant_tiros))\n",
    "plt.ylabel('Frecuencia')\n",
    "plt.title('Distribución de Aciertos de la Mejor Jugadora en {} Rondas'.format(num_simulaciones))\n",
    "plt.legend()\n",
    "plt.show()"
   ]
  },
  {
   "cell_type": "markdown",
   "metadata": {},
   "source": [
    "#### ESCENARIO 2 ----> Suponemos que la probabilidad de encestar es distinta. Que rol juega el efecto de la comparaciones contra otras jugadoras?"
   ]
  },
  {
   "cell_type": "code",
   "execution_count": null,
   "metadata": {},
   "outputs": [],
   "source": [
    "num_jugadoras_cazatalentos1 = 100\n",
    "num_jugadoras_cazatalentos2 = 200\n",
    "num_jugadoras_cazatalentos3 = 1 # Revisar, hay subjetiidad al seleccionar 1 porque sí.\n",
    "num_jugadoras_cazatalentos4 = 2\n",
    "num_jugadoras_cazatalentos5 = 1 # Revisar, en realidad hay 10 rondas de 100 tiros ya hechas con probabilidad promedio de 0.71."
   ]
  },
  {
   "cell_type": "code",
   "execution_count": null,
   "metadata": {},
   "outputs": [],
   "source": [
    "#a. Primeros razonamientos.\n",
    "# El cazatalentos 3 tiene una jugadora con p = 0.80, dado que solo tenemos una muestra de 100 tiros.\n",
    "# El cazatalentos 4 sufre poco el efecto de la comparación múltiple, ya que el número de jugadores es 2.\n",
    "#PREGUNTA A) -----> ¿Cuál es mayor?¿La jugadora del cazatalentos 4 o del 3?\n",
    "# En el cazatalentos 1 la probabilidad de que el máximo sea por azar existe. \n",
    "# En el cazatalentos 2 la probabilidad de que el máximo sea por azar aumenta mucho.\n",
    "# El cazatalentos 5 tiene una jugadora con p = 0.71, dadas 10 rondas de 100 tiros.\n",
    "# PREGUNTA B) Cazatalentos 2 > 1, pero...¿Cazatalentos 5 > a al menos 1 de ellos?"
   ]
  },
  {
   "cell_type": "code",
   "execution_count": null,
   "metadata": {},
   "outputs": [],
   "source": [
    "#PREGUNTA B) ¿Es más probable que los resultados de las candidatas de Cazatalentos 1 y 2 (80 aciertos) \n",
    "# hayan ocurrido por azar en un grupo grande si su probabilidad real de enceste es menor a 0.7010 o si es mayor a 0.7010?"
   ]
  },
  {
   "cell_type": "code",
   "execution_count": 267,
   "metadata": {},
   "outputs": [
    {
     "name": "stdout",
     "output_type": "stream",
     "text": [
      "Probabilidad de obtener exactamente 80 aciertos con p = 0.69: 0.004616\n",
      "Probabilidad de obtener exactamente 80 aciertos con p = 0.71: 0.011961\n",
      "Probabilidad de obtener exactamente 80 aciertos con p = 0.7: 0.007576\n"
     ]
    }
   ],
   "source": [
    "from scipy.stats import binom\n",
    "\n",
    "# Configuración de parámetros\n",
    "n_tiros = 100  # Número de tiros\n",
    "k_aciertos = 80  # Número de aciertos buscado\n",
    "\n",
    "# Probabilidades hipotéticas para escenarios de menor y mayor a 0.70\n",
    "p_menor = 0.69\n",
    "p_mayor = 0.71\n",
    "p_cazatalentos5= 0.70\n",
    "\n",
    "# Probabilidad de obtener exactamente 80 aciertos para p < 0.71.\n",
    "prob_80_aciertos_menor = binom.pmf(k_aciertos, n_tiros, p_menor)\n",
    "\n",
    "# Probabilidad de obtener exactamente 80 aciertos para p > 0.71.\n",
    "prob_80_aciertos_mayor = binom.pmf(k_aciertos, n_tiros, p_mayor)\n",
    "\n",
    "# Probabilidad de obtener exactamente 80 aciertos para p = 0.71.\n",
    "prob_80_aciertos_70 = binom.pmf(k_aciertos, n_tiros, p_cazatalentos5)\n",
    "\n",
    "print(f\"Probabilidad de obtener exactamente 80 aciertos con p = {p_menor}: {prob_80_aciertos_menor:.6f}\")\n",
    "print(f\"Probabilidad de obtener exactamente 80 aciertos con p = {p_mayor}: {prob_80_aciertos_mayor:.6f}\")\n",
    "print(f\"Probabilidad de obtener exactamente 80 aciertos con p = {p_cazatalentos5}: {prob_80_aciertos_70:.6f}\")"
   ]
  },
  {
   "cell_type": "code",
   "execution_count": 268,
   "metadata": {},
   "outputs": [
    {
     "name": "stdout",
     "output_type": "stream",
     "text": [
      "Probabilidad de que al menos una jugadora obtenga 80 aciertos (C1, p = 0.69): 0.370430\n",
      "Probabilidad de que al menos una jugadora obtenga 80 aciertos (C1, p = 0.71): 0.699811\n",
      "Probabilidad de que al menos una jugadora obtenga 80 aciertos (C2, p = 0.69): 0.603642\n",
      "Probabilidad de que al menos una jugadora obtenga 80 aciertos (C2, p = 0.71): 0.909887\n"
     ]
    }
   ],
   "source": [
    "# Número de jugadoras en los grupos de Cazatalentos 1 y 2.\n",
    "n_jugadoras_c1 = 100\n",
    "n_jugadoras_c2 = 200\n",
    "\n",
    "# Probabilidad de al menos una jugadora obteniendo 80 aciertos en cada escenario para ambos cazatalentos.\n",
    "prob_al_menos_una_80_c1_menor = 1 - (1 - prob_80_aciertos_menor) ** n_jugadoras_c1\n",
    "prob_al_menos_una_80_c1_mayor = 1 - (1 - prob_80_aciertos_mayor) ** n_jugadoras_c1\n",
    "\n",
    "prob_al_menos_una_80_c2_menor = 1 - (1 - prob_80_aciertos_menor) ** n_jugadoras_c2\n",
    "prob_al_menos_una_80_c2_mayor = 1 - (1 - prob_80_aciertos_mayor) ** n_jugadoras_c2\n",
    "\n",
    "print(f\"Probabilidad de que al menos una jugadora obtenga 80 aciertos (C1, p = {p_menor}): {prob_al_menos_una_80_c1_menor:.6f}\")\n",
    "print(f\"Probabilidad de que al menos una jugadora obtenga 80 aciertos (C1, p = {p_mayor}): {prob_al_menos_una_80_c1_mayor:.6f}\")\n",
    "\n",
    "print(f\"Probabilidad de que al menos una jugadora obtenga 80 aciertos (C2, p = {p_menor}): {prob_al_menos_una_80_c2_menor:.6f}\")\n",
    "print(f\"Probabilidad de que al menos una jugadora obtenga 80 aciertos (C2, p = {p_mayor}): {prob_al_menos_una_80_c2_mayor:.6f}\")"
   ]
  },
  {
   "cell_type": "code",
   "execution_count": null,
   "metadata": {},
   "outputs": [],
   "source": [
    "#Si observamos 80 aciertos en un grupo grande, es más razonable atribuir este rendimiento a una habilidad alrededor de 0.70 o ligeramente superior (Escenario B).\n",
    "#Sin embargo, el efecto de las múltiples comparaciones en grupos grandes también permite que jugadoras con \n",
    "#𝑝\n",
    "#<\n",
    "#0.70\n",
    "#p<0.70 puedan alcanzar este resultado, aunque con menor probabilidad.\n",
    "#La interpretación final sería que un resultado de 80 aciertos es más probable con una habilidad de p levemente superior a 0.70, y este valor se convierte en nuestra estimación más probable de la habilidad real de la jugadora, en lugar de asumir una suerte extrema con un valor de \n",
    "#𝑝\n",
    "#p significativamente menor."
   ]
  },
  {
   "cell_type": "code",
   "execution_count": null,
   "metadata": {},
   "outputs": [],
   "source": [
    "# PREGUNTA A)\n",
    "#Comparando ambos, la jugadora de Cazatalentos 3 es probablemente más consistente en su habilidad cercana a 0.80 porque:\n",
    "\n",
    "#Su puntaje de 80 aciertos no fue influenciado por comparación con otras jugadoras, reduciendo la posibilidad de suerte extrema.\n",
    "#El proceso de selección no incluyó múltiples comparaciones, lo cual hace que el valor de 80 sea menos probable que haya sido alcanzado solo por variabilidad.\n",
    "#Respuesta Final\n",
    "#Por lo tanto, Cazatalentos 3 es más probable que tenga una jugadora con una habilidad real de enceste cercana a 0.80 en comparación con Cazatalentos 4, donde el puntaje de 80 podría estar levemente influenciado por la comparación con otra jugadora en un grupo pequeño."
   ]
  },
  {
   "cell_type": "code",
   "execution_count": null,
   "metadata": {},
   "outputs": [],
   "source": [
    "# Propuesta final:\n",
    "# C3 > C4 > C1 > C2 > C5"
   ]
  }
 ],
 "metadata": {
  "kernelspec": {
   "display_name": "dmeyf",
   "language": "python",
   "name": "python3"
  },
  "language_info": {
   "codemirror_mode": {
    "name": "ipython",
    "version": 3
   },
   "file_extension": ".py",
   "mimetype": "text/x-python",
   "name": "python",
   "nbconvert_exporter": "python",
   "pygments_lexer": "ipython3",
   "version": "3.12.3"
  }
 },
 "nbformat": 4,
 "nbformat_minor": 2
}
